{
 "cells": [
  {
   "cell_type": "code",
   "execution_count": 21,
   "metadata": {},
   "outputs": [
    {
     "name": "stdout",
     "output_type": "stream",
     "text": [
      "f(a*x + b*y):  3.5\n",
      "a*f(x) + b*f(y):  3.5\n"
     ]
    }
   ],
   "source": [
    "import numpy as np\n",
    "## definir función a evaluar\n",
    "def f(x):\n",
    "    return x[len(x)-1] - x[0]\n",
    "## se definen los n-vector y escalar\n",
    "vector_x = np.array([1,8,5,2,4])\n",
    "vector_y = np.array([6,5,3,5,10])\n",
    "a = 1/2\n",
    "b = 1/2\n",
    "## aplicar función de demostración lineal\n",
    "print(\"f(a*x + b*y): \", f(vector_x*a + vector_y*b))\n",
    "print(\"a*f(x) + b*f(y): \", a*f(vector_x) + b*f(vector_y))\n"
   ]
  },
  {
   "cell_type": "code",
   "execution_count": 22,
   "metadata": {},
   "outputs": [
    {
     "name": "stdout",
     "output_type": "stream",
     "text": [
      "f(a*x + b*y):  14.5\n",
      "a*f(x) + b*f(y):  14.5\n"
     ]
    }
   ],
   "source": [
    "import numpy as np\n",
    "## definir función a evaluar\n",
    "def f(x):\n",
    "    return x[2] + (x[2] + x[1])   \n",
    "## se definen los n-vector y escalar\n",
    "vector_x = np.array([1,8,5,2,4])\n",
    "vector_y = np.array([6,5,3,5,10])\n",
    "a = 1/2\n",
    "b = 1/2\n",
    "## aplicar función de demostración lineal\n",
    "print(\"f(a*x + b*y): \", f(vector_x*a + vector_y*b))\n",
    "print(\"a*f(x) + b*f(y): \", a*f(vector_x) + b*f(vector_y))"
   ]
  }
 ],
 "metadata": {
  "kernelspec": {
   "display_name": "Python 3",
   "language": "python",
   "name": "python3"
  },
  "language_info": {
   "codemirror_mode": {
    "name": "ipython",
    "version": 3
   },
   "file_extension": ".py",
   "mimetype": "text/x-python",
   "name": "python",
   "nbconvert_exporter": "python",
   "pygments_lexer": "ipython3",
   "version": "3.8.5"
  }
 },
 "nbformat": 4,
 "nbformat_minor": 4
}
