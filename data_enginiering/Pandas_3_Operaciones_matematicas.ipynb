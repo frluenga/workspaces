{
 "cells": [
  {
   "cell_type": "code",
   "execution_count": 2,
   "metadata": {},
   "outputs": [
    {
     "name": "stdout",
     "output_type": "stream",
     "text": [
      "C:\\Users\\GAMER\\documents\\development\\curso_python\\base\n"
     ]
    }
   ],
   "source": [
    "%cd documents/development/curso_python/base"
   ]
  },
  {
   "cell_type": "code",
   "execution_count": 8,
   "metadata": {},
   "outputs": [
    {
     "data": {
      "text/plain": [
       "'1.1.3'"
      ]
     },
     "execution_count": 8,
     "metadata": {},
     "output_type": "execute_result"
    }
   ],
   "source": [
    "import pandas as pd\n",
    "import numpy as np\n",
    "pd.__version__"
   ]
  },
  {
   "cell_type": "code",
   "execution_count": 5,
   "metadata": {},
   "outputs": [],
   "source": [
    "df = pd.read_csv('london_merged.csv')"
   ]
  },
  {
   "cell_type": "code",
   "execution_count": 9,
   "metadata": {},
   "outputs": [
    {
     "data": {
      "text/plain": [
       "timestamp        object\n",
       "cnt               int64\n",
       "t1              float64\n",
       "t2              float64\n",
       "hum             float64\n",
       "wind_speed      float64\n",
       "weather_code    float64\n",
       "is_holiday      float64\n",
       "is_weekend      float64\n",
       "season          float64\n",
       "dtype: object"
      ]
     },
     "execution_count": 9,
     "metadata": {},
     "output_type": "execute_result"
    }
   ],
   "source": [
    "df.dtypes ## Tipos de datos"
   ]
  },
  {
   "cell_type": "code",
   "execution_count": 11,
   "metadata": {},
   "outputs": [],
   "source": [
    "df['timestamp'] = pd.to_datetime(df['timestamp']) "
   ]
  },
  {
   "cell_type": "markdown",
   "metadata": {},
   "source": [
    "Si el formato no es muy completo, pandas reconoce el formato y lo transforma de inmediato.\n",
    "## Almacenar Hora del Objeto Fecha en una nueva Col"
   ]
  },
  {
   "cell_type": "code",
   "execution_count": 15,
   "metadata": {},
   "outputs": [],
   "source": [
    "df['hour'] = df['timestamp'].dt.hour"
   ]
  },
  {
   "cell_type": "markdown",
   "metadata": {},
   "source": [
    "La siguiente función iloc, permite componer nuevamente el dataframe almacenando en este caso todas las observaciones, o las filas, desde la colunma 1 hasta la final, omitiendo la columna 0"
   ]
  },
  {
   "cell_type": "code",
   "execution_count": 20,
   "metadata": {},
   "outputs": [],
   "source": [
    "df = df.iloc[:,1:]"
   ]
  },
  {
   "cell_type": "markdown",
   "metadata": {},
   "source": [
    "Operaciones matematicas, elevar al cuadrado una serie, o columna."
   ]
  },
  {
   "cell_type": "code",
   "execution_count": 24,
   "metadata": {},
   "outputs": [
    {
     "data": {
      "text/plain": [
       "0         9.008221\n",
       "1         9.867648\n",
       "2        10.000000\n",
       "3        10.000000\n",
       "4         9.013013\n",
       "           ...    \n",
       "17409    10.279387\n",
       "17410    10.923470\n",
       "17411     9.114047\n",
       "17412    10.936473\n",
       "17413    10.193503\n",
       "Name: wind_speed, Length: 17414, dtype: float64"
      ]
     },
     "execution_count": 24,
     "metadata": {},
     "output_type": "execute_result"
    }
   ],
   "source": [
    "np.sin(df['wind_speed']**2) +10"
   ]
  },
  {
   "cell_type": "code",
   "execution_count": 25,
   "metadata": {},
   "outputs": [
    {
     "data": {
      "text/plain": [
       "0        1.0\n",
       "1        0.5\n",
       "2        0.0\n",
       "3        0.0\n",
       "4        2.0\n",
       "        ... \n",
       "17409    4.0\n",
       "17410    4.0\n",
       "17411    4.0\n",
       "17412    4.0\n",
       "17413    4.0\n",
       "Length: 17414, dtype: float64"
      ]
     },
     "execution_count": 25,
     "metadata": {},
     "output_type": "execute_result"
    }
   ],
   "source": [
    "df['t1'] - df['t2']"
   ]
  },
  {
   "cell_type": "code",
   "execution_count": 26,
   "metadata": {
    "scrolled": true
   },
   "outputs": [
    {
     "data": {
      "text/plain": [
       "0        3.0\n",
       "2        2.5\n",
       "4        2.0\n",
       "6        1.0\n",
       "8        1.5\n",
       "        ... \n",
       "17404    6.0\n",
       "17406    6.0\n",
       "17408    5.0\n",
       "17410    5.0\n",
       "17412    5.5\n",
       "Name: t1, Length: 8707, dtype: float64"
      ]
     },
     "execution_count": 26,
     "metadata": {},
     "output_type": "execute_result"
    }
   ],
   "source": [
    "df['t1'].iloc[::2] ## selección de los indices de 2 en 2"
   ]
  },
  {
   "cell_type": "markdown",
   "metadata": {},
   "source": [
    "A continuación, se resta dos series, dos columnas pero, en la columna 1 hay datos que no se tienen o no se muestran por tanto, el sistema completa esas variables como variables nulas."
   ]
  },
  {
   "cell_type": "code",
   "execution_count": 27,
   "metadata": {
    "scrolled": true
   },
   "outputs": [
    {
     "data": {
      "text/plain": [
       "0        1.0\n",
       "1        NaN\n",
       "2        0.0\n",
       "3        NaN\n",
       "4        2.0\n",
       "        ... \n",
       "17409    NaN\n",
       "17410    4.0\n",
       "17411    NaN\n",
       "17412    4.0\n",
       "17413    NaN\n",
       "Length: 17414, dtype: float64"
      ]
     },
     "execution_count": 27,
     "metadata": {},
     "output_type": "execute_result"
    }
   ],
   "source": [
    "df['t1'].iloc[::2] - df['t2']"
   ]
  },
  {
   "cell_type": "markdown",
   "metadata": {},
   "source": [
    "A continuación, se realiza la substracción a través de la función cargada en pandas parar restar los valores entre las dos columnas, pero si encuentra datos nulos, los va a rellenar con 1000"
   ]
  },
  {
   "cell_type": "code",
   "execution_count": 28,
   "metadata": {},
   "outputs": [
    {
     "data": {
      "text/plain": [
       "0          1.0\n",
       "1        997.5\n",
       "2          0.0\n",
       "3        998.0\n",
       "4          2.0\n",
       "         ...  \n",
       "17409    999.0\n",
       "17410      4.0\n",
       "17411    998.5\n",
       "17412      4.0\n",
       "17413    999.0\n",
       "Length: 17414, dtype: float64"
      ]
     },
     "execution_count": 28,
     "metadata": {},
     "output_type": "execute_result"
    }
   ],
   "source": [
    "df['t1'].iloc[::2].sub(df['t2'], fill_value = 1000)"
   ]
  },
  {
   "cell_type": "code",
   "execution_count": 29,
   "metadata": {},
   "outputs": [
    {
     "data": {
      "text/plain": [
       "3247652.777777778"
      ]
     },
     "execution_count": 29,
     "metadata": {},
     "output_type": "execute_result"
    }
   ],
   "source": [
    "df['t1'].dot(df['t1']) ## producto punto"
   ]
  },
  {
   "cell_type": "code",
   "execution_count": 33,
   "metadata": {},
   "outputs": [],
   "source": [
    "def fun_1(x):\n",
    "    y = x**2+1\n",
    "    return y"
   ]
  },
  {
   "cell_type": "code",
   "execution_count": 34,
   "metadata": {},
   "outputs": [
    {
     "data": {
      "text/plain": [
       "101"
      ]
     },
     "execution_count": 34,
     "metadata": {},
     "output_type": "execute_result"
    }
   ],
   "source": [
    "fun_1(10)"
   ]
  },
  {
   "cell_type": "code",
   "execution_count": 35,
   "metadata": {},
   "outputs": [
    {
     "data": {
      "text/plain": [
       "array([-5, -4, -3, -2, -1,  0,  1,  2,  3,  4,  5])"
      ]
     },
     "execution_count": 35,
     "metadata": {},
     "output_type": "execute_result"
    }
   ],
   "source": [
    "np.arange(-5,6)"
   ]
  },
  {
   "cell_type": "code",
   "execution_count": 36,
   "metadata": {
    "scrolled": true
   },
   "outputs": [
    {
     "data": {
      "text/plain": [
       "array([26, 17, 10,  5,  2,  1,  2,  5, 10, 17, 26], dtype=int32)"
      ]
     },
     "execution_count": 36,
     "metadata": {},
     "output_type": "execute_result"
    }
   ],
   "source": [
    "fun_1(np.arange(-5,6))"
   ]
  },
  {
   "cell_type": "markdown",
   "metadata": {},
   "source": [
    "## Operaciones mas complejas con funciones"
   ]
  },
  {
   "cell_type": "code",
   "execution_count": 37,
   "metadata": {},
   "outputs": [
    {
     "data": {
      "text/plain": [
       "0          1\n",
       "1          2\n",
       "2          5\n",
       "3         10\n",
       "4         17\n",
       "        ... \n",
       "17409    362\n",
       "17410    401\n",
       "17411    442\n",
       "17412    485\n",
       "17413    530\n",
       "Name: hour, Length: 17414, dtype: int64"
      ]
     },
     "execution_count": 37,
     "metadata": {},
     "output_type": "execute_result"
    }
   ],
   "source": [
    "df['hour'].apply(fun_1)"
   ]
  },
  {
   "cell_type": "code",
   "execution_count": 38,
   "metadata": {},
   "outputs": [],
   "source": [
    "def fun_2(x, a=1,b=0):\n",
    "    y = x**2 + a*x+b\n",
    "    return y"
   ]
  },
  {
   "cell_type": "code",
   "execution_count": 40,
   "metadata": {
    "scrolled": true
   },
   "outputs": [
    {
     "data": {
      "text/plain": [
       "1105"
      ]
     },
     "execution_count": 40,
     "metadata": {},
     "output_type": "execute_result"
    }
   ],
   "source": [
    "fun_2(10,a=100,b=5)"
   ]
  },
  {
   "cell_type": "markdown",
   "metadata": {},
   "source": [
    "Aplicar la función al dataframe se debe realizar con Apply, dentro del apply tambien puedes agregar la función con sus argumentos dentro de una tupla"
   ]
  },
  {
   "cell_type": "code",
   "execution_count": 41,
   "metadata": {},
   "outputs": [
    {
     "data": {
      "text/plain": [
       "0       -100\n",
       "1        -79\n",
       "2        -56\n",
       "3        -31\n",
       "4         -4\n",
       "        ... \n",
       "17409    641\n",
       "17410    700\n",
       "17411    761\n",
       "17412    824\n",
       "17413    889\n",
       "Name: hour, Length: 17414, dtype: int64"
      ]
     },
     "execution_count": 41,
     "metadata": {},
     "output_type": "execute_result"
    }
   ],
   "source": [
    "df['hour'].apply(fun_2,args = (20,-100))"
   ]
  },
  {
   "cell_type": "markdown",
   "metadata": {},
   "source": [
    "## Lambda"
   ]
  },
  {
   "cell_type": "markdown",
   "metadata": {},
   "source": [
    "Es la forma de definir la función en una sola linea, se cambiara la variable t1, en donde la notación lambda x significa la variable a la que se le aplica el cambio, y luego se indica que cambio es despues del :"
   ]
  },
  {
   "cell_type": "code",
   "execution_count": 43,
   "metadata": {},
   "outputs": [
    {
     "data": {
      "text/plain": [
       "0        276.0\n",
       "1        276.0\n",
       "2        275.5\n",
       "3        275.0\n",
       "4        275.0\n",
       "         ...  \n",
       "17409    278.0\n",
       "17410    278.0\n",
       "17411    278.5\n",
       "17412    278.5\n",
       "17413    278.0\n",
       "Name: t1, Length: 17414, dtype: float64"
      ]
     },
     "execution_count": 43,
     "metadata": {},
     "output_type": "execute_result"
    }
   ],
   "source": [
    "df['t1'].apply(lambda x:x+273)"
   ]
  },
  {
   "cell_type": "code",
   "execution_count": 45,
   "metadata": {},
   "outputs": [
    {
     "data": {
      "text/plain": [
       "cnt             1143.101642\n",
       "t1                12.468091\n",
       "t2                11.520836\n",
       "hum               72.324954\n",
       "wind_speed        15.913063\n",
       "weather_code       2.722752\n",
       "is_holiday         0.022051\n",
       "is_weekend         0.285403\n",
       "season             1.492075\n",
       "hour              11.513265\n",
       "dtype: float64"
      ]
     },
     "execution_count": 45,
     "metadata": {},
     "output_type": "execute_result"
    }
   ],
   "source": [
    "df.apply(lambda x:x.mean()) ## permite aplicar la función a todo el df"
   ]
  },
  {
   "cell_type": "code",
   "execution_count": 46,
   "metadata": {},
   "outputs": [
    {
     "data": {
      "text/plain": [
       "0         29.30\n",
       "1         24.75\n",
       "2         24.25\n",
       "3         18.40\n",
       "4         15.75\n",
       "          ...  \n",
       "17409    117.30\n",
       "17410     67.60\n",
       "17411     47.45\n",
       "17412     35.90\n",
       "17413     27.10\n",
       "Length: 17414, dtype: float64"
      ]
     },
     "execution_count": 46,
     "metadata": {},
     "output_type": "execute_result"
    }
   ],
   "source": [
    "df.apply(lambda x:x.mean(),axis=1) ## calcular por filas"
   ]
  },
  {
   "cell_type": "code",
   "execution_count": 48,
   "metadata": {},
   "outputs": [
    {
     "data": {
      "text/plain": [
       "0         60.787517\n",
       "1         49.012045\n",
       "2         48.779692\n",
       "3         36.249751\n",
       "4         30.642427\n",
       "            ...    \n",
       "17409    325.831944\n",
       "17410    168.138964\n",
       "17411    104.504505\n",
       "17412     70.027296\n",
       "17413     45.710320\n",
       "Length: 17414, dtype: float64"
      ]
     },
     "execution_count": 48,
     "metadata": {},
     "output_type": "execute_result"
    }
   ],
   "source": [
    "df.apply(lambda x:x.std(),axis=1) ## desviación estandar"
   ]
  },
  {
   "cell_type": "code",
   "execution_count": 49,
   "metadata": {
    "scrolled": true
   },
   "outputs": [
    {
     "data": {
      "text/plain": [
       "0        1.0\n",
       "1        0.5\n",
       "2        0.0\n",
       "3        0.0\n",
       "4        2.0\n",
       "        ... \n",
       "17409    4.0\n",
       "17410    4.0\n",
       "17411    4.0\n",
       "17412    4.0\n",
       "17413    4.0\n",
       "Length: 17414, dtype: float64"
      ]
     },
     "execution_count": 49,
     "metadata": {},
     "output_type": "execute_result"
    }
   ],
   "source": [
    "df.apply(lambda x:x['t1']-x['t2'],axis=1)"
   ]
  },
  {
   "cell_type": "markdown",
   "metadata": {},
   "source": [
    "Cambioo a todo el DATAFRAME"
   ]
  },
  {
   "cell_type": "code",
   "execution_count": 50,
   "metadata": {},
   "outputs": [
    {
     "data": {
      "text/html": [
       "<div>\n",
       "<style scoped>\n",
       "    .dataframe tbody tr th:only-of-type {\n",
       "        vertical-align: middle;\n",
       "    }\n",
       "\n",
       "    .dataframe tbody tr th {\n",
       "        vertical-align: top;\n",
       "    }\n",
       "\n",
       "    .dataframe thead th {\n",
       "        text-align: right;\n",
       "    }\n",
       "</style>\n",
       "<table border=\"1\" class=\"dataframe\">\n",
       "  <thead>\n",
       "    <tr style=\"text-align: right;\">\n",
       "      <th></th>\n",
       "      <th>cnt</th>\n",
       "      <th>t1</th>\n",
       "      <th>t2</th>\n",
       "      <th>hum</th>\n",
       "      <th>wind_speed</th>\n",
       "      <th>weather_code</th>\n",
       "      <th>is_holiday</th>\n",
       "      <th>is_weekend</th>\n",
       "      <th>season</th>\n",
       "      <th>hour</th>\n",
       "    </tr>\n",
       "  </thead>\n",
       "  <tbody>\n",
       "    <tr>\n",
       "      <th>0</th>\n",
       "      <td>0.182</td>\n",
       "      <td>0.0030</td>\n",
       "      <td>0.0020</td>\n",
       "      <td>0.0930</td>\n",
       "      <td>0.0060</td>\n",
       "      <td>0.003</td>\n",
       "      <td>0.0</td>\n",
       "      <td>0.001</td>\n",
       "      <td>0.003</td>\n",
       "      <td>0.000</td>\n",
       "    </tr>\n",
       "    <tr>\n",
       "      <th>1</th>\n",
       "      <td>0.138</td>\n",
       "      <td>0.0030</td>\n",
       "      <td>0.0025</td>\n",
       "      <td>0.0930</td>\n",
       "      <td>0.0050</td>\n",
       "      <td>0.001</td>\n",
       "      <td>0.0</td>\n",
       "      <td>0.001</td>\n",
       "      <td>0.003</td>\n",
       "      <td>0.001</td>\n",
       "    </tr>\n",
       "    <tr>\n",
       "      <th>2</th>\n",
       "      <td>0.134</td>\n",
       "      <td>0.0025</td>\n",
       "      <td>0.0025</td>\n",
       "      <td>0.0965</td>\n",
       "      <td>0.0000</td>\n",
       "      <td>0.001</td>\n",
       "      <td>0.0</td>\n",
       "      <td>0.001</td>\n",
       "      <td>0.003</td>\n",
       "      <td>0.002</td>\n",
       "    </tr>\n",
       "    <tr>\n",
       "      <th>3</th>\n",
       "      <td>0.072</td>\n",
       "      <td>0.0020</td>\n",
       "      <td>0.0020</td>\n",
       "      <td>0.1000</td>\n",
       "      <td>0.0000</td>\n",
       "      <td>0.001</td>\n",
       "      <td>0.0</td>\n",
       "      <td>0.001</td>\n",
       "      <td>0.003</td>\n",
       "      <td>0.003</td>\n",
       "    </tr>\n",
       "    <tr>\n",
       "      <th>4</th>\n",
       "      <td>0.047</td>\n",
       "      <td>0.0020</td>\n",
       "      <td>0.0000</td>\n",
       "      <td>0.0930</td>\n",
       "      <td>0.0065</td>\n",
       "      <td>0.001</td>\n",
       "      <td>0.0</td>\n",
       "      <td>0.001</td>\n",
       "      <td>0.003</td>\n",
       "      <td>0.004</td>\n",
       "    </tr>\n",
       "    <tr>\n",
       "      <th>...</th>\n",
       "      <td>...</td>\n",
       "      <td>...</td>\n",
       "      <td>...</td>\n",
       "      <td>...</td>\n",
       "      <td>...</td>\n",
       "      <td>...</td>\n",
       "      <td>...</td>\n",
       "      <td>...</td>\n",
       "      <td>...</td>\n",
       "      <td>...</td>\n",
       "    </tr>\n",
       "    <tr>\n",
       "      <th>17409</th>\n",
       "      <td>1.042</td>\n",
       "      <td>0.0050</td>\n",
       "      <td>0.0010</td>\n",
       "      <td>0.0810</td>\n",
       "      <td>0.0190</td>\n",
       "      <td>0.003</td>\n",
       "      <td>0.0</td>\n",
       "      <td>0.000</td>\n",
       "      <td>0.003</td>\n",
       "      <td>0.019</td>\n",
       "    </tr>\n",
       "    <tr>\n",
       "      <th>17410</th>\n",
       "      <td>0.541</td>\n",
       "      <td>0.0050</td>\n",
       "      <td>0.0010</td>\n",
       "      <td>0.0810</td>\n",
       "      <td>0.0210</td>\n",
       "      <td>0.004</td>\n",
       "      <td>0.0</td>\n",
       "      <td>0.000</td>\n",
       "      <td>0.003</td>\n",
       "      <td>0.020</td>\n",
       "    </tr>\n",
       "    <tr>\n",
       "      <th>17411</th>\n",
       "      <td>0.337</td>\n",
       "      <td>0.0055</td>\n",
       "      <td>0.0015</td>\n",
       "      <td>0.0785</td>\n",
       "      <td>0.0240</td>\n",
       "      <td>0.004</td>\n",
       "      <td>0.0</td>\n",
       "      <td>0.000</td>\n",
       "      <td>0.003</td>\n",
       "      <td>0.021</td>\n",
       "    </tr>\n",
       "    <tr>\n",
       "      <th>17412</th>\n",
       "      <td>0.224</td>\n",
       "      <td>0.0055</td>\n",
       "      <td>0.0015</td>\n",
       "      <td>0.0760</td>\n",
       "      <td>0.0230</td>\n",
       "      <td>0.004</td>\n",
       "      <td>0.0</td>\n",
       "      <td>0.000</td>\n",
       "      <td>0.003</td>\n",
       "      <td>0.022</td>\n",
       "    </tr>\n",
       "    <tr>\n",
       "      <th>17413</th>\n",
       "      <td>0.139</td>\n",
       "      <td>0.0050</td>\n",
       "      <td>0.0010</td>\n",
       "      <td>0.0760</td>\n",
       "      <td>0.0220</td>\n",
       "      <td>0.002</td>\n",
       "      <td>0.0</td>\n",
       "      <td>0.000</td>\n",
       "      <td>0.003</td>\n",
       "      <td>0.023</td>\n",
       "    </tr>\n",
       "  </tbody>\n",
       "</table>\n",
       "<p>17414 rows × 10 columns</p>\n",
       "</div>"
      ],
      "text/plain": [
       "         cnt      t1      t2     hum  wind_speed  weather_code  is_holiday  \\\n",
       "0      0.182  0.0030  0.0020  0.0930      0.0060         0.003         0.0   \n",
       "1      0.138  0.0030  0.0025  0.0930      0.0050         0.001         0.0   \n",
       "2      0.134  0.0025  0.0025  0.0965      0.0000         0.001         0.0   \n",
       "3      0.072  0.0020  0.0020  0.1000      0.0000         0.001         0.0   \n",
       "4      0.047  0.0020  0.0000  0.0930      0.0065         0.001         0.0   \n",
       "...      ...     ...     ...     ...         ...           ...         ...   \n",
       "17409  1.042  0.0050  0.0010  0.0810      0.0190         0.003         0.0   \n",
       "17410  0.541  0.0050  0.0010  0.0810      0.0210         0.004         0.0   \n",
       "17411  0.337  0.0055  0.0015  0.0785      0.0240         0.004         0.0   \n",
       "17412  0.224  0.0055  0.0015  0.0760      0.0230         0.004         0.0   \n",
       "17413  0.139  0.0050  0.0010  0.0760      0.0220         0.002         0.0   \n",
       "\n",
       "       is_weekend  season   hour  \n",
       "0           0.001   0.003  0.000  \n",
       "1           0.001   0.003  0.001  \n",
       "2           0.001   0.003  0.002  \n",
       "3           0.001   0.003  0.003  \n",
       "4           0.001   0.003  0.004  \n",
       "...           ...     ...    ...  \n",
       "17409       0.000   0.003  0.019  \n",
       "17410       0.000   0.003  0.020  \n",
       "17411       0.000   0.003  0.021  \n",
       "17412       0.000   0.003  0.022  \n",
       "17413       0.000   0.003  0.023  \n",
       "\n",
       "[17414 rows x 10 columns]"
      ]
     },
     "execution_count": 50,
     "metadata": {},
     "output_type": "execute_result"
    }
   ],
   "source": [
    "df.applymap(lambda x:x/1000)"
   ]
  },
  {
   "cell_type": "code",
   "execution_count": null,
   "metadata": {},
   "outputs": [],
   "source": []
  }
 ],
 "metadata": {
  "kernelspec": {
   "display_name": "Python 3",
   "language": "python",
   "name": "python3"
  },
  "language_info": {
   "codemirror_mode": {
    "name": "ipython",
    "version": 3
   },
   "file_extension": ".py",
   "mimetype": "text/x-python",
   "name": "python",
   "nbconvert_exporter": "python",
   "pygments_lexer": "ipython3",
   "version": "3.8.8"
  }
 },
 "nbformat": 4,
 "nbformat_minor": 4
}
