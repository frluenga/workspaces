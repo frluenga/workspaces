{
 "cells": [
  {
   "cell_type": "code",
   "execution_count": 3,
   "metadata": {},
   "outputs": [
    {
     "name": "stdout",
     "output_type": "stream",
     "text": [
      "C:\\Users\\GAMER\\Documents\\Development\\curso_python\\base\n"
     ]
    }
   ],
   "source": [
    "%cd base"
   ]
  },
  {
   "cell_type": "code",
   "execution_count": 125,
   "metadata": {},
   "outputs": [],
   "source": [
    "import pandas as pd\n",
    "import numpy as np"
   ]
  },
  {
   "cell_type": "code",
   "execution_count": 126,
   "metadata": {},
   "outputs": [],
   "source": [
    "df = pd.read_csv('covid_19_clean_complete.csv')\n",
    "df['Date'] = pd.to_datetime(df['Date'])"
   ]
  },
  {
   "cell_type": "code",
   "execution_count": 16,
   "metadata": {},
   "outputs": [
    {
     "data": {
      "text/plain": [
       "['Province/State',\n",
       " 'Country/Region',\n",
       " 'Lat',\n",
       " 'Long',\n",
       " 'Date',\n",
       " 'Confirmed',\n",
       " 'Deaths',\n",
       " 'Recovered',\n",
       " 'Active',\n",
       " 'WHO Region']"
      ]
     },
     "execution_count": 16,
     "metadata": {},
     "output_type": "execute_result"
    }
   ],
   "source": [
    "list(df)"
   ]
  },
  {
   "cell_type": "code",
   "execution_count": 18,
   "metadata": {},
   "outputs": [],
   "source": [
    "df_time = df[['Date',\n",
    "             'Country/Region',\n",
    "             'Confirmed','Deaths',\n",
    "             'Recovered','Active']].groupby('Date').sum()"
   ]
  },
  {
   "cell_type": "code",
   "execution_count": 19,
   "metadata": {},
   "outputs": [
    {
     "data": {
      "text/html": [
       "<div>\n",
       "<style scoped>\n",
       "    .dataframe tbody tr th:only-of-type {\n",
       "        vertical-align: middle;\n",
       "    }\n",
       "\n",
       "    .dataframe tbody tr th {\n",
       "        vertical-align: top;\n",
       "    }\n",
       "\n",
       "    .dataframe thead th {\n",
       "        text-align: right;\n",
       "    }\n",
       "</style>\n",
       "<table border=\"1\" class=\"dataframe\">\n",
       "  <thead>\n",
       "    <tr style=\"text-align: right;\">\n",
       "      <th></th>\n",
       "      <th>Confirmed</th>\n",
       "      <th>Deaths</th>\n",
       "      <th>Recovered</th>\n",
       "      <th>Active</th>\n",
       "    </tr>\n",
       "    <tr>\n",
       "      <th>Date</th>\n",
       "      <th></th>\n",
       "      <th></th>\n",
       "      <th></th>\n",
       "      <th></th>\n",
       "    </tr>\n",
       "  </thead>\n",
       "  <tbody>\n",
       "    <tr>\n",
       "      <th>2020-01-22</th>\n",
       "      <td>555</td>\n",
       "      <td>17</td>\n",
       "      <td>28</td>\n",
       "      <td>510</td>\n",
       "    </tr>\n",
       "    <tr>\n",
       "      <th>2020-01-23</th>\n",
       "      <td>654</td>\n",
       "      <td>18</td>\n",
       "      <td>30</td>\n",
       "      <td>606</td>\n",
       "    </tr>\n",
       "    <tr>\n",
       "      <th>2020-01-24</th>\n",
       "      <td>941</td>\n",
       "      <td>26</td>\n",
       "      <td>36</td>\n",
       "      <td>879</td>\n",
       "    </tr>\n",
       "    <tr>\n",
       "      <th>2020-01-25</th>\n",
       "      <td>1434</td>\n",
       "      <td>42</td>\n",
       "      <td>39</td>\n",
       "      <td>1353</td>\n",
       "    </tr>\n",
       "    <tr>\n",
       "      <th>2020-01-26</th>\n",
       "      <td>2118</td>\n",
       "      <td>56</td>\n",
       "      <td>52</td>\n",
       "      <td>2010</td>\n",
       "    </tr>\n",
       "    <tr>\n",
       "      <th>...</th>\n",
       "      <td>...</td>\n",
       "      <td>...</td>\n",
       "      <td>...</td>\n",
       "      <td>...</td>\n",
       "    </tr>\n",
       "    <tr>\n",
       "      <th>2020-07-23</th>\n",
       "      <td>15510481</td>\n",
       "      <td>633506</td>\n",
       "      <td>8710969</td>\n",
       "      <td>6166006</td>\n",
       "    </tr>\n",
       "    <tr>\n",
       "      <th>2020-07-24</th>\n",
       "      <td>15791645</td>\n",
       "      <td>639650</td>\n",
       "      <td>8939705</td>\n",
       "      <td>6212290</td>\n",
       "    </tr>\n",
       "    <tr>\n",
       "      <th>2020-07-25</th>\n",
       "      <td>16047190</td>\n",
       "      <td>644517</td>\n",
       "      <td>9158743</td>\n",
       "      <td>6243930</td>\n",
       "    </tr>\n",
       "    <tr>\n",
       "      <th>2020-07-26</th>\n",
       "      <td>16251796</td>\n",
       "      <td>648621</td>\n",
       "      <td>9293464</td>\n",
       "      <td>6309711</td>\n",
       "    </tr>\n",
       "    <tr>\n",
       "      <th>2020-07-27</th>\n",
       "      <td>16480485</td>\n",
       "      <td>654036</td>\n",
       "      <td>9468087</td>\n",
       "      <td>6358362</td>\n",
       "    </tr>\n",
       "  </tbody>\n",
       "</table>\n",
       "<p>188 rows × 4 columns</p>\n",
       "</div>"
      ],
      "text/plain": [
       "            Confirmed  Deaths  Recovered   Active\n",
       "Date                                             \n",
       "2020-01-22        555      17         28      510\n",
       "2020-01-23        654      18         30      606\n",
       "2020-01-24        941      26         36      879\n",
       "2020-01-25       1434      42         39     1353\n",
       "2020-01-26       2118      56         52     2010\n",
       "...               ...     ...        ...      ...\n",
       "2020-07-23   15510481  633506    8710969  6166006\n",
       "2020-07-24   15791645  639650    8939705  6212290\n",
       "2020-07-25   16047190  644517    9158743  6243930\n",
       "2020-07-26   16251796  648621    9293464  6309711\n",
       "2020-07-27   16480485  654036    9468087  6358362\n",
       "\n",
       "[188 rows x 4 columns]"
      ]
     },
     "execution_count": 19,
     "metadata": {},
     "output_type": "execute_result"
    }
   ],
   "source": [
    "df_time"
   ]
  },
  {
   "cell_type": "code",
   "execution_count": 22,
   "metadata": {},
   "outputs": [
    {
     "data": {
      "text/plain": [
       "Date\n",
       "2020-02-01    12038\n",
       "2020-02-02    16787\n",
       "2020-02-03    19887\n",
       "2020-02-04    23898\n",
       "2020-02-05    27643\n",
       "Name: Confirmed, dtype: int64"
      ]
     },
     "execution_count": 22,
     "metadata": {},
     "output_type": "execute_result"
    }
   ],
   "source": [
    "df1 = df_time['Confirmed'].iloc[10:15]\n",
    "df1"
   ]
  },
  {
   "cell_type": "code",
   "execution_count": 26,
   "metadata": {},
   "outputs": [
    {
     "data": {
      "text/plain": [
       "Date\n",
       "2020-02-03    426\n",
       "2020-02-04    492\n",
       "2020-02-05    564\n",
       "2020-02-06    634\n",
       "2020-02-07    719\n",
       "Name: Deaths, dtype: int64"
      ]
     },
     "execution_count": 26,
     "metadata": {},
     "output_type": "execute_result"
    }
   ],
   "source": [
    "df2 = df_time['Deaths'].iloc[12:17]\n",
    "df2"
   ]
  },
  {
   "cell_type": "code",
   "execution_count": 27,
   "metadata": {
    "scrolled": true
   },
   "outputs": [
    {
     "data": {
      "text/plain": [
       "Date\n",
       "2020-02-01        NaN\n",
       "2020-02-02        NaN\n",
       "2020-02-03    19461.0\n",
       "2020-02-04    23406.0\n",
       "2020-02-05    27079.0\n",
       "2020-02-06        NaN\n",
       "2020-02-07        NaN\n",
       "dtype: float64"
      ]
     },
     "execution_count": 27,
     "metadata": {},
     "output_type": "execute_result"
    }
   ],
   "source": [
    "df1 - df2"
   ]
  },
  {
   "cell_type": "markdown",
   "metadata": {},
   "source": [
    "### Con deff() vamos a restar la variación entre el dato anterior y el nuevo, si aumenta o disminuye"
   ]
  },
  {
   "cell_type": "code",
   "execution_count": 29,
   "metadata": {
    "scrolled": true
   },
   "outputs": [
    {
     "data": {
      "text/html": [
       "<div>\n",
       "<style scoped>\n",
       "    .dataframe tbody tr th:only-of-type {\n",
       "        vertical-align: middle;\n",
       "    }\n",
       "\n",
       "    .dataframe tbody tr th {\n",
       "        vertical-align: top;\n",
       "    }\n",
       "\n",
       "    .dataframe thead th {\n",
       "        text-align: right;\n",
       "    }\n",
       "</style>\n",
       "<table border=\"1\" class=\"dataframe\">\n",
       "  <thead>\n",
       "    <tr style=\"text-align: right;\">\n",
       "      <th></th>\n",
       "      <th>Confirmed</th>\n",
       "      <th>Deaths</th>\n",
       "      <th>Recovered</th>\n",
       "      <th>Active</th>\n",
       "    </tr>\n",
       "    <tr>\n",
       "      <th>Date</th>\n",
       "      <th></th>\n",
       "      <th></th>\n",
       "      <th></th>\n",
       "      <th></th>\n",
       "    </tr>\n",
       "  </thead>\n",
       "  <tbody>\n",
       "    <tr>\n",
       "      <th>2020-01-22</th>\n",
       "      <td>NaN</td>\n",
       "      <td>NaN</td>\n",
       "      <td>NaN</td>\n",
       "      <td>NaN</td>\n",
       "    </tr>\n",
       "    <tr>\n",
       "      <th>2020-01-23</th>\n",
       "      <td>99.0</td>\n",
       "      <td>1.0</td>\n",
       "      <td>2.0</td>\n",
       "      <td>96.0</td>\n",
       "    </tr>\n",
       "    <tr>\n",
       "      <th>2020-01-24</th>\n",
       "      <td>287.0</td>\n",
       "      <td>8.0</td>\n",
       "      <td>6.0</td>\n",
       "      <td>273.0</td>\n",
       "    </tr>\n",
       "    <tr>\n",
       "      <th>2020-01-25</th>\n",
       "      <td>493.0</td>\n",
       "      <td>16.0</td>\n",
       "      <td>3.0</td>\n",
       "      <td>474.0</td>\n",
       "    </tr>\n",
       "    <tr>\n",
       "      <th>2020-01-26</th>\n",
       "      <td>684.0</td>\n",
       "      <td>14.0</td>\n",
       "      <td>13.0</td>\n",
       "      <td>657.0</td>\n",
       "    </tr>\n",
       "    <tr>\n",
       "      <th>2020-01-27</th>\n",
       "      <td>809.0</td>\n",
       "      <td>26.0</td>\n",
       "      <td>9.0</td>\n",
       "      <td>774.0</td>\n",
       "    </tr>\n",
       "    <tr>\n",
       "      <th>2020-01-28</th>\n",
       "      <td>2651.0</td>\n",
       "      <td>49.0</td>\n",
       "      <td>46.0</td>\n",
       "      <td>2556.0</td>\n",
       "    </tr>\n",
       "    <tr>\n",
       "      <th>2020-01-29</th>\n",
       "      <td>588.0</td>\n",
       "      <td>2.0</td>\n",
       "      <td>18.0</td>\n",
       "      <td>568.0</td>\n",
       "    </tr>\n",
       "    <tr>\n",
       "      <th>2020-01-30</th>\n",
       "      <td>2068.0</td>\n",
       "      <td>38.0</td>\n",
       "      <td>16.0</td>\n",
       "      <td>2014.0</td>\n",
       "    </tr>\n",
       "    <tr>\n",
       "      <th>2020-01-31</th>\n",
       "      <td>1693.0</td>\n",
       "      <td>42.0</td>\n",
       "      <td>78.0</td>\n",
       "      <td>1573.0</td>\n",
       "    </tr>\n",
       "  </tbody>\n",
       "</table>\n",
       "</div>"
      ],
      "text/plain": [
       "            Confirmed  Deaths  Recovered  Active\n",
       "Date                                            \n",
       "2020-01-22        NaN     NaN        NaN     NaN\n",
       "2020-01-23       99.0     1.0        2.0    96.0\n",
       "2020-01-24      287.0     8.0        6.0   273.0\n",
       "2020-01-25      493.0    16.0        3.0   474.0\n",
       "2020-01-26      684.0    14.0       13.0   657.0\n",
       "2020-01-27      809.0    26.0        9.0   774.0\n",
       "2020-01-28     2651.0    49.0       46.0  2556.0\n",
       "2020-01-29      588.0     2.0       18.0   568.0\n",
       "2020-01-30     2068.0    38.0       16.0  2014.0\n",
       "2020-01-31     1693.0    42.0       78.0  1573.0"
      ]
     },
     "execution_count": 29,
     "metadata": {},
     "output_type": "execute_result"
    }
   ],
   "source": [
    "df_time.diff().head(10)"
   ]
  },
  {
   "cell_type": "markdown",
   "metadata": {},
   "source": [
    "### Para colocar en el primer registro el valor del registro siguiente se extrae la información del segundo registro y se convierte en diccionario"
   ]
  },
  {
   "cell_type": "code",
   "execution_count": 34,
   "metadata": {},
   "outputs": [
    {
     "data": {
      "text/plain": [
       "{'Confirmed': {Timestamp('2020-01-22 00:00:00'): 555},\n",
       " 'Deaths': {Timestamp('2020-01-22 00:00:00'): 17},\n",
       " 'Recovered': {Timestamp('2020-01-22 00:00:00'): 28},\n",
       " 'Active': {Timestamp('2020-01-22 00:00:00'): 510}}"
      ]
     },
     "execution_count": 34,
     "metadata": {},
     "output_type": "execute_result"
    }
   ],
   "source": [
    "df_time.head(1).to_dict()"
   ]
  },
  {
   "cell_type": "code",
   "execution_count": 35,
   "metadata": {},
   "outputs": [
    {
     "data": {
      "text/html": [
       "<div>\n",
       "<style scoped>\n",
       "    .dataframe tbody tr th:only-of-type {\n",
       "        vertical-align: middle;\n",
       "    }\n",
       "\n",
       "    .dataframe tbody tr th {\n",
       "        vertical-align: top;\n",
       "    }\n",
       "\n",
       "    .dataframe thead th {\n",
       "        text-align: right;\n",
       "    }\n",
       "</style>\n",
       "<table border=\"1\" class=\"dataframe\">\n",
       "  <thead>\n",
       "    <tr style=\"text-align: right;\">\n",
       "      <th></th>\n",
       "      <th>Confirmed</th>\n",
       "      <th>Deaths</th>\n",
       "      <th>Recovered</th>\n",
       "      <th>Active</th>\n",
       "    </tr>\n",
       "    <tr>\n",
       "      <th>Date</th>\n",
       "      <th></th>\n",
       "      <th></th>\n",
       "      <th></th>\n",
       "      <th></th>\n",
       "    </tr>\n",
       "  </thead>\n",
       "  <tbody>\n",
       "    <tr>\n",
       "      <th>2020-01-22</th>\n",
       "      <td>555.0</td>\n",
       "      <td>17.0</td>\n",
       "      <td>28.0</td>\n",
       "      <td>510.0</td>\n",
       "    </tr>\n",
       "    <tr>\n",
       "      <th>2020-01-23</th>\n",
       "      <td>99.0</td>\n",
       "      <td>1.0</td>\n",
       "      <td>2.0</td>\n",
       "      <td>96.0</td>\n",
       "    </tr>\n",
       "    <tr>\n",
       "      <th>2020-01-24</th>\n",
       "      <td>287.0</td>\n",
       "      <td>8.0</td>\n",
       "      <td>6.0</td>\n",
       "      <td>273.0</td>\n",
       "    </tr>\n",
       "    <tr>\n",
       "      <th>2020-01-25</th>\n",
       "      <td>493.0</td>\n",
       "      <td>16.0</td>\n",
       "      <td>3.0</td>\n",
       "      <td>474.0</td>\n",
       "    </tr>\n",
       "    <tr>\n",
       "      <th>2020-01-26</th>\n",
       "      <td>684.0</td>\n",
       "      <td>14.0</td>\n",
       "      <td>13.0</td>\n",
       "      <td>657.0</td>\n",
       "    </tr>\n",
       "    <tr>\n",
       "      <th>...</th>\n",
       "      <td>...</td>\n",
       "      <td>...</td>\n",
       "      <td>...</td>\n",
       "      <td>...</td>\n",
       "    </tr>\n",
       "    <tr>\n",
       "      <th>2020-07-23</th>\n",
       "      <td>282756.0</td>\n",
       "      <td>9966.0</td>\n",
       "      <td>169714.0</td>\n",
       "      <td>103076.0</td>\n",
       "    </tr>\n",
       "    <tr>\n",
       "      <th>2020-07-24</th>\n",
       "      <td>281164.0</td>\n",
       "      <td>6144.0</td>\n",
       "      <td>228736.0</td>\n",
       "      <td>46284.0</td>\n",
       "    </tr>\n",
       "    <tr>\n",
       "      <th>2020-07-25</th>\n",
       "      <td>255545.0</td>\n",
       "      <td>4867.0</td>\n",
       "      <td>219038.0</td>\n",
       "      <td>31640.0</td>\n",
       "    </tr>\n",
       "    <tr>\n",
       "      <th>2020-07-26</th>\n",
       "      <td>204606.0</td>\n",
       "      <td>4104.0</td>\n",
       "      <td>134721.0</td>\n",
       "      <td>65781.0</td>\n",
       "    </tr>\n",
       "    <tr>\n",
       "      <th>2020-07-27</th>\n",
       "      <td>228689.0</td>\n",
       "      <td>5415.0</td>\n",
       "      <td>174623.0</td>\n",
       "      <td>48651.0</td>\n",
       "    </tr>\n",
       "  </tbody>\n",
       "</table>\n",
       "<p>188 rows × 4 columns</p>\n",
       "</div>"
      ],
      "text/plain": [
       "            Confirmed  Deaths  Recovered    Active\n",
       "Date                                              \n",
       "2020-01-22      555.0    17.0       28.0     510.0\n",
       "2020-01-23       99.0     1.0        2.0      96.0\n",
       "2020-01-24      287.0     8.0        6.0     273.0\n",
       "2020-01-25      493.0    16.0        3.0     474.0\n",
       "2020-01-26      684.0    14.0       13.0     657.0\n",
       "...               ...     ...        ...       ...\n",
       "2020-07-23   282756.0  9966.0   169714.0  103076.0\n",
       "2020-07-24   281164.0  6144.0   228736.0   46284.0\n",
       "2020-07-25   255545.0  4867.0   219038.0   31640.0\n",
       "2020-07-26   204606.0  4104.0   134721.0   65781.0\n",
       "2020-07-27   228689.0  5415.0   174623.0   48651.0\n",
       "\n",
       "[188 rows x 4 columns]"
      ]
     },
     "execution_count": 35,
     "metadata": {},
     "output_type": "execute_result"
    }
   ],
   "source": [
    "df_time.diff().fillna({'Confirmed': 555,\n",
    " 'Deaths': 17,\n",
    " 'Recovered': 28,\n",
    " 'Active': 510})"
   ]
  },
  {
   "cell_type": "code",
   "execution_count": 37,
   "metadata": {},
   "outputs": [
    {
     "data": {
      "text/plain": [
       "Confirmed    88127.967914\n",
       "Deaths        3497.427807\n",
       "Recovered    50631.331551\n",
       "Active       33999.208556\n",
       "dtype: float64"
      ]
     },
     "execution_count": 37,
     "metadata": {},
     "output_type": "execute_result"
    }
   ],
   "source": [
    "df_time.diff().mean()"
   ]
  },
  {
   "cell_type": "code",
   "execution_count": 38,
   "metadata": {},
   "outputs": [],
   "source": [
    "\n",
    "df_diff = df_time.diff().fillna({'Confirmed': 555,\n",
    " 'Deaths': 17,\n",
    " 'Recovered': 28,\n",
    " 'Active': 510})"
   ]
  },
  {
   "cell_type": "code",
   "execution_count": 42,
   "metadata": {
    "scrolled": true
   },
   "outputs": [
    {
     "data": {
      "text/html": [
       "<div>\n",
       "<style scoped>\n",
       "    .dataframe tbody tr th:only-of-type {\n",
       "        vertical-align: middle;\n",
       "    }\n",
       "\n",
       "    .dataframe tbody tr th {\n",
       "        vertical-align: top;\n",
       "    }\n",
       "\n",
       "    .dataframe thead th {\n",
       "        text-align: right;\n",
       "    }\n",
       "</style>\n",
       "<table border=\"1\" class=\"dataframe\">\n",
       "  <thead>\n",
       "    <tr style=\"text-align: right;\">\n",
       "      <th></th>\n",
       "      <th>Confirmed</th>\n",
       "      <th>Deaths</th>\n",
       "      <th>Recovered</th>\n",
       "      <th>Active</th>\n",
       "    </tr>\n",
       "    <tr>\n",
       "      <th>Date</th>\n",
       "      <th></th>\n",
       "      <th></th>\n",
       "      <th></th>\n",
       "      <th></th>\n",
       "    </tr>\n",
       "  </thead>\n",
       "  <tbody>\n",
       "    <tr>\n",
       "      <th>2020-01-22</th>\n",
       "      <td>555.0</td>\n",
       "      <td>17.0</td>\n",
       "      <td>28.0</td>\n",
       "      <td>510.0</td>\n",
       "    </tr>\n",
       "    <tr>\n",
       "      <th>2020-01-23</th>\n",
       "      <td>654.0</td>\n",
       "      <td>18.0</td>\n",
       "      <td>30.0</td>\n",
       "      <td>606.0</td>\n",
       "    </tr>\n",
       "    <tr>\n",
       "      <th>2020-01-24</th>\n",
       "      <td>941.0</td>\n",
       "      <td>26.0</td>\n",
       "      <td>36.0</td>\n",
       "      <td>879.0</td>\n",
       "    </tr>\n",
       "    <tr>\n",
       "      <th>2020-01-25</th>\n",
       "      <td>1434.0</td>\n",
       "      <td>42.0</td>\n",
       "      <td>39.0</td>\n",
       "      <td>1353.0</td>\n",
       "    </tr>\n",
       "    <tr>\n",
       "      <th>2020-01-26</th>\n",
       "      <td>2118.0</td>\n",
       "      <td>56.0</td>\n",
       "      <td>52.0</td>\n",
       "      <td>2010.0</td>\n",
       "    </tr>\n",
       "    <tr>\n",
       "      <th>...</th>\n",
       "      <td>...</td>\n",
       "      <td>...</td>\n",
       "      <td>...</td>\n",
       "      <td>...</td>\n",
       "    </tr>\n",
       "    <tr>\n",
       "      <th>2020-07-23</th>\n",
       "      <td>15510481.0</td>\n",
       "      <td>633506.0</td>\n",
       "      <td>8710969.0</td>\n",
       "      <td>6166006.0</td>\n",
       "    </tr>\n",
       "    <tr>\n",
       "      <th>2020-07-24</th>\n",
       "      <td>15791645.0</td>\n",
       "      <td>639650.0</td>\n",
       "      <td>8939705.0</td>\n",
       "      <td>6212290.0</td>\n",
       "    </tr>\n",
       "    <tr>\n",
       "      <th>2020-07-25</th>\n",
       "      <td>16047190.0</td>\n",
       "      <td>644517.0</td>\n",
       "      <td>9158743.0</td>\n",
       "      <td>6243930.0</td>\n",
       "    </tr>\n",
       "    <tr>\n",
       "      <th>2020-07-26</th>\n",
       "      <td>16251796.0</td>\n",
       "      <td>648621.0</td>\n",
       "      <td>9293464.0</td>\n",
       "      <td>6309711.0</td>\n",
       "    </tr>\n",
       "    <tr>\n",
       "      <th>2020-07-27</th>\n",
       "      <td>16480485.0</td>\n",
       "      <td>654036.0</td>\n",
       "      <td>9468087.0</td>\n",
       "      <td>6358362.0</td>\n",
       "    </tr>\n",
       "  </tbody>\n",
       "</table>\n",
       "<p>188 rows × 4 columns</p>\n",
       "</div>"
      ],
      "text/plain": [
       "             Confirmed    Deaths  Recovered     Active\n",
       "Date                                                  \n",
       "2020-01-22       555.0      17.0       28.0      510.0\n",
       "2020-01-23       654.0      18.0       30.0      606.0\n",
       "2020-01-24       941.0      26.0       36.0      879.0\n",
       "2020-01-25      1434.0      42.0       39.0     1353.0\n",
       "2020-01-26      2118.0      56.0       52.0     2010.0\n",
       "...                ...       ...        ...        ...\n",
       "2020-07-23  15510481.0  633506.0  8710969.0  6166006.0\n",
       "2020-07-24  15791645.0  639650.0  8939705.0  6212290.0\n",
       "2020-07-25  16047190.0  644517.0  9158743.0  6243930.0\n",
       "2020-07-26  16251796.0  648621.0  9293464.0  6309711.0\n",
       "2020-07-27  16480485.0  654036.0  9468087.0  6358362.0\n",
       "\n",
       "[188 rows x 4 columns]"
      ]
     },
     "execution_count": 42,
     "metadata": {},
     "output_type": "execute_result"
    }
   ],
   "source": [
    "df_diff.cumsum() ## despues de haber sacado la diferencia con el anterior"
   ]
  },
  {
   "cell_type": "markdown",
   "metadata": {},
   "source": [
    "### Con la función resample se puede agrupar las observaciones cada tanto"
   ]
  },
  {
   "cell_type": "code",
   "execution_count": 44,
   "metadata": {},
   "outputs": [
    {
     "data": {
      "text/html": [
       "<div>\n",
       "<style scoped>\n",
       "    .dataframe tbody tr th:only-of-type {\n",
       "        vertical-align: middle;\n",
       "    }\n",
       "\n",
       "    .dataframe tbody tr th {\n",
       "        vertical-align: top;\n",
       "    }\n",
       "\n",
       "    .dataframe thead th {\n",
       "        text-align: right;\n",
       "    }\n",
       "</style>\n",
       "<table border=\"1\" class=\"dataframe\">\n",
       "  <thead>\n",
       "    <tr style=\"text-align: right;\">\n",
       "      <th></th>\n",
       "      <th>Confirmed</th>\n",
       "      <th>Deaths</th>\n",
       "      <th>Recovered</th>\n",
       "      <th>Active</th>\n",
       "    </tr>\n",
       "    <tr>\n",
       "      <th>Date</th>\n",
       "      <th></th>\n",
       "      <th></th>\n",
       "      <th></th>\n",
       "      <th></th>\n",
       "    </tr>\n",
       "  </thead>\n",
       "  <tbody>\n",
       "    <tr>\n",
       "      <th>2020-01-22</th>\n",
       "      <td>5578.0</td>\n",
       "      <td>131.0</td>\n",
       "      <td>107.0</td>\n",
       "      <td>5340.0</td>\n",
       "    </tr>\n",
       "    <tr>\n",
       "      <th>2020-01-29</th>\n",
       "      <td>18320.0</td>\n",
       "      <td>361.0</td>\n",
       "      <td>714.0</td>\n",
       "      <td>17245.0</td>\n",
       "    </tr>\n",
       "    <tr>\n",
       "      <th>2020-02-05</th>\n",
       "      <td>20777.0</td>\n",
       "      <td>621.0</td>\n",
       "      <td>3596.0</td>\n",
       "      <td>16560.0</td>\n",
       "    </tr>\n",
       "    <tr>\n",
       "      <th>2020-02-12</th>\n",
       "      <td>29934.0</td>\n",
       "      <td>895.0</td>\n",
       "      <td>9276.0</td>\n",
       "      <td>19763.0</td>\n",
       "    </tr>\n",
       "    <tr>\n",
       "      <th>2020-02-19</th>\n",
       "      <td>5098.0</td>\n",
       "      <td>699.0</td>\n",
       "      <td>12959.0</td>\n",
       "      <td>-8560.0</td>\n",
       "    </tr>\n",
       "    <tr>\n",
       "      <th>2020-02-26</th>\n",
       "      <td>12534.0</td>\n",
       "      <td>447.0</td>\n",
       "      <td>20029.0</td>\n",
       "      <td>-7942.0</td>\n",
       "    </tr>\n",
       "    <tr>\n",
       "      <th>2020-03-04</th>\n",
       "      <td>25949.0</td>\n",
       "      <td>1106.0</td>\n",
       "      <td>16121.0</td>\n",
       "      <td>8722.0</td>\n",
       "    </tr>\n",
       "    <tr>\n",
       "      <th>2020-03-11</th>\n",
       "      <td>80567.0</td>\n",
       "      <td>3688.0</td>\n",
       "      <td>16142.0</td>\n",
       "      <td>60737.0</td>\n",
       "    </tr>\n",
       "    <tr>\n",
       "      <th>2020-03-18</th>\n",
       "      <td>226132.0</td>\n",
       "      <td>11068.0</td>\n",
       "      <td>27053.0</td>\n",
       "      <td>188011.0</td>\n",
       "    </tr>\n",
       "    <tr>\n",
       "      <th>2020-03-25</th>\n",
       "      <td>446466.0</td>\n",
       "      <td>25462.0</td>\n",
       "      <td>68077.0</td>\n",
       "      <td>352927.0</td>\n",
       "    </tr>\n",
       "    <tr>\n",
       "      <th>2020-04-01</th>\n",
       "      <td>542494.0</td>\n",
       "      <td>42437.0</td>\n",
       "      <td>119591.0</td>\n",
       "      <td>380466.0</td>\n",
       "    </tr>\n",
       "    <tr>\n",
       "      <th>2020-04-08</th>\n",
       "      <td>571325.0</td>\n",
       "      <td>46081.0</td>\n",
       "      <td>169349.0</td>\n",
       "      <td>355895.0</td>\n",
       "    </tr>\n",
       "    <tr>\n",
       "      <th>2020-04-15</th>\n",
       "      <td>568334.0</td>\n",
       "      <td>48126.0</td>\n",
       "      <td>201029.0</td>\n",
       "      <td>319179.0</td>\n",
       "    </tr>\n",
       "    <tr>\n",
       "      <th>2020-04-22</th>\n",
       "      <td>554641.0</td>\n",
       "      <td>40852.0</td>\n",
       "      <td>220637.0</td>\n",
       "      <td>293152.0</td>\n",
       "    </tr>\n",
       "    <tr>\n",
       "      <th>2020-04-29</th>\n",
       "      <td>563161.0</td>\n",
       "      <td>36684.0</td>\n",
       "      <td>281475.0</td>\n",
       "      <td>245002.0</td>\n",
       "    </tr>\n",
       "    <tr>\n",
       "      <th>2020-05-06</th>\n",
       "      <td>592557.0</td>\n",
       "      <td>34497.0</td>\n",
       "      <td>286036.0</td>\n",
       "      <td>272024.0</td>\n",
       "    </tr>\n",
       "    <tr>\n",
       "      <th>2020-05-13</th>\n",
       "      <td>636835.0</td>\n",
       "      <td>31286.0</td>\n",
       "      <td>340065.0</td>\n",
       "      <td>265484.0</td>\n",
       "    </tr>\n",
       "    <tr>\n",
       "      <th>2020-05-20</th>\n",
       "      <td>696362.0</td>\n",
       "      <td>27465.0</td>\n",
       "      <td>442862.0</td>\n",
       "      <td>226035.0</td>\n",
       "    </tr>\n",
       "    <tr>\n",
       "      <th>2020-05-27</th>\n",
       "      <td>804472.0</td>\n",
       "      <td>29591.0</td>\n",
       "      <td>507965.0</td>\n",
       "      <td>266916.0</td>\n",
       "    </tr>\n",
       "    <tr>\n",
       "      <th>2020-06-03</th>\n",
       "      <td>851956.0</td>\n",
       "      <td>30739.0</td>\n",
       "      <td>574038.0</td>\n",
       "      <td>247179.0</td>\n",
       "    </tr>\n",
       "    <tr>\n",
       "      <th>2020-06-10</th>\n",
       "      <td>931705.0</td>\n",
       "      <td>32180.0</td>\n",
       "      <td>573679.0</td>\n",
       "      <td>325846.0</td>\n",
       "    </tr>\n",
       "    <tr>\n",
       "      <th>2020-06-17</th>\n",
       "      <td>1051874.0</td>\n",
       "      <td>33651.0</td>\n",
       "      <td>670896.0</td>\n",
       "      <td>347327.0</td>\n",
       "    </tr>\n",
       "    <tr>\n",
       "      <th>2020-06-24</th>\n",
       "      <td>1212626.0</td>\n",
       "      <td>33143.0</td>\n",
       "      <td>719763.0</td>\n",
       "      <td>459720.0</td>\n",
       "    </tr>\n",
       "    <tr>\n",
       "      <th>2020-07-01</th>\n",
       "      <td>1383337.0</td>\n",
       "      <td>32844.0</td>\n",
       "      <td>1092054.0</td>\n",
       "      <td>258439.0</td>\n",
       "    </tr>\n",
       "    <tr>\n",
       "      <th>2020-07-08</th>\n",
       "      <td>1495833.0</td>\n",
       "      <td>34414.0</td>\n",
       "      <td>949384.0</td>\n",
       "      <td>512035.0</td>\n",
       "    </tr>\n",
       "    <tr>\n",
       "      <th>2020-07-15</th>\n",
       "      <td>1618211.0</td>\n",
       "      <td>38089.0</td>\n",
       "      <td>1042089.0</td>\n",
       "      <td>538033.0</td>\n",
       "    </tr>\n",
       "    <tr>\n",
       "      <th>2020-07-22</th>\n",
       "      <td>1533407.0</td>\n",
       "      <td>37479.0</td>\n",
       "      <td>1103101.0</td>\n",
       "      <td>392827.0</td>\n",
       "    </tr>\n",
       "  </tbody>\n",
       "</table>\n",
       "</div>"
      ],
      "text/plain": [
       "            Confirmed   Deaths  Recovered    Active\n",
       "Date                                               \n",
       "2020-01-22     5578.0    131.0      107.0    5340.0\n",
       "2020-01-29    18320.0    361.0      714.0   17245.0\n",
       "2020-02-05    20777.0    621.0     3596.0   16560.0\n",
       "2020-02-12    29934.0    895.0     9276.0   19763.0\n",
       "2020-02-19     5098.0    699.0    12959.0   -8560.0\n",
       "2020-02-26    12534.0    447.0    20029.0   -7942.0\n",
       "2020-03-04    25949.0   1106.0    16121.0    8722.0\n",
       "2020-03-11    80567.0   3688.0    16142.0   60737.0\n",
       "2020-03-18   226132.0  11068.0    27053.0  188011.0\n",
       "2020-03-25   446466.0  25462.0    68077.0  352927.0\n",
       "2020-04-01   542494.0  42437.0   119591.0  380466.0\n",
       "2020-04-08   571325.0  46081.0   169349.0  355895.0\n",
       "2020-04-15   568334.0  48126.0   201029.0  319179.0\n",
       "2020-04-22   554641.0  40852.0   220637.0  293152.0\n",
       "2020-04-29   563161.0  36684.0   281475.0  245002.0\n",
       "2020-05-06   592557.0  34497.0   286036.0  272024.0\n",
       "2020-05-13   636835.0  31286.0   340065.0  265484.0\n",
       "2020-05-20   696362.0  27465.0   442862.0  226035.0\n",
       "2020-05-27   804472.0  29591.0   507965.0  266916.0\n",
       "2020-06-03   851956.0  30739.0   574038.0  247179.0\n",
       "2020-06-10   931705.0  32180.0   573679.0  325846.0\n",
       "2020-06-17  1051874.0  33651.0   670896.0  347327.0\n",
       "2020-06-24  1212626.0  33143.0   719763.0  459720.0\n",
       "2020-07-01  1383337.0  32844.0  1092054.0  258439.0\n",
       "2020-07-08  1495833.0  34414.0   949384.0  512035.0\n",
       "2020-07-15  1618211.0  38089.0  1042089.0  538033.0\n",
       "2020-07-22  1533407.0  37479.0  1103101.0  392827.0"
      ]
     },
     "execution_count": 44,
     "metadata": {},
     "output_type": "execute_result"
    }
   ],
   "source": [
    "df_diff.resample('7D').sum()"
   ]
  },
  {
   "cell_type": "code",
   "execution_count": 46,
   "metadata": {
    "scrolled": true
   },
   "outputs": [
    {
     "data": {
      "text/html": [
       "<div>\n",
       "<style scoped>\n",
       "    .dataframe tbody tr th:only-of-type {\n",
       "        vertical-align: middle;\n",
       "    }\n",
       "\n",
       "    .dataframe tbody tr th {\n",
       "        vertical-align: top;\n",
       "    }\n",
       "\n",
       "    .dataframe thead th {\n",
       "        text-align: right;\n",
       "    }\n",
       "</style>\n",
       "<table border=\"1\" class=\"dataframe\">\n",
       "  <thead>\n",
       "    <tr style=\"text-align: right;\">\n",
       "      <th></th>\n",
       "      <th>Confirmed</th>\n",
       "      <th>Deaths</th>\n",
       "      <th>Recovered</th>\n",
       "      <th>Active</th>\n",
       "    </tr>\n",
       "    <tr>\n",
       "      <th>Date</th>\n",
       "      <th></th>\n",
       "      <th></th>\n",
       "      <th></th>\n",
       "      <th></th>\n",
       "    </tr>\n",
       "  </thead>\n",
       "  <tbody>\n",
       "    <tr>\n",
       "      <th>2020-01-31</th>\n",
       "      <td>9927.0</td>\n",
       "      <td>213.0</td>\n",
       "      <td>219.0</td>\n",
       "      <td>9495.0</td>\n",
       "    </tr>\n",
       "    <tr>\n",
       "      <th>2020-02-29</th>\n",
       "      <td>75379.0</td>\n",
       "      <td>2723.0</td>\n",
       "      <td>38095.0</td>\n",
       "      <td>34561.0</td>\n",
       "    </tr>\n",
       "    <tr>\n",
       "      <th>2020-03-31</th>\n",
       "      <td>786049.0</td>\n",
       "      <td>41542.0</td>\n",
       "      <td>135760.0</td>\n",
       "      <td>608747.0</td>\n",
       "    </tr>\n",
       "    <tr>\n",
       "      <th>2020-04-30</th>\n",
       "      <td>2397521.0</td>\n",
       "      <td>190226.0</td>\n",
       "      <td>815542.0</td>\n",
       "      <td>1391753.0</td>\n",
       "    </tr>\n",
       "    <tr>\n",
       "      <th>2020-05-31</th>\n",
       "      <td>2916654.0</td>\n",
       "      <td>138902.0</td>\n",
       "      <td>1595973.0</td>\n",
       "      <td>1181779.0</td>\n",
       "    </tr>\n",
       "    <tr>\n",
       "      <th>2020-06-30</th>\n",
       "      <td>4264167.0</td>\n",
       "      <td>137604.0</td>\n",
       "      <td>2695870.0</td>\n",
       "      <td>1430693.0</td>\n",
       "    </tr>\n",
       "    <tr>\n",
       "      <th>2020-07-31</th>\n",
       "      <td>6030788.0</td>\n",
       "      <td>142826.0</td>\n",
       "      <td>4186628.0</td>\n",
       "      <td>1701334.0</td>\n",
       "    </tr>\n",
       "  </tbody>\n",
       "</table>\n",
       "</div>"
      ],
      "text/plain": [
       "            Confirmed    Deaths  Recovered     Active\n",
       "Date                                                 \n",
       "2020-01-31     9927.0     213.0      219.0     9495.0\n",
       "2020-02-29    75379.0    2723.0    38095.0    34561.0\n",
       "2020-03-31   786049.0   41542.0   135760.0   608747.0\n",
       "2020-04-30  2397521.0  190226.0   815542.0  1391753.0\n",
       "2020-05-31  2916654.0  138902.0  1595973.0  1181779.0\n",
       "2020-06-30  4264167.0  137604.0  2695870.0  1430693.0\n",
       "2020-07-31  6030788.0  142826.0  4186628.0  1701334.0"
      ]
     },
     "execution_count": 46,
     "metadata": {},
     "output_type": "execute_result"
    }
   ],
   "source": [
    "df_diff.resample('M').sum()"
   ]
  },
  {
   "cell_type": "code",
   "execution_count": 47,
   "metadata": {},
   "outputs": [
    {
     "data": {
      "text/html": [
       "<div>\n",
       "<style scoped>\n",
       "    .dataframe tbody tr th:only-of-type {\n",
       "        vertical-align: middle;\n",
       "    }\n",
       "\n",
       "    .dataframe tbody tr th {\n",
       "        vertical-align: top;\n",
       "    }\n",
       "\n",
       "    .dataframe thead th {\n",
       "        text-align: right;\n",
       "    }\n",
       "</style>\n",
       "<table border=\"1\" class=\"dataframe\">\n",
       "  <thead>\n",
       "    <tr style=\"text-align: right;\">\n",
       "      <th></th>\n",
       "      <th>Confirmed</th>\n",
       "      <th>Deaths</th>\n",
       "      <th>Recovered</th>\n",
       "      <th>Active</th>\n",
       "    </tr>\n",
       "    <tr>\n",
       "      <th>Date</th>\n",
       "      <th></th>\n",
       "      <th></th>\n",
       "      <th></th>\n",
       "      <th></th>\n",
       "    </tr>\n",
       "  </thead>\n",
       "  <tbody>\n",
       "    <tr>\n",
       "      <th>2020-01-31</th>\n",
       "      <td>10</td>\n",
       "      <td>10</td>\n",
       "      <td>10</td>\n",
       "      <td>10</td>\n",
       "    </tr>\n",
       "    <tr>\n",
       "      <th>2020-02-29</th>\n",
       "      <td>29</td>\n",
       "      <td>29</td>\n",
       "      <td>29</td>\n",
       "      <td>29</td>\n",
       "    </tr>\n",
       "    <tr>\n",
       "      <th>2020-03-31</th>\n",
       "      <td>31</td>\n",
       "      <td>31</td>\n",
       "      <td>31</td>\n",
       "      <td>31</td>\n",
       "    </tr>\n",
       "    <tr>\n",
       "      <th>2020-04-30</th>\n",
       "      <td>30</td>\n",
       "      <td>30</td>\n",
       "      <td>30</td>\n",
       "      <td>30</td>\n",
       "    </tr>\n",
       "    <tr>\n",
       "      <th>2020-05-31</th>\n",
       "      <td>31</td>\n",
       "      <td>31</td>\n",
       "      <td>31</td>\n",
       "      <td>31</td>\n",
       "    </tr>\n",
       "    <tr>\n",
       "      <th>2020-06-30</th>\n",
       "      <td>30</td>\n",
       "      <td>30</td>\n",
       "      <td>30</td>\n",
       "      <td>30</td>\n",
       "    </tr>\n",
       "    <tr>\n",
       "      <th>2020-07-31</th>\n",
       "      <td>27</td>\n",
       "      <td>27</td>\n",
       "      <td>27</td>\n",
       "      <td>27</td>\n",
       "    </tr>\n",
       "  </tbody>\n",
       "</table>\n",
       "</div>"
      ],
      "text/plain": [
       "            Confirmed  Deaths  Recovered  Active\n",
       "Date                                            \n",
       "2020-01-31         10      10         10      10\n",
       "2020-02-29         29      29         29      29\n",
       "2020-03-31         31      31         31      31\n",
       "2020-04-30         30      30         30      30\n",
       "2020-05-31         31      31         31      31\n",
       "2020-06-30         30      30         30      30\n",
       "2020-07-31         27      27         27      27"
      ]
     },
     "execution_count": 47,
     "metadata": {},
     "output_type": "execute_result"
    }
   ],
   "source": [
    "df_diff.resample('M').count()"
   ]
  },
  {
   "cell_type": "code",
   "execution_count": 50,
   "metadata": {},
   "outputs": [
    {
     "data": {
      "text/html": [
       "<div>\n",
       "<style scoped>\n",
       "    .dataframe tbody tr th:only-of-type {\n",
       "        vertical-align: middle;\n",
       "    }\n",
       "\n",
       "    .dataframe tbody tr th {\n",
       "        vertical-align: top;\n",
       "    }\n",
       "\n",
       "    .dataframe thead th {\n",
       "        text-align: right;\n",
       "    }\n",
       "</style>\n",
       "<table border=\"1\" class=\"dataframe\">\n",
       "  <thead>\n",
       "    <tr style=\"text-align: right;\">\n",
       "      <th></th>\n",
       "      <th>Confirmed</th>\n",
       "      <th>Deaths</th>\n",
       "      <th>Recovered</th>\n",
       "      <th>Active</th>\n",
       "    </tr>\n",
       "    <tr>\n",
       "      <th>Date</th>\n",
       "      <th></th>\n",
       "      <th></th>\n",
       "      <th></th>\n",
       "      <th></th>\n",
       "    </tr>\n",
       "  </thead>\n",
       "  <tbody>\n",
       "    <tr>\n",
       "      <th>2020-01-22 00:00:00</th>\n",
       "      <td>555.0</td>\n",
       "      <td>17.0</td>\n",
       "      <td>28.0</td>\n",
       "      <td>510.0</td>\n",
       "    </tr>\n",
       "    <tr>\n",
       "      <th>2020-01-22 12:00:00</th>\n",
       "      <td>NaN</td>\n",
       "      <td>NaN</td>\n",
       "      <td>NaN</td>\n",
       "      <td>NaN</td>\n",
       "    </tr>\n",
       "    <tr>\n",
       "      <th>2020-01-23 00:00:00</th>\n",
       "      <td>99.0</td>\n",
       "      <td>1.0</td>\n",
       "      <td>2.0</td>\n",
       "      <td>96.0</td>\n",
       "    </tr>\n",
       "    <tr>\n",
       "      <th>2020-01-23 12:00:00</th>\n",
       "      <td>NaN</td>\n",
       "      <td>NaN</td>\n",
       "      <td>NaN</td>\n",
       "      <td>NaN</td>\n",
       "    </tr>\n",
       "    <tr>\n",
       "      <th>2020-01-24 00:00:00</th>\n",
       "      <td>287.0</td>\n",
       "      <td>8.0</td>\n",
       "      <td>6.0</td>\n",
       "      <td>273.0</td>\n",
       "    </tr>\n",
       "    <tr>\n",
       "      <th>...</th>\n",
       "      <td>...</td>\n",
       "      <td>...</td>\n",
       "      <td>...</td>\n",
       "      <td>...</td>\n",
       "    </tr>\n",
       "    <tr>\n",
       "      <th>2020-07-25 00:00:00</th>\n",
       "      <td>255545.0</td>\n",
       "      <td>4867.0</td>\n",
       "      <td>219038.0</td>\n",
       "      <td>31640.0</td>\n",
       "    </tr>\n",
       "    <tr>\n",
       "      <th>2020-07-25 12:00:00</th>\n",
       "      <td>NaN</td>\n",
       "      <td>NaN</td>\n",
       "      <td>NaN</td>\n",
       "      <td>NaN</td>\n",
       "    </tr>\n",
       "    <tr>\n",
       "      <th>2020-07-26 00:00:00</th>\n",
       "      <td>204606.0</td>\n",
       "      <td>4104.0</td>\n",
       "      <td>134721.0</td>\n",
       "      <td>65781.0</td>\n",
       "    </tr>\n",
       "    <tr>\n",
       "      <th>2020-07-26 12:00:00</th>\n",
       "      <td>NaN</td>\n",
       "      <td>NaN</td>\n",
       "      <td>NaN</td>\n",
       "      <td>NaN</td>\n",
       "    </tr>\n",
       "    <tr>\n",
       "      <th>2020-07-27 00:00:00</th>\n",
       "      <td>228689.0</td>\n",
       "      <td>5415.0</td>\n",
       "      <td>174623.0</td>\n",
       "      <td>48651.0</td>\n",
       "    </tr>\n",
       "  </tbody>\n",
       "</table>\n",
       "<p>375 rows × 4 columns</p>\n",
       "</div>"
      ],
      "text/plain": [
       "                     Confirmed  Deaths  Recovered   Active\n",
       "Date                                                      \n",
       "2020-01-22 00:00:00      555.0    17.0       28.0    510.0\n",
       "2020-01-22 12:00:00        NaN     NaN        NaN      NaN\n",
       "2020-01-23 00:00:00       99.0     1.0        2.0     96.0\n",
       "2020-01-23 12:00:00        NaN     NaN        NaN      NaN\n",
       "2020-01-24 00:00:00      287.0     8.0        6.0    273.0\n",
       "...                        ...     ...        ...      ...\n",
       "2020-07-25 00:00:00   255545.0  4867.0   219038.0  31640.0\n",
       "2020-07-25 12:00:00        NaN     NaN        NaN      NaN\n",
       "2020-07-26 00:00:00   204606.0  4104.0   134721.0  65781.0\n",
       "2020-07-26 12:00:00        NaN     NaN        NaN      NaN\n",
       "2020-07-27 00:00:00   228689.0  5415.0   174623.0  48651.0\n",
       "\n",
       "[375 rows x 4 columns]"
      ]
     },
     "execution_count": 50,
     "metadata": {},
     "output_type": "execute_result"
    }
   ],
   "source": [
    "df_diff.resample('12h').mean()"
   ]
  },
  {
   "cell_type": "code",
   "execution_count": 52,
   "metadata": {},
   "outputs": [],
   "source": [
    "df_cum = df_diff.resample('12h').sum(min_count=1)"
   ]
  },
  {
   "cell_type": "markdown",
   "metadata": {},
   "source": [
    "## Completar valores nulos"
   ]
  },
  {
   "cell_type": "code",
   "execution_count": 53,
   "metadata": {},
   "outputs": [
    {
     "data": {
      "text/html": [
       "<div>\n",
       "<style scoped>\n",
       "    .dataframe tbody tr th:only-of-type {\n",
       "        vertical-align: middle;\n",
       "    }\n",
       "\n",
       "    .dataframe tbody tr th {\n",
       "        vertical-align: top;\n",
       "    }\n",
       "\n",
       "    .dataframe thead th {\n",
       "        text-align: right;\n",
       "    }\n",
       "</style>\n",
       "<table border=\"1\" class=\"dataframe\">\n",
       "  <thead>\n",
       "    <tr style=\"text-align: right;\">\n",
       "      <th></th>\n",
       "      <th>Confirmed</th>\n",
       "      <th>Deaths</th>\n",
       "      <th>Recovered</th>\n",
       "      <th>Active</th>\n",
       "    </tr>\n",
       "    <tr>\n",
       "      <th>Date</th>\n",
       "      <th></th>\n",
       "      <th></th>\n",
       "      <th></th>\n",
       "      <th></th>\n",
       "    </tr>\n",
       "  </thead>\n",
       "  <tbody>\n",
       "    <tr>\n",
       "      <th>2020-01-22 00:00:00</th>\n",
       "      <td>555.0</td>\n",
       "      <td>17.0</td>\n",
       "      <td>28.0</td>\n",
       "      <td>510.0</td>\n",
       "    </tr>\n",
       "    <tr>\n",
       "      <th>2020-01-22 12:00:00</th>\n",
       "      <td>99.0</td>\n",
       "      <td>1.0</td>\n",
       "      <td>2.0</td>\n",
       "      <td>96.0</td>\n",
       "    </tr>\n",
       "    <tr>\n",
       "      <th>2020-01-23 00:00:00</th>\n",
       "      <td>99.0</td>\n",
       "      <td>1.0</td>\n",
       "      <td>2.0</td>\n",
       "      <td>96.0</td>\n",
       "    </tr>\n",
       "    <tr>\n",
       "      <th>2020-01-23 12:00:00</th>\n",
       "      <td>287.0</td>\n",
       "      <td>8.0</td>\n",
       "      <td>6.0</td>\n",
       "      <td>273.0</td>\n",
       "    </tr>\n",
       "    <tr>\n",
       "      <th>2020-01-24 00:00:00</th>\n",
       "      <td>287.0</td>\n",
       "      <td>8.0</td>\n",
       "      <td>6.0</td>\n",
       "      <td>273.0</td>\n",
       "    </tr>\n",
       "    <tr>\n",
       "      <th>...</th>\n",
       "      <td>...</td>\n",
       "      <td>...</td>\n",
       "      <td>...</td>\n",
       "      <td>...</td>\n",
       "    </tr>\n",
       "    <tr>\n",
       "      <th>2020-07-25 00:00:00</th>\n",
       "      <td>255545.0</td>\n",
       "      <td>4867.0</td>\n",
       "      <td>219038.0</td>\n",
       "      <td>31640.0</td>\n",
       "    </tr>\n",
       "    <tr>\n",
       "      <th>2020-07-25 12:00:00</th>\n",
       "      <td>204606.0</td>\n",
       "      <td>4104.0</td>\n",
       "      <td>134721.0</td>\n",
       "      <td>65781.0</td>\n",
       "    </tr>\n",
       "    <tr>\n",
       "      <th>2020-07-26 00:00:00</th>\n",
       "      <td>204606.0</td>\n",
       "      <td>4104.0</td>\n",
       "      <td>134721.0</td>\n",
       "      <td>65781.0</td>\n",
       "    </tr>\n",
       "    <tr>\n",
       "      <th>2020-07-26 12:00:00</th>\n",
       "      <td>228689.0</td>\n",
       "      <td>5415.0</td>\n",
       "      <td>174623.0</td>\n",
       "      <td>48651.0</td>\n",
       "    </tr>\n",
       "    <tr>\n",
       "      <th>2020-07-27 00:00:00</th>\n",
       "      <td>228689.0</td>\n",
       "      <td>5415.0</td>\n",
       "      <td>174623.0</td>\n",
       "      <td>48651.0</td>\n",
       "    </tr>\n",
       "  </tbody>\n",
       "</table>\n",
       "<p>375 rows × 4 columns</p>\n",
       "</div>"
      ],
      "text/plain": [
       "                     Confirmed  Deaths  Recovered   Active\n",
       "Date                                                      \n",
       "2020-01-22 00:00:00      555.0    17.0       28.0    510.0\n",
       "2020-01-22 12:00:00       99.0     1.0        2.0     96.0\n",
       "2020-01-23 00:00:00       99.0     1.0        2.0     96.0\n",
       "2020-01-23 12:00:00      287.0     8.0        6.0    273.0\n",
       "2020-01-24 00:00:00      287.0     8.0        6.0    273.0\n",
       "...                        ...     ...        ...      ...\n",
       "2020-07-25 00:00:00   255545.0  4867.0   219038.0  31640.0\n",
       "2020-07-25 12:00:00   204606.0  4104.0   134721.0  65781.0\n",
       "2020-07-26 00:00:00   204606.0  4104.0   134721.0  65781.0\n",
       "2020-07-26 12:00:00   228689.0  5415.0   174623.0  48651.0\n",
       "2020-07-27 00:00:00   228689.0  5415.0   174623.0  48651.0\n",
       "\n",
       "[375 rows x 4 columns]"
      ]
     },
     "execution_count": 53,
     "metadata": {},
     "output_type": "execute_result"
    }
   ],
   "source": [
    "df_cum.bfill() ## completar el valor siguiente en la celda donde habia valor\n",
    "## nulo"
   ]
  },
  {
   "cell_type": "code",
   "execution_count": 54,
   "metadata": {},
   "outputs": [
    {
     "data": {
      "text/html": [
       "<div>\n",
       "<style scoped>\n",
       "    .dataframe tbody tr th:only-of-type {\n",
       "        vertical-align: middle;\n",
       "    }\n",
       "\n",
       "    .dataframe tbody tr th {\n",
       "        vertical-align: top;\n",
       "    }\n",
       "\n",
       "    .dataframe thead th {\n",
       "        text-align: right;\n",
       "    }\n",
       "</style>\n",
       "<table border=\"1\" class=\"dataframe\">\n",
       "  <thead>\n",
       "    <tr style=\"text-align: right;\">\n",
       "      <th></th>\n",
       "      <th>Confirmed</th>\n",
       "      <th>Deaths</th>\n",
       "      <th>Recovered</th>\n",
       "      <th>Active</th>\n",
       "    </tr>\n",
       "    <tr>\n",
       "      <th>Date</th>\n",
       "      <th></th>\n",
       "      <th></th>\n",
       "      <th></th>\n",
       "      <th></th>\n",
       "    </tr>\n",
       "  </thead>\n",
       "  <tbody>\n",
       "    <tr>\n",
       "      <th>2020-01-22 00:00:00</th>\n",
       "      <td>555.0</td>\n",
       "      <td>17.0</td>\n",
       "      <td>28.0</td>\n",
       "      <td>510.0</td>\n",
       "    </tr>\n",
       "    <tr>\n",
       "      <th>2020-01-22 12:00:00</th>\n",
       "      <td>555.0</td>\n",
       "      <td>17.0</td>\n",
       "      <td>28.0</td>\n",
       "      <td>510.0</td>\n",
       "    </tr>\n",
       "    <tr>\n",
       "      <th>2020-01-23 00:00:00</th>\n",
       "      <td>99.0</td>\n",
       "      <td>1.0</td>\n",
       "      <td>2.0</td>\n",
       "      <td>96.0</td>\n",
       "    </tr>\n",
       "    <tr>\n",
       "      <th>2020-01-23 12:00:00</th>\n",
       "      <td>99.0</td>\n",
       "      <td>1.0</td>\n",
       "      <td>2.0</td>\n",
       "      <td>96.0</td>\n",
       "    </tr>\n",
       "    <tr>\n",
       "      <th>2020-01-24 00:00:00</th>\n",
       "      <td>287.0</td>\n",
       "      <td>8.0</td>\n",
       "      <td>6.0</td>\n",
       "      <td>273.0</td>\n",
       "    </tr>\n",
       "    <tr>\n",
       "      <th>...</th>\n",
       "      <td>...</td>\n",
       "      <td>...</td>\n",
       "      <td>...</td>\n",
       "      <td>...</td>\n",
       "    </tr>\n",
       "    <tr>\n",
       "      <th>2020-07-25 00:00:00</th>\n",
       "      <td>255545.0</td>\n",
       "      <td>4867.0</td>\n",
       "      <td>219038.0</td>\n",
       "      <td>31640.0</td>\n",
       "    </tr>\n",
       "    <tr>\n",
       "      <th>2020-07-25 12:00:00</th>\n",
       "      <td>255545.0</td>\n",
       "      <td>4867.0</td>\n",
       "      <td>219038.0</td>\n",
       "      <td>31640.0</td>\n",
       "    </tr>\n",
       "    <tr>\n",
       "      <th>2020-07-26 00:00:00</th>\n",
       "      <td>204606.0</td>\n",
       "      <td>4104.0</td>\n",
       "      <td>134721.0</td>\n",
       "      <td>65781.0</td>\n",
       "    </tr>\n",
       "    <tr>\n",
       "      <th>2020-07-26 12:00:00</th>\n",
       "      <td>204606.0</td>\n",
       "      <td>4104.0</td>\n",
       "      <td>134721.0</td>\n",
       "      <td>65781.0</td>\n",
       "    </tr>\n",
       "    <tr>\n",
       "      <th>2020-07-27 00:00:00</th>\n",
       "      <td>228689.0</td>\n",
       "      <td>5415.0</td>\n",
       "      <td>174623.0</td>\n",
       "      <td>48651.0</td>\n",
       "    </tr>\n",
       "  </tbody>\n",
       "</table>\n",
       "<p>375 rows × 4 columns</p>\n",
       "</div>"
      ],
      "text/plain": [
       "                     Confirmed  Deaths  Recovered   Active\n",
       "Date                                                      \n",
       "2020-01-22 00:00:00      555.0    17.0       28.0    510.0\n",
       "2020-01-22 12:00:00      555.0    17.0       28.0    510.0\n",
       "2020-01-23 00:00:00       99.0     1.0        2.0     96.0\n",
       "2020-01-23 12:00:00       99.0     1.0        2.0     96.0\n",
       "2020-01-24 00:00:00      287.0     8.0        6.0    273.0\n",
       "...                        ...     ...        ...      ...\n",
       "2020-07-25 00:00:00   255545.0  4867.0   219038.0  31640.0\n",
       "2020-07-25 12:00:00   255545.0  4867.0   219038.0  31640.0\n",
       "2020-07-26 00:00:00   204606.0  4104.0   134721.0  65781.0\n",
       "2020-07-26 12:00:00   204606.0  4104.0   134721.0  65781.0\n",
       "2020-07-27 00:00:00   228689.0  5415.0   174623.0  48651.0\n",
       "\n",
       "[375 rows x 4 columns]"
      ]
     },
     "execution_count": 54,
     "metadata": {},
     "output_type": "execute_result"
    }
   ],
   "source": [
    "df_cum.ffill() ## completar el valor previo en la celda donde habia valor\n",
    "## nulo"
   ]
  },
  {
   "cell_type": "code",
   "execution_count": 55,
   "metadata": {},
   "outputs": [
    {
     "data": {
      "text/html": [
       "<div>\n",
       "<style scoped>\n",
       "    .dataframe tbody tr th:only-of-type {\n",
       "        vertical-align: middle;\n",
       "    }\n",
       "\n",
       "    .dataframe tbody tr th {\n",
       "        vertical-align: top;\n",
       "    }\n",
       "\n",
       "    .dataframe thead th {\n",
       "        text-align: right;\n",
       "    }\n",
       "</style>\n",
       "<table border=\"1\" class=\"dataframe\">\n",
       "  <thead>\n",
       "    <tr style=\"text-align: right;\">\n",
       "      <th></th>\n",
       "      <th>Confirmed</th>\n",
       "      <th>Deaths</th>\n",
       "      <th>Recovered</th>\n",
       "      <th>Active</th>\n",
       "    </tr>\n",
       "    <tr>\n",
       "      <th>Date</th>\n",
       "      <th></th>\n",
       "      <th></th>\n",
       "      <th></th>\n",
       "      <th></th>\n",
       "    </tr>\n",
       "  </thead>\n",
       "  <tbody>\n",
       "    <tr>\n",
       "      <th>2020-01-22 00:00:00</th>\n",
       "      <td>555.0</td>\n",
       "      <td>17.0</td>\n",
       "      <td>28.0</td>\n",
       "      <td>510.0</td>\n",
       "    </tr>\n",
       "    <tr>\n",
       "      <th>2020-01-22 12:00:00</th>\n",
       "      <td>327.0</td>\n",
       "      <td>9.0</td>\n",
       "      <td>15.0</td>\n",
       "      <td>303.0</td>\n",
       "    </tr>\n",
       "    <tr>\n",
       "      <th>2020-01-23 00:00:00</th>\n",
       "      <td>99.0</td>\n",
       "      <td>1.0</td>\n",
       "      <td>2.0</td>\n",
       "      <td>96.0</td>\n",
       "    </tr>\n",
       "    <tr>\n",
       "      <th>2020-01-23 12:00:00</th>\n",
       "      <td>193.0</td>\n",
       "      <td>4.5</td>\n",
       "      <td>4.0</td>\n",
       "      <td>184.5</td>\n",
       "    </tr>\n",
       "    <tr>\n",
       "      <th>2020-01-24 00:00:00</th>\n",
       "      <td>287.0</td>\n",
       "      <td>8.0</td>\n",
       "      <td>6.0</td>\n",
       "      <td>273.0</td>\n",
       "    </tr>\n",
       "    <tr>\n",
       "      <th>...</th>\n",
       "      <td>...</td>\n",
       "      <td>...</td>\n",
       "      <td>...</td>\n",
       "      <td>...</td>\n",
       "    </tr>\n",
       "    <tr>\n",
       "      <th>2020-07-25 00:00:00</th>\n",
       "      <td>255545.0</td>\n",
       "      <td>4867.0</td>\n",
       "      <td>219038.0</td>\n",
       "      <td>31640.0</td>\n",
       "    </tr>\n",
       "    <tr>\n",
       "      <th>2020-07-25 12:00:00</th>\n",
       "      <td>230075.5</td>\n",
       "      <td>4485.5</td>\n",
       "      <td>176879.5</td>\n",
       "      <td>48710.5</td>\n",
       "    </tr>\n",
       "    <tr>\n",
       "      <th>2020-07-26 00:00:00</th>\n",
       "      <td>204606.0</td>\n",
       "      <td>4104.0</td>\n",
       "      <td>134721.0</td>\n",
       "      <td>65781.0</td>\n",
       "    </tr>\n",
       "    <tr>\n",
       "      <th>2020-07-26 12:00:00</th>\n",
       "      <td>216647.5</td>\n",
       "      <td>4759.5</td>\n",
       "      <td>154672.0</td>\n",
       "      <td>57216.0</td>\n",
       "    </tr>\n",
       "    <tr>\n",
       "      <th>2020-07-27 00:00:00</th>\n",
       "      <td>228689.0</td>\n",
       "      <td>5415.0</td>\n",
       "      <td>174623.0</td>\n",
       "      <td>48651.0</td>\n",
       "    </tr>\n",
       "  </tbody>\n",
       "</table>\n",
       "<p>375 rows × 4 columns</p>\n",
       "</div>"
      ],
      "text/plain": [
       "                     Confirmed  Deaths  Recovered   Active\n",
       "Date                                                      \n",
       "2020-01-22 00:00:00      555.0    17.0       28.0    510.0\n",
       "2020-01-22 12:00:00      327.0     9.0       15.0    303.0\n",
       "2020-01-23 00:00:00       99.0     1.0        2.0     96.0\n",
       "2020-01-23 12:00:00      193.0     4.5        4.0    184.5\n",
       "2020-01-24 00:00:00      287.0     8.0        6.0    273.0\n",
       "...                        ...     ...        ...      ...\n",
       "2020-07-25 00:00:00   255545.0  4867.0   219038.0  31640.0\n",
       "2020-07-25 12:00:00   230075.5  4485.5   176879.5  48710.5\n",
       "2020-07-26 00:00:00   204606.0  4104.0   134721.0  65781.0\n",
       "2020-07-26 12:00:00   216647.5  4759.5   154672.0  57216.0\n",
       "2020-07-27 00:00:00   228689.0  5415.0   174623.0  48651.0\n",
       "\n",
       "[375 rows x 4 columns]"
      ]
     },
     "execution_count": 55,
     "metadata": {},
     "output_type": "execute_result"
    }
   ],
   "source": [
    "df_cum = df_cum.interpolate()\n",
    "df_cum"
   ]
  },
  {
   "cell_type": "code",
   "execution_count": 56,
   "metadata": {},
   "outputs": [],
   "source": [
    "df_cum['rate'] = 1-  df_cum['Deaths']/df_cum['Confirmed']"
   ]
  },
  {
   "cell_type": "code",
   "execution_count": 59,
   "metadata": {},
   "outputs": [
    {
     "data": {
      "text/html": [
       "<div>\n",
       "<style scoped>\n",
       "    .dataframe tbody tr th:only-of-type {\n",
       "        vertical-align: middle;\n",
       "    }\n",
       "\n",
       "    .dataframe tbody tr th {\n",
       "        vertical-align: top;\n",
       "    }\n",
       "\n",
       "    .dataframe thead th {\n",
       "        text-align: right;\n",
       "    }\n",
       "</style>\n",
       "<table border=\"1\" class=\"dataframe\">\n",
       "  <thead>\n",
       "    <tr style=\"text-align: right;\">\n",
       "      <th></th>\n",
       "      <th>index</th>\n",
       "      <th>Date</th>\n",
       "      <th>Confirmed</th>\n",
       "      <th>Deaths</th>\n",
       "      <th>Recovered</th>\n",
       "      <th>Active</th>\n",
       "      <th>rate</th>\n",
       "    </tr>\n",
       "  </thead>\n",
       "  <tbody>\n",
       "    <tr>\n",
       "      <th>0</th>\n",
       "      <td>0</td>\n",
       "      <td>2020-01-22 00:00:00</td>\n",
       "      <td>555.0</td>\n",
       "      <td>17.0</td>\n",
       "      <td>28.0</td>\n",
       "      <td>510.0</td>\n",
       "      <td>0.969369</td>\n",
       "    </tr>\n",
       "    <tr>\n",
       "      <th>1</th>\n",
       "      <td>1</td>\n",
       "      <td>2020-01-22 12:00:00</td>\n",
       "      <td>327.0</td>\n",
       "      <td>9.0</td>\n",
       "      <td>15.0</td>\n",
       "      <td>303.0</td>\n",
       "      <td>0.972477</td>\n",
       "    </tr>\n",
       "    <tr>\n",
       "      <th>2</th>\n",
       "      <td>2</td>\n",
       "      <td>2020-01-23 00:00:00</td>\n",
       "      <td>99.0</td>\n",
       "      <td>1.0</td>\n",
       "      <td>2.0</td>\n",
       "      <td>96.0</td>\n",
       "      <td>0.989899</td>\n",
       "    </tr>\n",
       "    <tr>\n",
       "      <th>3</th>\n",
       "      <td>3</td>\n",
       "      <td>2020-01-23 12:00:00</td>\n",
       "      <td>193.0</td>\n",
       "      <td>4.5</td>\n",
       "      <td>4.0</td>\n",
       "      <td>184.5</td>\n",
       "      <td>0.976684</td>\n",
       "    </tr>\n",
       "    <tr>\n",
       "      <th>4</th>\n",
       "      <td>4</td>\n",
       "      <td>2020-01-24 00:00:00</td>\n",
       "      <td>287.0</td>\n",
       "      <td>8.0</td>\n",
       "      <td>6.0</td>\n",
       "      <td>273.0</td>\n",
       "      <td>0.972125</td>\n",
       "    </tr>\n",
       "    <tr>\n",
       "      <th>...</th>\n",
       "      <td>...</td>\n",
       "      <td>...</td>\n",
       "      <td>...</td>\n",
       "      <td>...</td>\n",
       "      <td>...</td>\n",
       "      <td>...</td>\n",
       "      <td>...</td>\n",
       "    </tr>\n",
       "    <tr>\n",
       "      <th>370</th>\n",
       "      <td>370</td>\n",
       "      <td>2020-07-25 00:00:00</td>\n",
       "      <td>255545.0</td>\n",
       "      <td>4867.0</td>\n",
       "      <td>219038.0</td>\n",
       "      <td>31640.0</td>\n",
       "      <td>0.980954</td>\n",
       "    </tr>\n",
       "    <tr>\n",
       "      <th>371</th>\n",
       "      <td>371</td>\n",
       "      <td>2020-07-25 12:00:00</td>\n",
       "      <td>230075.5</td>\n",
       "      <td>4485.5</td>\n",
       "      <td>176879.5</td>\n",
       "      <td>48710.5</td>\n",
       "      <td>0.980504</td>\n",
       "    </tr>\n",
       "    <tr>\n",
       "      <th>372</th>\n",
       "      <td>372</td>\n",
       "      <td>2020-07-26 00:00:00</td>\n",
       "      <td>204606.0</td>\n",
       "      <td>4104.0</td>\n",
       "      <td>134721.0</td>\n",
       "      <td>65781.0</td>\n",
       "      <td>0.979942</td>\n",
       "    </tr>\n",
       "    <tr>\n",
       "      <th>373</th>\n",
       "      <td>373</td>\n",
       "      <td>2020-07-26 12:00:00</td>\n",
       "      <td>216647.5</td>\n",
       "      <td>4759.5</td>\n",
       "      <td>154672.0</td>\n",
       "      <td>57216.0</td>\n",
       "      <td>0.978031</td>\n",
       "    </tr>\n",
       "    <tr>\n",
       "      <th>374</th>\n",
       "      <td>374</td>\n",
       "      <td>2020-07-27 00:00:00</td>\n",
       "      <td>228689.0</td>\n",
       "      <td>5415.0</td>\n",
       "      <td>174623.0</td>\n",
       "      <td>48651.0</td>\n",
       "      <td>0.976322</td>\n",
       "    </tr>\n",
       "  </tbody>\n",
       "</table>\n",
       "<p>375 rows × 7 columns</p>\n",
       "</div>"
      ],
      "text/plain": [
       "     index                Date  Confirmed  Deaths  Recovered   Active  \\\n",
       "0        0 2020-01-22 00:00:00      555.0    17.0       28.0    510.0   \n",
       "1        1 2020-01-22 12:00:00      327.0     9.0       15.0    303.0   \n",
       "2        2 2020-01-23 00:00:00       99.0     1.0        2.0     96.0   \n",
       "3        3 2020-01-23 12:00:00      193.0     4.5        4.0    184.5   \n",
       "4        4 2020-01-24 00:00:00      287.0     8.0        6.0    273.0   \n",
       "..     ...                 ...        ...     ...        ...      ...   \n",
       "370    370 2020-07-25 00:00:00   255545.0  4867.0   219038.0  31640.0   \n",
       "371    371 2020-07-25 12:00:00   230075.5  4485.5   176879.5  48710.5   \n",
       "372    372 2020-07-26 00:00:00   204606.0  4104.0   134721.0  65781.0   \n",
       "373    373 2020-07-26 12:00:00   216647.5  4759.5   154672.0  57216.0   \n",
       "374    374 2020-07-27 00:00:00   228689.0  5415.0   174623.0  48651.0   \n",
       "\n",
       "         rate  \n",
       "0    0.969369  \n",
       "1    0.972477  \n",
       "2    0.989899  \n",
       "3    0.976684  \n",
       "4    0.972125  \n",
       "..        ...  \n",
       "370  0.980954  \n",
       "371  0.980504  \n",
       "372  0.979942  \n",
       "373  0.978031  \n",
       "374  0.976322  \n",
       "\n",
       "[375 rows x 7 columns]"
      ]
     },
     "execution_count": 59,
     "metadata": {},
     "output_type": "execute_result"
    }
   ],
   "source": [
    "df_cum = df_cum.reset_index()\n",
    "df_cum"
   ]
  },
  {
   "cell_type": "code",
   "execution_count": 60,
   "metadata": {},
   "outputs": [
    {
     "data": {
      "text/html": [
       "<div>\n",
       "<style scoped>\n",
       "    .dataframe tbody tr th:only-of-type {\n",
       "        vertical-align: middle;\n",
       "    }\n",
       "\n",
       "    .dataframe tbody tr th {\n",
       "        vertical-align: top;\n",
       "    }\n",
       "\n",
       "    .dataframe thead th {\n",
       "        text-align: right;\n",
       "    }\n",
       "</style>\n",
       "<table border=\"1\" class=\"dataframe\">\n",
       "  <thead>\n",
       "    <tr style=\"text-align: right;\">\n",
       "      <th></th>\n",
       "      <th>rate</th>\n",
       "    </tr>\n",
       "    <tr>\n",
       "      <th>Date</th>\n",
       "      <th></th>\n",
       "    </tr>\n",
       "  </thead>\n",
       "  <tbody>\n",
       "    <tr>\n",
       "      <th>2020-01-31</th>\n",
       "      <td>0.977524</td>\n",
       "    </tr>\n",
       "    <tr>\n",
       "      <th>2020-02-29</th>\n",
       "      <td>0.938300</td>\n",
       "    </tr>\n",
       "    <tr>\n",
       "      <th>2020-03-31</th>\n",
       "      <td>0.952980</td>\n",
       "    </tr>\n",
       "    <tr>\n",
       "      <th>2020-04-30</th>\n",
       "      <td>0.920700</td>\n",
       "    </tr>\n",
       "    <tr>\n",
       "      <th>2020-05-31</th>\n",
       "      <td>0.951746</td>\n",
       "    </tr>\n",
       "    <tr>\n",
       "      <th>2020-06-30</th>\n",
       "      <td>0.967430</td>\n",
       "    </tr>\n",
       "    <tr>\n",
       "      <th>2020-07-31</th>\n",
       "      <td>0.976488</td>\n",
       "    </tr>\n",
       "  </tbody>\n",
       "</table>\n",
       "</div>"
      ],
      "text/plain": [
       "                rate\n",
       "Date                \n",
       "2020-01-31  0.977524\n",
       "2020-02-29  0.938300\n",
       "2020-03-31  0.952980\n",
       "2020-04-30  0.920700\n",
       "2020-05-31  0.951746\n",
       "2020-06-30  0.967430\n",
       "2020-07-31  0.976488"
      ]
     },
     "execution_count": 60,
     "metadata": {},
     "output_type": "execute_result"
    }
   ],
   "source": [
    "df_cum.groupby(pd.Grouper(key='Date',freq='M'))[['rate']].mean()"
   ]
  },
  {
   "cell_type": "code",
   "execution_count": 62,
   "metadata": {},
   "outputs": [],
   "source": [
    "sr = df_cum.groupby(pd.Grouper(key='Date',freq='1D'))['rate'].mean()"
   ]
  },
  {
   "cell_type": "code",
   "execution_count": 66,
   "metadata": {},
   "outputs": [
    {
     "data": {
      "text/plain": [
       "<AxesSubplot:xlabel='Date'>"
      ]
     },
     "execution_count": 66,
     "metadata": {},
     "output_type": "execute_result"
    },
    {
     "data": {
      "image/png": "[encoded data removed]",
      "text/plain": [
       "<Figure size 432x288 with 1 Axes>"
      ]
     },
     "metadata": {
      "needs_background": "light"
     },
     "output_type": "display_data"
    }
   ],
   "source": [
    "sr.plot()"
   ]
  },
  {
   "cell_type": "code",
   "execution_count": 70,
   "metadata": {},
   "outputs": [
    {
     "data": {
      "text/plain": [
       "<AxesSubplot:xlabel='Date'>"
      ]
     },
     "execution_count": 70,
     "metadata": {},
     "output_type": "execute_result"
    },
    {
     "data": {
      "image/png": "[encoded data removed]",
      "text/plain": [
       "<Figure size 432x288 with 1 Axes>"
      ]
     },
     "metadata": {
      "needs_background": "light"
     },
     "output_type": "display_data"
    }
   ],
   "source": [
    "sr.plot()\n",
    "sr.rolling(window=7).mean().plot()\n",
    "sr.rolling(window=14).mean().plot()"
   ]
  },
  {
   "cell_type": "code",
   "execution_count": 73,
   "metadata": {},
   "outputs": [
    {
     "data": {
      "text/plain": [
       "<AxesSubplot:xlabel='Date'>"
      ]
     },
     "execution_count": 73,
     "metadata": {},
     "output_type": "execute_result"
    },
    {
     "data": {
      "image/png": "[encoded data removed]",
      "text/plain": [
       "<Figure size 432x288 with 1 Axes>"
      ]
     },
     "metadata": {
      "needs_background": "light"
     },
     "output_type": "display_data"
    }
   ],
   "source": [
    "sr.rolling(window=14).apply(lambda x:np.std(x)).plot()"
   ]
  },
  {
   "cell_type": "code",
   "execution_count": 78,
   "metadata": {},
   "outputs": [
    {
     "data": {
      "text/plain": [
       "Country/Region\n",
       "US                       4290259\n",
       "Brazil                   2442375\n",
       "India                    1480073\n",
       "Russia                    816680\n",
       "South Africa              452529\n",
       "                          ...   \n",
       "Dominica                      18\n",
       "Saint Kitts and Nevis         17\n",
       "Greenland                     14\n",
       "Holy See                      12\n",
       "Western Sahara                10\n",
       "Name: Confirmed, Length: 187, dtype: int64"
      ]
     },
     "execution_count": 78,
     "metadata": {},
     "output_type": "execute_result"
    }
   ],
   "source": [
    "df.groupby('Country/Region')['Confirmed'].max().sort_values(ascending=False)"
   ]
  },
  {
   "cell_type": "code",
   "execution_count": 110,
   "metadata": {},
   "outputs": [
    {
     "data": {
      "text/plain": [
       "<AxesSubplot:title={'center':'COV19'}, xlabel='Country/Region,Date'>"
      ]
     },
     "execution_count": 110,
     "metadata": {},
     "output_type": "execute_result"
    },
    {
     "data": {
      "image/png": "[encoded data removed]",
      "text/plain": [
       "<Figure size 720x504 with 1 Axes>"
      ]
     },
     "metadata": {
      "needs_background": "light"
     },
     "output_type": "display_data"
    }
   ],
   "source": [
    "df_usa.plot(figsize= (10,7),title='COV19')"
   ]
  },
  {
   "cell_type": "code",
   "execution_count": 85,
   "metadata": {},
   "outputs": [],
   "source": [
    "import matplotlib.pyplot as plt"
   ]
  },
  {
   "cell_type": "code",
   "execution_count": 86,
   "metadata": {},
   "outputs": [
    {
     "data": {
      "image/png": "[encoded data removed]",
      "text/plain": [
       "<Figure size 720x504 with 1 Axes>"
      ]
     },
     "metadata": {
      "needs_background": "light"
     },
     "output_type": "display_data"
    }
   ],
   "source": [
    "df_usa.plot(figsize= (10,7),title='COV19')\n",
    "plt.xlabel('Date')\n",
    "plt.ylabel('People')\n",
    "plt.show()"
   ]
  },
  {
   "cell_type": "code",
   "execution_count": 112,
   "metadata": {},
   "outputs": [
    {
     "data": {
      "image/png": "[encoded data removed]",
      "text/plain": [
       "<Figure size 720x504 with 1 Axes>"
      ]
     },
     "metadata": {
      "needs_background": "light"
     },
     "output_type": "display_data"
    }
   ],
   "source": [
    "ax = df_usa.plot(figsize= (10,7),title='COV19',\n",
    "           legend = False,\n",
    "           style=['r-','g--','b:*'])\n",
    "ax.legend(['1','dos','3'])\n",
    "plt.xlabel('Date')\n",
    "plt.ylabel('People')\n",
    "plt.show()"
   ]
  },
  {
   "cell_type": "code",
   "execution_count": 88,
   "metadata": {},
   "outputs": [
    {
     "data": {
      "text/html": [
       "<div>\n",
       "<style scoped>\n",
       "    .dataframe tbody tr th:only-of-type {\n",
       "        vertical-align: middle;\n",
       "    }\n",
       "\n",
       "    .dataframe tbody tr th {\n",
       "        vertical-align: top;\n",
       "    }\n",
       "\n",
       "    .dataframe thead th {\n",
       "        text-align: right;\n",
       "    }\n",
       "</style>\n",
       "<table border=\"1\" class=\"dataframe\">\n",
       "  <thead>\n",
       "    <tr style=\"text-align: right;\">\n",
       "      <th></th>\n",
       "      <th>Lat</th>\n",
       "      <th>Long</th>\n",
       "      <th>Confirmed</th>\n",
       "      <th>Deaths</th>\n",
       "      <th>Recovered</th>\n",
       "      <th>Active</th>\n",
       "    </tr>\n",
       "    <tr>\n",
       "      <th>Date</th>\n",
       "      <th></th>\n",
       "      <th></th>\n",
       "      <th></th>\n",
       "      <th></th>\n",
       "      <th></th>\n",
       "      <th></th>\n",
       "    </tr>\n",
       "  </thead>\n",
       "  <tbody>\n",
       "    <tr>\n",
       "      <th>2020-01-31</th>\n",
       "      <td>40.0</td>\n",
       "      <td>-100.0</td>\n",
       "      <td>7</td>\n",
       "      <td>0</td>\n",
       "      <td>0</td>\n",
       "      <td>7</td>\n",
       "    </tr>\n",
       "    <tr>\n",
       "      <th>2020-02-29</th>\n",
       "      <td>40.0</td>\n",
       "      <td>-100.0</td>\n",
       "      <td>24</td>\n",
       "      <td>1</td>\n",
       "      <td>7</td>\n",
       "      <td>16</td>\n",
       "    </tr>\n",
       "    <tr>\n",
       "      <th>2020-03-31</th>\n",
       "      <td>40.0</td>\n",
       "      <td>-100.0</td>\n",
       "      <td>188724</td>\n",
       "      <td>5605</td>\n",
       "      <td>7024</td>\n",
       "      <td>176095</td>\n",
       "    </tr>\n",
       "    <tr>\n",
       "      <th>2020-04-30</th>\n",
       "      <td>40.0</td>\n",
       "      <td>-100.0</td>\n",
       "      <td>1072667</td>\n",
       "      <td>64256</td>\n",
       "      <td>153947</td>\n",
       "      <td>860358</td>\n",
       "    </tr>\n",
       "    <tr>\n",
       "      <th>2020-05-31</th>\n",
       "      <td>40.0</td>\n",
       "      <td>-100.0</td>\n",
       "      <td>1799124</td>\n",
       "      <td>105364</td>\n",
       "      <td>444758</td>\n",
       "      <td>1257975</td>\n",
       "    </tr>\n",
       "    <tr>\n",
       "      <th>2020-06-30</th>\n",
       "      <td>40.0</td>\n",
       "      <td>-100.0</td>\n",
       "      <td>2636414</td>\n",
       "      <td>127432</td>\n",
       "      <td>720631</td>\n",
       "      <td>1788351</td>\n",
       "    </tr>\n",
       "    <tr>\n",
       "      <th>2020-07-31</th>\n",
       "      <td>40.0</td>\n",
       "      <td>-100.0</td>\n",
       "      <td>4290259</td>\n",
       "      <td>148011</td>\n",
       "      <td>1325804</td>\n",
       "      <td>2816444</td>\n",
       "    </tr>\n",
       "  </tbody>\n",
       "</table>\n",
       "</div>"
      ],
      "text/plain": [
       "             Lat   Long  Confirmed  Deaths  Recovered   Active\n",
       "Date                                                          \n",
       "2020-01-31  40.0 -100.0          7       0          0        7\n",
       "2020-02-29  40.0 -100.0         24       1          7       16\n",
       "2020-03-31  40.0 -100.0     188724    5605       7024   176095\n",
       "2020-04-30  40.0 -100.0    1072667   64256     153947   860358\n",
       "2020-05-31  40.0 -100.0    1799124  105364     444758  1257975\n",
       "2020-06-30  40.0 -100.0    2636414  127432     720631  1788351\n",
       "2020-07-31  40.0 -100.0    4290259  148011    1325804  2816444"
      ]
     },
     "execution_count": 88,
     "metadata": {},
     "output_type": "execute_result"
    }
   ],
   "source": [
    "df_monthly = df_usa.resample('M').max()\n",
    "df_monthly"
   ]
  },
  {
   "cell_type": "code",
   "execution_count": 91,
   "metadata": {},
   "outputs": [
    {
     "data": {
      "text/plain": [
       "<AxesSubplot:xlabel='Date'>"
      ]
     },
     "execution_count": 91,
     "metadata": {},
     "output_type": "execute_result"
    },
    {
     "data": {
      "image/png": "[encoded data removed]",
      "text/plain": [
       "<Figure size 720x504 with 1 Axes>"
      ]
     },
     "metadata": {
      "needs_background": "light"
     },
     "output_type": "display_data"
    }
   ],
   "source": [
    "df_monthly.plot(figsize = (10,7),kind='bar',stacked =True)"
   ]
  },
  {
   "cell_type": "code",
   "execution_count": 94,
   "metadata": {},
   "outputs": [],
   "source": [
    "df_monthly['Traitment'] = df_monthly['Confirmed'] -  df_monthly['Deaths'] - df_monthly['Recovered']"
   ]
  },
  {
   "cell_type": "code",
   "execution_count": 95,
   "metadata": {},
   "outputs": [
    {
     "data": {
      "text/html": [
       "<div>\n",
       "<style scoped>\n",
       "    .dataframe tbody tr th:only-of-type {\n",
       "        vertical-align: middle;\n",
       "    }\n",
       "\n",
       "    .dataframe tbody tr th {\n",
       "        vertical-align: top;\n",
       "    }\n",
       "\n",
       "    .dataframe thead th {\n",
       "        text-align: right;\n",
       "    }\n",
       "</style>\n",
       "<table border=\"1\" class=\"dataframe\">\n",
       "  <thead>\n",
       "    <tr style=\"text-align: right;\">\n",
       "      <th></th>\n",
       "      <th>Lat</th>\n",
       "      <th>Long</th>\n",
       "      <th>Confirmed</th>\n",
       "      <th>Deaths</th>\n",
       "      <th>Recovered</th>\n",
       "      <th>Active</th>\n",
       "      <th>Traitment</th>\n",
       "    </tr>\n",
       "    <tr>\n",
       "      <th>Date</th>\n",
       "      <th></th>\n",
       "      <th></th>\n",
       "      <th></th>\n",
       "      <th></th>\n",
       "      <th></th>\n",
       "      <th></th>\n",
       "      <th></th>\n",
       "    </tr>\n",
       "  </thead>\n",
       "  <tbody>\n",
       "    <tr>\n",
       "      <th>2020-01-31</th>\n",
       "      <td>40.0</td>\n",
       "      <td>-100.0</td>\n",
       "      <td>7</td>\n",
       "      <td>0</td>\n",
       "      <td>0</td>\n",
       "      <td>7</td>\n",
       "      <td>7</td>\n",
       "    </tr>\n",
       "    <tr>\n",
       "      <th>2020-02-29</th>\n",
       "      <td>40.0</td>\n",
       "      <td>-100.0</td>\n",
       "      <td>24</td>\n",
       "      <td>1</td>\n",
       "      <td>7</td>\n",
       "      <td>16</td>\n",
       "      <td>16</td>\n",
       "    </tr>\n",
       "    <tr>\n",
       "      <th>2020-03-31</th>\n",
       "      <td>40.0</td>\n",
       "      <td>-100.0</td>\n",
       "      <td>188724</td>\n",
       "      <td>5605</td>\n",
       "      <td>7024</td>\n",
       "      <td>176095</td>\n",
       "      <td>176095</td>\n",
       "    </tr>\n",
       "    <tr>\n",
       "      <th>2020-04-30</th>\n",
       "      <td>40.0</td>\n",
       "      <td>-100.0</td>\n",
       "      <td>1072667</td>\n",
       "      <td>64256</td>\n",
       "      <td>153947</td>\n",
       "      <td>860358</td>\n",
       "      <td>854464</td>\n",
       "    </tr>\n",
       "    <tr>\n",
       "      <th>2020-05-31</th>\n",
       "      <td>40.0</td>\n",
       "      <td>-100.0</td>\n",
       "      <td>1799124</td>\n",
       "      <td>105364</td>\n",
       "      <td>444758</td>\n",
       "      <td>1257975</td>\n",
       "      <td>1249002</td>\n",
       "    </tr>\n",
       "    <tr>\n",
       "      <th>2020-06-30</th>\n",
       "      <td>40.0</td>\n",
       "      <td>-100.0</td>\n",
       "      <td>2636414</td>\n",
       "      <td>127432</td>\n",
       "      <td>720631</td>\n",
       "      <td>1788351</td>\n",
       "      <td>1788351</td>\n",
       "    </tr>\n",
       "    <tr>\n",
       "      <th>2020-07-31</th>\n",
       "      <td>40.0</td>\n",
       "      <td>-100.0</td>\n",
       "      <td>4290259</td>\n",
       "      <td>148011</td>\n",
       "      <td>1325804</td>\n",
       "      <td>2816444</td>\n",
       "      <td>2816444</td>\n",
       "    </tr>\n",
       "  </tbody>\n",
       "</table>\n",
       "</div>"
      ],
      "text/plain": [
       "             Lat   Long  Confirmed  Deaths  Recovered   Active  Traitment\n",
       "Date                                                                     \n",
       "2020-01-31  40.0 -100.0          7       0          0        7          7\n",
       "2020-02-29  40.0 -100.0         24       1          7       16         16\n",
       "2020-03-31  40.0 -100.0     188724    5605       7024   176095     176095\n",
       "2020-04-30  40.0 -100.0    1072667   64256     153947   860358     854464\n",
       "2020-05-31  40.0 -100.0    1799124  105364     444758  1257975    1249002\n",
       "2020-06-30  40.0 -100.0    2636414  127432     720631  1788351    1788351\n",
       "2020-07-31  40.0 -100.0    4290259  148011    1325804  2816444    2816444"
      ]
     },
     "execution_count": 95,
     "metadata": {},
     "output_type": "execute_result"
    }
   ],
   "source": [
    "df_monthly"
   ]
  },
  {
   "cell_type": "code",
   "execution_count": 97,
   "metadata": {},
   "outputs": [
    {
     "data": {
      "text/plain": [
       "array([<AxesSubplot:ylabel='2020-01-31 00:00:00'>,\n",
       "       <AxesSubplot:ylabel='2020-02-29 00:00:00'>,\n",
       "       <AxesSubplot:ylabel='2020-03-31 00:00:00'>,\n",
       "       <AxesSubplot:ylabel='2020-04-30 00:00:00'>,\n",
       "       <AxesSubplot:ylabel='2020-05-31 00:00:00'>,\n",
       "       <AxesSubplot:ylabel='2020-06-30 00:00:00'>,\n",
       "       <AxesSubplot:ylabel='2020-07-31 00:00:00'>], dtype=object)"
      ]
     },
     "execution_count": 97,
     "metadata": {},
     "output_type": "execute_result"
    },
    {
     "data": {
      "image/png": "[encoded data removed]",
      "text/plain": [
       "<Figure size 720x504 with 7 Axes>"
      ]
     },
     "metadata": {},
     "output_type": "display_data"
    }
   ],
   "source": [
    "df_monthly[['Deaths','Recovered','Traitment']].T.plot(figsize = (10,7),kind='pie',subplots=True)"
   ]
  },
  {
   "cell_type": "code",
   "execution_count": 99,
   "metadata": {},
   "outputs": [
    {
     "name": "stderr",
     "output_type": "stream",
     "text": [
      "<ipython-input-99-41d865fb55a5>:1: SettingWithCopyWarning: \n",
      "A value is trying to be set on a copy of a slice from a DataFrame.\n",
      "Try using .loc[row_indexer,col_indexer] = value instead\n",
      "\n",
      "See the caveats in the documentation: https://pandas.pydata.org/pandas-docs/stable/user_guide/indexing.html#returning-a-view-versus-a-copy\n",
      "  df_usa['rate'] = 1-  df_usa['Deaths']/df_usa['Confirmed']\n"
     ]
    },
    {
     "data": {
      "text/plain": [
       "<AxesSubplot:>"
      ]
     },
     "execution_count": 99,
     "metadata": {},
     "output_type": "execute_result"
    },
    {
     "data": {
      "image/png": "[encoded data removed]",
      "text/plain": [
       "<Figure size 720x504 with 1 Axes>"
      ]
     },
     "metadata": {
      "needs_background": "light"
     },
     "output_type": "display_data"
    }
   ],
   "source": [
    "df_usa['rate'] = 1-  df_usa['Deaths']/df_usa['Confirmed']\n",
    "df_usa['rate'].hist(figsize = (10,7),bins = 10)"
   ]
  },
  {
   "cell_type": "code",
   "execution_count": 103,
   "metadata": {},
   "outputs": [
    {
     "data": {
      "text/plain": [
       "<AxesSubplot:ylabel='Density'>"
      ]
     },
     "execution_count": 103,
     "metadata": {},
     "output_type": "execute_result"
    },
    {
     "data": {
      "image/png": "[encoded data removed]",
      "text/plain": [
       "<Figure size 720x504 with 1 Axes>"
      ]
     },
     "metadata": {
      "needs_background": "light"
     },
     "output_type": "display_data"
    }
   ],
   "source": [
    "df_usa['rate'].plot(kind='kde', figsize = (10,7))"
   ]
  },
  {
   "cell_type": "code",
   "execution_count": 221,
   "metadata": {},
   "outputs": [
    {
     "data": {
      "text/plain": [
       "<pandas.core.groupby.generic.DataFrameGroupBy object at 0x000001EC6A017E50>"
      ]
     },
     "execution_count": 221,
     "metadata": {},
     "output_type": "execute_result"
    }
   ],
   "source": [
    "df_prueba = df[['Country/Region','Date','Deaths']].groupby(\"Country/Region\")\n",
    "df_prueba"
   ]
  },
  {
   "cell_type": "code",
   "execution_count": 184,
   "metadata": {},
   "outputs": [],
   "source": [
    "pd.options.display.float_format = '{:,.2f}'.format"
   ]
  },
  {
   "cell_type": "code",
   "execution_count": 210,
   "metadata": {
    "scrolled": true
   },
   "outputs": [
    {
     "data": {
      "text/plain": [
       "array([<AxesSubplot:ylabel='Deaths'>], dtype=object)"
      ]
     },
     "execution_count": 210,
     "metadata": {},
     "output_type": "execute_result"
    },
    {
     "data": {
      "image/png": "[encoded data removed]",
      "text/plain": [
       "<Figure size 432x288 with 1 Axes>"
      ]
     },
     "metadata": {},
     "output_type": "display_data"
    }
   ],
   "source": [
    "df_prueba.groupby('Country/Region')[['Deaths']].agg('sum').loc[['US','Colombia','Brazil'],:].plot(kind='pie',title='Group-By Country',subplots=True)"
   ]
  },
  {
   "cell_type": "markdown",
   "metadata": {},
   "source": [
    "## Graficar comparando dos paises"
   ]
  },
  {
   "cell_type": "code",
   "execution_count": 245,
   "metadata": {},
   "outputs": [],
   "source": [
    "df_time1 = df.groupby(['Country/Region',pd.Grouper(key = 'Date',freq = '15D')])[['Deaths']].sum()"
   ]
  },
  {
   "cell_type": "code",
   "execution_count": 246,
   "metadata": {},
   "outputs": [],
   "source": [
    "df_usa = df_time1.loc['US',:]\n",
    "df_col = df_time1.loc['Colombia',:]\n",
    "df_bra = df_time1.loc['Brazil',:]"
   ]
  },
  {
   "cell_type": "code",
   "execution_count": 247,
   "metadata": {},
   "outputs": [
    {
     "data": {
      "image/png": "[encoded data removed]",
      "text/plain": [
       "<Figure size 432x288 with 1 Axes>"
      ]
     },
     "metadata": {
      "needs_background": "light"
     },
     "output_type": "display_data"
    }
   ],
   "source": [
    "import matplotlib.pyplot as plt\n",
    "def plotter():\n",
    "    plt.xlabel('Mes')\n",
    "    plt.ylabel('Cantidad')\n",
    "    plt.title('Cantidad de Muertes')\n",
    "    plt.plot(df_usa, label='Usa')\n",
    "    plt.plot(df_col, label='Colombia')\n",
    "    plt.plot(df_bra,label='Brazil')\n",
    "    plt.legend()\n",
    "    plt.show()\n",
    "    \n",
    "plotter()"
   ]
  },
  {
   "cell_type": "code",
   "execution_count": null,
   "metadata": {},
   "outputs": [],
   "source": []
  }
 ],
 "metadata": {
  "kernelspec": {
   "display_name": "Python 3",
   "language": "python",
   "name": "python3"
  },
  "language_info": {
   "codemirror_mode": {
    "name": "ipython",
    "version": 3
   },
   "file_extension": ".py",
   "mimetype": "text/x-python",
   "name": "python",
   "nbconvert_exporter": "python",
   "pygments_lexer": "ipython3",
   "version": "3.8.5"
  }
 },
 "nbformat": 4,
 "nbformat_minor": 4
}
