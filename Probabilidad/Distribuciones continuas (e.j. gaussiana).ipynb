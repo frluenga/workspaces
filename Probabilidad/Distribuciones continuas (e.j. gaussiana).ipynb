{
 "cells": [
  {
   "cell_type": "markdown",
   "metadata": {},
   "source": [
    "Recordemos que la distribución de probabilidad normal o gaussiana está dada por:\n",
    "$$P(X) = \\frac{1}{\\sigma \\sqrt{2 \\pi}} \\exp{\\left[-\\frac{1}{2}\\left(\\frac{X-\\mu}{\\sigma} \\right)^2\n",
    "\\right]}$$\n",
    "donde:\n",
    "$\\mu$: media de la distribución\n",
    "$\\sigma$: desviación estandar de la distribución\n",
    "Ejemplo : considerando una variable aleatoria que sigue una distribución normal con media\n",
    "$\\mu=4$ y desviación estándar $\\sigma=0.3$, la probabilidad de que dicha variable tome el\n",
    "valor de $0.2$ está dada por:\n",
    "$$P(0.2) = \\frac{1}{0.3 \\sqrt{2 \\pi}} \\exp{\\left[-\\frac{1}{2}\\left(\\frac{0.2-4}{0.3} \\right)^2\n",
    "\\right]}$$\n",
    "Lo cual en Python se traduce en:\n"
   ]
  },
  {
   "cell_type": "code",
   "execution_count": 6,
   "metadata": {},
   "outputs": [
    {
     "data": {
      "text/plain": [
       "0.15449347134395172"
      ]
     },
     "execution_count": 6,
     "metadata": {},
     "output_type": "execute_result"
    }
   ],
   "source": [
    "from scipy.stats import norm\n",
    "mu = 0.5\n",
    "sigma = 0.1\n",
    "X = 0.245\n",
    "norm(mu, sigma).pdf(X)"
   ]
  },
  {
   "cell_type": "markdown",
   "metadata": {},
   "source": [
    "Así también, la distribucion de probabilidad acumulada correspondiente está dada por:\n",
    "$$C(X) = \\int_{x<=X} P(x)dx = \\int_{- \\infty}^xP(X)dX $$\n",
    "teniendo en cuenta que $Dom(X) = (-\\infty, \\infty)$.\n",
    "Ejemplo : considerando una variable aleatoria que sigue una distribucion normal con media\n",
    "$\\mu=4$ y desviación estándar $\\sigma=0.3$, la probabilidad de que dicha variable tome el\n",
    "valor de $0.2$ o menos está dada por:\n",
    "$$C(0.2) = \\int_{x<=0.2} P(x)dx = \\int_{- \\infty}^{0.2} \\left\\{\\frac{1}{0.3 \\sqrt{2 \\pi}} \\exp{\\left[-\n",
    "\\frac{1}{2}\\left(\\frac{X-4}{0.3} \\right)^2 \\right]} \\right\\} dX $$\n",
    "La cual se calcula en Python como:"
   ]
  },
  {
   "cell_type": "code",
   "execution_count": 7,
   "metadata": {
    "scrolled": true
   },
   "outputs": [
    {
     "data": {
      "text/plain": [
       "0.005386145954066687"
      ]
     },
     "execution_count": 7,
     "metadata": {},
     "output_type": "execute_result"
    }
   ],
   "source": [
    "norm(mu, sigma).cdf(X)"
   ]
  },
  {
   "cell_type": "code",
   "execution_count": 27,
   "metadata": {},
   "outputs": [],
   "source": [
    "import numpy as np\n",
    "from numpy.random import binomial\n",
    "from matplotlib import pyplot \n",
    "import matplotlib.pyplot as plt\n",
    "from numpy.random import normal\n",
    "from scipy.stats import norm\n",
    "import pandas as pd"
   ]
  },
  {
   "cell_type": "code",
   "execution_count": 21,
   "metadata": {
    "scrolled": true
   },
   "outputs": [
    {
     "data": {
      "text/plain": [
       "<BarContainer object of 41 artists>"
      ]
     },
     "execution_count": 21,
     "metadata": {},
     "output_type": "execute_result"
    },
    {
     "data": {
      "image/png": "[encoded data removed]",
      "text/plain": [
       "<Figure size 432x288 with 1 Axes>"
      ]
     },
     "metadata": {
      "needs_background": "light"
     },
     "output_type": "display_data"
    }
   ],
   "source": [
    "def generate_binomial_trials(trials=1000, coin_toss=100):\n",
    "    '''\n",
    "    el resultado de esta funcion es generar un conjuntos\n",
    "    de experimentos binomiales (trials) y de cada uno obtener\n",
    "    las cantidades de exitos en cada secuencia (e.j. lanzar monedas).\n",
    "    * trial: es una secuencia de <coin_toss> lanzamientos de moneda\n",
    "    * coin_toss: es el numero de monedas lanzadas en cada trial\n",
    "    '''\n",
    "    arr = []\n",
    "    for _ in range(trials):\n",
    "        arr.append(binomial(coin_toss, 0.5))\n",
    "    values, dist = np.unique(arr, return_counts=True)\n",
    "    return values, dist, arr\n",
    "values, dist, arr = generate_binomial_trials(100000)\n",
    "plt.bar(values, dist)"
   ]
  },
  {
   "cell_type": "markdown",
   "metadata": {},
   "source": [
    "# Estimación Parametrica"
   ]
  },
  {
   "cell_type": "code",
   "execution_count": 40,
   "metadata": {},
   "outputs": [
    {
     "data": {
      "text/plain": [
       "[<matplotlib.lines.Line2D at 0x218aafdf850>]"
      ]
     },
     "execution_count": 40,
     "metadata": {},
     "output_type": "execute_result"
    },
    {
     "data": {
      "image/png": "[encoded data removed]",
      "text/plain": [
       "<Figure size 432x288 with 1 Axes>"
      ]
     },
     "metadata": {
      "needs_background": "light"
     },
     "output_type": "display_data"
    }
   ],
   "source": [
    "data = pd.Series(arr)\n",
    "mu = data.mean()\n",
    "sd = data.std()\n",
    "distr = norm(mu,sd)\n",
    "values = np.arange(35,65,1)\n",
    "probabilities = [distr.pdf(value) for value in values]\n",
    "\n",
    "pyplot.hist(data, bins=60, density=True)\n",
    "pyplot.plot(values, probabilities)"
   ]
  }
 ],
 "metadata": {
  "kernelspec": {
   "display_name": "Python 3",
   "language": "python",
   "name": "python3"
  },
  "language_info": {
   "codemirror_mode": {
    "name": "ipython",
    "version": 3
   },
   "file_extension": ".py",
   "mimetype": "text/x-python",
   "name": "python",
   "nbconvert_exporter": "python",
   "pygments_lexer": "ipython3",
   "version": "3.8.5"
  }
 },
 "nbformat": 4,
 "nbformat_minor": 4
}
