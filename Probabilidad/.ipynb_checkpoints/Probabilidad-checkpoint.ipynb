{
 "cells": [
  {
   "cell_type": "markdown",
   "id": "9c4ad164",
   "metadata": {},
   "source": [
    "# Probabilidad\n",
    "\n",
    "## Tipos de Probabilidad\n",
    "\n",
    "Explicación de los tipos de probabilidad con ejemplos, en este caso con el lanzamiento de dos datos.\n",
    "\n",
    "![](./dados.PNG), considerar el espacio muestral.\n",
    "\n",
    "- **Conjunta:** ¿Cual es la probabilidad de que ambos dados caigan en un numero Par?, revisando a detalle el caso, se identifica que la probabilidad conjunta es la unión de dos sucesos, o la suma de probabilidad de dos sucesos que ocurren en conjunto pero separados, que no son dependientes entre si.\n",
    "\n",
    "- **Marginal:** ¿Cual es la probabilidad de que un dado caiga en par? simplemente se toma el evento completo, o la combinación completa de sucesos en el espacio muestral divido en todo el espacio muestral\n",
    "\n",
    "- **Condicional:** ¿Cual es la probabilidad de que el dado A caiga en Par dado que B cayó en Par?, estos sucesos restringen el espacio muestral, por tanto la condición dada disminuye la cantidad de posibilidades totales\n",
    "\n",
    "\n",
    "Algo interesante resulta de todo esto y es que la probabilidad condicional de dos eventos multiplicada por la probabilidad marginal del evento dado da como resultado la probabilidad conjunta. graficamente se representaría así.\n",
    "\n",
    "\n",
    "$$\n",
    "P(B=Par) = 18/36\n",
    "$$\n",
    "$$\n",
    "P(A = Par,B = Par) = 1/4\n",
    "$$\n",
    "$$\n",
    "P(A = Par | B = Par) = 9/18\n",
    "$$\n",
    "\n",
    "Es lo mismo que reescribir, conocido tambien como la **regla del producto**\n",
    "$$\n",
    "P(A,B) = P(A|B) P(B)\n",
    "$$\n",
    "\n",
    "\n",
    "Las probabilidades **Excluyentes** no indican independencia. Excluyentes indican que entre dos sucesos no hay intersección por tanto, si un evento se presenta el otro tendra una probabilidad nula.\n",
    "\n"
   ]
  },
  {
   "cell_type": "markdown",
   "id": "1f6f7d1d",
   "metadata": {},
   "source": [
    "### Espacio muestral\n",
    "\n",
    "El espacio muestral no siempre es intuitivo sobre todo cuando debes tomar una decisión ante eventos aleatorios que modifican el espacio muestral, en el juego de las puertas:\n",
    "\n",
    "- El presentador pone a escoger a un participante abrir una puerta y luego el abre una puerta para que el participante decida si se queda con su elección o cambia. \n",
    "\n",
    "- Intuitivamente pensamos que si el espacio muestral se redujo a dos, la probabilidad de ganar es del 50%, pero no\n",
    "\n",
    "- Es importante considerar todos los eventos que sucederían en caso de cambiar o no su elección teniendo en cuenta el espacio muestral total para poder determinar cual es la probabilidad."
   ]
  },
  {
   "cell_type": "markdown",
   "id": "f8b43e20",
   "metadata": {},
   "source": [
    "### Distribuciones de Probabilidad\n",
    "Las funciones de probabilidad definen la probabilidad que una Variable discreta o continua tome un valor dado, si se requiere calcular la probabilidad de que la variable tome un valor exacto se calcula con la función de probabilidad\n",
    "\n",
    "$$\n",
    "P(X=x)\n",
    "$$\n",
    "\n",
    "Por el contrario si se requiere calcular la probabilidad de que tome valores menores o iguales a un numero, se debe sacar la integral a la función de probabilidad para calcular el area bajo la curva.\n"
   ]
  },
  {
   "cell_type": "markdown",
   "id": "c0543e72",
   "metadata": {},
   "source": [
    "### Distribuciones Discretas\n",
    "\n",
    "#### Distribución de Bernoulli.\n",
    "El ejercicio clasico puede ser el lanzamiento de monedas, con posibilidades binarias.\n",
    "#### Distribución Binomial.\n",
    "Es una secuencia repetitiva de eventos de bernoulli, evalua las ocurrencias de un evento n veces, para esto es necesario conocer la cantidad de combinaciónes que se dan de ese evento a evaluar dentro del espacio muestral. Por tanto, la combinatoria entra a calcular esas combinaciones.\n",
    "\n",
    "$$\n",
    "P(1,3) =  (\\frac n k) == \\frac 3 1\n",
    "$$\n",
    "\n",
    "![](./binom.PNG)"
   ]
  },
  {
   "attachments": {},
   "cell_type": "markdown",
   "id": "481ed5f5",
   "metadata": {},
   "source": [
    "La distribución binomial combina todos los sucesos posibles, tanto exitosos como no exitosos.\n",
    "\n",
    "![](./binomc.PNG)"
   ]
  },
  {
   "cell_type": "markdown",
   "id": "17edbd5b",
   "metadata": {},
   "source": [
    "Lo que significa es que de n sucesos, la probabilidad de que salga o resulte en k eventos exitosos esta dado por la combinación de exitos totales del espacio muestral por la probabilidad de un exito y probabilidad de fracaso. "
   ]
  },
  {
   "cell_type": "code",
   "execution_count": 17,
   "id": "390499ae",
   "metadata": {},
   "outputs": [],
   "source": [
    "import numpy as np\n",
    "from numpy.random import binomial\n",
    "from scipy.stats import binom\n",
    "from math import factorial\n",
    "import matplotlib.pyplot as plt\n",
    "from scipy.stats import norm"
   ]
  },
  {
   "cell_type": "code",
   "execution_count": 5,
   "id": "2157db0f",
   "metadata": {},
   "outputs": [
    {
     "data": {
      "text/plain": [
       "0.375"
      ]
     },
     "execution_count": 5,
     "metadata": {},
     "output_type": "execute_result"
    }
   ],
   "source": [
    "# Función Binomial\n",
    "dist = binom(3,0.5)\n",
    "# Probabilidad a la densidad de probabilidad\n",
    "dist.pmf(2)"
   ]
  },
  {
   "cell_type": "code",
   "execution_count": 6,
   "id": "6ef381bd",
   "metadata": {},
   "outputs": [
    {
     "data": {
      "text/plain": [
       "0.875"
      ]
     },
     "execution_count": 6,
     "metadata": {},
     "output_type": "execute_result"
    }
   ],
   "source": [
    "## Probabilidad acumulada\n",
    "dist.cdf(2)"
   ]
  },
  {
   "cell_type": "markdown",
   "id": "f3714800",
   "metadata": {},
   "source": [
    "#### Generador aleatorio de eventos\n"
   ]
  },
  {
   "cell_type": "code",
   "execution_count": 7,
   "id": "45bb85a1",
   "metadata": {},
   "outputs": [
    {
     "name": "stdout",
     "output_type": "stream",
     "text": [
      "[2, 2, 2, 0, 1, 2, 2, 1, 0, 1, 1, 0, 2, 1, 2, 2, 1, 3, 1, 1, 0, 1, 0, 1, 2, 3, 1, 0, 0, 2, 2, 2, 1, 1, 2, 0, 2, 0, 2, 1, 2, 1, 2, 3, 1, 3, 2, 3, 2, 2, 2, 1, 2, 2, 1, 2, 1, 1, 1, 3, 3, 2, 1, 2, 2, 2, 3, 0, 0, 3, 3, 2, 1, 1, 1, 2, 3, 2, 1, 2, 0, 1, 1, 1, 2, 2, 1, 2, 1, 3, 2, 2, 1, 3, 3, 3, 2, 2, 2, 2]\n"
     ]
    }
   ],
   "source": [
    "n = 3\n",
    "p = 0.5\n",
    "arr = []\n",
    "for _ in range(100):\n",
    "    arr.append(binomial(n,p))\n",
    "    \n",
    "print(arr)"
   ]
  },
  {
   "cell_type": "code",
   "execution_count": 11,
   "id": "906a194c",
   "metadata": {},
   "outputs": [],
   "source": [
    "def plot_hist(num_trials):\n",
    "    values = [0,1,2,3]\n",
    "    arr = []\n",
    "    for _ in range(num_trials):\n",
    "        arr.append(binomial(n,p))\n",
    "    sim = np.unique(arr,return_counts=True)[1]/len(arr)\n",
    "    teorica = [binom(3,0.5).pmf(k) for k in values]\n",
    "    plt.bar(values,sim,color='red')\n",
    "    plt.bar(values,teorica,alpha=0.5,color='blue')\n",
    "    plt.title('{} Experimentos'.format(num_trials))\n",
    "    plt.show()"
   ]
  },
  {
   "cell_type": "code",
   "execution_count": 8,
   "id": "46d7e5c8",
   "metadata": {},
   "outputs": [
    {
     "data": {
      "text/plain": [
       "(array([0, 1, 2, 3]), array([12, 32, 41, 15], dtype=int64))"
      ]
     },
     "execution_count": 8,
     "metadata": {},
     "output_type": "execute_result"
    }
   ],
   "source": [
    "np.unique(arr,return_counts=True)"
   ]
  },
  {
   "cell_type": "code",
   "execution_count": 14,
   "id": "954cf9de",
   "metadata": {
    "scrolled": true
   },
   "outputs": [
    {
     "data": {
      "image/png": "[encoded data removed]",
      "text/plain": [
       "<Figure size 432x288 with 1 Axes>"
      ]
     },
     "metadata": {
      "needs_background": "light"
     },
     "output_type": "display_data"
    }
   ],
   "source": [
    "plot_hist(200000)"
   ]
  },
  {
   "cell_type": "markdown",
   "id": "667f3714",
   "metadata": {},
   "source": [
    "## Distribución normal teórica\n",
    "\n",
    "\n",
    "$$P(X) = \\frac{1}{\\sigma \\sqrt{2 \\pi}} \\exp{\\left[-\\frac{1}{2}\\left(\\frac{X-\\mu}{\\sigma} \\right)^2 \\right]}$$\n",
    "\n",
    "* $\\mu$: media de la distribución\n",
    "* $\\sigma$: desviación estándar de la distribución"
   ]
  },
  {
   "cell_type": "code",
   "execution_count": 20,
   "id": "cc0c9262",
   "metadata": {},
   "outputs": [
    {
     "data": {
      "image/png": "[encoded data removed]",
      "text/plain": [
       "<Figure size 432x288 with 1 Axes>"
      ]
     },
     "metadata": {
      "needs_background": "light"
     },
     "output_type": "display_data"
    }
   ],
   "source": [
    "from numpy.random import normal\n",
    "from matplotlib import pyplot \n",
    "sample = normal(size=10000) # generador aleatorio basado en la distribución normal\n",
    "pyplot.hist(sample, bins=30) \n",
    "pyplot.show()"
   ]
  },
  {
   "cell_type": "code",
   "execution_count": 21,
   "id": "16d5e1b6",
   "metadata": {},
   "outputs": [],
   "source": [
    "sample = normal(loc=50, scale=5, size=1000) "
   ]
  },
  {
   "cell_type": "code",
   "execution_count": 27,
   "id": "1ca9cf6a",
   "metadata": {},
   "outputs": [
    {
     "data": {
      "text/plain": [
       "49.93058531405998"
      ]
     },
     "execution_count": 27,
     "metadata": {},
     "output_type": "execute_result"
    }
   ],
   "source": [
    "np.mean(sample)"
   ]
  }
 ],
 "metadata": {
  "kernelspec": {
   "display_name": "Python 3",
   "language": "python",
   "name": "python3"
  },
  "language_info": {
   "codemirror_mode": {
    "name": "ipython",
    "version": 3
   },
   "file_extension": ".py",
   "mimetype": "text/x-python",
   "name": "python",
   "nbconvert_exporter": "python",
   "pygments_lexer": "ipython3",
   "version": "3.8.8"
  }
 },
 "nbformat": 4,
 "nbformat_minor": 5
}
