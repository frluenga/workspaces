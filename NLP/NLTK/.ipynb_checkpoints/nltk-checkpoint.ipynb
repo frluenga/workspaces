{
 "cells": [
  {
   "cell_type": "markdown",
   "id": "482bd609",
   "metadata": {},
   "source": [
    "# Procesamiento de Lenguaje Natural\n",
    "El natural lenguage understanding es diferente al nlp, ya que el nlu son tares mas especificas, en la cual la maquina da una señal por entender el lenguaje que se le esta dando."
   ]
  },
  {
   "cell_type": "markdown",
   "id": "ad1487c1",
   "metadata": {},
   "source": [
    "## El test de turing\n",
    "Si un humano no puede distinguir una conversación entre un humano y una maquina entonces esa maquina ha alcanzado un nivel de inteligencia comparable con la del ser humano."
   ]
  },
  {
   "cell_type": "markdown",
   "id": "40bc871a",
   "metadata": {},
   "source": [
    "### Usos actuales.\n",
    "- Maquinas de busqueda\n",
    "- Traducción de texto\n",
    "- Chatbots\n",
    "- Análisis de discurso\n",
    "- Reconocimiento del Habla"
   ]
  },
  {
   "cell_type": "markdown",
   "id": "e3c7c225",
   "metadata": {},
   "source": [
    "El procesamiento de lenguaje natural es dificil debido a que el lenguaje humano es difuso, ambiguo y requiere mucho contexto."
   ]
  },
  {
   "cell_type": "markdown",
   "id": "f201bdbe",
   "metadata": {},
   "source": [
    "### Evolución\n",
    "- Sistemas basados en reglas 1950\n",
    "- Estadistica del corpus 1990\n",
    "- Machine Learning 2000\n",
    "- Deep Learning 2014"
   ]
  },
  {
   "cell_type": "markdown",
   "id": "51f48adc",
   "metadata": {},
   "source": [
    "#### ¿Que es un Corpus?\n",
    "Es una colección de diferentes textos, ahora que es la estadistica del corpus:\n",
    "Podemos representarlo de la siguiente forma, si tuvieramos una cantidad n de textos recolectados de internet, eso sería considerado como el corpus, y a ello se le aplicaría una serie de tecnicas de estadistica para que el algoritmo aprenda las distribuciones de probabilidad de las palabras y así podría usar eso para construir frases que tengan sentido gramatical para nosotros."
   ]
  },
  {
   "cell_type": "markdown",
   "id": "e7032722",
   "metadata": {},
   "source": [
    "### Avances en el lenguaje Natural\n",
    "Se divide en dos caminos, en el desarrollo de dos tipos de algoritmos:\n",
    "- Entendimiento de texto (Bajo Nivel)\n",
    "    - Morfologia\n",
    "    - Sintaxis\n",
    "    - Semantica\n",
    "- Aprendizaje de Representaciones.\n",
    "    - Vectores de Palabras\n",
    "    - Vectores de Frases\n",
    "    - Mecanismos de atención"
   ]
  },
  {
   "cell_type": "markdown",
   "id": "11604f11",
   "metadata": {},
   "source": [
    "#### Entendimiento de texto (Bajo nivel)\n",
    "Algoritmos especificos para realizar tareas concretas, es decir desarrollan una sola tarea, no pueden realizar tareas complejas.\n",
    "#### Aprendizaje de Representaciones\n",
    "Algoritmos basados en redes neuronales en donde se desarrollan arquitecturas que pueden realizar multiples tareas, se basan en un concepto matematico que se llama representación, ya que a las frases o palabras se les pueden asignar vectores, por lo tanto, las frases y palabras a las cuales se acerquen sus vectores significaran que comparten similitudes semanticas entre si."
   ]
  },
  {
   "cell_type": "markdown",
   "id": "4dd729b0",
   "metadata": {},
   "source": [
    "#### Arquitecturas de redes neuronales\n",
    "- Red LSTM: Redes secuenciales, analisar las palabras que estaban antes de ella como si fuera una secuencia, y para entender mejor el contexto de la palabra, es necesario tambien analizar hacia adelante la secuencia de palabras posteriores a la actual por eso esta LSTM evoluciono a la siguiente.\n",
    "- BiLSTM: Bidireccional, similar a la anterior, pero tiene en cuenta las secuencias en ambas direcciones, tanto hacia atras como hacia adelante.\n",
    "- Transformer y Reformer: Analizan el texto completo para dar contexto y entender las palabras. "
   ]
  },
  {
   "cell_type": "markdown",
   "id": "6bef6a8f",
   "metadata": {},
   "source": [
    "## Librerias\n",
    "- NLTK: Nos permite entender como usar la estadistica de corpus. permite crear modelos sencillos de tareas de clasificación de texto\n",
    "- SPACY: Procesamiento Avanzado"
   ]
  },
  {
   "cell_type": "markdown",
   "id": "a0da37ea",
   "metadata": {},
   "source": [
    "## Introducción\n",
    "#### Estructuras basicas del lenguaje humano:\n",
    "*Bibliografia: Manning & Shutze (1999), Foundations of Statistical Natural Language Proces*\n",
    "\n",
    "Entender y caracterizar las reglas que determinan como estructurar expresiones linguisticas, cuales son las reglas que nosotros como seres humanos hemos creado para entender el lenguaje.\n",
    "\n",
    "Existe otra area que es la linguistica computacional la cual es diferente al procesamiento de lenguaje natural. ya que el NLP esta enfocado mas hacia areas de ingenieria, mientras que la linguistica estudia el lenguaje desde una perspectiva mas cientifica ¿Que y como computan las personas?"
   ]
  },
  {
   "cell_type": "markdown",
   "id": "dde5b5cb",
   "metadata": {},
   "source": [
    "#### Linguistica Computacional\n",
    "Crea modelos que estan basados en dos enfoques.\n",
    "- Basado en conocimiento\n",
    "- Basado en Datos\n",
    "El funel basico de procesamiento de un objeto que es una cadena de texto, el cual es la normalización de texto el cual se considera como limpieza y transformación.\n",
    "- Tokenización: Separa las palabras en tokens o en unidades minimas linguisticas.\n",
    "- Lematización: Convertir cada una de las palabras del objeto a su raiz natural, es decir buscar los verbos en infinitivo\n",
    "- Segmentación: Segmentar las frases, es decir dividir las frases por sus comas o signos de puntuación\n"
   ]
  },
  {
   "cell_type": "markdown",
   "id": "b95c714f",
   "metadata": {},
   "source": [
    "#### Corpora\n",
    "Son colecciones de Corpus\n",
    "#### Corpus\n",
    "Son colecciones de textos"
   ]
  },
  {
   "cell_type": "markdown",
   "id": "0f10257b",
   "metadata": {},
   "source": [
    "# Codigo"
   ]
  },
  {
   "cell_type": "code",
   "execution_count": 1,
   "id": "80cf8c00",
   "metadata": {},
   "outputs": [
    {
     "name": "stderr",
     "output_type": "stream",
     "text": [
      "[nltk_data] Downloading package cess_esp to\n",
      "[nltk_data]     C:\\Users\\GAMER\\AppData\\Roaming\\nltk_data...\n",
      "[nltk_data]   Package cess_esp is already up-to-date!\n"
     ]
    },
    {
     "data": {
      "text/plain": [
       "True"
      ]
     },
     "execution_count": 1,
     "metadata": {},
     "output_type": "execute_result"
    }
   ],
   "source": [
    "import nltk\n",
    "import re\n",
    "nltk.download('cess_esp')"
   ]
  },
  {
   "cell_type": "code",
   "execution_count": 2,
   "id": "8335b855",
   "metadata": {},
   "outputs": [
    {
     "name": "stdout",
     "output_type": "stream",
     "text": [
      "6030\n"
     ]
    }
   ],
   "source": [
    "# Texto tokenizado\n",
    "corpus = nltk.corpus.cess_esp.sents()\n",
    "# print(corpus)\n",
    "print(len(corpus))"
   ]
  },
  {
   "cell_type": "markdown",
   "id": "f6729d96",
   "metadata": {},
   "source": [
    "#### Analisis inicial de texto\n",
    "flatten permite aplanar la lista de listas, es decir, convierte en una lista unica para su analisis y luego se cuenta la cantidad de tokens dentro de la misma"
   ]
  },
  {
   "cell_type": "code",
   "execution_count": 3,
   "id": "ea2cf47a",
   "metadata": {},
   "outputs": [
    {
     "name": "stdout",
     "output_type": "stream",
     "text": [
      "192686\n"
     ]
    }
   ],
   "source": [
    "# Aplanar la lista\n",
    "# Doble ciclo\n",
    "flatten = [w for l in corpus for w in l]\n",
    "# Es lo mismo que:\n",
    "for l in corpus:\n",
    "    for w in l:\n",
    "        pass\n",
    "print(len(flatten))"
   ]
  },
  {
   "cell_type": "markdown",
   "id": "c2649b70",
   "metadata": {},
   "source": [
    "#### Acesso por slice\n",
    "al generar una lista completa de tokens se puede acceder a ella con la notación de slices."
   ]
  },
  {
   "cell_type": "code",
   "execution_count": 4,
   "id": "ab37f081",
   "metadata": {},
   "outputs": [
    {
     "name": "stdout",
     "output_type": "stream",
     "text": [
      "['El', 'grupo', 'estatal', 'Electricité_de_France', '-Fpa-', 'EDF', '-Fpt-', 'anunció', 'hoy', ',', 'jueves', ',', 'la', 'compra', 'del', '51_por_ciento', 'de', 'la', 'empresa', 'mexicana']\n"
     ]
    }
   ],
   "source": [
    "print(flatten[:20])"
   ]
  },
  {
   "cell_type": "markdown",
   "id": "d7a800b2",
   "metadata": {},
   "source": [
    "#### Estructura de la función re.search()\n",
    "determinar un patron de busqueda re.search(p,s) donde p es un patron de busqueda y s es una cadena de texto, el valor retornado es un booleano para saber si cumple con el patron de busqueda"
   ]
  },
  {
   "cell_type": "code",
   "execution_count": 5,
   "id": "6be1b1d5",
   "metadata": {},
   "outputs": [],
   "source": [
    "# Encuentra las palabras que contengan la expresión es\n",
    "arr = [w for w in flatten if re.search('es',w)]"
   ]
  },
  {
   "cell_type": "code",
   "execution_count": 6,
   "id": "78b07829",
   "metadata": {},
   "outputs": [
    {
     "name": "stdout",
     "output_type": "stream",
     "text": [
      "['estatal', 'jueves', 'empresa', 'centrales', 'francesa']\n"
     ]
    }
   ],
   "source": [
    "print(arr[:5])"
   ]
  },
  {
   "cell_type": "code",
   "execution_count": 7,
   "id": "06772c71",
   "metadata": {},
   "outputs": [],
   "source": [
    "# Encuentra las palabras que terminen en es\n",
    "arr = [w for w in flatten if re.search('es$',w)]"
   ]
  },
  {
   "cell_type": "code",
   "execution_count": 8,
   "id": "73b93b36",
   "metadata": {},
   "outputs": [
    {
     "name": "stdout",
     "output_type": "stream",
     "text": [
      "['jueves', 'centrales', 'millones', 'millones', 'dólares']\n"
     ]
    }
   ],
   "source": [
    "print(arr[:5])"
   ]
  },
  {
   "cell_type": "code",
   "execution_count": 9,
   "id": "d49c0bf6",
   "metadata": {},
   "outputs": [],
   "source": [
    "# Encuentra las palabras que empiecen en es\n",
    "arr = [w for w in flatten if re.search('^es',w)]"
   ]
  },
  {
   "cell_type": "code",
   "execution_count": 10,
   "id": "c676c02b",
   "metadata": {},
   "outputs": [
    {
     "name": "stdout",
     "output_type": "stream",
     "text": [
      "['estatal', 'es', 'esta', 'esta', 'eso']\n"
     ]
    }
   ],
   "source": [
    "print(arr[:5])"
   ]
  },
  {
   "cell_type": "code",
   "execution_count": 11,
   "id": "d5fd9a86",
   "metadata": {},
   "outputs": [],
   "source": [
    "# Rango\n",
    "arr = [w for w in flatten if re.search('^[ghi]',w)]"
   ]
  },
  {
   "cell_type": "code",
   "execution_count": 12,
   "id": "1da02092",
   "metadata": {},
   "outputs": [
    {
     "name": "stdout",
     "output_type": "stream",
     "text": [
      "['grupo', 'hoy', 'gas', 'gas', 'intervendrá']\n"
     ]
    }
   ],
   "source": [
    "print(arr[:5])"
   ]
  },
  {
   "cell_type": "code",
   "execution_count": 13,
   "id": "7d3c37a9",
   "metadata": {},
   "outputs": [
    {
     "name": "stdout",
     "output_type": "stream",
     "text": [
      "['norte', 'no', 'no', 'noche', 'no']\n"
     ]
    }
   ],
   "source": [
    "# Clausura\n",
    "# * repetir 0 o mas veces\n",
    "# + repetir 1 o mas veces\n",
    "arr = [w for w in flatten if re.search('^(no)+',w)]\n",
    "print(arr[:5])"
   ]
  },
  {
   "cell_type": "code",
   "execution_count": 14,
   "id": "ab84c86d",
   "metadata": {},
   "outputs": [
    {
     "name": "stdout",
     "output_type": "stream",
     "text": [
      "['El', 'grupo', 'estatal', 'Electricité_de_France', '-Fpa-']\n"
     ]
    }
   ],
   "source": [
    "arr = [w for w in flatten if re.search('^(no)*',w)]\n",
    "print(arr[:5])"
   ]
  },
  {
   "cell_type": "markdown",
   "id": "112b8eea",
   "metadata": {},
   "source": [
    "## Normalización de Texto\n"
   ]
  },
  {
   "cell_type": "code",
   "execution_count": 15,
   "id": "5a073cea",
   "metadata": {},
   "outputs": [
    {
     "name": "stdout",
     "output_type": "stream",
     "text": [
      "Esto es una \\n nueva linea\n"
     ]
    }
   ],
   "source": [
    "# raw: Interpreta todo como texto plano\n",
    "print(r'Esto es una \\n nueva linea')"
   ]
  },
  {
   "cell_type": "code",
   "execution_count": 16,
   "id": "80310236",
   "metadata": {},
   "outputs": [],
   "source": [
    "texto = \"\"\" Cuando sea el rey del mundo  (imaginaba él en su cabeza) no tendré que  preocuparme por estas bobadas. \n",
    "            Era solo un niño de 7 años, pero pensaba que podría ser cualquier cosa que su imaginación le permitiera visualizar en su cabeza ...\"\"\""
   ]
  },
  {
   "cell_type": "markdown",
   "id": "dee058d3",
   "metadata": {},
   "source": [
    "Tokenizar con raw en texto plano sirve para omitir los caracteres especiales, sin embargo con la siguiente función solamente se esta tokenizando por espacios en blanco."
   ]
  },
  {
   "cell_type": "code",
   "execution_count": 17,
   "id": "eea64685",
   "metadata": {},
   "outputs": [
    {
     "name": "stdout",
     "output_type": "stream",
     "text": [
      "['', 'Cuando', 'sea', 'el', 'rey', 'del', 'mundo', '', '(imaginaba', 'él', 'en', 'su', 'cabeza)', 'no', 'tendré', 'que', '', 'preocuparme', 'por', 'estas', 'bobadas.', '\\n', '', '', '', '', '', '', '', '', '', '', '', 'Era', 'solo', 'un', 'niño', 'de', '7', 'años,', 'pero', 'pensaba', 'que', 'podría', 'ser', 'cualquier', 'cosa', 'que', 'su', 'imaginación', 'le', 'permitiera', 'visualizar', 'en', 'su', 'cabeza', '...']\n"
     ]
    }
   ],
   "source": [
    "# Caso 1. tokenizar por espacios vacios\n",
    "print(re.split(r' ',texto))"
   ]
  },
  {
   "cell_type": "code",
   "execution_count": 18,
   "id": "1d957a2d",
   "metadata": {},
   "outputs": [
    {
     "name": "stdout",
     "output_type": "stream",
     "text": [
      "['', 'Cuando', 'sea', 'el', 'rey', 'del', 'mundo', '(imaginaba', 'él', 'en', 'su', 'cabeza)', 'no', 'tendré', 'que', 'preocuparme', 'por', 'estas', 'bobadas.', 'Era', 'solo', 'un', 'niño', 'de', '7', 'años,', 'pero', 'pensaba', 'que', 'podría', 'ser', 'cualquier', 'cosa', 'que', 'su', 'imaginación', 'le', 'permitiera', 'visualizar', 'en', 'su', 'cabeza', '...']\n"
     ]
    }
   ],
   "source": [
    "# Caso 2. Tokenizar usando expresiones regulares\n",
    "print(re.split(r'[ \\t\\n]+',texto))"
   ]
  },
  {
   "cell_type": "code",
   "execution_count": 19,
   "id": "54393edd",
   "metadata": {},
   "outputs": [
    {
     "name": "stdout",
     "output_type": "stream",
     "text": [
      "['', 'Cuando', 'sea', 'el', 'rey', 'del', 'mundo', 'imaginaba', 'él', 'en', 'su', 'cabeza', 'no', 'tendré', 'que', 'preocuparme', 'por', 'estas', 'bobadas', 'Era', 'solo', 'un', 'niño', 'de', '7', 'años', 'pero', 'pensaba', 'que', 'podría', 'ser', 'cualquier', 'cosa', 'que', 'su', 'imaginación', 'le', 'permitiera', 'visualizar', 'en', 'su', 'cabeza', '']\n"
     ]
    }
   ],
   "source": [
    "# Caso 3. Tokenizar usando todos los caracteres especiales\n",
    "print(re.split(r'[ \\W\\t\\n]+',texto))"
   ]
  },
  {
   "cell_type": "markdown",
   "id": "287c485c",
   "metadata": {},
   "source": [
    "## Libreria NLTK\n"
   ]
  },
  {
   "cell_type": "code",
   "execution_count": 20,
   "id": "587b42ab",
   "metadata": {},
   "outputs": [],
   "source": [
    "# nuestra antigua regex no funciona en este caso: \n",
    "texto = 'En los E.U. esa postal vale $15.50 ...'"
   ]
  },
  {
   "cell_type": "code",
   "execution_count": 21,
   "id": "87daf872",
   "metadata": {},
   "outputs": [
    {
     "name": "stdout",
     "output_type": "stream",
     "text": [
      "['En', 'los', 'E', 'U', 'esa', 'postal', 'vale', '15', '50', '']\n"
     ]
    }
   ],
   "source": [
    "print(re.split(r'[ \\W\\t\\n]+', texto))"
   ]
  },
  {
   "cell_type": "code",
   "execution_count": 22,
   "id": "3274b300",
   "metadata": {},
   "outputs": [
    {
     "data": {
      "text/plain": [
       "['En', 'los', 'E.U.', 'esa', 'postal', 'vale', '$15.50', '...']"
      ]
     },
     "execution_count": 22,
     "metadata": {},
     "output_type": "execute_result"
    }
   ],
   "source": [
    "pattern = r'''(?x)                 # set flag to allow verbose regexps\n",
    "              (?:[A-Z]\\.)+         # abbreviations, e.g. U.S.A.\n",
    "              | \\w+(?:-\\w+)*       # words with optional internal hyphens\n",
    "              | \\$?\\d+(?:\\.\\d+)?%? # currency and percentages, e.g. $12.40, 82%\n",
    "              | \\.\\.\\.             # ellipsis\n",
    "              | [][.,;\"'?():-_`]   # these are separate tokens; includes ], [\n",
    "'''\n",
    "nltk.regexp_tokenize(texto, pattern)"
   ]
  },
  {
   "cell_type": "markdown",
   "id": "03465f79",
   "metadata": {},
   "source": [
    "### Estadisticas Basicas del Lenguaje.\n",
    "Los calculos mas simples que se presentan en el analisis de texto estan relacionados con la frecuencia de las palabras."
   ]
  },
  {
   "cell_type": "code",
   "execution_count": 23,
   "id": "4b11511c",
   "metadata": {
    "collapsed": true
   },
   "outputs": [
    {
     "name": "stderr",
     "output_type": "stream",
     "text": [
      "[nltk_data] Downloading collection 'book'\n",
      "[nltk_data]    | \n",
      "[nltk_data]    | Downloading package abc to\n",
      "[nltk_data]    |     C:\\Users\\GAMER\\AppData\\Roaming\\nltk_data...\n",
      "[nltk_data]    |   Package abc is already up-to-date!\n",
      "[nltk_data]    | Downloading package brown to\n",
      "[nltk_data]    |     C:\\Users\\GAMER\\AppData\\Roaming\\nltk_data...\n",
      "[nltk_data]    |   Package brown is already up-to-date!\n",
      "[nltk_data]    | Downloading package chat80 to\n",
      "[nltk_data]    |     C:\\Users\\GAMER\\AppData\\Roaming\\nltk_data...\n",
      "[nltk_data]    |   Package chat80 is already up-to-date!\n",
      "[nltk_data]    | Downloading package cmudict to\n",
      "[nltk_data]    |     C:\\Users\\GAMER\\AppData\\Roaming\\nltk_data...\n",
      "[nltk_data]    |   Package cmudict is already up-to-date!\n",
      "[nltk_data]    | Downloading package conll2000 to\n",
      "[nltk_data]    |     C:\\Users\\GAMER\\AppData\\Roaming\\nltk_data...\n",
      "[nltk_data]    |   Package conll2000 is already up-to-date!\n",
      "[nltk_data]    | Downloading package conll2002 to\n",
      "[nltk_data]    |     C:\\Users\\GAMER\\AppData\\Roaming\\nltk_data...\n",
      "[nltk_data]    |   Package conll2002 is already up-to-date!\n",
      "[nltk_data]    | Downloading package dependency_treebank to\n",
      "[nltk_data]    |     C:\\Users\\GAMER\\AppData\\Roaming\\nltk_data...\n",
      "[nltk_data]    |   Package dependency_treebank is already up-to-date!\n",
      "[nltk_data]    | Downloading package genesis to\n",
      "[nltk_data]    |     C:\\Users\\GAMER\\AppData\\Roaming\\nltk_data...\n",
      "[nltk_data]    |   Package genesis is already up-to-date!\n",
      "[nltk_data]    | Downloading package gutenberg to\n",
      "[nltk_data]    |     C:\\Users\\GAMER\\AppData\\Roaming\\nltk_data...\n",
      "[nltk_data]    |   Package gutenberg is already up-to-date!\n",
      "[nltk_data]    | Downloading package ieer to\n",
      "[nltk_data]    |     C:\\Users\\GAMER\\AppData\\Roaming\\nltk_data...\n",
      "[nltk_data]    |   Package ieer is already up-to-date!\n",
      "[nltk_data]    | Downloading package inaugural to\n",
      "[nltk_data]    |     C:\\Users\\GAMER\\AppData\\Roaming\\nltk_data...\n",
      "[nltk_data]    |   Package inaugural is already up-to-date!\n",
      "[nltk_data]    | Downloading package movie_reviews to\n",
      "[nltk_data]    |     C:\\Users\\GAMER\\AppData\\Roaming\\nltk_data...\n",
      "[nltk_data]    |   Package movie_reviews is already up-to-date!\n",
      "[nltk_data]    | Downloading package nps_chat to\n",
      "[nltk_data]    |     C:\\Users\\GAMER\\AppData\\Roaming\\nltk_data...\n",
      "[nltk_data]    |   Package nps_chat is already up-to-date!\n",
      "[nltk_data]    | Downloading package names to\n",
      "[nltk_data]    |     C:\\Users\\GAMER\\AppData\\Roaming\\nltk_data...\n",
      "[nltk_data]    |   Package names is already up-to-date!\n",
      "[nltk_data]    | Downloading package ppattach to\n",
      "[nltk_data]    |     C:\\Users\\GAMER\\AppData\\Roaming\\nltk_data...\n",
      "[nltk_data]    |   Package ppattach is already up-to-date!\n",
      "[nltk_data]    | Downloading package reuters to\n",
      "[nltk_data]    |     C:\\Users\\GAMER\\AppData\\Roaming\\nltk_data...\n",
      "[nltk_data]    |   Package reuters is already up-to-date!\n",
      "[nltk_data]    | Downloading package senseval to\n",
      "[nltk_data]    |     C:\\Users\\GAMER\\AppData\\Roaming\\nltk_data...\n",
      "[nltk_data]    |   Package senseval is already up-to-date!\n",
      "[nltk_data]    | Downloading package state_union to\n",
      "[nltk_data]    |     C:\\Users\\GAMER\\AppData\\Roaming\\nltk_data...\n",
      "[nltk_data]    |   Package state_union is already up-to-date!\n",
      "[nltk_data]    | Downloading package stopwords to\n",
      "[nltk_data]    |     C:\\Users\\GAMER\\AppData\\Roaming\\nltk_data...\n",
      "[nltk_data]    |   Package stopwords is already up-to-date!\n",
      "[nltk_data]    | Downloading package swadesh to\n",
      "[nltk_data]    |     C:\\Users\\GAMER\\AppData\\Roaming\\nltk_data...\n",
      "[nltk_data]    |   Package swadesh is already up-to-date!\n",
      "[nltk_data]    | Downloading package timit to\n",
      "[nltk_data]    |     C:\\Users\\GAMER\\AppData\\Roaming\\nltk_data...\n",
      "[nltk_data]    |   Package timit is already up-to-date!\n",
      "[nltk_data]    | Downloading package treebank to\n",
      "[nltk_data]    |     C:\\Users\\GAMER\\AppData\\Roaming\\nltk_data...\n",
      "[nltk_data]    |   Package treebank is already up-to-date!\n",
      "[nltk_data]    | Downloading package toolbox to\n",
      "[nltk_data]    |     C:\\Users\\GAMER\\AppData\\Roaming\\nltk_data...\n",
      "[nltk_data]    |   Package toolbox is already up-to-date!\n",
      "[nltk_data]    | Downloading package udhr to\n",
      "[nltk_data]    |     C:\\Users\\GAMER\\AppData\\Roaming\\nltk_data...\n",
      "[nltk_data]    |   Package udhr is already up-to-date!\n",
      "[nltk_data]    | Downloading package udhr2 to\n",
      "[nltk_data]    |     C:\\Users\\GAMER\\AppData\\Roaming\\nltk_data...\n",
      "[nltk_data]    |   Package udhr2 is already up-to-date!\n",
      "[nltk_data]    | Downloading package unicode_samples to\n",
      "[nltk_data]    |     C:\\Users\\GAMER\\AppData\\Roaming\\nltk_data...\n",
      "[nltk_data]    |   Package unicode_samples is already up-to-date!\n",
      "[nltk_data]    | Downloading package webtext to\n",
      "[nltk_data]    |     C:\\Users\\GAMER\\AppData\\Roaming\\nltk_data...\n",
      "[nltk_data]    |   Package webtext is already up-to-date!\n",
      "[nltk_data]    | Downloading package wordnet to\n",
      "[nltk_data]    |     C:\\Users\\GAMER\\AppData\\Roaming\\nltk_data...\n",
      "[nltk_data]    |   Package wordnet is already up-to-date!\n",
      "[nltk_data]    | Downloading package wordnet_ic to\n",
      "[nltk_data]    |     C:\\Users\\GAMER\\AppData\\Roaming\\nltk_data...\n",
      "[nltk_data]    |   Package wordnet_ic is already up-to-date!\n",
      "[nltk_data]    | Downloading package words to\n",
      "[nltk_data]    |     C:\\Users\\GAMER\\AppData\\Roaming\\nltk_data...\n",
      "[nltk_data]    |   Package words is already up-to-date!\n",
      "[nltk_data]    | Downloading package maxent_treebank_pos_tagger to\n",
      "[nltk_data]    |     C:\\Users\\GAMER\\AppData\\Roaming\\nltk_data...\n",
      "[nltk_data]    |   Package maxent_treebank_pos_tagger is already up-\n",
      "[nltk_data]    |       to-date!\n",
      "[nltk_data]    | Downloading package maxent_ne_chunker to\n",
      "[nltk_data]    |     C:\\Users\\GAMER\\AppData\\Roaming\\nltk_data...\n",
      "[nltk_data]    |   Package maxent_ne_chunker is already up-to-date!\n",
      "[nltk_data]    | Downloading package universal_tagset to\n",
      "[nltk_data]    |     C:\\Users\\GAMER\\AppData\\Roaming\\nltk_data...\n",
      "[nltk_data]    |   Package universal_tagset is already up-to-date!\n",
      "[nltk_data]    | Downloading package punkt to\n",
      "[nltk_data]    |     C:\\Users\\GAMER\\AppData\\Roaming\\nltk_data...\n",
      "[nltk_data]    |   Package punkt is already up-to-date!\n",
      "[nltk_data]    | Downloading package book_grammars to\n",
      "[nltk_data]    |     C:\\Users\\GAMER\\AppData\\Roaming\\nltk_data...\n",
      "[nltk_data]    |   Package book_grammars is already up-to-date!\n",
      "[nltk_data]    | Downloading package city_database to\n",
      "[nltk_data]    |     C:\\Users\\GAMER\\AppData\\Roaming\\nltk_data...\n",
      "[nltk_data]    |   Package city_database is already up-to-date!\n",
      "[nltk_data]    | Downloading package tagsets to\n",
      "[nltk_data]    |     C:\\Users\\GAMER\\AppData\\Roaming\\nltk_data...\n",
      "[nltk_data]    |   Package tagsets is already up-to-date!\n",
      "[nltk_data]    | Downloading package panlex_swadesh to\n",
      "[nltk_data]    |     C:\\Users\\GAMER\\AppData\\Roaming\\nltk_data...\n",
      "[nltk_data]    |   Package panlex_swadesh is already up-to-date!\n",
      "[nltk_data]    | Downloading package averaged_perceptron_tagger to\n",
      "[nltk_data]    |     C:\\Users\\GAMER\\AppData\\Roaming\\nltk_data...\n",
      "[nltk_data]    |   Package averaged_perceptron_tagger is already up-\n",
      "[nltk_data]    |       to-date!\n",
      "[nltk_data]    | \n",
      "[nltk_data]  Done downloading collection book\n"
     ]
    },
    {
     "name": "stdout",
     "output_type": "stream",
     "text": [
      "*** Introductory Examples for the NLTK Book ***\n",
      "Loading text1, ..., text9 and sent1, ..., sent9\n",
      "Type the name of the text or sentence to view it.\n",
      "Type: 'texts()' or 'sents()' to list the materials.\n",
      "text1: Moby Dick by Herman Melville 1851\n",
      "text2: Sense and Sensibility by Jane Austen 1811\n",
      "text3: The Book of Genesis\n",
      "text4: Inaugural Address Corpus\n",
      "text5: Chat Corpus\n",
      "text6: Monty Python and the Holy Grail\n",
      "text7: Wall Street Journal\n",
      "text8: Personals Corpus\n",
      "text9: The Man Who Was Thursday by G . K . Chesterton 1908\n"
     ]
    }
   ],
   "source": [
    "nltk.download('book')\n",
    "from nltk.book import *\n",
    "import matplotlib.pyplot as plt\n",
    "import numpy as np"
   ]
  },
  {
   "cell_type": "code",
   "execution_count": 24,
   "id": "2f859aa7",
   "metadata": {},
   "outputs": [
    {
     "data": {
      "text/plain": [
       "['[',\n",
       " 'Moby',\n",
       " 'Dick',\n",
       " 'by',\n",
       " 'Herman',\n",
       " 'Melville',\n",
       " '1851',\n",
       " ']',\n",
       " 'ETYMOLOGY',\n",
       " '.']"
      ]
     },
     "execution_count": 24,
     "metadata": {},
     "output_type": "execute_result"
    }
   ],
   "source": [
    "text1.tokens[:10]"
   ]
  },
  {
   "cell_type": "code",
   "execution_count": 25,
   "id": "7e05bbd0",
   "metadata": {},
   "outputs": [
    {
     "name": "stdout",
     "output_type": "stream",
     "text": [
      "260819\n"
     ]
    }
   ],
   "source": [
    "print(len(text1))"
   ]
  },
  {
   "cell_type": "markdown",
   "id": "b0325f6f",
   "metadata": {},
   "source": [
    "### Medida de Riqueza Lexica en un texto.\n",
    "\n",
    "$$ R_l = \\frac{\\text{total de palabras únicas}}{\\text{total de palabras}} = \\frac{\\text{longitud del vocabulario}}{\\text{longitud del texto}}$$ "
   ]
  },
  {
   "cell_type": "markdown",
   "id": "bf64a7f4",
   "metadata": {},
   "source": [
    "Retirar los valores repetidos y crear un iterable son la función set(), pero al no ser un objeto mutable como una lista, la notación para acceder a el como slices o indices no funciona, para poder convertirlo en un objeto mutable se pasa la función sorted()"
   ]
  },
  {
   "cell_type": "code",
   "execution_count": 26,
   "id": "22004ac7",
   "metadata": {},
   "outputs": [],
   "source": [
    "# Construir un vocabulario, el cual es la lista de palabras unicas de un lenguaje.\n",
    "vocabulario = sorted(set(text1))"
   ]
  },
  {
   "cell_type": "code",
   "execution_count": 27,
   "id": "2b86ee38",
   "metadata": {
    "scrolled": true
   },
   "outputs": [
    {
     "data": {
      "text/plain": [
       "['Crew',\n",
       " 'Crish',\n",
       " 'Crockett',\n",
       " 'Cross',\n",
       " 'Crossed',\n",
       " 'Crossing',\n",
       " 'Crotch',\n",
       " 'Crowding',\n",
       " 'Crown',\n",
       " 'Crozetts',\n",
       " 'Cruelty',\n",
       " 'Cruising',\n",
       " 'Cruppered',\n",
       " 'Crusaders',\n",
       " 'Crushed',\n",
       " 'Crying',\n",
       " 'Cuba',\n",
       " 'Curious',\n",
       " 'Curse',\n",
       " 'Cursed',\n",
       " 'Curses',\n",
       " 'Cussed',\n",
       " 'Customs',\n",
       " 'Cut',\n",
       " 'Cutter',\n",
       " 'Cutting',\n",
       " 'Cuvier',\n",
       " 'Cyclades',\n",
       " 'Czar',\n",
       " 'D',\n",
       " 'DAGGOO',\n",
       " 'DAM',\n",
       " 'DANCE',\n",
       " 'DANCING',\n",
       " 'DANIEL',\n",
       " 'DANISH',\n",
       " 'DARKENS',\n",
       " 'DARWIN',\n",
       " 'DAVENANT',\n",
       " 'DEAD',\n",
       " 'DEATH',\n",
       " 'DEBELL',\n",
       " 'DECK',\n",
       " 'DEL',\n",
       " 'DESTROYED',\n",
       " 'DEVIL',\n",
       " 'DICTIONARY',\n",
       " 'DID',\n",
       " 'DIGNITY',\n",
       " 'DISCOVERS']"
      ]
     },
     "execution_count": 27,
     "metadata": {},
     "output_type": "execute_result"
    }
   ],
   "source": [
    "vocabulario[1000:1050]"
   ]
  },
  {
   "cell_type": "code",
   "execution_count": 28,
   "id": "5a556739",
   "metadata": {},
   "outputs": [
    {
     "data": {
      "text/plain": [
       "0.07406285585022564"
      ]
     },
     "execution_count": 28,
     "metadata": {},
     "output_type": "execute_result"
    }
   ],
   "source": [
    "rl = len(vocabulario)/len(text1)\n",
    "rl"
   ]
  },
  {
   "cell_type": "code",
   "execution_count": 29,
   "id": "b9d498ce",
   "metadata": {},
   "outputs": [],
   "source": [
    "def riqueza_lexica(text):\n",
    "    vocabulario = sorted(set(text))\n",
    "    return len(vocabulario)/len(text)"
   ]
  },
  {
   "cell_type": "code",
   "execution_count": 30,
   "id": "6fe5c613",
   "metadata": {},
   "outputs": [
    {
     "data": {
      "text/plain": [
       "0.07406285585022564"
      ]
     },
     "execution_count": 30,
     "metadata": {},
     "output_type": "execute_result"
    }
   ],
   "source": [
    "riqueza_lexica(text1)"
   ]
  },
  {
   "cell_type": "code",
   "execution_count": 31,
   "id": "aca39406",
   "metadata": {},
   "outputs": [],
   "source": [
    "def porcentaje_palabra(palabra,texto):\n",
    "    return 100*texto.count(palabra)/len(texto)"
   ]
  },
  {
   "cell_type": "code",
   "execution_count": 32,
   "id": "cb604acb",
   "metadata": {
    "scrolled": true
   },
   "outputs": [
    {
     "data": {
      "text/plain": [
       "0.018786974875296663"
      ]
     },
     "execution_count": 32,
     "metadata": {},
     "output_type": "execute_result"
    }
   ],
   "source": [
    "porcentaje_palabra('monster',text1)"
   ]
  },
  {
   "cell_type": "markdown",
   "id": "99cbfa6f",
   "metadata": {},
   "source": [
    "### Estadisticas del lenguaje.\n",
    "Construir un diccionario con la frecuencia de las palabras"
   ]
  },
  {
   "cell_type": "code",
   "execution_count": 34,
   "id": "b7c79694",
   "metadata": {
    "collapsed": true
   },
   "outputs": [
    {
     "ename": "KeyboardInterrupt",
     "evalue": "",
     "output_type": "error",
     "traceback": [
      "\u001b[1;31m---------------------------------------------------------------------------\u001b[0m",
      "\u001b[1;31mKeyboardInterrupt\u001b[0m                         Traceback (most recent call last)",
      "\u001b[1;32m<ipython-input-34-767ebe0930f8>\u001b[0m in \u001b[0;36m<module>\u001b[1;34m\u001b[0m\n\u001b[0;32m      3\u001b[0m \u001b[0mdic\u001b[0m \u001b[1;33m=\u001b[0m \u001b[1;33m{\u001b[0m\u001b[1;33m}\u001b[0m\u001b[1;33m\u001b[0m\u001b[1;33m\u001b[0m\u001b[0m\n\u001b[0;32m      4\u001b[0m \u001b[1;32mfor\u001b[0m \u001b[0mpalabra\u001b[0m \u001b[1;32min\u001b[0m \u001b[0mset\u001b[0m\u001b[1;33m(\u001b[0m\u001b[0mtext1\u001b[0m\u001b[1;33m)\u001b[0m\u001b[1;33m:\u001b[0m\u001b[1;33m\u001b[0m\u001b[1;33m\u001b[0m\u001b[0m\n\u001b[1;32m----> 5\u001b[1;33m     \u001b[0mdic\u001b[0m\u001b[1;33m[\u001b[0m\u001b[0mpalabra\u001b[0m\u001b[1;33m]\u001b[0m \u001b[1;33m=\u001b[0m \u001b[0mtext1\u001b[0m\u001b[1;33m.\u001b[0m\u001b[0mcount\u001b[0m\u001b[1;33m(\u001b[0m\u001b[0mpalabra\u001b[0m\u001b[1;33m)\u001b[0m\u001b[1;33m\u001b[0m\u001b[1;33m\u001b[0m\u001b[0m\n\u001b[0m\u001b[0;32m      6\u001b[0m \u001b[0mdic\u001b[0m\u001b[1;33m\u001b[0m\u001b[1;33m\u001b[0m\u001b[0m\n",
      "\u001b[1;31mKeyboardInterrupt\u001b[0m: "
     ]
    }
   ],
   "source": [
    "# Ciclo for para construir un diccionario\n",
    "# Computacionalmente pesado\n",
    "dic = {}\n",
    "for palabra in set(text1):\n",
    "    dic[palabra] = text1.count(palabra)\n",
    "dic"
   ]
  },
  {
   "cell_type": "code",
   "execution_count": 35,
   "id": "ca66c6f6",
   "metadata": {},
   "outputs": [],
   "source": [
    "# Función de frecuencia de NLTK\n",
    "fdist = FreqDist(text1)"
   ]
  },
  {
   "cell_type": "code",
   "execution_count": 36,
   "id": "d5f0dd8a",
   "metadata": {},
   "outputs": [
    {
     "data": {
      "text/plain": [
       "[(',', 18713),\n",
       " ('the', 13721),\n",
       " ('.', 6862),\n",
       " ('of', 6536),\n",
       " ('and', 6024),\n",
       " ('a', 4569),\n",
       " ('to', 4542),\n",
       " (';', 4072),\n",
       " ('in', 3916),\n",
       " ('that', 2982),\n",
       " (\"'\", 2684),\n",
       " ('-', 2552),\n",
       " ('his', 2459),\n",
       " ('it', 2209),\n",
       " ('I', 2124),\n",
       " ('s', 1739),\n",
       " ('is', 1695),\n",
       " ('he', 1661),\n",
       " ('with', 1659),\n",
       " ('was', 1632)]"
      ]
     },
     "execution_count": 36,
     "metadata": {},
     "output_type": "execute_result"
    }
   ],
   "source": [
    "fdist.most_common(20)"
   ]
  },
  {
   "cell_type": "code",
   "execution_count": 37,
   "id": "60995345",
   "metadata": {},
   "outputs": [
    {
     "data": {
      "image/png": "[encoded data removed]",
      "text/plain": [
       "<Figure size 432x288 with 1 Axes>"
      ]
     },
     "metadata": {
      "needs_background": "light"
     },
     "output_type": "display_data"
    },
    {
     "data": {
      "text/plain": [
       "<AxesSubplot:xlabel='Samples', ylabel='Counts'>"
      ]
     },
     "execution_count": 37,
     "metadata": {},
     "output_type": "execute_result"
    }
   ],
   "source": [
    "fdist.plot(20)"
   ]
  },
  {
   "cell_type": "code",
   "execution_count": 38,
   "id": "8dcc9f5a",
   "metadata": {},
   "outputs": [
    {
     "data": {
      "text/plain": [
       "49"
      ]
     },
     "execution_count": 38,
     "metadata": {},
     "output_type": "execute_result"
    }
   ],
   "source": [
    "fdist['monster']"
   ]
  },
  {
   "cell_type": "markdown",
   "id": "59d02724",
   "metadata": {},
   "source": [
    "## Distribuciones sobre contenido con filtro fino\n",
    "Con la información recolectada hasta el momento no se evidencia la verdadera cantidad de palabras con información relevante para el analisis del corpus, por tanto, se debe aplicar un filtro.\n",
    "\n",
    "Cuando se requiere un analisis de los corpus, los conectores no aportan información relevante para ello, ya que son los sustantivos, nombres propios y verbos el objetivo principal para el analisis"
   ]
  },
  {
   "cell_type": "code",
   "execution_count": 40,
   "id": "0be2670c",
   "metadata": {},
   "outputs": [
    {
     "data": {
      "text/plain": [
       "['ACCOUNT',\n",
       " 'ADDITIONAL',\n",
       " 'ADVANCING',\n",
       " 'ADVENTURES',\n",
       " 'AFFGHANISTAN',\n",
       " 'AFRICA',\n",
       " 'AGAINST',\n",
       " 'ALFRED',\n",
       " 'ALGERINE',\n",
       " 'AMERICA']"
      ]
     },
     "execution_count": 40,
     "metadata": {},
     "output_type": "execute_result"
    }
   ],
   "source": [
    "long_words = [palabra for palabra in text1 if len(palabra)>5]\n",
    "voc_filtrado = sorted(set(long_words))\n",
    "voc_filtrado[:10]"
   ]
  },
  {
   "cell_type": "code",
   "execution_count": 42,
   "id": "7b89c317",
   "metadata": {},
   "outputs": [
    {
     "data": {
      "text/plain": [
       "[('silently', 14),\n",
       " ('engaged', 18),\n",
       " ('boiling', 15),\n",
       " ('remarkable', 13),\n",
       " ('hunters', 28),\n",
       " ('murmured', 12),\n",
       " ('anchor', 21),\n",
       " ('overboard', 27),\n",
       " ('naturalists', 11),\n",
       " ('object', 39)]"
      ]
     },
     "execution_count": 42,
     "metadata": {},
     "output_type": "execute_result"
    }
   ],
   "source": [
    "palabras_interesantes = [(palabra,fdist[palabra]) for palabra in set(text1) if len(palabra) > 5 and fdist[palabra] > 10]\n",
    "palabras_interesantes[:10]"
   ]
  },
  {
   "cell_type": "code",
   "execution_count": 43,
   "id": "3e59dc51",
   "metadata": {},
   "outputs": [],
   "source": [
    "# Indicarle a numpy como son los objetos que deseo transformar\n",
    "dtypes = [('word','S10'),('frequency',int)]\n",
    "# Luego esto se convierte en un argumento de una función en numpy\n",
    "palabras_interesantes = np.array(palabras_interesantes, dtype = dtypes)"
   ]
  },
  {
   "cell_type": "code",
   "execution_count": 45,
   "id": "cc3d09d9",
   "metadata": {},
   "outputs": [],
   "source": [
    "# Convertir a estos valores nos da manejo a la estructura de los datos\n",
    "# Permiten operar con la libreria numpy\n",
    "palabras_interesantes = np.sort(palabras_interesantes, order = 'frequency')"
   ]
  },
  {
   "cell_type": "code",
   "execution_count": 47,
   "id": "23e624c0",
   "metadata": {},
   "outputs": [
    {
     "data": {
      "text/plain": [
       "array([(b'America', 11), (b'Father', 11), (b'Fleece', 11),\n",
       "       (b'Guernsey', 11), (b'Heaven', 11), (b'NANTUCKET', 11),\n",
       "       (b'Perseus', 11), (b'Ramadan', 11), (b'Therefore', 11),\n",
       "       (b'additional', 11)], dtype=[('word', 'S10'), ('frequency', '<i4')])"
      ]
     },
     "execution_count": 47,
     "metadata": {},
     "output_type": "execute_result"
    }
   ],
   "source": [
    "palabras_interesantes[:10]"
   ]
  },
  {
   "cell_type": "code",
   "execution_count": 49,
   "id": "8bd3af53",
   "metadata": {},
   "outputs": [
    {
     "data": {
      "image/png": "[encoded data removed]",
      "text/plain": [
       "<Figure size 720x360 with 1 Axes>"
      ]
     },
     "metadata": {
      "needs_background": "light"
     },
     "output_type": "display_data"
    }
   ],
   "source": [
    "top_words = 20\n",
    "# Ultimos 20 elementos del arreglo y se convierte a un arreglo de numeros enteros\n",
    "x = np.arange(len(palabras_interesantes[-top_words:]))\n",
    "y = [freq[1] for freq in palabras_interesantes[-top_words:]]\n",
    "plt.figure(figsize = (10,5))\n",
    "plt.plot(x,y)\n",
    "plt.xticks(x,[str(freq[0]) for freq in palabras_interesantes[-top_words:]],rotation = 'vertical')\n",
    "plt.grid(True)\n",
    "plt.show()"
   ]
  },
  {
   "cell_type": "markdown",
   "id": "d6a25b87",
   "metadata": {},
   "source": [
    "## N-grama y colocaciones del lenguaje"
   ]
  },
  {
   "cell_type": "markdown",
   "id": "cbe88af2",
   "metadata": {},
   "source": [
    "Un n grama es una secuencia de n palabras consecutivas, por ejemplo un bigrama, es la agrupación de dos palabras y así consecutivamente, tambien los trigramas.\n",
    "\n",
    "Las colocaciones de una palabra son sentencias que indican los lugares en donde esa palabra acostumbra ser usada sin tener en cuenta las reglas del lenguaje en si mismas, es decir, el uso de ciertas palabras dentro de una estructura de una frase se vuelve común no necesariamente porque sea la unica forma de expresar dicha oración, si no que la palabra, es la que con mas frecuencia se usa para constituir dicha frase, normalmente es gracias a las disposiciones culturales de la region o del idioma."
   ]
  },
  {
   "cell_type": "code",
   "execution_count": 51,
   "id": "2c069248",
   "metadata": {},
   "outputs": [],
   "source": [
    "import pandas as pd\n",
    "import plotly.express as px"
   ]
  },
  {
   "cell_type": "markdown",
   "id": "fe35d3b4",
   "metadata": {},
   "source": [
    "### Bi gramas"
   ]
  },
  {
   "cell_type": "code",
   "execution_count": 55,
   "id": "5b2bc113",
   "metadata": {},
   "outputs": [],
   "source": [
    "md_bigrams = list(bigrams(text1))\n",
    "fdist = FreqDist(md_bigrams)"
   ]
  },
  {
   "cell_type": "code",
   "execution_count": 56,
   "id": "5ac46d9d",
   "metadata": {},
   "outputs": [
    {
     "data": {
      "text/plain": [
       "[((',', 'and'), 2607),\n",
       " (('of', 'the'), 1847),\n",
       " ((\"'\", 's'), 1737),\n",
       " (('in', 'the'), 1120),\n",
       " ((',', 'the'), 908),\n",
       " ((';', 'and'), 853),\n",
       " (('to', 'the'), 712),\n",
       " (('.', 'But'), 596),\n",
       " ((',', 'that'), 584),\n",
       " (('.', '\"'), 557)]"
      ]
     },
     "execution_count": 56,
     "metadata": {},
     "output_type": "execute_result"
    }
   ],
   "source": [
    "fdist.most_common(10)"
   ]
  },
  {
   "cell_type": "code",
   "execution_count": null,
   "id": "a561f147",
   "metadata": {},
   "outputs": [],
   "source": [
    "fdist.plot(10)"
   ]
  },
  {
   "cell_type": "markdown",
   "id": "90e9d345",
   "metadata": {},
   "source": [
    "### Filtrando Bigramas"
   ]
  },
  {
   "cell_type": "code",
   "execution_count": 59,
   "id": "4e7e0b87",
   "metadata": {},
   "outputs": [
    {
     "data": {
      "image/png": "[encoded data removed]",
      "text/plain": [
       "<Figure size 432x288 with 1 Axes>"
      ]
     },
     "metadata": {
      "needs_background": "light"
     },
     "output_type": "display_data"
    },
    {
     "data": {
      "text/plain": [
       "<AxesSubplot:xlabel='Samples', ylabel='Counts'>"
      ]
     },
     "execution_count": 59,
     "metadata": {},
     "output_type": "execute_result"
    }
   ],
   "source": [
    "threshold = 2\n",
    "# Filtrar el bigrama segun la longitud de sus palabras en las dos posiciones\n",
    "fistered_bigrams = [bigram for bigram in md_bigrams if len(bigram[0]) > threshold and len(bigram[1]) > threshold]\n",
    "fistered_dist = FreqDist(fistered_bigrams)\n",
    "fistered_dist.plot(20)"
   ]
  },
  {
   "cell_type": "markdown",
   "id": "33ffffa0",
   "metadata": {},
   "source": [
    "### Trigramas\n",
    "\n",
    "Desarrollar ngramas es el primer paso para la construcción de algoritmos de clasificación de texto, ya que esto permite identificar colocaciones del lenguaje dentro del texto que se esta analizando."
   ]
  },
  {
   "cell_type": "code",
   "execution_count": 60,
   "id": "b3181dab",
   "metadata": {},
   "outputs": [
    {
     "data": {
      "text/plain": [
       "[((',', 'and', 'the'), 187),\n",
       " (('don', \"'\", 't'), 103),\n",
       " (('of', 'the', 'whale'), 101),\n",
       " ((',', 'in', 'the'), 93),\n",
       " ((',', 'then', ','), 87),\n",
       " (('whale', \"'\", 's'), 81),\n",
       " (('.', 'It', 'was'), 81),\n",
       " (('ship', \"'\", 's'), 80),\n",
       " (('the', 'Sperm', 'Whale'), 77),\n",
       " ((',', 'as', 'if'), 76)]"
      ]
     },
     "execution_count": 60,
     "metadata": {},
     "output_type": "execute_result"
    }
   ],
   "source": [
    "from nltk.util import ngrams\n",
    "md_trigrams = list(ngrams(text1,3))\n",
    "fdist = FreqDist(md_trigrams)\n",
    "fdist.most_common(10)"
   ]
  },
  {
   "cell_type": "code",
   "execution_count": 61,
   "id": "e9f83a15",
   "metadata": {
    "scrolled": true
   },
   "outputs": [
    {
     "data": {
      "image/png": "[encoded data removed]",
      "text/plain": [
       "<Figure size 432x288 with 1 Axes>"
      ]
     },
     "metadata": {
      "needs_background": "light"
     },
     "output_type": "display_data"
    },
    {
     "data": {
      "text/plain": [
       "<AxesSubplot:xlabel='Samples', ylabel='Counts'>"
      ]
     },
     "execution_count": 61,
     "metadata": {},
     "output_type": "execute_result"
    }
   ],
   "source": [
    "fdist.plot(10)"
   ]
  },
  {
   "cell_type": "markdown",
   "id": "9a8b3e25",
   "metadata": {},
   "source": [
    "## ¿Cómo identificar Colocaciones?\n",
    "- Son secuencias de palabras que suelen ocurrir en textos o conversaciones con una frecuencia inusualmente alta \n",
    "- Las colocaciones de una palabra son definiciones formales de donde se ubica tipicamente esa palabra."
   ]
  },
  {
   "cell_type": "markdown",
   "id": "3f6cbb44",
   "metadata": {},
   "source": [
    "**concordance**: Permite ver el contexto de la palabra al buscar la frase en donde aparece dentro del texto y retornarla\n"
   ]
  },
  {
   "cell_type": "code",
   "execution_count": 65,
   "id": "dd23e1e2",
   "metadata": {},
   "outputs": [
    {
     "name": "stdout",
     "output_type": "stream",
     "text": [
      "Displaying 11 of 11 matches:\n",
      "ong the former , one was of a most monstrous size . ... This came towards us , \n",
      "ON OF THE PSALMS . \" Touching that monstrous bulk of the whale or ork we have r\n",
      "ll over with a heathenish array of monstrous clubs and spears . Some were thick\n",
      "d as you gazed , and wondered what monstrous cannibal and savage could ever hav\n",
      "that has survived the flood ; most monstrous and most mountainous ! That Himmal\n",
      "they might scout at Moby Dick as a monstrous fable , or still worse and more de\n",
      "th of Radney .'\" CHAPTER 55 Of the Monstrous Pictures of Whales . I shall ere l\n",
      "ing Scenes . In connexion with the monstrous pictures of whales , I am strongly\n",
      "ere to enter upon those still more monstrous stories of them which are to be fo\n",
      "ght have been rummaged out of this monstrous cabinet there is no telling . But \n",
      "of Whale - Bones ; for Whales of a monstrous size are oftentimes cast up dead u\n"
     ]
    }
   ],
   "source": [
    "# Permite buscar el texto en donde se encuentra la palabra\n",
    "text1.concordance('monstrous')"
   ]
  },
  {
   "cell_type": "code",
   "execution_count": 64,
   "id": "f73db005",
   "metadata": {},
   "outputs": [
    {
     "name": "stdout",
     "output_type": "stream",
     "text": [
      "true contemptible christian abundant few part mean careful puzzled\n",
      "mystifying passing curious loving wise doleful gamesome singular\n",
      "delightfully perilous fearless\n"
     ]
    }
   ],
   "source": [
    "text1.similar(\"monstrous\")"
   ]
  },
  {
   "cell_type": "markdown",
   "id": "96421cce",
   "metadata": {},
   "source": [
    "**common_contexts**: Retorna una sucesión de palabras que dan contexto a dos palabras especificas."
   ]
  },
  {
   "cell_type": "code",
   "execution_count": 67,
   "id": "225cfa90",
   "metadata": {},
   "outputs": [
    {
     "name": "stdout",
     "output_type": "stream",
     "text": [
      "am_glad a_pretty a_lucky is_pretty be_glad\n"
     ]
    }
   ],
   "source": [
    "text2.common_contexts(['monstrous','very'])"
   ]
  },
  {
   "cell_type": "code",
   "execution_count": 68,
   "id": "1171fa7f",
   "metadata": {},
   "outputs": [],
   "source": [
    "df = pd.DataFrame()\n",
    "df['bi_grams'] = list(set(fistered_bigrams))"
   ]
  },
  {
   "cell_type": "code",
   "execution_count": 69,
   "id": "3f2830de",
   "metadata": {},
   "outputs": [
    {
     "data": {
      "text/html": [
       "<div>\n",
       "<style scoped>\n",
       "    .dataframe tbody tr th:only-of-type {\n",
       "        vertical-align: middle;\n",
       "    }\n",
       "\n",
       "    .dataframe tbody tr th {\n",
       "        vertical-align: top;\n",
       "    }\n",
       "\n",
       "    .dataframe thead th {\n",
       "        text-align: right;\n",
       "    }\n",
       "</style>\n",
       "<table border=\"1\" class=\"dataframe\">\n",
       "  <thead>\n",
       "    <tr style=\"text-align: right;\">\n",
       "      <th></th>\n",
       "      <th>bi_grams</th>\n",
       "    </tr>\n",
       "  </thead>\n",
       "  <tbody>\n",
       "    <tr>\n",
       "      <th>0</th>\n",
       "      <td>(rallied, again)</td>\n",
       "    </tr>\n",
       "    <tr>\n",
       "      <th>1</th>\n",
       "      <td>(they, themselves)</td>\n",
       "    </tr>\n",
       "    <tr>\n",
       "      <th>2</th>\n",
       "      <td>(hammered, steel)</td>\n",
       "    </tr>\n",
       "    <tr>\n",
       "      <th>3</th>\n",
       "      <td>(moody, phrase)</td>\n",
       "    </tr>\n",
       "    <tr>\n",
       "      <th>4</th>\n",
       "      <td>(least, palpable)</td>\n",
       "    </tr>\n",
       "    <tr>\n",
       "      <th>...</th>\n",
       "      <td>...</td>\n",
       "    </tr>\n",
       "    <tr>\n",
       "      <th>67937</th>\n",
       "      <td>(withstand, three)</td>\n",
       "    </tr>\n",
       "    <tr>\n",
       "      <th>67938</th>\n",
       "      <td>(some, intrepid)</td>\n",
       "    </tr>\n",
       "    <tr>\n",
       "      <th>67939</th>\n",
       "      <td>(now, kept)</td>\n",
       "    </tr>\n",
       "    <tr>\n",
       "      <th>67940</th>\n",
       "      <td>(say, \"--)</td>\n",
       "    </tr>\n",
       "    <tr>\n",
       "      <th>67941</th>\n",
       "      <td>(melting, sleet)</td>\n",
       "    </tr>\n",
       "  </tbody>\n",
       "</table>\n",
       "<p>67942 rows × 1 columns</p>\n",
       "</div>"
      ],
      "text/plain": [
       "                 bi_grams\n",
       "0        (rallied, again)\n",
       "1      (they, themselves)\n",
       "2       (hammered, steel)\n",
       "3         (moody, phrase)\n",
       "4       (least, palpable)\n",
       "...                   ...\n",
       "67937  (withstand, three)\n",
       "67938    (some, intrepid)\n",
       "67939         (now, kept)\n",
       "67940          (say, \"--)\n",
       "67941    (melting, sleet)\n",
       "\n",
       "[67942 rows x 1 columns]"
      ]
     },
     "execution_count": 69,
     "metadata": {},
     "output_type": "execute_result"
    }
   ],
   "source": [
    "df"
   ]
  },
  {
   "cell_type": "code",
   "execution_count": null,
   "id": "b32382af",
   "metadata": {},
   "outputs": [],
   "source": []
  }
 ],
 "metadata": {
  "kernelspec": {
   "display_name": "Python 3",
   "language": "python",
   "name": "python3"
  },
  "language_info": {
   "codemirror_mode": {
    "name": "ipython",
    "version": 3
   },
   "file_extension": ".py",
   "mimetype": "text/x-python",
   "name": "python",
   "nbconvert_exporter": "python",
   "pygments_lexer": "ipython3",
   "version": "3.8.8"
  }
 },
 "nbformat": 4,
 "nbformat_minor": 5
}
