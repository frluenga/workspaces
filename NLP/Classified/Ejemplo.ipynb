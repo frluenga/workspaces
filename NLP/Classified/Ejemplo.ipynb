{
 "cells": [
  {
   "cell_type": "code",
   "execution_count": 25,
   "id": "78ef6708",
   "metadata": {},
   "outputs": [],
   "source": [
    "import nltk\n",
    "import numpy as np\n",
    "from nltk.corpus import stopwords"
   ]
  },
  {
   "cell_type": "code",
   "execution_count": 26,
   "id": "9106cf31",
   "metadata": {},
   "outputs": [],
   "source": [
    "with open('all_balanced.review','r',encoding='utf-8') as f:\n",
    "    text = f.read()"
   ]
  },
  {
   "cell_type": "code",
   "execution_count": 27,
   "id": "f2cf0ef2",
   "metadata": {},
   "outputs": [],
   "source": [
    "bag_of_words = []\n",
    "\n",
    "for line in text.split('\\n'):\n",
    "    seq = line.split('#label#:')\n",
    "    if len(seq)==2:\n",
    "        for key_value in seq[0].split(' '):\n",
    "            bag_of_words.append(key_value.split(':')[0])\n",
    "stopwords = stopwords.words('english')\n",
    "bag_of_words = [w for w in bag_of_words if w.lower() not in stopwords] # Quitamos las stopwords\n",
    "fdist = nltk.FreqDist(bag_of_words) # Sacamos las frecuencias\n",
    "reduced_bow = [w for w in set(bag_of_words) if fdist[w]>50] # Separamos frecuencias que tengan mas de 50 repeticiones \n",
    "bigram_text = nltk.Text(bag_of_words) # Sacamos los biogramas\n",
    "bigrams = list(nltk.bigrams(bigram_text))\n",
    "top_bigrams = (nltk.FreqDist(bigrams)).most_common(250)"
   ]
  },
  {
   "cell_type": "code",
   "execution_count": 35,
   "id": "aee54603",
   "metadata": {},
   "outputs": [],
   "source": [
    "vectors = []\n",
    "labels = []\n",
    "\n",
    "for line in text.split('\\n'):\n",
    "    seq = line.split('#label#:')\n",
    "    if len(seq)== 2:\n",
    "        line_dict = {keyval.split(':')[0]:int(keyval.split(':')[1]) for keyval in seq[0].split(' ') if len(keyval.split(':'))==2}\n",
    "        line_vector = []\n",
    "        for word in reduced_bow:\n",
    "            if word in line_dict.keys():\n",
    "                \n",
    "                line_vector.append(line_dict[word])\n",
    "            else:\n",
    "                line_vector.append(0)\n",
    "        vectors.append(line_vector)\n",
    "        labels.append(float(seq[1]))\n",
    "        \n",
    "        bigram_text = nltk.Text(line_dict.keys())\n",
    "        bigrams = list(nltk.bigrams(bigram_text))\n",
    "        for word in top_bigrams:\n",
    "            if word in bigrams:\n",
    "                line_vector.append(1)\n",
    "            else:\n",
    "                line_vector.append(0)\n",
    "        vectors.append(line_vector)\n",
    "        labels.append(float(seq[1]))\n",
    "    \n",
    "vectors = np.array(vectors)\n"
   ]
  },
  {
   "cell_type": "code",
   "execution_count": 41,
   "id": "0a000029",
   "metadata": {},
   "outputs": [
    {
     "name": "stdout",
     "output_type": "stream",
     "text": [
      "Score for RandomForestClassifier = 0.8845979100408905\n"
     ]
    }
   ],
   "source": [
    "from sklearn.model_selection import train_test_split\n",
    "\n",
    "train_vectors, test_vectors, train_labels, test_labels = train_test_split(vectors, labels, test_size=0.2, random_state=42)\n",
    "\n",
    "from sklearn.ensemble import RandomForestClassifier\n",
    "\n",
    "clf = RandomForestClassifier().fit(train_vectors, train_labels)\n",
    "print('Score for RandomForestClassifier = {}'.format(clf.score(test_vectors, test_labels)))"
   ]
  },
  {
   "cell_type": "code",
   "execution_count": 52,
   "id": "35d5b039",
   "metadata": {},
   "outputs": [
    {
     "data": {
      "text/plain": [
       "list"
      ]
     },
     "execution_count": 52,
     "metadata": {},
     "output_type": "execute_result"
    }
   ],
   "source": [
    "type(labels)"
   ]
  }
 ],
 "metadata": {
  "kernelspec": {
   "display_name": "Python 3",
   "language": "python",
   "name": "python3"
  },
  "language_info": {
   "codemirror_mode": {
    "name": "ipython",
    "version": 3
   },
   "file_extension": ".py",
   "mimetype": "text/x-python",
   "name": "python",
   "nbconvert_exporter": "python",
   "pygments_lexer": "ipython3",
   "version": "3.8.8"
  }
 },
 "nbformat": 4,
 "nbformat_minor": 5
}
