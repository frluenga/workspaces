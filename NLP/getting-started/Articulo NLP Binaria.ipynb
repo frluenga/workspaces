{
 "cells": [
  {
   "cell_type": "markdown",
   "id": "b0116367",
   "metadata": {},
   "source": [
    "# Tecnicas de Clasificación de Texto\n",
    "#### *Categoria:* *Machine Learning, NLP*\n",
    "    Ing. Luengas R. Fabian\n",
    "\n",
    "En este articulo discutiremos acerca de diferentes flujos de procesamiento de texto que nos permitan entrenar y obtener el mejor rendimiento de un modelo de clasificación binaria, aplicando tambien tecnicas Machine Learning. Las tecnicas que trataremos ya han sido estudiadas con anterioridad y garantizan un buen rendimiento según las particularidades de cada caso de clasificación, por tanto, tambien trataremos los diferentes tipos de modelos de clasificación.\n",
    "\n",
    "Para esta revisión utilizaremos el dataset publico de www.kaggle.com donde se recopilan tweets que tratan o no de eventos catalogados como desastres climaticos."
   ]
  },
  {
   "cell_type": "markdown",
   "id": "7b92c3ef",
   "metadata": {},
   "source": [
    "### Librerias"
   ]
  },
  {
   "cell_type": "code",
   "execution_count": 146,
   "id": "a20cd7bb",
   "metadata": {},
   "outputs": [],
   "source": [
    "import numpy as np\n",
    "import pandas as pd\n",
    "import re\n",
    "\n",
    "import nltk\n",
    "from nltk import word_tokenize\n",
    "from nltk.corpus import stopwords\n",
    "from nltk.collocations import *\n",
    "from nltk.stem import WordNetLemmatizer\n",
    "\n",
    "\n",
    "from sklearn import linear_model, model_selection, preprocessing\n",
    "from sklearn.linear_model import LogisticRegression\n",
    "from sklearn.pipeline import Pipeline\n",
    "from sklearn.model_selection import train_test_split\n",
    "from sklearn.model_selection import KFold\n",
    "from sklearn.model_selection import cross_val_predict\n",
    "from sklearn.metrics import plot_confusion_matrix, classification_report\n",
    "from sklearn import svm\n",
    "\n",
    "\n",
    "from tensorflow import keras\n",
    "from keras import models,layers,optimizers\n",
    "from keras import regularizers \n",
    "\n",
    "import matplotlib.pyplot as plt\n",
    "import seaborn as sns"
   ]
  },
  {
   "cell_type": "markdown",
   "id": "36921467",
   "metadata": {},
   "source": [
    "Cargamos los dos datasets, uno destinado para el entrenamiento y validación y el otro destinado para el testeo del modelo."
   ]
  },
  {
   "cell_type": "code",
   "execution_count": 147,
   "id": "8d7dcf0a",
   "metadata": {},
   "outputs": [],
   "source": [
    "train_df = pd.read_csv('C:\\\\Users\\\\GAMER\\\\Documents\\\\Development\\\\Python\\\\notebook\\\\NLP\\\\getting-started\\\\train.csv')\n",
    "test_df = pd.read_csv('C:\\\\Users\\\\GAMER\\\\Documents\\\\Development\\\\Python\\\\notebook\\\\NLP\\\\getting-started\\\\test.csv')"
   ]
  },
  {
   "cell_type": "markdown",
   "id": "ae5dab65",
   "metadata": {},
   "source": [
    "### EDA: Analisis Exploratorio de Datos"
   ]
  },
  {
   "cell_type": "code",
   "execution_count": 148,
   "id": "4a53cd66",
   "metadata": {},
   "outputs": [
    {
     "data": {
      "text/html": [
       "<div>\n",
       "<style scoped>\n",
       "    .dataframe tbody tr th:only-of-type {\n",
       "        vertical-align: middle;\n",
       "    }\n",
       "\n",
       "    .dataframe tbody tr th {\n",
       "        vertical-align: top;\n",
       "    }\n",
       "\n",
       "    .dataframe thead th {\n",
       "        text-align: right;\n",
       "    }\n",
       "</style>\n",
       "<table border=\"1\" class=\"dataframe\">\n",
       "  <thead>\n",
       "    <tr style=\"text-align: right;\">\n",
       "      <th></th>\n",
       "      <th>id</th>\n",
       "      <th>keyword</th>\n",
       "      <th>location</th>\n",
       "      <th>text</th>\n",
       "      <th>target</th>\n",
       "    </tr>\n",
       "  </thead>\n",
       "  <tbody>\n",
       "    <tr>\n",
       "      <th>0</th>\n",
       "      <td>1</td>\n",
       "      <td>NaN</td>\n",
       "      <td>NaN</td>\n",
       "      <td>Our Deeds are the Reason of this #earthquake M...</td>\n",
       "      <td>1</td>\n",
       "    </tr>\n",
       "    <tr>\n",
       "      <th>1</th>\n",
       "      <td>4</td>\n",
       "      <td>NaN</td>\n",
       "      <td>NaN</td>\n",
       "      <td>Forest fire near La Ronge Sask. Canada</td>\n",
       "      <td>1</td>\n",
       "    </tr>\n",
       "    <tr>\n",
       "      <th>2</th>\n",
       "      <td>5</td>\n",
       "      <td>NaN</td>\n",
       "      <td>NaN</td>\n",
       "      <td>All residents asked to 'shelter in place' are ...</td>\n",
       "      <td>1</td>\n",
       "    </tr>\n",
       "    <tr>\n",
       "      <th>3</th>\n",
       "      <td>6</td>\n",
       "      <td>NaN</td>\n",
       "      <td>NaN</td>\n",
       "      <td>13,000 people receive #wildfires evacuation or...</td>\n",
       "      <td>1</td>\n",
       "    </tr>\n",
       "    <tr>\n",
       "      <th>4</th>\n",
       "      <td>7</td>\n",
       "      <td>NaN</td>\n",
       "      <td>NaN</td>\n",
       "      <td>Just got sent this photo from Ruby #Alaska as ...</td>\n",
       "      <td>1</td>\n",
       "    </tr>\n",
       "  </tbody>\n",
       "</table>\n",
       "</div>"
      ],
      "text/plain": [
       "   id keyword location                                               text  \\\n",
       "0   1     NaN      NaN  Our Deeds are the Reason of this #earthquake M...   \n",
       "1   4     NaN      NaN             Forest fire near La Ronge Sask. Canada   \n",
       "2   5     NaN      NaN  All residents asked to 'shelter in place' are ...   \n",
       "3   6     NaN      NaN  13,000 people receive #wildfires evacuation or...   \n",
       "4   7     NaN      NaN  Just got sent this photo from Ruby #Alaska as ...   \n",
       "\n",
       "   target  \n",
       "0       1  \n",
       "1       1  \n",
       "2       1  \n",
       "3       1  \n",
       "4       1  "
      ]
     },
     "execution_count": 148,
     "metadata": {},
     "output_type": "execute_result"
    }
   ],
   "source": [
    "train_df.head(5)"
   ]
  },
  {
   "cell_type": "code",
   "execution_count": 149,
   "id": "132d541a",
   "metadata": {},
   "outputs": [
    {
     "data": {
      "text/plain": [
       "\"All residents asked to 'shelter in place' are being notified by officers. No other evacuation or shelter in place orders are expected\""
      ]
     },
     "execution_count": 149,
     "metadata": {},
     "output_type": "execute_result"
    }
   ],
   "source": [
    "train_df[train_df['target'] == 1]['text'].values[2]"
   ]
  },
  {
   "cell_type": "code",
   "execution_count": 150,
   "id": "c21b6dfe",
   "metadata": {},
   "outputs": [
    {
     "data": {
      "text/plain": [
       "'Summer is lovely'"
      ]
     },
     "execution_count": 150,
     "metadata": {},
     "output_type": "execute_result"
    }
   ],
   "source": [
    "train_df[train_df['target'] == 0]['text'].values[2]"
   ]
  },
  {
   "cell_type": "code",
   "execution_count": 151,
   "id": "7567c301",
   "metadata": {},
   "outputs": [
    {
     "data": {
      "text/plain": [
       "id          0.000000\n",
       "keyword     0.008013\n",
       "location    0.332720\n",
       "text        0.000000\n",
       "target      0.000000\n",
       "dtype: float64"
      ]
     },
     "execution_count": 151,
     "metadata": {},
     "output_type": "execute_result"
    }
   ],
   "source": [
    "train_df.isna().sum(axis=0)/len(train_df)"
   ]
  },
  {
   "cell_type": "code",
   "execution_count": 152,
   "id": "8dada265",
   "metadata": {},
   "outputs": [
    {
     "data": {
      "text/html": [
       "<div>\n",
       "<style scoped>\n",
       "    .dataframe tbody tr th:only-of-type {\n",
       "        vertical-align: middle;\n",
       "    }\n",
       "\n",
       "    .dataframe tbody tr th {\n",
       "        vertical-align: top;\n",
       "    }\n",
       "\n",
       "    .dataframe thead th {\n",
       "        text-align: right;\n",
       "    }\n",
       "</style>\n",
       "<table border=\"1\" class=\"dataframe\">\n",
       "  <thead>\n",
       "    <tr style=\"text-align: right;\">\n",
       "      <th></th>\n",
       "      <th>id</th>\n",
       "      <th>keyword</th>\n",
       "      <th>location</th>\n",
       "      <th>text</th>\n",
       "      <th>target</th>\n",
       "    </tr>\n",
       "  </thead>\n",
       "  <tbody>\n",
       "    <tr>\n",
       "      <th>0</th>\n",
       "      <td>1</td>\n",
       "      <td>NaN</td>\n",
       "      <td>NaN</td>\n",
       "      <td>Our Deeds are the Reason of this #earthquake M...</td>\n",
       "      <td>1</td>\n",
       "    </tr>\n",
       "    <tr>\n",
       "      <th>1</th>\n",
       "      <td>4</td>\n",
       "      <td>NaN</td>\n",
       "      <td>NaN</td>\n",
       "      <td>Forest fire near La Ronge Sask. Canada</td>\n",
       "      <td>1</td>\n",
       "    </tr>\n",
       "    <tr>\n",
       "      <th>2</th>\n",
       "      <td>5</td>\n",
       "      <td>NaN</td>\n",
       "      <td>NaN</td>\n",
       "      <td>All residents asked to 'shelter in place' are ...</td>\n",
       "      <td>1</td>\n",
       "    </tr>\n",
       "    <tr>\n",
       "      <th>3</th>\n",
       "      <td>6</td>\n",
       "      <td>NaN</td>\n",
       "      <td>NaN</td>\n",
       "      <td>13,000 people receive #wildfires evacuation or...</td>\n",
       "      <td>1</td>\n",
       "    </tr>\n",
       "    <tr>\n",
       "      <th>4</th>\n",
       "      <td>7</td>\n",
       "      <td>NaN</td>\n",
       "      <td>NaN</td>\n",
       "      <td>Just got sent this photo from Ruby #Alaska as ...</td>\n",
       "      <td>1</td>\n",
       "    </tr>\n",
       "    <tr>\n",
       "      <th>...</th>\n",
       "      <td>...</td>\n",
       "      <td>...</td>\n",
       "      <td>...</td>\n",
       "      <td>...</td>\n",
       "      <td>...</td>\n",
       "    </tr>\n",
       "    <tr>\n",
       "      <th>7608</th>\n",
       "      <td>10869</td>\n",
       "      <td>NaN</td>\n",
       "      <td>NaN</td>\n",
       "      <td>Two giant cranes holding a bridge collapse int...</td>\n",
       "      <td>1</td>\n",
       "    </tr>\n",
       "    <tr>\n",
       "      <th>7609</th>\n",
       "      <td>10870</td>\n",
       "      <td>NaN</td>\n",
       "      <td>NaN</td>\n",
       "      <td>@aria_ahrary @TheTawniest The out of control w...</td>\n",
       "      <td>1</td>\n",
       "    </tr>\n",
       "    <tr>\n",
       "      <th>7610</th>\n",
       "      <td>10871</td>\n",
       "      <td>NaN</td>\n",
       "      <td>NaN</td>\n",
       "      <td>M1.94 [01:04 UTC]?5km S of Volcano Hawaii. htt...</td>\n",
       "      <td>1</td>\n",
       "    </tr>\n",
       "    <tr>\n",
       "      <th>7611</th>\n",
       "      <td>10872</td>\n",
       "      <td>NaN</td>\n",
       "      <td>NaN</td>\n",
       "      <td>Police investigating after an e-bike collided ...</td>\n",
       "      <td>1</td>\n",
       "    </tr>\n",
       "    <tr>\n",
       "      <th>7612</th>\n",
       "      <td>10873</td>\n",
       "      <td>NaN</td>\n",
       "      <td>NaN</td>\n",
       "      <td>The Latest: More Homes Razed by Northern Calif...</td>\n",
       "      <td>1</td>\n",
       "    </tr>\n",
       "  </tbody>\n",
       "</table>\n",
       "<p>2533 rows × 5 columns</p>\n",
       "</div>"
      ],
      "text/plain": [
       "         id keyword location  \\\n",
       "0         1     NaN      NaN   \n",
       "1         4     NaN      NaN   \n",
       "2         5     NaN      NaN   \n",
       "3         6     NaN      NaN   \n",
       "4         7     NaN      NaN   \n",
       "...     ...     ...      ...   \n",
       "7608  10869     NaN      NaN   \n",
       "7609  10870     NaN      NaN   \n",
       "7610  10871     NaN      NaN   \n",
       "7611  10872     NaN      NaN   \n",
       "7612  10873     NaN      NaN   \n",
       "\n",
       "                                                   text  target  \n",
       "0     Our Deeds are the Reason of this #earthquake M...       1  \n",
       "1                Forest fire near La Ronge Sask. Canada       1  \n",
       "2     All residents asked to 'shelter in place' are ...       1  \n",
       "3     13,000 people receive #wildfires evacuation or...       1  \n",
       "4     Just got sent this photo from Ruby #Alaska as ...       1  \n",
       "...                                                 ...     ...  \n",
       "7608  Two giant cranes holding a bridge collapse int...       1  \n",
       "7609  @aria_ahrary @TheTawniest The out of control w...       1  \n",
       "7610  M1.94 [01:04 UTC]?5km S of Volcano Hawaii. htt...       1  \n",
       "7611  Police investigating after an e-bike collided ...       1  \n",
       "7612  The Latest: More Homes Razed by Northern Calif...       1  \n",
       "\n",
       "[2533 rows x 5 columns]"
      ]
     },
     "execution_count": 152,
     "metadata": {},
     "output_type": "execute_result"
    }
   ],
   "source": [
    "train_df[train_df['location'].isna()]"
   ]
  },
  {
   "cell_type": "code",
   "execution_count": 153,
   "id": "342a00e6",
   "metadata": {},
   "outputs": [
    {
     "data": {
      "text/plain": [
       "0    57.034021\n",
       "1    42.965979\n",
       "Name: target, dtype: float64"
      ]
     },
     "execution_count": 153,
     "metadata": {},
     "output_type": "execute_result"
    }
   ],
   "source": [
    "train_df.target.value_counts()/(len(train_df.target))*100"
   ]
  },
  {
   "cell_type": "code",
   "execution_count": 154,
   "id": "1aceebfe",
   "metadata": {},
   "outputs": [
    {
     "data": {
      "image/png": "[encoded data removed]",
      "text/plain": [
       "<Figure size 360x360 with 1 Axes>"
      ]
     },
     "metadata": {
      "needs_background": "light"
     },
     "output_type": "display_data"
    }
   ],
   "source": [
    "g = sns.catplot(x='target',kind='count',palette=\"ch:s=.25,rot=-.25\",hue_order='target',data=train_df)"
   ]
  },
  {
   "cell_type": "markdown",
   "id": "8e87bd29",
   "metadata": {},
   "source": [
    "    TFIDF, LSA, LSTM / RNNs"
   ]
  },
  {
   "cell_type": "code",
   "execution_count": 165,
   "id": "6bac4321",
   "metadata": {},
   "outputs": [],
   "source": [
    "train_x = train_df.text\n",
    "train_y = train_df.target"
   ]
  },
  {
   "cell_type": "markdown",
   "id": "301a8926",
   "metadata": {},
   "source": [
    "Canalizaciones. Desarrollo de una lógica especifica de procesamiento de datos de tipo texto para incluir en un pipeline.\n",
    "\n",
    "Se crea una clase de nuestro transformador de texto customizado, este transformador hereda los metodos de las clases BaseEstimator y TransformerMixin.\n",
    "\n",
    "Los metodos relevantes que se heradan son:\n"
   ]
  },
  {
   "cell_type": "code",
   "execution_count": 178,
   "id": "bdc6aa8b",
   "metadata": {},
   "outputs": [],
   "source": [
    "def tokenize(X,y=None):\n",
    "    tokenizer = nltk.RegexpTokenizer('\\w+')\n",
    "    X_ = []\n",
    "    for i in X:\n",
    "        X_.append(tokenizer.tokenize(i))\n",
    "    return X_\n",
    "\n",
    "def delete_stopwords(X,y=None):\n",
    "    stopwords_ = stopwords.words('english')\n",
    "    X_ = []\n",
    "    for i in X:\n",
    "        bag = [w.lower() for w in i if w.lower() not in stopwords_]\n",
    "        X_.append(bag)\n",
    "    return X_\n",
    "\n",
    "def stopwords_percentage(text):\n",
    "    stopwd = stopwords.words('english')\n",
    "    content = [w for l in text for w in l if w.lower() in stopwd]\n",
    "    total = [w for l in text for w in l if w.lower()]\n",
    "    return len(content)/len(total)\n",
    "\n",
    "def riqueza_lexica(text):\n",
    "    text = [w for l in text for w in l]\n",
    "    vocabulario = sorted(set(text))\n",
    "    return len(vocabulario)/len(text)\n",
    "\n",
    "def get_n_grams_collocations_from_words (words, freq_filter = 20, n_best= 50,\n",
    "                                       n_gran_measure = nltk.collocations.BigramAssocMeasures()):\n",
    "    finder = BigramCollocationFinder.from_words(words)\n",
    "    finder.apply_freq_filter(freq_filter)\n",
    "    tweets_collocations = finder.nbest(n_gran_measure.pmi, n_best)\n",
    "    return tweets_collocations\n",
    "\n",
    "def do_bigrams(text):\n",
    "    lista = []\n",
    "    for row in text:\n",
    "        lista.append(list(nltk.bigrams(row)))\n",
    "    return lista\n",
    "\n",
    "def build_vectors(train_x,feature_vector,doble=True):\n",
    "    train_vectors = []\n",
    "    for lista in train_x:\n",
    "        sentences_vectors = []\n",
    "        if doble:\n",
    "            for word,freq in feature_vector:\n",
    "                \n",
    "                if word in lista:\n",
    "                    sentences_vectors.append(1)\n",
    "                else:\n",
    "                    sentences_vectors.append(0)\n",
    "        else:\n",
    "            for word in feature_vector:\n",
    "                if word in lista:\n",
    "                    sentences_vectors.append(1)\n",
    "                else:\n",
    "                    sentences_vectors.append(0)\n",
    "                    \n",
    "        train_vectors.append(sentences_vectors)\n",
    "    return train_vectors\n",
    "\n",
    "def lemmatizer(train_x):\n",
    "    lemmatizer = WordNetLemmatizer()\n",
    "    lista = []\n",
    "    for l in train_x:\n",
    "        temp = [lemmatizer.lemmatize(w) for w in l]\n",
    "        lista.append(temp)\n",
    "    return lista\n",
    "    \n",
    "\n",
    "# train_x = tokenize(train_x)"
   ]
  },
  {
   "cell_type": "code",
   "execution_count": 167,
   "id": "b81d9a21",
   "metadata": {},
   "outputs": [
    {
     "data": {
      "text/plain": [
       "0.3330616701137141"
      ]
     },
     "execution_count": 167,
     "metadata": {},
     "output_type": "execute_result"
    }
   ],
   "source": [
    "porc_s = stopwords_percentage(train_x)\n",
    "porc_s"
   ]
  },
  {
   "cell_type": "code",
   "execution_count": 168,
   "id": "f053fcb3",
   "metadata": {},
   "outputs": [],
   "source": [
    "train_x = delete_stopwords(train_x)"
   ]
  },
  {
   "cell_type": "code",
   "execution_count": 169,
   "id": "4f67c1ca",
   "metadata": {},
   "outputs": [
    {
     "data": {
      "text/plain": [
       "0.24821313289679978"
      ]
     },
     "execution_count": 169,
     "metadata": {},
     "output_type": "execute_result"
    }
   ],
   "source": [
    "riq = riqueza_lexica(train_x)\n",
    "riq"
   ]
  },
  {
   "cell_type": "code",
   "execution_count": 179,
   "id": "5ee2123f",
   "metadata": {},
   "outputs": [],
   "source": [
    "train_x = lemmatizer(train_x)"
   ]
  },
  {
   "cell_type": "code",
   "execution_count": 161,
   "id": "2133208a",
   "metadata": {},
   "outputs": [],
   "source": [
    "flatten = [w for l in train_x for w in l]"
   ]
  },
  {
   "cell_type": "code",
   "execution_count": 180,
   "id": "ff89d66f",
   "metadata": {},
   "outputs": [
    {
     "data": {
      "text/plain": [
       "0.23403347781979156"
      ]
     },
     "execution_count": 180,
     "metadata": {},
     "output_type": "execute_result"
    }
   ],
   "source": [
    "riq = riqueza_lexica(train_x)\n",
    "riq"
   ]
  },
  {
   "cell_type": "markdown",
   "id": "5e28865d",
   "metadata": {},
   "source": [
    "### Transformación de los datos.\n",
    "\n",
    "Los modelos de machine learning reciben como entrada vectores (Matrices de numeros) con los cuales desarrollan una serie de operaciones matematicas con el unico objetivo de ajustar un resultado, este resultado puede ser la clasificiación de una etiqueta en especifico o intentar acercarse a un valor determinado.\n",
    "\n",
    "Para el caso del lenguaje natural, las palabras representan nuestras variables o caracteristicas que seran los insumos del modelo para operar, por tanto, deben transformarce de tal forma que estos modelos puedan hacer operaciones con ellas, a esto se le conoce como vectorización del texto. A continuación se ilustrará 3 formas validas para llevar a cabo este proceso.\n",
    "\n",
    "#### Codificación One-Hot-Encoding.\n",
    "Este tipo de transformación genera como resultado un vector disperso, ya que esta tecnica despliega un vector de cierto palabras donde se evalua la aparición "
   ]
  },
  {
   "cell_type": "code",
   "execution_count": 181,
   "id": "fe12a57e",
   "metadata": {},
   "outputs": [],
   "source": [
    "dict_freq_words = nltk.FreqDist(flatten)\n",
    "feature_vector = dict_freq_words.most_common(300)"
   ]
  },
  {
   "cell_type": "code",
   "execution_count": 182,
   "id": "8cb02761",
   "metadata": {},
   "outputs": [],
   "source": [
    "train_vectors = build_vectors(train_x,feature_vector)\n",
    "train_vectors = np.asarray(train_vectors).astype('float32')\n",
    "train_y = np.asarray(train_y).reshape(7613,1).astype('float32')"
   ]
  },
  {
   "cell_type": "code",
   "execution_count": 183,
   "id": "eeaee3fa",
   "metadata": {
    "scrolled": true
   },
   "outputs": [
    {
     "name": "stderr",
     "output_type": "stream",
     "text": [
      "C:\\Users\\GAMER\\anaconda3\\envs\\dataAnalyst\\lib\\site-packages\\sklearn\\utils\\validation.py:63: DataConversionWarning: A column-vector y was passed when a 1d array was expected. Please change the shape of y to (n_samples, ), for example using ravel().\n",
      "  return f(*args, **kwargs)\n",
      "C:\\Users\\GAMER\\anaconda3\\envs\\dataAnalyst\\lib\\site-packages\\sklearn\\utils\\validation.py:63: DataConversionWarning: A column-vector y was passed when a 1d array was expected. Please change the shape of y to (n_samples, ), for example using ravel().\n",
      "  return f(*args, **kwargs)\n",
      "C:\\Users\\GAMER\\anaconda3\\envs\\dataAnalyst\\lib\\site-packages\\sklearn\\utils\\validation.py:63: DataConversionWarning: A column-vector y was passed when a 1d array was expected. Please change the shape of y to (n_samples, ), for example using ravel().\n",
      "  return f(*args, **kwargs)\n",
      "C:\\Users\\GAMER\\anaconda3\\envs\\dataAnalyst\\lib\\site-packages\\sklearn\\utils\\validation.py:63: DataConversionWarning: A column-vector y was passed when a 1d array was expected. Please change the shape of y to (n_samples, ), for example using ravel().\n",
      "  return f(*args, **kwargs)\n",
      "C:\\Users\\GAMER\\anaconda3\\envs\\dataAnalyst\\lib\\site-packages\\sklearn\\utils\\validation.py:63: DataConversionWarning: A column-vector y was passed when a 1d array was expected. Please change the shape of y to (n_samples, ), for example using ravel().\n",
      "  return f(*args, **kwargs)\n",
      "C:\\Users\\GAMER\\anaconda3\\envs\\dataAnalyst\\lib\\site-packages\\sklearn\\utils\\validation.py:63: DataConversionWarning: A column-vector y was passed when a 1d array was expected. Please change the shape of y to (n_samples, ), for example using ravel().\n",
      "  return f(*args, **kwargs)\n",
      "C:\\Users\\GAMER\\anaconda3\\envs\\dataAnalyst\\lib\\site-packages\\sklearn\\utils\\validation.py:63: DataConversionWarning: A column-vector y was passed when a 1d array was expected. Please change the shape of y to (n_samples, ), for example using ravel().\n",
      "  return f(*args, **kwargs)\n",
      "C:\\Users\\GAMER\\anaconda3\\envs\\dataAnalyst\\lib\\site-packages\\sklearn\\utils\\validation.py:63: DataConversionWarning: A column-vector y was passed when a 1d array was expected. Please change the shape of y to (n_samples, ), for example using ravel().\n",
      "  return f(*args, **kwargs)\n",
      "C:\\Users\\GAMER\\anaconda3\\envs\\dataAnalyst\\lib\\site-packages\\sklearn\\utils\\validation.py:63: DataConversionWarning: A column-vector y was passed when a 1d array was expected. Please change the shape of y to (n_samples, ), for example using ravel().\n",
      "  return f(*args, **kwargs)\n",
      "C:\\Users\\GAMER\\anaconda3\\envs\\dataAnalyst\\lib\\site-packages\\sklearn\\utils\\validation.py:63: DataConversionWarning: A column-vector y was passed when a 1d array was expected. Please change the shape of y to (n_samples, ), for example using ravel().\n",
      "  return f(*args, **kwargs)\n"
     ]
    },
    {
     "data": {
      "text/plain": [
       "[0.7309711286089239,\n",
       " 0.7637795275590551,\n",
       " 0.7795275590551181,\n",
       " 0.7437582128777924,\n",
       " 0.7437582128777924,\n",
       " 0.7792378449408672,\n",
       " 0.7739816031537451,\n",
       " 0.7608409986859396,\n",
       " 0.7490144546649146,\n",
       " 0.759526938239159]"
      ]
     },
     "execution_count": 183,
     "metadata": {},
     "output_type": "execute_result"
    }
   ],
   "source": [
    "scores = []\n",
    "cv = KFold(n_splits=10,random_state=42,shuffle=True)\n",
    "for train_index, test_index in cv.split(train_vectors):\n",
    "    \n",
    "    X_train, X_test, y_train, y_test = train_vectors[train_index], train_vectors[test_index], train_y[train_index], train_y[test_index]\n",
    "    \n",
    "    clf.fit(X_train,y_train)\n",
    "    scores.append(clf.score(X_test,y_test))\n",
    "\n",
    "scores    "
   ]
  },
  {
   "cell_type": "code",
   "execution_count": 109,
   "id": "b3e3938a",
   "metadata": {
    "collapsed": true
   },
   "outputs": [
    {
     "name": "stderr",
     "output_type": "stream",
     "text": [
      "C:\\Users\\GAMER\\anaconda3\\envs\\dataAnalyst\\lib\\site-packages\\sklearn\\utils\\validation.py:63: DataConversionWarning: A column-vector y was passed when a 1d array was expected. Please change the shape of y to (n_samples, ), for example using ravel().\n",
      "  return f(*args, **kwargs)\n",
      "C:\\Users\\GAMER\\anaconda3\\envs\\dataAnalyst\\lib\\site-packages\\sklearn\\utils\\validation.py:63: DataConversionWarning: A column-vector y was passed when a 1d array was expected. Please change the shape of y to (n_samples, ), for example using ravel().\n",
      "  return f(*args, **kwargs)\n",
      "C:\\Users\\GAMER\\anaconda3\\envs\\dataAnalyst\\lib\\site-packages\\sklearn\\utils\\validation.py:63: DataConversionWarning: A column-vector y was passed when a 1d array was expected. Please change the shape of y to (n_samples, ), for example using ravel().\n",
      "  return f(*args, **kwargs)\n",
      "C:\\Users\\GAMER\\anaconda3\\envs\\dataAnalyst\\lib\\site-packages\\sklearn\\utils\\validation.py:63: DataConversionWarning: A column-vector y was passed when a 1d array was expected. Please change the shape of y to (n_samples, ), for example using ravel().\n",
      "  return f(*args, **kwargs)\n",
      "C:\\Users\\GAMER\\anaconda3\\envs\\dataAnalyst\\lib\\site-packages\\sklearn\\utils\\validation.py:63: DataConversionWarning: A column-vector y was passed when a 1d array was expected. Please change the shape of y to (n_samples, ), for example using ravel().\n",
      "  return f(*args, **kwargs)\n",
      "C:\\Users\\GAMER\\anaconda3\\envs\\dataAnalyst\\lib\\site-packages\\sklearn\\utils\\validation.py:63: DataConversionWarning: A column-vector y was passed when a 1d array was expected. Please change the shape of y to (n_samples, ), for example using ravel().\n",
      "  return f(*args, **kwargs)\n",
      "C:\\Users\\GAMER\\anaconda3\\envs\\dataAnalyst\\lib\\site-packages\\sklearn\\utils\\validation.py:63: DataConversionWarning: A column-vector y was passed when a 1d array was expected. Please change the shape of y to (n_samples, ), for example using ravel().\n",
      "  return f(*args, **kwargs)\n",
      "C:\\Users\\GAMER\\anaconda3\\envs\\dataAnalyst\\lib\\site-packages\\sklearn\\utils\\validation.py:63: DataConversionWarning: A column-vector y was passed when a 1d array was expected. Please change the shape of y to (n_samples, ), for example using ravel().\n",
      "  return f(*args, **kwargs)\n",
      "C:\\Users\\GAMER\\anaconda3\\envs\\dataAnalyst\\lib\\site-packages\\sklearn\\utils\\validation.py:63: DataConversionWarning: A column-vector y was passed when a 1d array was expected. Please change the shape of y to (n_samples, ), for example using ravel().\n",
      "  return f(*args, **kwargs)\n",
      "C:\\Users\\GAMER\\anaconda3\\envs\\dataAnalyst\\lib\\site-packages\\sklearn\\utils\\validation.py:63: DataConversionWarning: A column-vector y was passed when a 1d array was expected. Please change the shape of y to (n_samples, ), for example using ravel().\n",
      "  return f(*args, **kwargs)\n"
     ]
    },
    {
     "data": {
      "text/plain": [
       "array([1., 1., 1., ..., 0., 1., 1.], dtype=float32)"
      ]
     },
     "execution_count": 109,
     "metadata": {},
     "output_type": "execute_result"
    }
   ],
   "source": [
    "cross_val_predict(clf, train_vectors, train_y, cv=10)"
   ]
  },
  {
   "cell_type": "code",
   "execution_count": 184,
   "id": "4c6e6481",
   "metadata": {
    "scrolled": true
   },
   "outputs": [
    {
     "name": "stderr",
     "output_type": "stream",
     "text": [
      "C:\\Users\\GAMER\\anaconda3\\envs\\dataAnalyst\\lib\\site-packages\\sklearn\\utils\\validation.py:63: DataConversionWarning: A column-vector y was passed when a 1d array was expected. Please change the shape of y to (n_samples, ), for example using ravel().\n",
      "  return f(*args, **kwargs)\n"
     ]
    }
   ],
   "source": [
    "logistic = LogisticRegression(random_state=0).fit(train_vectors, train_y)"
   ]
  },
  {
   "cell_type": "code",
   "execution_count": 185,
   "id": "4b11a280",
   "metadata": {},
   "outputs": [
    {
     "data": {
      "text/plain": [
       "0.7772231708918954"
      ]
     },
     "execution_count": 185,
     "metadata": {},
     "output_type": "execute_result"
    }
   ],
   "source": [
    "logistic.score(train_vectors, train_y)"
   ]
  },
  {
   "cell_type": "code",
   "execution_count": 186,
   "id": "1e5893e8",
   "metadata": {},
   "outputs": [],
   "source": [
    "y_pred = logistic.predict(train_vectors)"
   ]
  },
  {
   "cell_type": "code",
   "execution_count": 202,
   "id": "146b164c",
   "metadata": {},
   "outputs": [
    {
     "data": {
      "image/png": "[encoded data removed]",
      "text/plain": [
       "<Figure size 432x288 with 2 Axes>"
      ]
     },
     "metadata": {
      "needs_background": "light"
     },
     "output_type": "display_data"
    }
   ],
   "source": [
    "plot_confusion_matrix(logistic,train_vectors,train_y,display_labels=['Irrelevant','Relevant'],cmap='Accent')\n",
    "plt.show()"
   ]
  },
  {
   "cell_type": "code",
   "execution_count": 188,
   "id": "ff24a929",
   "metadata": {},
   "outputs": [
    {
     "name": "stdout",
     "output_type": "stream",
     "text": [
      "              precision    recall  f1-score   support\n",
      "\n",
      "  Irrelevant       0.77      0.88      0.82      4342\n",
      "    Relevant       0.80      0.64      0.71      3271\n",
      "\n",
      "    accuracy                           0.78      7613\n",
      "   macro avg       0.78      0.76      0.77      7613\n",
      "weighted avg       0.78      0.78      0.77      7613\n",
      "\n"
     ]
    }
   ],
   "source": [
    "print(classification_report(train_y,y_pred,target_names=['Irrelevant','Relevant']))"
   ]
  },
  {
   "cell_type": "code",
   "execution_count": 189,
   "id": "80787040",
   "metadata": {},
   "outputs": [],
   "source": [
    "model = models.Sequential()\n",
    "model.add(layers.Dense(30,activation='relu',input_shape= train_vectors.shape[1:],kernel_regularizer = regularizers.l2(0.003)))\n",
    "model.add(layers.Dense(30,activation='relu',kernel_regularizer = regularizers.l2(0.004)))\n",
    "model.add(layers.Dense(30,activation='relu',kernel_regularizer = regularizers.l2(0.0035)))\n",
    "model.add(layers.Dense(30,activation='relu',kernel_regularizer = regularizers.l2(0.003)))\n",
    "model.add(layers.Dense(1,activation='sigmoid'))\n",
    "\n",
    "model.compile(optimizer='rmsprop',\n",
    "             loss='binary_crossentropy',\n",
    "             metrics='accuracy')"
   ]
  },
  {
   "cell_type": "code",
   "execution_count": 190,
   "id": "59528d32",
   "metadata": {},
   "outputs": [
    {
     "data": {
      "text/plain": [
       "1141.95"
      ]
     },
     "execution_count": 190,
     "metadata": {},
     "output_type": "execute_result"
    }
   ],
   "source": [
    "len(train_vectors)*0.15"
   ]
  },
  {
   "cell_type": "code",
   "execution_count": 191,
   "id": "d120a66c",
   "metadata": {},
   "outputs": [],
   "source": [
    "x_val = train_vectors[:1142]\n",
    "partial_x_train = train_vectors[1142:]\n",
    "\n",
    "y_val = train_y[:1142]\n",
    "partial_y_train = train_y[1142:]"
   ]
  },
  {
   "cell_type": "code",
   "execution_count": 192,
   "id": "4974ed8b",
   "metadata": {},
   "outputs": [
    {
     "name": "stdout",
     "output_type": "stream",
     "text": [
      "Epoch 1/10\n",
      "13/13 [==============================] - 0s 13ms/step - loss: 1.0977 - accuracy: 0.5607 - val_loss: 1.0359 - val_accuracy: 0.7005\n",
      "Epoch 2/10\n",
      "13/13 [==============================] - 0s 4ms/step - loss: 1.0093 - accuracy: 0.6137 - val_loss: 0.9663 - val_accuracy: 0.6489\n",
      "Epoch 3/10\n",
      "13/13 [==============================] - 0s 3ms/step - loss: 0.9403 - accuracy: 0.6608 - val_loss: 0.8981 - val_accuracy: 0.6813\n",
      "Epoch 4/10\n",
      "13/13 [==============================] - 0s 3ms/step - loss: 0.8742 - accuracy: 0.6874 - val_loss: 0.8358 - val_accuracy: 0.7128\n",
      "Epoch 5/10\n",
      "13/13 [==============================] - 0s 3ms/step - loss: 0.8097 - accuracy: 0.7160 - val_loss: 0.7858 - val_accuracy: 0.7049\n",
      "Epoch 6/10\n",
      "13/13 [==============================] - 0s 4ms/step - loss: 0.7507 - accuracy: 0.7376 - val_loss: 0.7256 - val_accuracy: 0.7513\n",
      "Epoch 7/10\n",
      "13/13 [==============================] - 0s 3ms/step - loss: 0.7062 - accuracy: 0.7558 - val_loss: 0.7085 - val_accuracy: 0.7338\n",
      "Epoch 8/10\n",
      "13/13 [==============================] - 0s 3ms/step - loss: 0.6728 - accuracy: 0.7616 - val_loss: 0.7086 - val_accuracy: 0.7285\n",
      "Epoch 9/10\n",
      "13/13 [==============================] - 0s 4ms/step - loss: 0.6498 - accuracy: 0.7629 - val_loss: 0.6670 - val_accuracy: 0.7513\n",
      "Epoch 10/10\n",
      "13/13 [==============================] - 0s 3ms/step - loss: 0.6316 - accuracy: 0.7688 - val_loss: 0.6543 - val_accuracy: 0.7513\n"
     ]
    }
   ],
   "source": [
    "history = model.fit(partial_x_train,partial_y_train,\n",
    "                    epochs=10,\n",
    "                    batch_size=512,\n",
    "                    validation_data=(x_val,y_val)\n",
    "                   )"
   ]
  },
  {
   "cell_type": "code",
   "execution_count": 193,
   "id": "4011d9f1",
   "metadata": {},
   "outputs": [
    {
     "data": {
      "image/png": "[encoded data removed]",
      "text/plain": [
       "<Figure size 432x288 with 1 Axes>"
      ]
     },
     "metadata": {
      "needs_background": "light"
     },
     "output_type": "display_data"
    }
   ],
   "source": [
    "history_dict = history.history\n",
    "loss_values = history_dict['loss']\n",
    "val_loss_values = history_dict['val_loss']\n",
    "epoch= range(1,len(loss_values)+1)\n",
    "\n",
    "plt.plot(epoch,loss_values,'o',label='training')\n",
    "plt.plot(epoch,val_loss_values,'--',label='validation')\n",
    "plt.legend()\n",
    "plt.show()"
   ]
  },
  {
   "cell_type": "markdown",
   "id": "a191736e",
   "metadata": {},
   "source": [
    "## ¿Mejorando el BOW?"
   ]
  },
  {
   "cell_type": "code",
   "execution_count": 194,
   "id": "49ea3b60",
   "metadata": {},
   "outputs": [],
   "source": [
    "collocation = get_n_grams_collocations_from_words(flatten,freq_filter = 30, n_best= 80)\n",
    "feauture_vec_2 = []\n",
    "train_x_2 = []\n",
    "bigrams = do_bigrams(train_x)"
   ]
  },
  {
   "cell_type": "code",
   "execution_count": 195,
   "id": "2bbdfa98",
   "metadata": {},
   "outputs": [],
   "source": [
    "for w,f in feature_vector:\n",
    "    feauture_vec_2.append(w)\n",
    "    \n",
    "for bigram in collocation:\n",
    "    feauture_vec_2.append(bigram)"
   ]
  },
  {
   "cell_type": "code",
   "execution_count": 196,
   "id": "eef4b640",
   "metadata": {},
   "outputs": [],
   "source": [
    "for i in range(len(train_x)):\n",
    "    temp = train_x[i] + bigrams[i]\n",
    "    train_x_2.append(temp)"
   ]
  },
  {
   "cell_type": "code",
   "execution_count": 197,
   "id": "58bc3d77",
   "metadata": {},
   "outputs": [],
   "source": [
    "train_vectors_2 =  build_vectors(train_x_2,feauture_vec_2,doble=False)\n",
    "train_vectors_2 = np.asarray(train_vectors_2).astype('float32')"
   ]
  },
  {
   "cell_type": "code",
   "execution_count": 198,
   "id": "6f2484e1",
   "metadata": {},
   "outputs": [],
   "source": [
    "x_val = train_vectors_2[:1142]\n",
    "partial_x_train = train_vectors_2[1142:]\n",
    "\n",
    "y_val = train_y[:1142]\n",
    "partial_y_train = train_y[1142:]"
   ]
  },
  {
   "cell_type": "code",
   "execution_count": 199,
   "id": "cba9cc85",
   "metadata": {},
   "outputs": [],
   "source": [
    "model = models.Sequential()\n",
    "model.add(layers.Dense(30,activation='relu',input_shape= train_vectors_2.shape[1:],kernel_regularizer = regularizers.l2(0.003)))\n",
    "model.add(layers.Dense(30,activation='relu',kernel_regularizer = regularizers.l2(0.004)))\n",
    "model.add(layers.Dense(30,activation='relu',kernel_regularizer = regularizers.l2(0.0035)))\n",
    "model.add(layers.Dense(30,activation='relu',kernel_regularizer = regularizers.l2(0.003)))\n",
    "model.add(layers.Dense(1,activation='sigmoid'))\n",
    "\n",
    "model.compile(optimizer='rmsprop',\n",
    "             loss='binary_crossentropy',\n",
    "             metrics='accuracy')"
   ]
  },
  {
   "cell_type": "code",
   "execution_count": 200,
   "id": "cf871ab7",
   "metadata": {},
   "outputs": [
    {
     "name": "stdout",
     "output_type": "stream",
     "text": [
      "Epoch 1/10\n",
      "13/13 [==============================] - 0s 14ms/step - loss: 1.1019 - accuracy: 0.5505 - val_loss: 1.0293 - val_accuracy: 0.6900\n",
      "Epoch 2/10\n",
      "13/13 [==============================] - 0s 4ms/step - loss: 1.0089 - accuracy: 0.5925 - val_loss: 0.9542 - val_accuracy: 0.6926\n",
      "Epoch 3/10\n",
      "13/13 [==============================] - 0s 4ms/step - loss: 0.9349 - accuracy: 0.6704 - val_loss: 0.8931 - val_accuracy: 0.6734\n",
      "Epoch 4/10\n",
      "13/13 [==============================] - 0s 4ms/step - loss: 0.8612 - accuracy: 0.7039 - val_loss: 0.8124 - val_accuracy: 0.7320\n",
      "Epoch 5/10\n",
      "13/13 [==============================] - 0s 3ms/step - loss: 0.7920 - accuracy: 0.7359 - val_loss: 0.7634 - val_accuracy: 0.7242\n",
      "Epoch 6/10\n",
      "13/13 [==============================] - 0s 3ms/step - loss: 0.7381 - accuracy: 0.7518 - val_loss: 0.7371 - val_accuracy: 0.7329\n",
      "Epoch 7/10\n",
      "13/13 [==============================] - 0s 3ms/step - loss: 0.6987 - accuracy: 0.7574 - val_loss: 0.7038 - val_accuracy: 0.7504\n",
      "Epoch 8/10\n",
      "13/13 [==============================] - 0s 3ms/step - loss: 0.6710 - accuracy: 0.7665 - val_loss: 0.6884 - val_accuracy: 0.7452\n",
      "Epoch 9/10\n",
      "13/13 [==============================] - 0s 4ms/step - loss: 0.6503 - accuracy: 0.7701 - val_loss: 0.6830 - val_accuracy: 0.7426\n",
      "Epoch 10/10\n",
      "13/13 [==============================] - 0s 4ms/step - loss: 0.6318 - accuracy: 0.7741 - val_loss: 0.6565 - val_accuracy: 0.7566\n"
     ]
    }
   ],
   "source": [
    "history = model.fit(partial_x_train,partial_y_train,\n",
    "                    epochs=10,\n",
    "                    batch_size=512,\n",
    "                    validation_data=(x_val,y_val)\n",
    "                   )"
   ]
  },
  {
   "cell_type": "code",
   "execution_count": 201,
   "id": "cc5b367a",
   "metadata": {},
   "outputs": [
    {
     "data": {
      "image/png": "[encoded data removed]",
      "text/plain": [
       "<Figure size 432x288 with 1 Axes>"
      ]
     },
     "metadata": {
      "needs_background": "light"
     },
     "output_type": "display_data"
    }
   ],
   "source": [
    "history_dict = history.history\n",
    "loss_values = history_dict['loss']\n",
    "val_loss_values = history_dict['val_loss']\n",
    "epoch= range(1,len(loss_values)+1)\n",
    "\n",
    "plt.plot(epoch,loss_values,'o',label='training')\n",
    "plt.plot(epoch,val_loss_values,'--',label='validation')\n",
    "plt.legend()\n",
    "plt.show()"
   ]
  }
 ],
 "metadata": {
  "kernelspec": {
   "display_name": "Python 3",
   "language": "python",
   "name": "python3"
  },
  "language_info": {
   "codemirror_mode": {
    "name": "ipython",
    "version": 3
   },
   "file_extension": ".py",
   "mimetype": "text/x-python",
   "name": "python",
   "nbconvert_exporter": "python",
   "pygments_lexer": "ipython3",
   "version": "3.8.8"
  }
 },
 "nbformat": 4,
 "nbformat_minor": 5
}
