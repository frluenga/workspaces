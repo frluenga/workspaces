{
 "cells": [
  {
   "cell_type": "markdown",
   "id": "d7823449",
   "metadata": {},
   "source": [
    "# Librerias"
   ]
  },
  {
   "cell_type": "code",
   "execution_count": 1,
   "id": "c43cdb56",
   "metadata": {},
   "outputs": [],
   "source": [
    "import pandas as pd\n",
    "from wordcloud import WordCloud, STOPWORDS\n",
    "import numpy as np\n",
    "from PIL import Image\n",
    "from mtbpy import mtbpy\n",
    "\n",
    "import nltk\n",
    "from nltk.corpus import stopwords\n",
    "from nltk import word_tokenize"
   ]
  },
  {
   "cell_type": "markdown",
   "id": "1e8ef942",
   "metadata": {},
   "source": [
    "## Base de Datos"
   ]
  },
  {
   "cell_type": "code",
   "execution_count": 2,
   "id": "d4ac2972",
   "metadata": {},
   "outputs": [],
   "source": [
    "df = pd.read_csv('conecta.csv')"
   ]
  },
  {
   "cell_type": "markdown",
   "id": "04c81cbb",
   "metadata": {},
   "source": [
    "## Tokenizador"
   ]
  },
  {
   "cell_type": "code",
   "execution_count": 3,
   "id": "d81183eb",
   "metadata": {},
   "outputs": [],
   "source": [
    "def tildes(lista):\n",
    "    lista = lista.replace(\"á\", \"a\").replace(\"é\", \"e\").replace(\"í\", \"i\").replace(\"ó\", \"o\").replace(\"ú\", \"u\")\n",
    "    return lista"
   ]
  },
  {
   "cell_type": "code",
   "execution_count": 4,
   "id": "1b4b5b7e",
   "metadata": {},
   "outputs": [],
   "source": [
    "tokens = []\n",
    "\n",
    "for row in df['texto_busqueda']:\n",
    "    tokens.append(word_tokenize(row))\n",
    "    \n",
    "df['tokens'] = tokens"
   ]
  },
  {
   "cell_type": "code",
   "execution_count": 5,
   "id": "b02a8b19",
   "metadata": {},
   "outputs": [],
   "source": [
    "lista = []\n",
    "stopwd = stopwords.words('spanish')\n",
    "\n",
    "for row in df['tokens']:\n",
    "    temp = [tildes(w.lower()) for w in row if w.lower() not in stopwd if len(w) > 1]\n",
    "    lista.append(temp)     "
   ]
  },
  {
   "cell_type": "markdown",
   "id": "0182da99",
   "metadata": {},
   "source": [
    "## Lista de palabras (uni-gramas)"
   ]
  },
  {
   "cell_type": "code",
   "execution_count": 7,
   "id": "dd5eaedc",
   "metadata": {},
   "outputs": [],
   "source": [
    "flatten_corpus = [w for l in lista for w in l ]"
   ]
  },
  {
   "cell_type": "markdown",
   "id": "3c8f1421",
   "metadata": {},
   "source": [
    "## Lista de palabras (n-gramas)"
   ]
  },
  {
   "cell_type": "code",
   "execution_count": 9,
   "id": "678ccaaa",
   "metadata": {},
   "outputs": [],
   "source": [
    "bigram_list = []\n",
    "trigram_list = []\n",
    "\n",
    "for i in range(len(lista)):\n",
    "    bigram_list.append(list(nltk.bigrams(lista[i])))\n",
    "\n",
    "for i in range(len(lista)):\n",
    "    trigram_list.append(list(nltk.ngrams(lista[i],3)))"
   ]
  },
  {
   "cell_type": "code",
   "execution_count": 10,
   "id": "f56b953c",
   "metadata": {},
   "outputs": [],
   "source": [
    "bigram_temp = [w for l in bigram_list for w in l ]\n",
    "trigram_temp = [str(w) for l in trigram_list for w in l ]\n",
    "freq_temp = [w for l in trigram_list for w in l]"
   ]
  },
  {
   "cell_type": "code",
   "execution_count": 11,
   "id": "ba985e57",
   "metadata": {},
   "outputs": [],
   "source": [
    "trigram_corpus = []\n",
    "\n",
    "for i in trigram_temp:\n",
    "    temp = i.replace(\"(\", \"\").replace(\")\", \"\").replace(\",\", \"\").replace(\"'\", \"\")\n",
    "    trigram_corpus.append(temp)"
   ]
  },
  {
   "cell_type": "code",
   "execution_count": 12,
   "id": "1b540bf9",
   "metadata": {},
   "outputs": [],
   "source": [
    "fdist_1 = nltk.FreqDist(flatten_corpus)\n",
    "fdist_2 = nltk.FreqDist(bigram_temp)\n",
    "fdist_3 = nltk.FreqDist(freq_temp)\n",
    "unigram_freq = fdist_1.most_common(15)\n",
    "bigram_freq = fdist_2.most_common(15)\n",
    "trigram_freq = fdist_3.most_common(15)"
   ]
  },
  {
   "cell_type": "code",
   "execution_count": 13,
   "id": "78707f1a",
   "metadata": {},
   "outputs": [],
   "source": [
    "def build_df(data):\n",
    "    palabras = []\n",
    "    frecuencia = []\n",
    "    for w in data:\n",
    "        palabras.append(w[0])\n",
    "        frecuencia.append(w[1])\n",
    "    \n",
    "    df = pd.DataFrame(frecuencia,palabras)\n",
    "    return df.reset_index().rename(columns={'index':'Palabra',0:'Frecuencia'})\n",
    "    \n",
    "df_freq_uno = build_df(unigram_freq)\n",
    "df_freq_dos = build_df(bigram_freq)\n",
    "df_freq_tres = build_df(trigram_freq)"
   ]
  },
  {
   "cell_type": "code",
   "execution_count": 25,
   "id": "46be597c",
   "metadata": {},
   "outputs": [
    {
     "data": {
      "text/html": [
       "<div>\n",
       "<style scoped>\n",
       "    .dataframe tbody tr th:only-of-type {\n",
       "        vertical-align: middle;\n",
       "    }\n",
       "\n",
       "    .dataframe tbody tr th {\n",
       "        vertical-align: top;\n",
       "    }\n",
       "\n",
       "    .dataframe thead th {\n",
       "        text-align: right;\n",
       "    }\n",
       "</style>\n",
       "<table border=\"1\" class=\"dataframe\">\n",
       "  <thead>\n",
       "    <tr style=\"text-align: right;\">\n",
       "      <th></th>\n",
       "      <th>Palabra</th>\n",
       "      <th>Frecuencia</th>\n",
       "    </tr>\n",
       "  </thead>\n",
       "  <tbody>\n",
       "    <tr>\n",
       "      <th>0</th>\n",
       "      <td>(exoneracion, cuota, manejo)</td>\n",
       "      <td>39</td>\n",
       "    </tr>\n",
       "    <tr>\n",
       "      <th>1</th>\n",
       "      <td>(tc, grupo, uribe)</td>\n",
       "      <td>29</td>\n",
       "    </tr>\n",
       "    <tr>\n",
       "      <th>2</th>\n",
       "      <td>(credito, libre, inversion)</td>\n",
       "      <td>16</td>\n",
       "    </tr>\n",
       "    <tr>\n",
       "      <th>3</th>\n",
       "      <td>(activacion, tarjeta, credito)</td>\n",
       "      <td>15</td>\n",
       "    </tr>\n",
       "    <tr>\n",
       "      <th>4</th>\n",
       "      <td>(bloqueo, alerta, monitoreo)</td>\n",
       "      <td>15</td>\n",
       "    </tr>\n",
       "    <tr>\n",
       "      <th>5</th>\n",
       "      <td>(activar, tarjeta, credito)</td>\n",
       "      <td>15</td>\n",
       "    </tr>\n",
       "    <tr>\n",
       "      <th>6</th>\n",
       "      <td>(cancelacion, tarjeta, credito)</td>\n",
       "      <td>14</td>\n",
       "    </tr>\n",
       "    <tr>\n",
       "      <th>7</th>\n",
       "      <td>(activacion, tc, grupo)</td>\n",
       "      <td>12</td>\n",
       "    </tr>\n",
       "    <tr>\n",
       "      <th>8</th>\n",
       "      <td>(cancelar, tarjeta, credito)</td>\n",
       "      <td>12</td>\n",
       "    </tr>\n",
       "    <tr>\n",
       "      <th>9</th>\n",
       "      <td>(cuota, manejo, tarjeta)</td>\n",
       "      <td>12</td>\n",
       "    </tr>\n",
       "    <tr>\n",
       "      <th>10</th>\n",
       "      <td>(cambio, ciclo, facturacion)</td>\n",
       "      <td>11</td>\n",
       "    </tr>\n",
       "    <tr>\n",
       "      <th>11</th>\n",
       "      <td>(activacion, tarjeta, debito)</td>\n",
       "      <td>11</td>\n",
       "    </tr>\n",
       "    <tr>\n",
       "      <th>12</th>\n",
       "      <td>(tarjeta, grupo, uribe)</td>\n",
       "      <td>9</td>\n",
       "    </tr>\n",
       "    <tr>\n",
       "      <th>13</th>\n",
       "      <td>(agendamiento, tarjeta, debito)</td>\n",
       "      <td>9</td>\n",
       "    </tr>\n",
       "    <tr>\n",
       "      <th>14</th>\n",
       "      <td>(cuota, manejo, cuenta)</td>\n",
       "      <td>8</td>\n",
       "    </tr>\n",
       "  </tbody>\n",
       "</table>\n",
       "</div>"
      ],
      "text/plain": [
       "                            Palabra  Frecuencia\n",
       "0      (exoneracion, cuota, manejo)          39\n",
       "1                (tc, grupo, uribe)          29\n",
       "2       (credito, libre, inversion)          16\n",
       "3    (activacion, tarjeta, credito)          15\n",
       "4      (bloqueo, alerta, monitoreo)          15\n",
       "5       (activar, tarjeta, credito)          15\n",
       "6   (cancelacion, tarjeta, credito)          14\n",
       "7           (activacion, tc, grupo)          12\n",
       "8      (cancelar, tarjeta, credito)          12\n",
       "9          (cuota, manejo, tarjeta)          12\n",
       "10     (cambio, ciclo, facturacion)          11\n",
       "11    (activacion, tarjeta, debito)          11\n",
       "12          (tarjeta, grupo, uribe)           9\n",
       "13  (agendamiento, tarjeta, debito)           9\n",
       "14          (cuota, manejo, cuenta)           8"
      ]
     },
     "execution_count": 25,
     "metadata": {},
     "output_type": "execute_result"
    }
   ],
   "source": [
    "df_freq_tres"
   ]
  },
  {
   "cell_type": "code",
   "execution_count": 15,
   "id": "08d62f31",
   "metadata": {},
   "outputs": [],
   "source": [
    "path_uno = './texto_uno.txt'\n",
    "path_dos = './texto_dos.txt'\n",
    "\n",
    "with open(path_uno,'a+',encoding='utf8') as f:\n",
    "    for i in flatten_corpus:\n",
    "        f.write(i)\n",
    "        f.write(' ')\n",
    "        \n",
    "with open(path_dos,'a+',encoding='utf8') as f:\n",
    "    for i in trigram_corpus:\n",
    "        f.write(i)\n",
    "        f.write(' ')"
   ]
  },
  {
   "cell_type": "code",
   "execution_count": 16,
   "id": "3264ec02",
   "metadata": {},
   "outputs": [],
   "source": [
    "maskArray = np.array(Image.open(\"cloud.png\"))"
   ]
  },
  {
   "cell_type": "code",
   "execution_count": 17,
   "id": "445f8529",
   "metadata": {},
   "outputs": [],
   "source": [
    "stop_words_es = set(stopwords.words('spanish'))"
   ]
  },
  {
   "cell_type": "code",
   "execution_count": 18,
   "id": "60934dfd",
   "metadata": {},
   "outputs": [],
   "source": [
    "nWords = 100"
   ]
  },
  {
   "cell_type": "code",
   "execution_count": 19,
   "id": "7efd19a1",
   "metadata": {},
   "outputs": [],
   "source": [
    "dataset_uno = open(\"texto_uno.txt\", \"r\", encoding=\"utf8\").read()\n",
    "dataset_dos = open(\"texto_dos.txt\", \"r\", encoding=\"utf8\").read()"
   ]
  },
  {
   "cell_type": "code",
   "execution_count": 20,
   "id": "b9774492",
   "metadata": {},
   "outputs": [],
   "source": [
    "cloud_uno = WordCloud(background_color = \"white\", max_words = nWords, mask = maskArray, stopwords = set(stop_words_es))\n",
    "cloud_dos = WordCloud(background_color = \"white\", max_words = nWords, mask = maskArray, stopwords = set(stop_words_es))"
   ]
  },
  {
   "cell_type": "code",
   "execution_count": 21,
   "id": "3f81078d",
   "metadata": {},
   "outputs": [
    {
     "data": {
      "text/plain": [
       "<wordcloud.wordcloud.WordCloud at 0x1bdbbf84610>"
      ]
     },
     "execution_count": 21,
     "metadata": {},
     "output_type": "execute_result"
    }
   ],
   "source": [
    "cloud_uno.generate(dataset_uno)\n",
    "cloud_dos.generate(dataset_dos)"
   ]
  },
  {
   "cell_type": "code",
   "execution_count": 22,
   "id": "06bfb824",
   "metadata": {},
   "outputs": [
    {
     "data": {
      "text/plain": [
       "<wordcloud.wordcloud.WordCloud at 0x1bdbbf84610>"
      ]
     },
     "execution_count": 22,
     "metadata": {},
     "output_type": "execute_result"
    }
   ],
   "source": [
    "cloud_uno.to_file(\"word_cloud_uno.png\")\n",
    "cloud_dos.to_file(\"word_cloud_dos.png\")"
   ]
  },
  {
   "cell_type": "code",
   "execution_count": null,
   "id": "daa57c75",
   "metadata": {},
   "outputs": [],
   "source": []
  }
 ],
 "metadata": {
  "kernelspec": {
   "display_name": "Python 3",
   "language": "python",
   "name": "python3"
  },
  "language_info": {
   "codemirror_mode": {
    "name": "ipython",
    "version": 3
   },
   "file_extension": ".py",
   "mimetype": "text/x-python",
   "name": "python",
   "nbconvert_exporter": "python",
   "pygments_lexer": "ipython3",
   "version": "3.8.8"
  }
 },
 "nbformat": 4,
 "nbformat_minor": 5
}
