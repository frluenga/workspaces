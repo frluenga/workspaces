{
 "cells": [
  {
   "cell_type": "markdown",
   "id": "eb800c1f",
   "metadata": {},
   "source": [
    "# Librerias"
   ]
  },
  {
   "cell_type": "code",
   "execution_count": 25,
   "id": "b5f52831",
   "metadata": {},
   "outputs": [],
   "source": [
    "import pandas as pd\n",
    "from wordcloud import WordCloud, STOPWORDS\n",
    "import numpy as np\n",
    "from PIL import Image\n",
    "from mtbpy import mtbpy\n",
    "\n",
    "import nltk\n",
    "from nltk.corpus import stopwords\n",
    "from nltk import word_tokenize"
   ]
  },
  {
   "cell_type": "markdown",
   "id": "ab8a0769",
   "metadata": {},
   "source": [
    "## Base de Datos"
   ]
  },
  {
   "cell_type": "code",
   "execution_count": 61,
   "id": "5746de87",
   "metadata": {},
   "outputs": [],
   "source": [
    "df = pd.read_csv('conecta.csv')"
   ]
  },
  {
   "cell_type": "markdown",
   "id": "a0b4ad42",
   "metadata": {},
   "source": [
    "## Tokenizador"
   ]
  },
  {
   "cell_type": "code",
   "execution_count": 258,
   "id": "17ffd9ce",
   "metadata": {},
   "outputs": [],
   "source": [
    "def tildes(lista):\n",
    "    lista = lista.replace(\"á\", \"a\").replace(\"é\", \"e\").replace(\"í\", \"i\").replace(\"ó\", \"o\").replace(\"ú\", \"u\")\n",
    "    return lista"
   ]
  },
  {
   "cell_type": "code",
   "execution_count": 67,
   "id": "6a465f35",
   "metadata": {},
   "outputs": [],
   "source": [
    "tokens = []\n",
    "\n",
    "for row in df['texto_busqueda']:\n",
    "    tokens.append(word_tokenize(row))\n",
    "    \n",
    "df['tokens'] = tokens"
   ]
  },
  {
   "cell_type": "code",
   "execution_count": 257,
   "id": "da74faac",
   "metadata": {},
   "outputs": [],
   "source": [
    "lista = []\n",
    "stopwd = stopwords.words('spanish')\n",
    "\n",
    "for row in df['tokens']:\n",
    "    temp = [tildes(w.lower()) for w in row if w.lower() not in stopwd if len(w) > 1]\n",
    "    lista.append(temp)     "
   ]
  },
  {
   "cell_type": "markdown",
   "id": "bf608392",
   "metadata": {},
   "source": [
    "## Lista de palabras (uni-gramas)"
   ]
  },
  {
   "cell_type": "code",
   "execution_count": 244,
   "id": "190b6e94",
   "metadata": {},
   "outputs": [],
   "source": [
    "flatten_corpus = [w for l in lista for w in l ]"
   ]
  },
  {
   "cell_type": "markdown",
   "id": "7bf22fd5",
   "metadata": {},
   "source": [
    "## Lista de palabras (n-gramas)"
   ]
  },
  {
   "cell_type": "code",
   "execution_count": 250,
   "id": "d591b39c",
   "metadata": {},
   "outputs": [],
   "source": [
    "bigram_list = []\n",
    "trigram_list = []\n",
    "\n",
    "for i in range(len(lista)):\n",
    "    bigram_list.append(list(nltk.bigrams(lista[i])))\n",
    "\n",
    "for i in range(len(lista)):\n",
    "    trigram_list.append(list(nltk.ngrams(lista[i],3)))"
   ]
  },
  {
   "cell_type": "code",
   "execution_count": 256,
   "id": "35f457e2",
   "metadata": {
    "collapsed": true
   },
   "outputs": [
    {
     "ename": "AttributeError",
     "evalue": "'tuple' object has no attribute 'replace'",
     "output_type": "error",
     "traceback": [
      "\u001b[1;31m---------------------------------------------------------------------------\u001b[0m",
      "\u001b[1;31mAttributeError\u001b[0m                            Traceback (most recent call last)",
      "\u001b[1;32m<ipython-input-256-f001b221201a>\u001b[0m in \u001b[0;36m<module>\u001b[1;34m\u001b[0m\n\u001b[1;32m----> 1\u001b[1;33m \u001b[0mbigram_temp\u001b[0m \u001b[1;33m=\u001b[0m \u001b[1;33m[\u001b[0m\u001b[0mtildes\u001b[0m\u001b[1;33m(\u001b[0m\u001b[0mw\u001b[0m\u001b[1;33m)\u001b[0m \u001b[1;32mfor\u001b[0m \u001b[0ml\u001b[0m \u001b[1;32min\u001b[0m \u001b[0mbigram_list\u001b[0m \u001b[1;32mfor\u001b[0m \u001b[0mw\u001b[0m \u001b[1;32min\u001b[0m \u001b[0ml\u001b[0m \u001b[1;33m]\u001b[0m\u001b[1;33m\u001b[0m\u001b[1;33m\u001b[0m\u001b[0m\n\u001b[0m\u001b[0;32m      2\u001b[0m \u001b[0mtrigram_temp\u001b[0m \u001b[1;33m=\u001b[0m \u001b[1;33m[\u001b[0m\u001b[0mstr\u001b[0m\u001b[1;33m(\u001b[0m\u001b[0mw\u001b[0m\u001b[1;33m)\u001b[0m \u001b[1;32mfor\u001b[0m \u001b[0ml\u001b[0m \u001b[1;32min\u001b[0m \u001b[0mtrigram_list\u001b[0m \u001b[1;32mfor\u001b[0m \u001b[0mw\u001b[0m \u001b[1;32min\u001b[0m \u001b[0ml\u001b[0m \u001b[1;33m]\u001b[0m\u001b[1;33m\u001b[0m\u001b[1;33m\u001b[0m\u001b[0m\n\u001b[0;32m      3\u001b[0m \u001b[0mfreq_temp\u001b[0m \u001b[1;33m=\u001b[0m \u001b[1;33m[\u001b[0m\u001b[0mtildes\u001b[0m\u001b[1;33m(\u001b[0m\u001b[0mw\u001b[0m\u001b[1;33m)\u001b[0m \u001b[1;32mfor\u001b[0m \u001b[0ml\u001b[0m \u001b[1;32min\u001b[0m \u001b[0mtrigram_list\u001b[0m \u001b[1;32mfor\u001b[0m \u001b[0mw\u001b[0m \u001b[1;32min\u001b[0m \u001b[0ml\u001b[0m\u001b[1;33m]\u001b[0m\u001b[1;33m\u001b[0m\u001b[1;33m\u001b[0m\u001b[0m\n",
      "\u001b[1;32m<ipython-input-256-f001b221201a>\u001b[0m in \u001b[0;36m<listcomp>\u001b[1;34m(.0)\u001b[0m\n\u001b[1;32m----> 1\u001b[1;33m \u001b[0mbigram_temp\u001b[0m \u001b[1;33m=\u001b[0m \u001b[1;33m[\u001b[0m\u001b[0mtildes\u001b[0m\u001b[1;33m(\u001b[0m\u001b[0mw\u001b[0m\u001b[1;33m)\u001b[0m \u001b[1;32mfor\u001b[0m \u001b[0ml\u001b[0m \u001b[1;32min\u001b[0m \u001b[0mbigram_list\u001b[0m \u001b[1;32mfor\u001b[0m \u001b[0mw\u001b[0m \u001b[1;32min\u001b[0m \u001b[0ml\u001b[0m \u001b[1;33m]\u001b[0m\u001b[1;33m\u001b[0m\u001b[1;33m\u001b[0m\u001b[0m\n\u001b[0m\u001b[0;32m      2\u001b[0m \u001b[0mtrigram_temp\u001b[0m \u001b[1;33m=\u001b[0m \u001b[1;33m[\u001b[0m\u001b[0mstr\u001b[0m\u001b[1;33m(\u001b[0m\u001b[0mw\u001b[0m\u001b[1;33m)\u001b[0m \u001b[1;32mfor\u001b[0m \u001b[0ml\u001b[0m \u001b[1;32min\u001b[0m \u001b[0mtrigram_list\u001b[0m \u001b[1;32mfor\u001b[0m \u001b[0mw\u001b[0m \u001b[1;32min\u001b[0m \u001b[0ml\u001b[0m \u001b[1;33m]\u001b[0m\u001b[1;33m\u001b[0m\u001b[1;33m\u001b[0m\u001b[0m\n\u001b[0;32m      3\u001b[0m \u001b[0mfreq_temp\u001b[0m \u001b[1;33m=\u001b[0m \u001b[1;33m[\u001b[0m\u001b[0mtildes\u001b[0m\u001b[1;33m(\u001b[0m\u001b[0mw\u001b[0m\u001b[1;33m)\u001b[0m \u001b[1;32mfor\u001b[0m \u001b[0ml\u001b[0m \u001b[1;32min\u001b[0m \u001b[0mtrigram_list\u001b[0m \u001b[1;32mfor\u001b[0m \u001b[0mw\u001b[0m \u001b[1;32min\u001b[0m \u001b[0ml\u001b[0m\u001b[1;33m]\u001b[0m\u001b[1;33m\u001b[0m\u001b[1;33m\u001b[0m\u001b[0m\n",
      "\u001b[1;32m<ipython-input-255-d3e67814d4c0>\u001b[0m in \u001b[0;36mtildes\u001b[1;34m(lista)\u001b[0m\n\u001b[0;32m      1\u001b[0m \u001b[1;32mdef\u001b[0m \u001b[0mtildes\u001b[0m\u001b[1;33m(\u001b[0m\u001b[0mlista\u001b[0m\u001b[1;33m)\u001b[0m\u001b[1;33m:\u001b[0m\u001b[1;33m\u001b[0m\u001b[1;33m\u001b[0m\u001b[0m\n\u001b[1;32m----> 2\u001b[1;33m     \u001b[0mlista\u001b[0m \u001b[1;33m=\u001b[0m \u001b[0mlista\u001b[0m\u001b[1;33m.\u001b[0m\u001b[0mreplace\u001b[0m\u001b[1;33m(\u001b[0m\u001b[1;34m\"á\"\u001b[0m\u001b[1;33m,\u001b[0m \u001b[1;34m\"a\"\u001b[0m\u001b[1;33m)\u001b[0m\u001b[1;33m.\u001b[0m\u001b[0mreplace\u001b[0m\u001b[1;33m(\u001b[0m\u001b[1;34m\"é\"\u001b[0m\u001b[1;33m,\u001b[0m \u001b[1;34m\"e\"\u001b[0m\u001b[1;33m)\u001b[0m\u001b[1;33m.\u001b[0m\u001b[0mreplace\u001b[0m\u001b[1;33m(\u001b[0m\u001b[1;34m\"í\"\u001b[0m\u001b[1;33m,\u001b[0m \u001b[1;34m\"i\"\u001b[0m\u001b[1;33m)\u001b[0m\u001b[1;33m.\u001b[0m\u001b[0mreplace\u001b[0m\u001b[1;33m(\u001b[0m\u001b[1;34m\"ó\"\u001b[0m\u001b[1;33m,\u001b[0m \u001b[1;34m\"o\"\u001b[0m\u001b[1;33m)\u001b[0m\u001b[1;33m.\u001b[0m\u001b[0mreplace\u001b[0m\u001b[1;33m(\u001b[0m\u001b[1;34m\"ú\"\u001b[0m\u001b[1;33m,\u001b[0m \u001b[1;34m\"u\"\u001b[0m\u001b[1;33m)\u001b[0m\u001b[1;33m\u001b[0m\u001b[1;33m\u001b[0m\u001b[0m\n\u001b[0m\u001b[0;32m      3\u001b[0m     \u001b[1;32mreturn\u001b[0m \u001b[0mlista\u001b[0m\u001b[1;33m\u001b[0m\u001b[1;33m\u001b[0m\u001b[0m\n",
      "\u001b[1;31mAttributeError\u001b[0m: 'tuple' object has no attribute 'replace'"
     ]
    }
   ],
   "source": [
    "bigram_temp = [w for l in bigram_list for w in l ]\n",
    "trigram_temp = [str(w) for l in trigram_list for w in l ]\n",
    "freq_temp = [w for l in trigram_list for w in l]"
   ]
  },
  {
   "cell_type": "code",
   "execution_count": 253,
   "id": "9d63bf9b",
   "metadata": {},
   "outputs": [],
   "source": [
    "trigram_corpus = []\n",
    "\n",
    "for i in trigram_temp:\n",
    "    temp = i.replace(\"(\", \"\").replace(\")\", \"\").replace(\",\", \"\").replace(\"'\", \"\")\n",
    "    trigram_corpus.append(temp)"
   ]
  },
  {
   "cell_type": "code",
   "execution_count": 252,
   "id": "d5a11a0c",
   "metadata": {},
   "outputs": [
    {
     "data": {
      "text/plain": [
       "([('tarjeta', 3263),\n",
       "  ('cuenta', 3021),\n",
       "  ('credito', 2613),\n",
       "  ('cambio', 1383),\n",
       "  ('tc', 1149),\n",
       "  ('crédito', 1089),\n",
       "  ('pago', 1078),\n",
       "  ('bloqueo', 1062),\n",
       "  ('movil', 1032),\n",
       "  ('davivienda', 885),\n",
       "  ('compra', 849),\n",
       "  ('cartera', 771),\n",
       "  ('cupo', 719),\n",
       "  ('leasing', 679),\n",
       "  ('clave', 654)],\n",
       " [(('tarjeta', 'credito'), 678),\n",
       "  (('compra', 'cartera'), 581),\n",
       "  (('cuota', 'manejo'), 489),\n",
       "  (('cuenta', 'ahorros'), 484),\n",
       "  (('tarjeta', 'crédito'), 394),\n",
       "  (('credito', 'movil'), 360),\n",
       "  (('adelanto', 'nomina'), 325),\n",
       "  (('grupo', 'uribe'), 283),\n",
       "  (('priority', 'pass'), 267),\n",
       "  (('cuenta', 'ahorro'), 244),\n",
       "  (('clave', 'avances'), 240),\n",
       "  (('cuenta', 'afc'), 239),\n",
       "  (('tarjeta', 'debito'), 226),\n",
       "  (('base', 'colombia'), 209),\n",
       "  (('cuenta', 'corriente'), 199)],\n",
       " [(('cuota', 'manejo', 'cuenta'), 110),\n",
       "  (('cambio', 'ciclo', 'facturacion'), 105),\n",
       "  (('compra', 'cartera', 'movil'), 97),\n",
       "  (('cuota', 'manejo', 'tarjeta'), 82),\n",
       "  (('cambio', 'fecha', 'pago'), 76),\n",
       "  (('pago', 'impuesto', 'predial'), 71),\n",
       "  (('compra', 'cartera', 'tarjeta'), 69),\n",
       "  (('cambio', 'uvr', 'pesos'), 56),\n",
       "  (('tarjeta', 'credito', 'movil'), 53),\n",
       "  (('cuenta', 'ahorro', 'programado'), 51),\n",
       "  (('credito', 'libre', 'inversion'), 49),\n",
       "  (('cobro', 'cuota', 'manejo'), 47),\n",
       "  (('tipos', 'bloqueo', 'uan'), 44),\n",
       "  (('bloqueo', 'uan', 'targeta'), 44),\n",
       "  (('uan', 'targeta', 'crédito'), 44)])"
      ]
     },
     "execution_count": 252,
     "metadata": {},
     "output_type": "execute_result"
    }
   ],
   "source": [
    "fdist_1 = nltk.FreqDist(flatten_corpus)\n",
    "fdist_2 = nltk.FreqDist(bigram_temp)\n",
    "fdist_3 = nltk.FreqDist(freq_temp)\n",
    "fdist_1.most_common(15), fdist_2.most_common(15), fdist_3.most_common(15)"
   ]
  },
  {
   "cell_type": "code",
   "execution_count": 230,
   "id": "0997b931",
   "metadata": {},
   "outputs": [],
   "source": [
    "path_uno = './texto_uno.txt'\n",
    "path_dos = './texto_dos.txt'\n",
    "\n",
    "with open(path_uno,'a+',encoding='utf8') as f:\n",
    "    for i in flatten_corpus:\n",
    "        f.write(i)\n",
    "        f.write(' ')\n",
    "        \n",
    "with open(path_dos,'a+',encoding='utf8') as f:\n",
    "    for i in trigram_corpus:\n",
    "        f.write(i)\n",
    "        f.write(' ')"
   ]
  },
  {
   "cell_type": "code",
   "execution_count": 217,
   "id": "5d86e4ed",
   "metadata": {},
   "outputs": [],
   "source": [
    "maskArray = np.array(Image.open(\"cloud.png\"))"
   ]
  },
  {
   "cell_type": "code",
   "execution_count": 218,
   "id": "bb17e463",
   "metadata": {},
   "outputs": [],
   "source": [
    "stop_words_es = set(stopwords.words('spanish'))"
   ]
  },
  {
   "cell_type": "code",
   "execution_count": 209,
   "id": "84356612",
   "metadata": {},
   "outputs": [],
   "source": [
    "nWords = 100"
   ]
  },
  {
   "cell_type": "code",
   "execution_count": 231,
   "id": "7f03c5f9",
   "metadata": {},
   "outputs": [],
   "source": [
    "dataset_uno = open(\"texto_uno.txt\", \"r\", encoding=\"utf8\").read()\n",
    "dataset_dos = open(\"texto_dos.txt\", \"r\", encoding=\"utf8\").read()"
   ]
  },
  {
   "cell_type": "code",
   "execution_count": 232,
   "id": "965bf5a5",
   "metadata": {},
   "outputs": [],
   "source": [
    "cloud_uno = WordCloud(background_color = \"white\", max_words = nWords, mask = maskArray, stopwords = set(stop_words_es))\n",
    "cloud_dos = WordCloud(background_color = \"white\", max_words = nWords, mask = maskArray, stopwords = set(stop_words_es))"
   ]
  },
  {
   "cell_type": "code",
   "execution_count": 233,
   "id": "f2c827cb",
   "metadata": {},
   "outputs": [
    {
     "data": {
      "text/plain": [
       "<wordcloud.wordcloud.WordCloud at 0x1cd3aa394c0>"
      ]
     },
     "execution_count": 233,
     "metadata": {},
     "output_type": "execute_result"
    }
   ],
   "source": [
    "cloud_uno.generate(dataset_uno)\n",
    "cloud_dos.generate(dataset_dos)"
   ]
  },
  {
   "cell_type": "code",
   "execution_count": 234,
   "id": "f6772dfc",
   "metadata": {},
   "outputs": [
    {
     "data": {
      "text/plain": [
       "<wordcloud.wordcloud.WordCloud at 0x1cd3aa394c0>"
      ]
     },
     "execution_count": 234,
     "metadata": {},
     "output_type": "execute_result"
    }
   ],
   "source": [
    "cloud_uno.to_file(\"word_cloud_uno.png\")\n",
    "cloud_dos.to_file(\"word_cloud_dos.png\")"
   ]
  }
 ],
 "metadata": {
  "kernelspec": {
   "display_name": "Python 3",
   "language": "python",
   "name": "python3"
  },
  "language_info": {
   "codemirror_mode": {
    "name": "ipython",
    "version": 3
   },
   "file_extension": ".py",
   "mimetype": "text/x-python",
   "name": "python",
   "nbconvert_exporter": "python",
   "pygments_lexer": "ipython3",
   "version": "3.8.8"
  }
 },
 "nbformat": 4,
 "nbformat_minor": 5
}
