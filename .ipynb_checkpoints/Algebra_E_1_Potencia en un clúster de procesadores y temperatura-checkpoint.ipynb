{
 "cells": [
  {
   "cell_type": "markdown",
   "metadata": {},
   "source": [
    "*Hint:* $T(P) = a^T P + b$"
   ]
  },
  {
   "cell_type": "markdown",
   "metadata": {},
   "source": [
    "***b*** es un escalar, ***a*** es un n-vector de la función temperatura que recibe la potencia de los nuecleos"
   ]
  },
  {
   "cell_type": "markdown",
   "metadata": {},
   "source": [
    "$P^T = [P_{0}\\; P_{1}\\; P_{2}]$"
   ]
  },
  {
   "cell_type": "code",
   "execution_count": 17,
   "metadata": {},
   "outputs": [
    {
     "name": "stdout",
     "output_type": "stream",
     "text": [
      "Temperatura para p_reposo:  35.00015077605322\n",
      "Temperatura para p_primer:  59.922520790530996\n",
      "Temperatura para p_segundo:  74.9392059963152\n",
      "Temperatura para p_tercero:  64.92808252579239\n",
      "Todos a maxima potencia:  129.78950776053216\n"
     ]
    }
   ],
   "source": [
    "import numpy as np\n",
    "# potencia de los procesadores\n",
    "p_reposo = np.array([10,10,10]) ## objetivo temperatura 35\n",
    "p_primer = np.array([100,10,10]) ## objetivo temperatura 60\n",
    "p_segundo = np.array([10,100,10]) ## objetivo temperatura 75\n",
    "p_tercero = np.array([10,10,100]) ## objetivo temperatura 65\n",
    "p_maxima = np.array([100,100,100])\n",
    "\n",
    "def t(p):\n",
    "#     T = np.array([35, 60, 75, 65]).T\n",
    "#     P = np.array([[10, 100, 10, 10],[10, 10, 100, 10],[10, 10, 10, 100],[1,1,1,1]])\n",
    "#     P_inv= np.linalg.inv(P)\n",
    "#     a = T @ P_inv\n",
    "    a = np.array([112275/405449, 179925/405449, 134825/405449])\n",
    "    b = 24.468\n",
    "    temperatura = a.T@p + b\n",
    "    return temperatura\n",
    "\n",
    "\n",
    "\n",
    "print(\"Temperatura para p_reposo: \", t(p_reposo))\n",
    "print(\"Temperatura para p_primer: \", t(p_primer))\n",
    "print(\"Temperatura para p_segundo: \", t(p_segundo))\n",
    "print(\"Temperatura para p_tercero: \", t(p_tercero))\n",
    "print(\"Todos a maxima potencia: \", t(p_maxima))\n"
   ]
  }
 ],
 "metadata": {
  "kernelspec": {
   "display_name": "Python 3",
   "language": "python",
   "name": "python3"
  },
  "language_info": {
   "codemirror_mode": {
    "name": "ipython",
    "version": 3
   },
   "file_extension": ".py",
   "mimetype": "text/x-python",
   "name": "python",
   "nbconvert_exporter": "python",
   "pygments_lexer": "ipython3",
   "version": "3.8.5"
  }
 },
 "nbformat": 4,
 "nbformat_minor": 4
}
