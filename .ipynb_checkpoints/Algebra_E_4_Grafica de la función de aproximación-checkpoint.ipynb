{
 "cells": [
  {
   "cell_type": "code",
   "execution_count": 1,
   "metadata": {},
   "outputs": [],
   "source": [
    "import matplotlib.pyplot as plt # Para poder realizar visualizaciones\n",
    "import pandas as pd # Para poder acceder a pandas\n",
    "import numpy as np # Para poder tener vectores"
   ]
  },
  {
   "cell_type": "code",
   "execution_count": 2,
   "metadata": {},
   "outputs": [],
   "source": [
    "def gradF(z): ## gradiente de la aproximación de Taylor\n",
    "    return np.array([1-np.exp(z[1]-z[0]),np.exp(z[1]-z[0])])"
   ]
  },
  {
   "cell_type": "code",
   "execution_count": 3,
   "metadata": {},
   "outputs": [
    {
     "name": "stdout",
     "output_type": "stream",
     "text": [
      "grad(f)[1,2] =  [-1.71828183  2.71828183]\n"
     ]
    }
   ],
   "source": [
    "z = np.array([1,2]) ## estes es el escalar de f(z)\n",
    "print('grad(f)[1,2] = ', gradF(z))"
   ]
  },
  {
   "cell_type": "code",
   "execution_count": 4,
   "metadata": {},
   "outputs": [],
   "source": [
    "def F(x): ## Función no lineal a la cual le hallamos la función afín\n",
    "    return x[0] + np.exp(x[1]-x[0])"
   ]
  },
  {
   "cell_type": "code",
   "execution_count": 5,
   "metadata": {},
   "outputs": [],
   "source": [
    "def taylor_F(x,z): ## definición de la aproximación de taylor\n",
    "    fz = F(z)\n",
    "    gz = gradF(z)\n",
    "    return fz + gz@(x-z)"
   ]
  },
  {
   "cell_type": "code",
   "execution_count": 6,
   "metadata": {
    "scrolled": true
   },
   "outputs": [
    {
     "name": "stdout",
     "output_type": "stream",
     "text": [
      "taylor_F([1,2],[1,2]) =  3.718281828459045\n"
     ]
    }
   ],
   "source": [
    "print('taylor_F([1,2],[1,2]) = ',taylor_F(z,z)) ## para corroborar evaluamos en el punto z osea x = z"
   ]
  },
  {
   "cell_type": "code",
   "execution_count": 7,
   "metadata": {},
   "outputs": [
    {
     "ename": "IndexError",
     "evalue": "arrays used as indices must be of integer (or boolean) type",
     "output_type": "error",
     "traceback": [
      "\u001b[1;31m---------------------------------------------------------------------------\u001b[0m",
      "\u001b[1;31mIndexError\u001b[0m                                Traceback (most recent call last)",
      "\u001b[1;32m<ipython-input-7-3e077ef1288a>\u001b[0m in \u001b[0;36m<module>\u001b[1;34m\u001b[0m\n\u001b[0;32m      9\u001b[0m \u001b[1;33m\u001b[0m\u001b[0m\n\u001b[0;32m     10\u001b[0m \u001b[1;32mfor\u001b[0m \u001b[0mi\u001b[0m \u001b[1;32min\u001b[0m \u001b[0mx\u001b[0m\u001b[1;33m:\u001b[0m\u001b[1;33m\u001b[0m\u001b[1;33m\u001b[0m\u001b[0m\n\u001b[1;32m---> 11\u001b[1;33m     \u001b[0mprint\u001b[0m\u001b[1;33m(\u001b[0m\u001b[0mx\u001b[0m\u001b[1;33m[\u001b[0m\u001b[0mi\u001b[0m\u001b[1;33m]\u001b[0m\u001b[1;33m)\u001b[0m\u001b[1;33m\u001b[0m\u001b[1;33m\u001b[0m\u001b[0m\n\u001b[0m",
      "\u001b[1;31mIndexError\u001b[0m: arrays used as indices must be of integer (or boolean) type"
     ]
    }
   ],
   "source": [
    "x_0 = np.linspace(10,100,1000)\n",
    "\n",
    "x_1 = np.linspace(50,150,1000)\n",
    "x_f = {'x_0' : x_0,\n",
    "           'x_1' : x_1,\n",
    "           }\n",
    "x_df = pd.DataFrame(x_f, columns = ['x_0', 'x_1'])\n",
    "x = x_df[['x_0','x_1']].values\n",
    "\n",
    "for i in x:\n",
    "    print(x[i])\n"
   ]
  },
  {
   "cell_type": "code",
   "execution_count": 11,
   "metadata": {},
   "outputs": [
    {
     "data": {
      "text/plain": [
       "(2,)"
      ]
     },
     "execution_count": 11,
     "metadata": {},
     "output_type": "execute_result"
    },
    {
     "data": {
      "image/png": "[encoded data removed]",
      "text/plain": [
       "<Figure size 840x840 with 1 Axes>"
      ]
     },
     "metadata": {
      "needs_background": "light"
     },
     "output_type": "display_data"
    }
   ],
   "source": [
    "import matplotlib.pyplot as plt #Biblioteca con funciones para visualizar\n",
    "%matplotlib inline\n",
    "fig, ax = plt.subplots(1,1,figsize=(7,7),dpi=120)\n",
    "\n",
    "\n",
    "taf = lambda x:tf(x,z)\n",
    "\n",
    "# ax.plot(x,F(x),label='original')\n",
    "# ax.plot(x,taf(x),label='aproximación')\n",
    "# ax.scatter(0.4,f(0.4),color='red')\n",
    "# ax.legend()\n",
    "# plt.show()"
   ]
  },
  {
   "cell_type": "code",
   "execution_count": null,
   "metadata": {},
   "outputs": [],
   "source": []
  }
 ],
 "metadata": {
  "kernelspec": {
   "display_name": "Python 3",
   "language": "python",
   "name": "python3"
  },
  "language_info": {
   "codemirror_mode": {
    "name": "ipython",
    "version": 3
   },
   "file_extension": ".py",
   "mimetype": "text/x-python",
   "name": "python",
   "nbconvert_exporter": "python",
   "pygments_lexer": "ipython3",
   "version": "3.8.5"
  }
 },
 "nbformat": 4,
 "nbformat_minor": 4
}
