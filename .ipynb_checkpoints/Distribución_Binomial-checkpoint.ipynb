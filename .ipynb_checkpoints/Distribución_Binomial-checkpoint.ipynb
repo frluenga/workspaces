{
 "cells": [
  {
   "cell_type": "code",
   "execution_count": 4,
   "metadata": {
    "id": "mk5PbdQ60KHF"
   },
   "outputs": [],
   "source": [
    "import numpy as np\n",
    "from numpy.random import binomial # Generador de numeros aleatorios\n",
    "from scipy.stats import binom # Distribución Binomial\n",
    "from math import factorial\n",
    "import matplotlib.pyplot as plt # Graficos"
   ]
  },
  {
   "cell_type": "markdown",
   "metadata": {
    "id": "j0ZPLw1C275z"
   },
   "source": [
    "## Secuencias de eventos tipo Bernoulli\n",
    "\n",
    "$$\n",
    "P(k, n; p) = {n \\choose k} p^k (1-p)^{n-k} = \\frac{n!}{k!(n-k)!}p^k (1-p)^{n-k}\n",
    "$$"
   ]
  },
  {
   "cell_type": "code",
   "execution_count": 5,
   "metadata": {
    "id": "zV3MBWjh3q1I"
   },
   "outputs": [],
   "source": [
    "# definición de la distribución binomial \n",
    "def my_binomial(k, n, p):\n",
    "  return factorial(n)/(factorial(k)*(factorial(n-k)))*pow(p,k)*pow(1-p, n-k)"
   ]
  },
  {
   "cell_type": "code",
   "execution_count": 6,
   "metadata": {
    "colab": {
     "base_uri": "https://localhost:8080/",
     "height": 51
    },
    "id": "1zz8o3qp4SaV",
    "outputId": "01b19cab-e964-4c87-d326-6c78f15561d6"
   },
   "outputs": [
    {
     "name": "stdout",
     "output_type": "stream",
     "text": [
      "my binomial: 0.375\n"
     ]
    },
    {
     "data": {
      "text/plain": [
       "0.375"
      ]
     },
     "execution_count": 6,
     "metadata": {},
     "output_type": "execute_result"
    }
   ],
   "source": [
    "print('my binomial: {}'.format(my_binomial(2, 3, 0.5)))\n",
    "dist = binom(3,0.5) # Numero de intentos o eventos / Probabilidad equilibrada de que suceda\n",
    "dist.pmf(2) # Objeto que tiene un atributo / densidad probabilidad 2 exitos en este caso"
   ]
  },
  {
   "cell_type": "markdown",
   "metadata": {},
   "source": [
    "# Ejemplo"
   ]
  },
  {
   "cell_type": "markdown",
   "metadata": {},
   "source": [
    "$$P(k \\leq 3, n=6, p=0.5)$$$$P(k \\leq 3, n=6, p=0.5)$$"
   ]
  },
  {
   "cell_type": "code",
   "execution_count": 10,
   "metadata": {},
   "outputs": [
    {
     "data": {
      "text/plain": [
       "0.6562499999999999"
      ]
     },
     "execution_count": 10,
     "metadata": {},
     "output_type": "execute_result"
    }
   ],
   "source": [
    "ejc = binom(6,0.5)\n",
    "ejc.cdf(3)"
   ]
  },
  {
   "cell_type": "code",
   "execution_count": 8,
   "metadata": {},
   "outputs": [
    {
     "name": "stdout",
     "output_type": "stream",
     "text": [
      "0.65625\n"
     ]
    }
   ],
   "source": [
    "total = 0 # Esta es una forma de calcular la función de densidad acumulada\n",
    "for i in range(4):\n",
    "    total += my_binomial(i,6,0.5)\n",
    "print(total)"
   ]
  },
  {
   "cell_type": "markdown",
   "metadata": {},
   "source": [
    "# Ejercicio\n",
    "Calcula a mano las siguientes probabilidades (tomando $p=0.5$$p=0.5$, por lo tanto $1-\n",
    "p=0.5$ $1-p=0.5$):\n",
    "1. Probabilidad de obtener 3 caras a partir de 12 lanzamientos de moneda.\n",
    "2. Probabilidad de obtener 5 o menos caras a partir de 10 lanzamientos de moneda.\n",
    "3. Probabilidad de obtener menos de 6 caras a partir de 10 lanzamientos de moneda.\n",
    "Calcula a mano las mismas probabilidades anteriores pero considerando ahora\n",
    "$p=0.3$$p=0.3$.\n"
   ]
  },
  {
   "cell_type": "code",
   "execution_count": 11,
   "metadata": {},
   "outputs": [
    {
     "data": {
      "text/plain": [
       "0.05371093749999999"
      ]
     },
     "execution_count": 11,
     "metadata": {},
     "output_type": "execute_result"
    }
   ],
   "source": [
    "ejc1 = binom(12,0.5)\n",
    "ejc1.pmf(3)"
   ]
  },
  {
   "cell_type": "code",
   "execution_count": 12,
   "metadata": {},
   "outputs": [
    {
     "data": {
      "text/plain": [
       "0.6230468749999999"
      ]
     },
     "execution_count": 12,
     "metadata": {},
     "output_type": "execute_result"
    }
   ],
   "source": [
    "ejc2 = binom(10,0.5)\n",
    "ejc2.cdf(5)"
   ]
  },
  {
   "cell_type": "code",
   "execution_count": 16,
   "metadata": {},
   "outputs": [
    {
     "name": "stdout",
     "output_type": "stream",
     "text": [
      "0.6230468749999998\n"
     ]
    }
   ],
   "source": [
    "ejc3 = binom(10,0.5)\n",
    "resul2 = ejc3.pmf(6)\n",
    "resul1 = ejc3.cdf(6)\n",
    "print(resul1-resul2)"
   ]
  },
  {
   "cell_type": "markdown",
   "metadata": {
    "id": "U6RH83Vfp5Jh"
   },
   "source": [
    "## Validación del ejercicio hecho a mano\n",
    "\n",
    "$$\n",
    "P(k\\leq 2, n=3, p=1/2) = \\sum_{k=0}^2 \\left[ \\frac{n!}{k!(n-k)!}p^k (1-p)^{n-k} \\right] = \\frac{7}{8}\n",
    "$$\n"
   ]
  },
  {
   "cell_type": "code",
   "execution_count": null,
   "metadata": {
    "colab": {
     "base_uri": "https://localhost:8080/",
     "height": 51
    },
    "id": "X6pS-e1k3E6D",
    "outputId": "cd416851-5324-41ff-bd6f-f8b3f4ffdd25"
   },
   "outputs": [
    {
     "name": "stdout",
     "output_type": "stream",
     "text": [
      "0.875\n"
     ]
    },
    {
     "data": {
      "text/plain": [
       "0.875"
      ]
     },
     "execution_count": 4,
     "metadata": {
      "tags": []
     },
     "output_type": "execute_result"
    }
   ],
   "source": [
    "print(7/8.0)\n",
    "dist.cdf(2) # Función de densidad acumulada"
   ]
  },
  {
   "cell_type": "markdown",
   "metadata": {
    "id": "HFfJnG06rO6I"
   },
   "source": [
    "## Simulaciones de secuencias con generadores aleatorios\n",
    "\n",
    "* Los generadores aleatorios tienen como propósito simular muestras de datos que resultarían de muestreos en la vida real de procesos aleatorios como lanzar una moneda o un dado."
   ]
  },
  {
   "cell_type": "code",
   "execution_count": null,
   "metadata": {
    "colab": {
     "base_uri": "https://localhost:8080/",
     "height": 34
    },
    "id": "DgvwIIkD2hbo",
    "outputId": "aedf8147-4565-41f9-94cb-257f37ffe4d4"
   },
   "outputs": [
    {
     "data": {
      "text/plain": [
       "1"
      ]
     },
     "execution_count": 5,
     "metadata": {
      "tags": []
     },
     "output_type": "execute_result"
    }
   ],
   "source": [
    "# simulación con 100 lanzamientos de moneda equilibrada\n",
    "# (ejecuta esta celda varias veces para observar la variación en los resultados)\n",
    "p=0.5\n",
    "n=3\n",
    "binomial(n, p)"
   ]
  },
  {
   "cell_type": "code",
   "execution_count": null,
   "metadata": {
    "id": "TjFgKhWFsjom"
   },
   "outputs": [],
   "source": [
    "# Vamos a hacer un experimento generando una muestra de conjuntos de lanzamientos de a 3 monedas\n",
    "arr = []\n",
    "for _ in range(100):\n",
    "  arr.append(binomial(n, p))"
   ]
  },
  {
   "cell_type": "code",
   "execution_count": 4,
   "metadata": {
    "colab": {
     "base_uri": "https://localhost:8080/",
     "height": 809
    },
    "id": "v7hIwGTDs3Um",
    "outputId": "cc358045-f1be-4518-90da-1d5f82de0c11"
   },
   "outputs": [
    {
     "data": {
      "image/png": "[encoded data removed]",
      "text/plain": [
       "<Figure size 432x288 with 1 Axes>"
      ]
     },
     "metadata": {
      "needs_background": "light"
     },
     "output_type": "display_data"
    },
    {
     "data": {
      "image/png": "[encoded data removed]",
      "text/plain": [
       "<Figure size 432x288 with 1 Axes>"
      ]
     },
     "metadata": {
      "needs_background": "light"
     },
     "output_type": "display_data"
    },
    {
     "data": {
      "image/png": "[encoded data removed]",
      "text/plain": [
       "<Figure size 432x288 with 1 Axes>"
      ]
     },
     "metadata": {
      "needs_background": "light"
     },
     "output_type": "display_data"
    }
   ],
   "source": [
    "def plot_hist(num_trials):\n",
    "  values = [0,1,2,3] # Resultados de exitos\n",
    "  arr = [] # arreglo donde se guardan las frecuencias\n",
    "  for _ in range(num_trials): # se ejecuta cuantas veces diga\n",
    "    arr.append(binomial(3, 0.5)) # y se agrega cada experimento aleatorie\n",
    "  distribucion_simulada = np.unique(arr, return_counts=True)[1]/len(arr) # lista los elementos de una lista, y cuenta cuantas veces.\n",
    "  distribucion_teorica = [binom(3, 0.5).pmf(k) for k in values] # una función para repetir durante un ciclo\n",
    "  plt.bar(values, distribucion_teorica, label = 'teoría', color = 'red')\n",
    "  plt.bar(values, distribucion_simulada, label = 'simulación', alpha = 0.5, color = 'blue')\n",
    "  plt.title('simulación con {} experimentos'.format(num_trials))\n",
    "  plt.show()\n",
    "\n",
    "plot_hist(20)\n",
    "plot_hist(200)\n",
    "plot_hist(20000)"
   ]
  },
  {
   "cell_type": "code",
   "execution_count": null,
   "metadata": {
    "id": "qFlIUh5s0Jv_"
   },
   "outputs": [],
   "source": []
  },
  {
   "cell_type": "code",
   "execution_count": null,
   "metadata": {},
   "outputs": [],
   "source": []
  }
 ],
 "metadata": {
  "colab": {
   "collapsed_sections": [],
   "name": "[Clase8]Distribución_Binomial.ipynb",
   "provenance": []
  },
  "kernelspec": {
   "display_name": "Python 3",
   "language": "python",
   "name": "python3"
  },
  "language_info": {
   "codemirror_mode": {
    "name": "ipython",
    "version": 3
   },
   "file_extension": ".py",
   "mimetype": "text/x-python",
   "name": "python",
   "nbconvert_exporter": "python",
   "pygments_lexer": "ipython3",
   "version": "3.8.5"
  }
 },
 "nbformat": 4,
 "nbformat_minor": 1
}
