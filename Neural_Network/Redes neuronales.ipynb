{
 "cells": [
  {
   "cell_type": "markdown",
   "id": "4c57c949",
   "metadata": {},
   "source": [
    "# Deep Learning\n",
    "Inteligencia artifical deriva a Machine Learning y esta, deriva a deep learning.\n",
    "### Machine Learning:\n",
    "Se aplica el feature enginiering lo cual significa aplicar todos los conocimientos del negocio para hacer el minado de datos.\n",
    "\n",
    "### Deep Learning:\n",
    "Es una caja negra porque solamente se cuadra como van a entrar los datos en la red neuronal y la misma red se encarga de hacer el feature engineering\n",
    "\n",
    "### Ventajas:\n",
    "\n",
    "### Desventajas:\n",
    "- Overfitting: Memoriza los datos y olvida generalizar los patrones.\n",
    "- Cajas negras:"
   ]
  },
  {
   "cell_type": "code",
   "execution_count": 1,
   "id": "05146133",
   "metadata": {},
   "outputs": [],
   "source": [
    "import numpy as np\n",
    "from tensorflow import keras\n",
    "from keras import layers, models\n",
    "from keras.utils import to_categorical\n",
    "from keras.datasets import mnist\n",
    "import matplotlib.pyplot as plt\n",
    "from sklearn.datasets import make_gaussian_quantiles"
   ]
  },
  {
   "cell_type": "code",
   "execution_count": 2,
   "id": "f0e7a7f3",
   "metadata": {},
   "outputs": [],
   "source": [
    "(train_data,train_labels),(test_data,test_labels) = mnist.load_data()"
   ]
  },
  {
   "cell_type": "code",
   "execution_count": 3,
   "id": "f025528f",
   "metadata": {},
   "outputs": [
    {
     "data": {
      "text/plain": [
       "<matplotlib.image.AxesImage at 0x212a1d9e7c0>"
      ]
     },
     "execution_count": 3,
     "metadata": {},
     "output_type": "execute_result"
    },
    {
     "data": {
      "image/png": "[encoded data removed]",
      "text/plain": [
       "<Figure size 432x288 with 1 Axes>"
      ]
     },
     "metadata": {
      "needs_background": "light"
     },
     "output_type": "display_data"
    }
   ],
   "source": [
    "plt.imshow(train_data[0])"
   ]
  },
  {
   "cell_type": "code",
   "execution_count": 4,
   "id": "e60fb811",
   "metadata": {},
   "outputs": [
    {
     "data": {
      "text/plain": [
       "5"
      ]
     },
     "execution_count": 4,
     "metadata": {},
     "output_type": "execute_result"
    }
   ],
   "source": [
    "train_labels[0]"
   ]
  },
  {
   "cell_type": "code",
   "execution_count": 5,
   "id": "4c1b3fe6",
   "metadata": {},
   "outputs": [],
   "source": [
    "model = models.Sequential()\n",
    "model.add(layers.Dense(512,activation='relu',input_shape=(28*28,)))\n",
    "model.add(layers.Dense(10,activation='softmax'))"
   ]
  },
  {
   "cell_type": "code",
   "execution_count": 6,
   "id": "af7f4b89",
   "metadata": {},
   "outputs": [],
   "source": [
    "model.compile(optimizer = 'rmsprop',\n",
    "             loss = 'categorical_crossentropy',\n",
    "             metrics='accuracy')"
   ]
  },
  {
   "cell_type": "markdown",
   "id": "f9ff8f49",
   "metadata": {},
   "source": [
    "## Se aplica un reshape:\n",
    "Es importante entender como estan compuestos los datos de entrada de la red neuronal, debido a que los datos en brupo pueden estar representados en dimensiones confusas para el modelo.\n",
    "\n",
    "En este caso, los datos de entrada son pixeles de 28 x 28, pero inicialmente se encuentran guardados en 28 vectores cada uno con un una largo de 28 items.\n",
    "\n",
    "una imagen no puede ser comprendida como 28 listas independientes, por tanto, el modelo debe recibir una unica lista de 28*28 elementos.\n",
    "\n",
    "El total de imagenes son 60 mil"
   ]
  },
  {
   "cell_type": "code",
   "execution_count": 7,
   "id": "a7d1ffc4",
   "metadata": {},
   "outputs": [
    {
     "data": {
      "text/plain": [
       "(60000, 28, 28)"
      ]
     },
     "execution_count": 7,
     "metadata": {},
     "output_type": "execute_result"
    }
   ],
   "source": [
    "train_data.shape"
   ]
  },
  {
   "cell_type": "code",
   "execution_count": 8,
   "id": "56dfe406",
   "metadata": {},
   "outputs": [],
   "source": [
    "x_train = train_data.reshape(60000,28*28)\n",
    "x_test = test_data.reshape(10000,28*28)\n",
    "x_train = x_train.astype('float32')/255\n",
    "x_test = x_test.astype('float32')/255"
   ]
  },
  {
   "cell_type": "code",
   "execution_count": 9,
   "id": "30156be9",
   "metadata": {
    "scrolled": true
   },
   "outputs": [],
   "source": [
    "y_train = to_categorical(train_labels)\n",
    "y_test = to_categorical(test_labels)"
   ]
  },
  {
   "cell_type": "code",
   "execution_count": 10,
   "id": "82138b23",
   "metadata": {},
   "outputs": [
    {
     "name": "stdout",
     "output_type": "stream",
     "text": [
      "Epoch 1/5\n",
      "469/469 [==============================] - 3s 7ms/step - loss: 0.2533 - accuracy: 0.9266\n",
      "Epoch 2/5\n",
      "469/469 [==============================] - 3s 6ms/step - loss: 0.1031 - accuracy: 0.9694\n",
      "Epoch 3/5\n",
      "469/469 [==============================] - 3s 6ms/step - loss: 0.0672 - accuracy: 0.9797\n",
      "Epoch 4/5\n",
      "469/469 [==============================] - 4s 8ms/step - loss: 0.0494 - accuracy: 0.9849\n",
      "Epoch 5/5\n",
      "469/469 [==============================] - 4s 9ms/step - loss: 0.0365 - accuracy: 0.9891\n"
     ]
    },
    {
     "data": {
      "text/plain": [
       "<tensorflow.python.keras.callbacks.History at 0x212a2744a90>"
      ]
     },
     "execution_count": 10,
     "metadata": {},
     "output_type": "execute_result"
    }
   ],
   "source": [
    "model.fit(x_train,y_train,epochs=5,batch_size = 128)"
   ]
  },
  {
   "cell_type": "code",
   "execution_count": 11,
   "id": "ac32c6cf",
   "metadata": {},
   "outputs": [
    {
     "name": "stdout",
     "output_type": "stream",
     "text": [
      "313/313 [==============================] - 1s 2ms/step - loss: 0.0644 - accuracy: 0.9812\n"
     ]
    },
    {
     "data": {
      "text/plain": [
       "[0.06444822996854782, 0.9811999797821045]"
      ]
     },
     "execution_count": 11,
     "metadata": {},
     "output_type": "execute_result"
    }
   ],
   "source": [
    "model.evaluate(x_test,y_test)"
   ]
  },
  {
   "cell_type": "markdown",
   "id": "0d2ca1d4",
   "metadata": {},
   "source": [
    "### Neurona es un Perceptron\n",
    "\n",
    "- Entradas: Son las caracteristicas del problema que van a entrar en el modelo\n",
    "- Pesos de la neurona para cada caracteristica de entrada, esos pesos cambian iterativamente para poder resolver el problema.\n",
    "- Sumas ponderadas: La salida de esta suma ponderada es una operación lineal\n",
    "- Se le da elasticidad al modelo con un Bias a la ecuación lineal de cada neurona\n",
    "\n",
    "### La función de activación: \n",
    "Deforma la respuesta obtenida por la suma ponderada de la neurona, ejemplo, si el valor es menor a 0 coloca 1 si es mayor a cero coloca 0.\n",
    "Ahora, la decisión de un resultado esta acompañada de un condicional que evalua el resultado de la capa y cada una de las entradas en la neurona. \n",
    "- Esta el condicional AND y el condicional OR.\n",
    "- Tiene un problema, y es que solo el condicional de la operación lineal es incompleto, se necesita mas de una recta lineal, por eso se agregan mas neuronas\n"
   ]
  },
  {
   "cell_type": "markdown",
   "id": "e382d077",
   "metadata": {},
   "source": [
    "### Arquitectura de las Redes neuronales\n",
    "- Capa inicial: Capa de entrada, es la capa input, que recibe todos los datos\n",
    "- Capas Ocultas: Procesan la información y procesan la información sacando caracteristicas de los datos\n",
    "- Capa de Salida: sacan la información de la decisión y procesamiento de las capas ocultas. \n",
    "\n",
    "Cada capa transfiere de manera secuencial información a la siguiente capa para continuar con el procesamiento de los datos.\n",
    "\n",
    "Entonces tenemos los datos de entrada, el cual se puede llamar como un vector de caracteristicas, el cual se encuentra con los pesos dados por cada una de las neuronas dentro de las capas.\n",
    "\n",
    "La operación es un producto punto de una matriz (Pesos de cada neurona de la capa) con un vector el cual son las variables de entrada.\n",
    "\n",
    "No importa cuantas operaciones lineales apiles en la red neuronal, si no se hace nada con esto siempre la salida sera un resultado lineal."
   ]
  },
  {
   "cell_type": "markdown",
   "id": "d3340d64",
   "metadata": {},
   "source": [
    "## Funciones de activación: \n",
    "Deforman los resultados lineales\n",
    "### Discretas: \n",
    "Funcionan con valores definidos enteros, como 1, 2, 3 ó 0.\n",
    "\n",
    "### Continuas:\n",
    "Se pueden tomar valores infinitesimales\n",
    "\n",
    "#### Función Escalonada / Umbral / Threshold\n",
    "Toma los valores de entrada y cuando se encuentran debajo de un umbral se le asigna un resultado numerico Discreto y cuando es mayor será entonces otro resultado.\n",
    "\n",
    "#### Singno / signum\n",
    "Función parecida a la escalonada pero su dominio es de -1 a 1 \n",
    "\n",
    "#### Función Sigmoidal / Sigmoid:\n",
    "Su rando es de cero a uno es decir, sus resultados van de cero a 1. pero se apilan mucho los valores\n",
    "\n",
    "#### Función tangente hiperbolica / tanh\n",
    "Permite dirigir los resultados de -1 a 1. \n",
    "\n",
    "#### Función Relu\n",
    "\n",
    "No es una función lineal, si un valor es inferior a cero siempre va a colocar cero, pero si es mayor a cero, siempre va a ir a cer, es la mas usada para trabajar en capas ocultas.\n",
    "\n",
    "#### Función Softmax. \n",
    "su ejecución funciona para clasificación binaria y multiple."
   ]
  },
  {
   "cell_type": "code",
   "execution_count": 12,
   "id": "a8c9cddd",
   "metadata": {},
   "outputs": [],
   "source": [
    "N = 1000\n",
    "gaussian_quantiles = make_gaussian_quantiles(mean=None,\n",
    "                       cov=0.1,\n",
    "                       n_samples = N,\n",
    "                       n_features = 2,\n",
    "                       n_classes = 2,\n",
    "                       shuffle = True,\n",
    "                       random_state=None)"
   ]
  },
  {
   "cell_type": "code",
   "execution_count": 13,
   "id": "4394d822",
   "metadata": {},
   "outputs": [
    {
     "data": {
      "text/plain": [
       "(1000, 2)"
      ]
     },
     "execution_count": 13,
     "metadata": {},
     "output_type": "execute_result"
    }
   ],
   "source": [
    "X, Y = gaussian_quantiles\n",
    "X.shape"
   ]
  },
  {
   "cell_type": "code",
   "execution_count": 14,
   "id": "046f99b7",
   "metadata": {},
   "outputs": [
    {
     "data": {
      "text/plain": [
       "(1000,)"
      ]
     },
     "execution_count": 14,
     "metadata": {},
     "output_type": "execute_result"
    }
   ],
   "source": [
    "Y.shape"
   ]
  },
  {
   "cell_type": "markdown",
   "id": "d4750719",
   "metadata": {},
   "source": [
    "### Configuración de la estructura de datos.\n",
    "A continuación se evidencia la necesidad de aplicar un reshape a la estructura de los datos de Y, que es la variable de salida para que pueda ser utilzada en la red neuronal, esto porque no tiene un axis si no que actualmente se presenta como una lista plata. El modelo de red neuronal adminet valores con axis para identificar el tamaño de salida de la variable. "
   ]
  },
  {
   "cell_type": "code",
   "execution_count": 15,
   "id": "7b83aa4f",
   "metadata": {},
   "outputs": [],
   "source": [
    "Y = Y[:,np.newaxis]"
   ]
  },
  {
   "cell_type": "code",
   "execution_count": 16,
   "id": "03326796",
   "metadata": {},
   "outputs": [
    {
     "data": {
      "text/plain": [
       "(1000, 1)"
      ]
     },
     "execution_count": 16,
     "metadata": {},
     "output_type": "execute_result"
    }
   ],
   "source": [
    "Y.shape"
   ]
  },
  {
   "cell_type": "markdown",
   "id": "1af3181e",
   "metadata": {},
   "source": [
    "#### Se grafica los datos.\n",
    "Para graficar los datos es necesario graficar las dos variables de X que estructuran los datos en un plano."
   ]
  },
  {
   "cell_type": "code",
   "execution_count": 17,
   "id": "7a7c8cd1",
   "metadata": {},
   "outputs": [
    {
     "data": {
      "image/png": "[encoded data removed]",
      "text/plain": [
       "<Figure size 432x288 with 1 Axes>"
      ]
     },
     "metadata": {
      "needs_background": "light"
     },
     "output_type": "display_data"
    }
   ],
   "source": [
    "plt.scatter(X[:,0],X[:,1],c=Y[:,0],s=40,cmap=plt.cm.Spectral)\n",
    "plt.show()"
   ]
  },
  {
   "cell_type": "markdown",
   "id": "4e94758a",
   "metadata": {},
   "source": [
    "## Funciones de activación"
   ]
  },
  {
   "cell_type": "code",
   "execution_count": 18,
   "id": "0abe4894",
   "metadata": {},
   "outputs": [],
   "source": [
    "def sigmoid(x,derivate= False):\n",
    "    if derivate:\n",
    "        return np.exp(-x)/((np.exp(-x) + 1)**2)\n",
    "    else: \n",
    "        return 1 / (1+np.exp(-x))\n",
    "    \n",
    "def relu(x,derivate=False):\n",
    "    if derivate:\n",
    "        # Cambia todos los valores de X y los retorna\n",
    "        x[x<=0] = 0\n",
    "        x[x>0] = 1\n",
    "        return x\n",
    "    else:\n",
    "        return np.maximum(0,x)"
   ]
  },
  {
   "cell_type": "markdown",
   "id": "438ea0ec",
   "metadata": {},
   "source": [
    "## Función de perdida\n",
    "La función que mide el desempeño del modelo y es la que se debe optimizar."
   ]
  },
  {
   "cell_type": "code",
   "execution_count": 19,
   "id": "175ffec7",
   "metadata": {},
   "outputs": [],
   "source": [
    "def mse(y,y_hat,derivate=False):\n",
    "    if derivate:\n",
    "        return (y_hat-y)\n",
    "    else:\n",
    "        return np.mean((y_hat-y)**2)"
   ]
  },
  {
   "cell_type": "markdown",
   "id": "46a89dba",
   "metadata": {},
   "source": [
    "## Crear la estructura de la red neuronal\n",
    "Se deben definir la estructura de las neuronal, como el peso y el bias."
   ]
  },
  {
   "cell_type": "code",
   "execution_count": 20,
   "id": "69e9b106",
   "metadata": {},
   "outputs": [],
   "source": [
    "def initialize_parameters_deep(layers_dim):\n",
    "    '''\n",
    "    Recibe el tamaño de la red neuronal completa\n",
    "    en las siguientes operaciones se excluye la \n",
    "    capa de entrada y de salida.\n",
    "    '''\n",
    "    parameters = {}\n",
    "    L = len(layers_dim)\n",
    "    # Crear los pesos aleatoriamente\n",
    "    # Valeres aleatorios entre 0 y 1 de tamaño\n",
    "    # 10 filas y 3 columnas\n",
    "    for l in range(0,L-1):\n",
    "        parameters['w'+str(l+1)] = (np.random.rand(layers_dim[l],layers_dim[l+1])*2) - 1\n",
    "        parameters['b'+str(l+1)] = (np.random.rand(1,layers_dim[l+1])*2) - 1\n",
    "    return parameters"
   ]
  },
  {
   "cell_type": "code",
   "execution_count": 21,
   "id": "eef4f525",
   "metadata": {},
   "outputs": [
    {
     "data": {
      "text/plain": [
       "array([[-0.24615651,  0.61862345, -0.36762781,  0.39777561,  0.20769469,\n",
       "        -0.18744686, -0.54412792,  0.94512223, -0.24130883,  0.21273677],\n",
       "       [ 0.02218447,  0.03613968, -0.08856414, -0.66313591, -0.45161355,\n",
       "         0.57115647,  0.22320481, -0.40638598, -0.16887297, -0.60879073]])"
      ]
     },
     "execution_count": 21,
     "metadata": {},
     "output_type": "execute_result"
    }
   ],
   "source": [
    "layers = [2,10,10,1]\n",
    "l = 0\n",
    "(np.random.rand(layers[l],layers[l+1])*2) - 1"
   ]
  },
  {
   "cell_type": "code",
   "execution_count": 22,
   "id": "c55a28b8",
   "metadata": {},
   "outputs": [],
   "source": [
    "params = initialize_parameters_deep(layers)"
   ]
  },
  {
   "cell_type": "code",
   "execution_count": 23,
   "id": "95de331c",
   "metadata": {},
   "outputs": [
    {
     "data": {
      "text/plain": [
       "{'w1': array([[ 0.08387365,  0.88543038, -0.07278953,  0.93347084,  0.5617519 ,\n",
       "          0.85319417, -0.58199058,  0.03430758,  0.72126877, -0.40436763],\n",
       "        [ 0.91290864, -0.20156757, -0.58804139,  0.61384323,  0.84502656,\n",
       "          0.29433015, -0.51993869,  0.92568472, -0.84053371,  0.14578316]]),\n",
       " 'b1': array([[-0.54782916, -0.78873282, -0.28615784,  0.21530625, -0.31941087,\n",
       "         -0.82933722,  0.08329633,  0.63353901,  0.85803521, -0.80940439]]),\n",
       " 'w2': array([[-0.70130993, -0.06532314,  0.89394892,  0.98608389, -0.63153953,\n",
       "          0.47981222,  0.80381441, -0.84412857, -0.48332407,  0.90408669],\n",
       "        [-0.65051422, -0.05372062, -0.89542078, -0.80050185,  0.26098128,\n",
       "          0.92731801, -0.73649938, -0.35359385,  0.67130557,  0.61323068],\n",
       "        [-0.2676936 ,  0.35928729,  0.08904702, -0.56321358, -0.88285943,\n",
       "         -0.63194382, -0.58020994, -0.17328789, -0.74241163, -0.23215364],\n",
       "        [ 0.60153299, -0.29149668, -0.11461208, -0.44707547,  0.64512656,\n",
       "          0.88809786, -0.41809779,  0.60627804, -0.66659798, -0.46392341],\n",
       "        [-0.39639393, -0.85280817,  0.44709958, -0.01482777,  0.25827748,\n",
       "         -0.51344671,  0.59045613, -0.26638589,  0.09055713, -0.5482465 ],\n",
       "        [ 0.81782505, -0.74525376, -0.27100987, -0.90315795,  0.0876248 ,\n",
       "          0.71895867,  0.2513429 , -0.73405084, -0.56611748, -0.94757782],\n",
       "        [-0.42002375, -0.1599835 , -0.96472954, -0.7396994 ,  0.0589891 ,\n",
       "          0.67050991,  0.46536248,  0.02303212,  0.07166254, -0.96761518],\n",
       "        [ 0.42856691, -0.22753105, -0.78980901, -0.92967953, -0.69653376,\n",
       "          0.17823866,  0.92587234,  0.21155663,  0.69780227, -0.35258388],\n",
       "        [-0.33737949, -0.1181527 , -0.9093367 ,  0.76099187,  0.32136334,\n",
       "         -0.78300451, -0.75515504, -0.08596348,  0.43608942, -0.49349328],\n",
       "        [ 0.28241146, -0.4057678 ,  0.31033077,  0.69149624,  0.37961642,\n",
       "         -0.05857449,  0.94160326, -0.20957237, -0.2526642 ,  0.67461589]]),\n",
       " 'b2': array([[ 0.65898342,  0.07945565,  0.73673614, -0.33769948,  0.79901259,\n",
       "         -0.20844985,  0.8678643 ,  0.73984514,  0.31324737,  0.93039523]]),\n",
       " 'w3': array([[-0.25022617],\n",
       "        [ 0.04115281],\n",
       "        [ 0.21290005],\n",
       "        [ 0.83007033],\n",
       "        [ 0.29300243],\n",
       "        [ 0.00829797],\n",
       "        [-0.86280395],\n",
       "        [ 0.55011735],\n",
       "        [-0.38964468],\n",
       "        [ 0.53030499]]),\n",
       " 'b3': array([[-0.81426243]])}"
      ]
     },
     "execution_count": 23,
     "metadata": {},
     "output_type": "execute_result"
    }
   ],
   "source": [
    "params"
   ]
  },
  {
   "cell_type": "markdown",
   "id": "25691f1b",
   "metadata": {},
   "source": [
    "## Operaciones de producto punto\n",
    "La operación de producto punto se realiza entre los valores de entrada y los pesos de la neurona, es importante que el tamaño de los valores de entrada es decir la cantidad de variables que ingresan al sistema (2) sea igual a la cantidad de neuronas que tiene la red en esa capa (2).\n",
    "\n",
    "El resultado de la operación es un arreglo del tamaño del total de observaciones con el total de resultados de las operaciones de esa neurona que encajan perfectamente con el tamaño de la siguiente capa, es decir total de neuronas, ese se vuelve a multiplicar por los pesos siguientes de lo cual se originará lo mismo.\n",
    "\n",
    "En la ultima capa se maneja muy bien la distribución sigmoide, porque maneja bien la distribución estadistica entre 0 y 1 y eso es lo que buscamos como ultimo en su resultado"
   ]
  },
  {
   "cell_type": "code",
   "execution_count": 24,
   "id": "1a468ffa",
   "metadata": {},
   "outputs": [
    {
     "data": {
      "text/plain": [
       "((1000, 2), (2, 10))"
      ]
     },
     "execution_count": 24,
     "metadata": {},
     "output_type": "execute_result"
    }
   ],
   "source": [
    "# Entrada         # Capa\n",
    "X.shape, params['w1'].shape"
   ]
  },
  {
   "cell_type": "code",
   "execution_count": 25,
   "id": "43289617",
   "metadata": {},
   "outputs": [
    {
     "data": {
      "text/plain": [
       "(1000, 10)"
      ]
     },
     "execution_count": 25,
     "metadata": {},
     "output_type": "execute_result"
    }
   ],
   "source": [
    "np.matmul(X,params['w1']).shape"
   ]
  },
  {
   "cell_type": "markdown",
   "id": "2b9f2056",
   "metadata": {},
   "source": [
    "Tambien se puede hacer la operación de producto punto con el @"
   ]
  },
  {
   "cell_type": "code",
   "execution_count": 26,
   "id": "4351c631",
   "metadata": {},
   "outputs": [
    {
     "data": {
      "text/plain": [
       "array([ 0.2837792 ,  0.04252521, -0.18497692,  0.29286982,  0.31900916,\n",
       "        0.18762347, -0.22378536,  0.28184661, -0.16836933, -0.00329345])"
      ]
     },
     "execution_count": 26,
     "metadata": {},
     "output_type": "execute_result"
    }
   ],
   "source": [
    "(X@params['w1'])[0]"
   ]
  },
  {
   "cell_type": "code",
   "execution_count": 27,
   "id": "b5f2a65b",
   "metadata": {},
   "outputs": [],
   "source": [
    "## Forward\n",
    "params['A0'] = X\n",
    "\n",
    "params['Z1'] = np.matmul(params['A0'],params['w1'])+params['b1']\n",
    "params['A1'] = relu(params['Z1'])\n",
    "\n",
    "params['Z2'] = np.matmul(params['A1'],params['w2'])+params['b2']\n",
    "params['A2'] = relu(params['Z2'])\n",
    "\n",
    "params['Z3'] = np.matmul(params['A2'],params['w3'])+params['b3']\n",
    "params['A3'] = sigmoid(params['Z3'])\n",
    "\n",
    "output = params['A3']"
   ]
  },
  {
   "cell_type": "markdown",
   "id": "e2216e40",
   "metadata": {},
   "source": [
    "### Backpropagation\n",
    "Coger el error de la ultima capa, pasarla por la función de perdida y propagar el error hacía atras.\n",
    "\n",
    "La capa final arroja una predicción la cual ser evalua con los valores reales pasandola por una función de perdida, indicando que tan lejos esta de tener una buena decisión.\n",
    "\n",
    "Con esa información se pasa a un optimizador que es el descenso del gradiente el cual actualiza los pesos de las neuronas para disminuir la función de perdida.\n",
    "\n",
    "El problema es que esa iteración solo arroja el resultado de la ultima capa por lo que se hace necesario mirar mas hacía atras, para ello se usan derivadas parciales.\n",
    "\n",
    "1. Calcular el descenso del gradiente de la ultima capa, ¿Que es calcular el gradiente? es calcular las deltas de las derivadas parciales de la función de costo de la función de activación de los resultados z de la ultima capa. con la regla de la cadena.\n",
    "\n",
    "2. Las capas ocultas, toman los pesos en las capas se multiplican por producto punto con las deltas obtenidas de la capa anterior o mas final, multiplicado por la derivada de la activación con respecto a z de la capa l-1\n",
    "\n",
    "![](./back.PNG)\n",
    "\n",
    "Calculando el costo de activación de cada capa\n",
    "\n",
    "\n",
    "\n",
    "se calcula con las deltas."
   ]
  },
  {
   "cell_type": "code",
   "execution_count": 28,
   "id": "4241e7ae",
   "metadata": {},
   "outputs": [],
   "source": [
    "# Delta ultima capa DERIVADA DE LA FUNCIÓN DE PERDIDA POR LA ACTIVACIÓN\n",
    "params['dZ3'] = mse(Y,output,True) * sigmoid(params['A3'],True)\n",
    "params['dW3'] = np.matmul(params['A2'].T,params['dZ3'])\n",
    "\n",
    "params['dZ2'] = np.matmul(params['dZ3'],params['w3'].T)* relu(params['A2'],True)\n",
    "params['dW2'] = np.matmul(params['A1'].T,params['dZ2'])\n",
    "\n",
    "params['dZ1'] = np.matmul(params['dZ2'],params['w2'].T) * relu(params['A1'],True)\n",
    "params['dW1'] = np.matmul(params['A0'].T,params['dZ1'])"
   ]
  },
  {
   "cell_type": "markdown",
   "id": "d9296715",
   "metadata": {},
   "source": [
    "Por las dimensiones no se puede hacer producto punto, debido a que el numero total de columas en la matriz de deltas es de uno y el numero de columnas o resultados de la capa A2 es de 10, se debe hacer la transpuesta a esta capa, para que coincida el numero de observaciones de los deltas por el numero de resultados de cada neurona.\n",
    "\n",
    "Como resultado de la transpuesta de la capa A2 es:\n",
    "\n",
    "![](./A2T.PNG)"
   ]
  },
  {
   "cell_type": "markdown",
   "id": "7adc732c",
   "metadata": {},
   "source": [
    "### Descenso del gradiente"
   ]
  },
  {
   "cell_type": "code",
   "execution_count": 29,
   "id": "b1bc68e5",
   "metadata": {},
   "outputs": [],
   "source": [
    "params['w3'] = params['w3'] - params['dW3'] * 0.0001\n",
    "params['b3'] = params['b3'] - (np.mean(params['dW3'],axis=0,keepdims=True)) * 0.0001\n",
    "\n",
    "params['w2'] = params['w2'] - params['dW2'] * 0.0001\n",
    "params['b2'] = params['b2'] - (np.mean(params['dW2'],axis=0,keepdims=True)) * 0.0001\n",
    "\n",
    "params['w1'] = params['w1'] - params['dW1'] * 0.0001\n",
    "params['b1'] = params['b1'] - (np.mean(params['dW1'],axis=0,keepdims=True)) * 0.0001"
   ]
  },
  {
   "cell_type": "code",
   "execution_count": 30,
   "id": "1afb10dc",
   "metadata": {},
   "outputs": [],
   "source": [
    "def train(x_data,lr,params,training = True):\n",
    "    ## Forward\n",
    "    params['A0'] = x_data\n",
    "    \n",
    "    params['Z1'] = np.matmul(params['A0'],params['w1'])+params['b1']\n",
    "    params['A1'] = relu(params['Z1'])\n",
    "\n",
    "    params['Z2'] = np.matmul(params['A1'],params['w2'])+params['b2']\n",
    "    params['A2'] = relu(params['Z2'])\n",
    "\n",
    "    params['Z3'] = np.matmul(params['A2'],params['w3'])+params['b3']\n",
    "    params['A3'] = sigmoid(params['Z3'])\n",
    "\n",
    "    output = params['A3']\n",
    "    \n",
    "    \n",
    "    if training:\n",
    "        ## Backpropagation\n",
    "        params['dZ3'] = mse(Y,output,True) * sigmoid(params['A3'],True)\n",
    "        params['dW3'] = np.matmul(params['A2'].T,params['dZ3'])\n",
    "\n",
    "        params['dZ2'] = np.matmul(params['dZ3'],params['w3'].T)* relu(params['A2'],True)\n",
    "        params['dW2'] = np.matmul(params['A1'].T,params['dZ2'])\n",
    "\n",
    "        params['dZ1'] = np.matmul(params['dZ2'],params['w2'].T) * relu(params['A1'],True)\n",
    "        params['dW1'] = np.matmul(params['A0'].T,params['dZ1'])\n",
    "        \n",
    "        ## Gradient Descent\n",
    "        params['w3'] = params['w3'] - params['dW3'] * lr\n",
    "        params['b3'] = params['b3'] - (np.mean(params['dW3'],axis=0,keepdims=True)) * lr\n",
    "\n",
    "        params['w2'] = params['w2'] - params['dW2'] * lr\n",
    "        params['b2'] = params['b2'] - (np.mean(params['dW2'],axis=0,keepdims=True)) * lr\n",
    "\n",
    "        params['w1'] = params['w1'] - params['dW1'] * lr\n",
    "        params['b1'] = params['b1'] - (np.mean(params['dW1'],axis=0,keepdims=True)) * lr\n",
    "        \n",
    "    return output"
   ]
  },
  {
   "cell_type": "code",
   "execution_count": 31,
   "id": "f5086ad1",
   "metadata": {},
   "outputs": [
    {
     "name": "stdout",
     "output_type": "stream",
     "text": [
      "0.37217824165679764\n",
      "0.25717659456464065\n",
      "0.24858508581959848\n",
      "0.2445597987642634\n",
      "0.2422684263719897\n",
      "0.23997666056297032\n",
      "0.2374058039259191\n",
      "0.2345379707129568\n",
      "0.23128122372805435\n",
      "0.22778802194295822\n",
      "0.2240740702689557\n",
      "0.22001909221409124\n",
      "0.2156855198445827\n",
      "0.21102301462948714\n",
      "0.20622816321726428\n",
      "0.201397999790026\n",
      "0.19644027675907438\n",
      "0.19165921819591067\n",
      "0.18720458958421687\n",
      "0.1832727675533917\n",
      "0.17974848844839875\n",
      "0.17658084589255615\n",
      "0.17383208685372012\n",
      "0.17132691107187253\n",
      "0.16919402868471917\n",
      "0.16740892666033644\n",
      "0.16585402574206573\n",
      "0.16450501439568052\n",
      "0.1634237367458658\n",
      "0.16246040152671984\n",
      "0.16162933379687108\n",
      "0.1609343599721593\n",
      "0.16037027298901543\n",
      "0.15989417914463086\n",
      "0.15944985839791212\n",
      "0.15908904225131576\n",
      "0.15879685671899704\n",
      "0.15843867676684226\n",
      "0.15818638255378387\n",
      "0.1578724725108035\n",
      "0.15748863291606846\n",
      "0.15717267297016238\n",
      "0.15689626416786825\n",
      "0.1566426888086703\n",
      "0.15644662369798773\n",
      "0.15620865590744448\n",
      "0.15605896407702938\n",
      "0.15582726941934785\n",
      "0.15570986162377526\n",
      "0.1555649186877037\n",
      "0.15541442371215164\n",
      "0.15530239353187897\n",
      "0.15519718440047905\n",
      "0.15503812098177155\n",
      "0.15493643767519877\n",
      "0.15475539476421857\n",
      "0.15460854564790855\n",
      "0.15417796306051412\n",
      "0.15402839847818472\n",
      "0.15389477219309902\n",
      "0.153777489446501\n",
      "0.15365889412605263\n",
      "0.15358179135050284\n",
      "0.1534559019270722\n",
      "0.1534202581614991\n",
      "0.15334805865750445\n",
      "0.15312702337268097\n",
      "0.1529075477832433\n",
      "0.15269093802948347\n",
      "0.1524950720261448\n",
      "0.15245450630506002\n",
      "0.15233864651314427\n",
      "0.15232870529928944\n",
      "0.15231010976231818\n",
      "0.15229360481748677\n",
      "0.15225245750968888\n",
      "0.15223471283507775\n",
      "0.15214449589369705\n",
      "0.15211731445916513\n",
      "0.15206428265960495\n",
      "0.15204804484573584\n",
      "0.15202294764669616\n",
      "0.15199942378919595\n",
      "0.1519822244001682\n",
      "0.15197484007536355\n",
      "0.15194687343233734\n",
      "0.1519289875153371\n",
      "0.1519139779764431\n",
      "0.15185733021201395\n",
      "0.1518433146266473\n",
      "0.15176232641564394\n",
      "0.1517288258110343\n",
      "0.15168492665854888\n",
      "0.15164811352011573\n",
      "0.1515905182680541\n",
      "0.15153938739194248\n",
      "0.15151358417924007\n",
      "0.15143608770072695\n",
      "0.15139837655715274\n",
      "0.151333937489608\n",
      "0.15128549059298743\n",
      "0.15126627600021533\n",
      "0.15120325520113595\n",
      "0.15111648567067804\n",
      "0.1510927015284523\n",
      "0.1510171720124154\n",
      "0.15098207958885926\n",
      "0.1509225338157662\n",
      "0.15085767124407182\n",
      "0.15080775589058826\n",
      "0.1507749234247585\n",
      "0.1507338578304266\n",
      "0.1506798178414792\n",
      "0.15062529512102965\n",
      "0.1506210772804177\n",
      "0.1505471722049578\n",
      "0.15052435809753612\n",
      "0.15047562572081574\n",
      "0.15030447883507822\n",
      "0.14988238446566846\n",
      "0.1496810706234342\n",
      "0.14924158918451752\n",
      "0.14833432056938264\n",
      "0.14736865370083085\n",
      "0.1463132255538238\n",
      "0.14518234659810547\n",
      "0.14439647792383883\n",
      "0.1435996235715409\n",
      "0.14291226210205935\n",
      "0.14204378884085583\n",
      "0.1412441336851444\n",
      "0.1404300108383008\n",
      "0.13963867031591892\n",
      "0.13898690242112502\n",
      "0.13820360913486548\n",
      "0.13735731747365174\n",
      "0.13650299096079907\n",
      "0.13563638686875873\n",
      "0.13480312158041868\n",
      "0.13397675652194796\n",
      "0.13298979707895467\n",
      "0.1320434324626916\n",
      "0.13112611880126793\n",
      "0.13013081845299018\n",
      "0.12924261834011067\n",
      "0.12846238423812195\n",
      "0.1278401845578202\n",
      "0.12685259754924913\n",
      "0.12587705221511022\n",
      "0.12493688360193805\n",
      "0.12398196582404171\n",
      "0.12305266534750553\n",
      "0.12211318896525561\n",
      "0.12116085459154195\n",
      "0.1200974817921294\n",
      "0.11901323769955166\n",
      "0.11807990557660909\n",
      "0.11714272055261091\n",
      "0.11624955354579616\n",
      "0.11530846336802658\n",
      "0.11441240139221374\n",
      "0.11337151740936677\n",
      "0.1123932410703321\n",
      "0.11138559493597446\n",
      "0.11042327208835467\n",
      "0.10936437264469395\n",
      "0.10835820452907073\n",
      "0.10729163387574996\n",
      "0.10599568413722983\n",
      "0.10453580933659819\n",
      "0.10315145502143068\n",
      "0.10117917600923718\n",
      "0.09872075695218491\n",
      "0.0966999471885489\n",
      "0.09523484794882703\n",
      "0.09392894983094052\n",
      "0.0927253614308623\n",
      "0.09160706340918656\n",
      "0.09112737953988156\n",
      "0.0922532363869924\n",
      "0.09462882987687246\n",
      "0.09658580484430666\n",
      "0.09558171758791328\n",
      "0.0954694693475166\n",
      "0.0959261830465899\n",
      "0.0960484336839354\n",
      "0.09607542561934773\n",
      "0.09537707886962218\n",
      "0.0950525659299582\n",
      "0.09521223791385953\n",
      "0.09556013253083694\n",
      "0.09576444707577261\n",
      "0.0959329768103928\n",
      "0.09581794351428995\n",
      "0.09553901048908654\n",
      "0.09513447152612016\n",
      "0.09467760901037159\n",
      "0.09419839376437719\n",
      "0.09376227097688104\n",
      "0.09339432970279256\n",
      "0.09307764436498334\n",
      "0.09279914183375189\n",
      "0.09254870067557502\n",
      "0.0923298801135224\n",
      "0.09213405130605944\n",
      "0.09194194795525826\n",
      "0.09174796926638393\n",
      "0.09160527960042367\n",
      "0.09146566072620346\n",
      "0.09132498813268052\n",
      "0.091169034608879\n",
      "0.090961558745858\n",
      "0.09076008795230617\n",
      "0.09058415207100552\n",
      "0.09040897004675569\n",
      "0.09024030517651233\n",
      "0.09007084250275574\n",
      "0.08991982251296077\n",
      "0.08987343392342932\n",
      "0.08979110028832671\n",
      "0.08971130362006624\n",
      "0.08971037163868127\n",
      "0.08967847737811367\n",
      "0.08961977715311957\n",
      "0.08954111830493057\n",
      "0.08944934500100118\n",
      "0.08935067590872803\n",
      "0.08924633224287325\n",
      "0.08914045108952759\n",
      "0.08903610169140172\n",
      "0.0889386017189949\n",
      "0.0888434222247934\n",
      "0.08875012480709525\n",
      "0.08866722892085636\n",
      "0.08860053070323351\n",
      "0.08850544041138157\n",
      "0.08839062786690426\n",
      "0.08829476904670389\n",
      "0.0882126211761157\n",
      "0.08814171819467174\n",
      "0.08807786544042252\n",
      "0.08801862989654222\n",
      "0.08794005048186054\n",
      "0.0878517019490336\n",
      "0.08777499909211744\n",
      "0.08770666818423657\n",
      "0.0876419008371698\n",
      "0.08758611114733846\n",
      "0.0875351241365033\n",
      "0.08748023953861259\n",
      "0.08743576669896791\n",
      "0.0873879838952647\n",
      "0.08731043931667654\n",
      "0.08724945552813795\n",
      "0.08719251688476826\n",
      "0.0871357801909649\n",
      "0.08706568911790655\n",
      "0.08701072908661925\n",
      "0.08696444891910739\n",
      "0.0869244177864249\n",
      "0.08689388675846971\n",
      "0.08687668194806977\n",
      "0.08685819719058221\n",
      "0.08683581785664372\n",
      "0.0868161262318668\n",
      "0.08682439530895525\n",
      "0.0868250884801253\n",
      "0.08681618781127204\n",
      "0.086790096594066\n",
      "0.08675700370190267\n",
      "0.08672055789667243\n",
      "0.08668291479516002\n",
      "0.08663793384953579\n",
      "0.08658594254878624\n",
      "0.086524692746052\n",
      "0.08648624872211683\n",
      "0.08645015252014653\n",
      "0.0864128884854974\n",
      "0.08638574617981186\n",
      "0.08635704855347237\n",
      "0.08632806564634038\n",
      "0.08629900980195812\n",
      "0.08627456563602993\n",
      "0.08624566835773703\n",
      "0.08621539585329366\n",
      "0.08618194586452031\n",
      "0.08614687948677596\n",
      "0.08610873911247023\n",
      "0.08607222519808287\n",
      "0.08603223022188237\n",
      "0.08599403393605519\n",
      "0.08595405946170606\n",
      "0.08591633717113956\n",
      "0.08587729790727774\n",
      "0.08583632890250431\n",
      "0.0858006045785177\n",
      "0.08576635183193083\n",
      "0.08573059743399733\n",
      "0.08569237281816597\n",
      "0.08565358438133196\n",
      "0.0856229178103677\n",
      "0.08558823339228229\n",
      "0.08554543753397285\n",
      "0.0854768524701657\n",
      "0.08541564478642721\n",
      "0.08535602656213023\n",
      "0.08529849925134622\n",
      "0.08526985062347182\n",
      "0.08529201988305658\n",
      "0.08528346074712606\n",
      "0.08525752907622039\n",
      "0.08519075966882897\n",
      "0.08504387073287026\n",
      "0.08488942184805992\n",
      "0.08470639304933823\n",
      "0.08453937695010563\n",
      "0.08439366665261035\n",
      "0.08428597090767122\n",
      "0.08418993169685193\n",
      "0.08408979716021299\n",
      "0.08401805578926849\n",
      "0.0839510942445376\n",
      "0.08387981981825614\n",
      "0.08382504589752156\n",
      "0.08377322125456046\n",
      "0.08372367676369527\n",
      "0.08367710920258975\n",
      "0.08362168265457712\n",
      "0.08356802365717596\n",
      "0.08351739471382091\n",
      "0.08347155361372695\n",
      "0.08342280630265801\n",
      "0.08335542908917844\n",
      "0.08329145893425229\n",
      "0.08324063949456255\n",
      "0.08318458675711067\n",
      "0.08313026467759763\n",
      "0.08306984486546552\n",
      "0.08302185899478817\n",
      "0.08296713898295432\n",
      "0.08290009831890861\n",
      "0.08282826112332214\n",
      "0.0827603644987991\n",
      "0.08268712290819434\n",
      "0.08261228327269976\n",
      "0.0825295682580389\n",
      "0.08244662227475061\n",
      "0.08236598288388586\n",
      "0.08228652647667274\n",
      "0.08220444014714923\n",
      "0.08212706577128512\n",
      "0.08205300121548695\n",
      "0.0819762537829639\n",
      "0.08190216981577143\n",
      "0.08182381009174128\n",
      "0.08174640947085489\n",
      "0.08168609109597247\n",
      "0.08156936715606412\n",
      "0.08144577225169453\n",
      "0.08133394416601004\n",
      "0.08123467404043887\n",
      "0.08113543046703493\n",
      "0.08103780469364089\n",
      "0.0809331067695154\n",
      "0.08083573213033182\n",
      "0.0807727125098304\n",
      "0.08064842424924629\n",
      "0.08053806212448078\n",
      "0.0804273829177732\n",
      "0.08031466179779048\n",
      "0.08020385010296499\n",
      "0.08008666211209402\n",
      "0.07997716566402233\n",
      "0.07985933574617964\n",
      "0.0797373774749685\n",
      "0.0796186985403721\n",
      "0.07949946766056853\n",
      "0.0793762483546127\n",
      "0.0792543099233131\n",
      "0.07912577046684253\n",
      "0.0789922318482015\n",
      "0.0788319993736815\n",
      "0.07861547113632375\n",
      "0.07837060457686724\n",
      "0.07803381899161717\n",
      "0.07758211449389266\n",
      "0.076896900540932\n",
      "0.07659684373337411\n",
      "0.07654548973995094\n",
      "0.07648554500704244\n",
      "0.07642150148353428\n",
      "0.07634786084639325\n",
      "0.07628134853390077\n",
      "0.07621546247198449\n",
      "0.07615031333063767\n",
      "0.07608453526887425\n",
      "0.07601542403231047\n",
      "0.07595894299584531\n",
      "0.07588736476018573\n",
      "0.07583655864029128\n",
      "0.07578510142778334\n",
      "0.07573123262865135\n",
      "0.07568035759460884\n",
      "0.07562733504305791\n",
      "0.0755740642507806\n",
      "0.07551424822830202\n",
      "0.07545934070960852\n",
      "0.07540422534466572\n",
      "0.07534874811957629\n",
      "0.07529268622136709\n",
      "0.07523509718957377\n",
      "0.07517935461914751\n",
      "0.07512274398043352\n",
      "0.07506324585068791\n",
      "0.07500736538454444\n"
     ]
    },
    {
     "name": "stdout",
     "output_type": "stream",
     "text": [
      "0.07495170966188697\n",
      "0.07489084974246168\n",
      "0.0748417374685112\n",
      "0.07479585837498487\n",
      "0.07474886903268799\n",
      "0.07470012226415491\n",
      "0.07467875390132332\n",
      "0.07462812929999284\n",
      "0.07457671297430847\n",
      "0.07452314175085316\n",
      "0.07446988329271707\n",
      "0.07441104350512338\n",
      "0.07435765385718354\n",
      "0.07430438082562613\n",
      "0.07424444545285808\n",
      "0.07419112868982111\n",
      "0.07413413343528115\n",
      "0.07407574482638782\n",
      "0.07402272621673735\n",
      "0.07396866174971581\n",
      "0.07391618705687561\n",
      "0.0738647063047432\n",
      "0.0738140214275818\n",
      "0.0737656876642991\n",
      "0.07373419910726774\n",
      "0.0736970647857631\n",
      "0.07365354811088042\n",
      "0.07361283231974605\n",
      "0.07356462143715146\n",
      "0.07351960750870486\n",
      "0.07347546480297591\n",
      "0.0734334453058619\n",
      "0.07339078988503962\n",
      "0.07334737055895792\n",
      "0.07330358577176835\n",
      "0.0732593062199973\n",
      "0.07321444606508845\n",
      "0.07316810300636073\n",
      "0.07311924369202885\n",
      "0.0730706797221114\n",
      "0.07302465819031945\n",
      "0.07297907851381333\n",
      "0.07293147678575729\n",
      "0.07288355576002364\n",
      "0.07283696326531379\n",
      "0.0727938477640976\n",
      "0.07275017230764222\n",
      "0.07270709516829836\n",
      "0.07266389135438028\n",
      "0.07261167628522903\n",
      "0.07256362574282557\n",
      "0.07251696965285327\n",
      "0.0724739184437455\n",
      "0.07242288358401075\n",
      "0.07238007025941086\n",
      "0.07234225700977223\n",
      "0.07230285888917976\n",
      "0.07225779749259709\n",
      "0.07221113297436886\n",
      "0.07217195369832453\n",
      "0.07212658088141627\n",
      "0.07208033377129024\n",
      "0.07203865498322147\n",
      "0.07199771455126867\n",
      "0.07195488111357769\n",
      "0.0719234130007251\n",
      "0.07188957169376842\n",
      "0.07185417060442986\n",
      "0.07181635050714431\n",
      "0.07177848146344941\n",
      "0.07174602131041806\n",
      "0.07171264623327096\n",
      "0.0716784634136059\n",
      "0.07164174199980376\n",
      "0.0716046254804421\n",
      "0.07156930709124781\n",
      "0.07153449691145172\n",
      "0.07150203094145052\n",
      "0.07146847836760611\n",
      "0.07143539289733261\n",
      "0.07140103940494748\n",
      "0.07136551104639453\n",
      "0.0713311579167832\n",
      "0.07129719069876604\n",
      "0.07126447718129993\n"
     ]
    }
   ],
   "source": [
    "layer_dims = [2,8,8,1]\n",
    "params = initialize_parameters_deep(layer_dims)\n",
    "errors= []\n",
    "\n",
    "for _ in range(50000):\n",
    "    output = train(X,0.0001,params)\n",
    "    if _ % 100 == 0:\n",
    "        print(mse(Y,output))\n",
    "        errors.append(mse(Y,output))"
   ]
  },
  {
   "cell_type": "code",
   "execution_count": 32,
   "id": "260c16ad",
   "metadata": {},
   "outputs": [
    {
     "data": {
      "text/plain": [
       "[<matplotlib.lines.Line2D at 0x212a28897f0>]"
      ]
     },
     "execution_count": 32,
     "metadata": {},
     "output_type": "execute_result"
    },
    {
     "data": {
      "image/png": "[encoded data removed]",
      "text/plain": [
       "<Figure size 432x288 with 1 Axes>"
      ]
     },
     "metadata": {
      "needs_background": "light"
     },
     "output_type": "display_data"
    }
   ],
   "source": [
    "plt.plot(errors)"
   ]
  },
  {
   "cell_type": "code",
   "execution_count": 69,
   "id": "b06ba479",
   "metadata": {},
   "outputs": [],
   "source": [
    "data_test = (np.random.rand(1000,2)*2)-1\n",
    "y = train(data_test,0.0001,params,training=False)"
   ]
  },
  {
   "cell_type": "code",
   "execution_count": 70,
   "id": "cf812884",
   "metadata": {},
   "outputs": [],
   "source": [
    "y = np.where(y>= 0.5,1,0)"
   ]
  },
  {
   "cell_type": "code",
   "execution_count": 71,
   "id": "d736afaf",
   "metadata": {},
   "outputs": [
    {
     "data": {
      "image/png": "[encoded data removed]",
      "text/plain": [
       "<Figure size 432x288 with 1 Axes>"
      ]
     },
     "metadata": {
      "needs_background": "light"
     },
     "output_type": "display_data"
    }
   ],
   "source": [
    "plt.scatter(data_test[:,0],data_test[:,1],c=y[:,0],s=40,cmap=plt.cm.Spectral)\n",
    "plt.show()"
   ]
  },
  {
   "cell_type": "markdown",
   "id": "b195ae6e",
   "metadata": {},
   "source": [
    "### Malla de visualización"
   ]
  },
  {
   "cell_type": "code",
   "execution_count": 72,
   "id": "540fb506",
   "metadata": {},
   "outputs": [],
   "source": [
    "_x0 = np.linspace(-1,1,50)\n",
    "_x1 = np.linspace(-1,1,50)\n",
    "\n",
    "_y = np.zeros((50,50))"
   ]
  },
  {
   "cell_type": "code",
   "execution_count": 74,
   "id": "64fc0463",
   "metadata": {},
   "outputs": [],
   "source": [
    "for i0, x0 in enumerate(_x0):\n",
    "    for i1, x1 in enumerate(_x1):\n",
    "        _y[i0,i1] = train(np.array([[x0,x1]]),0.0001,params,training=False)"
   ]
  },
  {
   "cell_type": "code",
   "execution_count": 75,
   "id": "8df52d23",
   "metadata": {},
   "outputs": [
    {
     "name": "stderr",
     "output_type": "stream",
     "text": [
      "<ipython-input-75-2491cc3b5bec>:1: MatplotlibDeprecationWarning: shading='flat' when X and Y have the same dimensions as C is deprecated since 3.3.  Either specify the corners of the quadrilaterals with X and Y, or pass shading='auto', 'nearest' or 'gouraud', or set rcParams['pcolor.shading'].  This will become an error two minor releases later.\n",
      "  plt.pcolormesh(_x0,_x1,_y,cmap='coolwarm')\n"
     ]
    },
    {
     "data": {
      "text/plain": [
       "<matplotlib.collections.QuadMesh at 0x21483c696a0>"
      ]
     },
     "execution_count": 75,
     "metadata": {},
     "output_type": "execute_result"
    },
    {
     "data": {
      "image/png": "[encoded data removed]",
      "text/plain": [
       "<Figure size 432x288 with 1 Axes>"
      ]
     },
     "metadata": {
      "needs_background": "light"
     },
     "output_type": "display_data"
    }
   ],
   "source": [
    "plt.pcolormesh(_x0,_x1,_y,cmap='coolwarm')"
   ]
  },
  {
   "cell_type": "markdown",
   "id": "ac1fedd3",
   "metadata": {},
   "source": [
    "## Data: Train, validation,test\n",
    "Se recomienda en machine learning dividir tu set de datos en 3, para entrenar, validar y testear.\n",
    "\n",
    "Se usa el set de entrenamiento para entrenar el modelo, el modelo entrenado se evalua con el test de validación que nos permite ajustar hiperparametros y una vez haya terminado este ciclo de iteraciones, se evalua el modelo con datos que jamas han sido vistos por el con el set de testeo.\n"
   ]
  },
  {
   "cell_type": "markdown",
   "id": "92dd3daf",
   "metadata": {},
   "source": [
    "### Problema de clasificación Binaria.\n"
   ]
  },
  {
   "cell_type": "code",
   "execution_count": 38,
   "id": "89126452",
   "metadata": {},
   "outputs": [],
   "source": [
    "import numpy as np\n",
    "import keras\n",
    "from keras.datasets import imdb\n",
    "from keras import models, layers,optimizers"
   ]
  },
  {
   "cell_type": "code",
   "execution_count": 39,
   "id": "1a76246a",
   "metadata": {},
   "outputs": [
    {
     "name": "stderr",
     "output_type": "stream",
     "text": [
      "<__array_function__ internals>:5: VisibleDeprecationWarning: Creating an ndarray from ragged nested sequences (which is a list-or-tuple of lists-or-tuples-or ndarrays with different lengths or shapes) is deprecated. If you meant to do this, you must specify 'dtype=object' when creating the ndarray\n",
      "C:\\Users\\GAMER\\anaconda3\\envs\\dataAnalyst\\lib\\site-packages\\tensorflow\\python\\keras\\datasets\\imdb.py:159: VisibleDeprecationWarning: Creating an ndarray from ragged nested sequences (which is a list-or-tuple of lists-or-tuples-or ndarrays with different lengths or shapes) is deprecated. If you meant to do this, you must specify 'dtype=object' when creating the ndarray\n",
      "  x_train, y_train = np.array(xs[:idx]), np.array(labels[:idx])\n",
      "C:\\Users\\GAMER\\anaconda3\\envs\\dataAnalyst\\lib\\site-packages\\tensorflow\\python\\keras\\datasets\\imdb.py:160: VisibleDeprecationWarning: Creating an ndarray from ragged nested sequences (which is a list-or-tuple of lists-or-tuples-or ndarrays with different lengths or shapes) is deprecated. If you meant to do this, you must specify 'dtype=object' when creating the ndarray\n",
      "  x_test, y_test = np.array(xs[idx:]), np.array(labels[idx:])\n"
     ]
    }
   ],
   "source": [
    "(train_data,train_labels),(test_data,test_labels) = imdb.load_data(num_words=10000)"
   ]
  },
  {
   "cell_type": "code",
   "execution_count": 40,
   "id": "c2551749",
   "metadata": {},
   "outputs": [],
   "source": [
    "word_index = imdb.get_word_index()"
   ]
  },
  {
   "cell_type": "code",
   "execution_count": 41,
   "id": "5d59b8ec",
   "metadata": {},
   "outputs": [],
   "source": [
    "word_index = dict([(value,key) for key,value in word_index.items()])"
   ]
  },
  {
   "cell_type": "code",
   "execution_count": 42,
   "id": "c321ed04",
   "metadata": {},
   "outputs": [
    {
     "data": {
      "text/plain": [
       "{34701: 'fawn',\n",
       " 52006: 'tsukino',\n",
       " 52007: 'nunnery',\n",
       " 16816: 'sonja',\n",
       " 63951: 'vani',\n",
       " 1408: 'woods',\n",
       " 16115: 'spiders',\n",
       " 2345: 'hanging',\n",
       " 2289: 'woody',\n",
       " 52008: 'trawling',\n",
       " 52009: \"hold's\",\n",
       " 11307: 'comically',\n",
       " 40830: 'localized',\n",
       " 30568: 'disobeying',\n",
       " 52010: \"'royale\",\n",
       " 40831: \"harpo's\",\n",
       " 52011: 'canet',\n",
       " 19313: 'aileen',\n",
       " 52012: 'acurately',\n",
       " 52013: \"diplomat's\",\n",
       " 25242: 'rickman',\n",
       " 6746: 'arranged',\n",
       " 52014: 'rumbustious',\n",
       " 52015: 'familiarness',\n",
       " 52016: \"spider'\",\n",
       " 68804: 'hahahah',\n",
       " 52017: \"wood'\",\n",
       " 40833: 'transvestism',\n",
       " 34702: \"hangin'\",\n",
       " 2338: 'bringing',\n",
       " 40834: 'seamier',\n",
       " 34703: 'wooded',\n",
       " 52018: 'bravora',\n",
       " 16817: 'grueling',\n",
       " 1636: 'wooden',\n",
       " 16818: 'wednesday',\n",
       " 52019: \"'prix\",\n",
       " 34704: 'altagracia',\n",
       " 52020: 'circuitry',\n",
       " 11585: 'crotch',\n",
       " 57766: 'busybody',\n",
       " 52021: \"tart'n'tangy\",\n",
       " 14129: 'burgade',\n",
       " 52023: 'thrace',\n",
       " 11038: \"tom's\",\n",
       " 52025: 'snuggles',\n",
       " 29114: 'francesco',\n",
       " 52027: 'complainers',\n",
       " 52125: 'templarios',\n",
       " 40835: '272',\n",
       " 52028: '273',\n",
       " 52130: 'zaniacs',\n",
       " 34706: '275',\n",
       " 27631: 'consenting',\n",
       " 40836: 'snuggled',\n",
       " 15492: 'inanimate',\n",
       " 52030: 'uality',\n",
       " 11926: 'bronte',\n",
       " 4010: 'errors',\n",
       " 3230: 'dialogs',\n",
       " 52031: \"yomada's\",\n",
       " 34707: \"madman's\",\n",
       " 30585: 'dialoge',\n",
       " 52033: 'usenet',\n",
       " 40837: 'videodrome',\n",
       " 26338: \"kid'\",\n",
       " 52034: 'pawed',\n",
       " 30569: \"'girlfriend'\",\n",
       " 52035: \"'pleasure\",\n",
       " 52036: \"'reloaded'\",\n",
       " 40839: \"kazakos'\",\n",
       " 52037: 'rocque',\n",
       " 52038: 'mailings',\n",
       " 11927: 'brainwashed',\n",
       " 16819: 'mcanally',\n",
       " 52039: \"tom''\",\n",
       " 25243: 'kurupt',\n",
       " 21905: 'affiliated',\n",
       " 52040: 'babaganoosh',\n",
       " 40840: \"noe's\",\n",
       " 40841: 'quart',\n",
       " 359: 'kids',\n",
       " 5034: 'uplifting',\n",
       " 7093: 'controversy',\n",
       " 21906: 'kida',\n",
       " 23379: 'kidd',\n",
       " 52041: \"error'\",\n",
       " 52042: 'neurologist',\n",
       " 18510: 'spotty',\n",
       " 30570: 'cobblers',\n",
       " 9878: 'projection',\n",
       " 40842: 'fastforwarding',\n",
       " 52043: 'sters',\n",
       " 52044: \"eggar's\",\n",
       " 52045: 'etherything',\n",
       " 40843: 'gateshead',\n",
       " 34708: 'airball',\n",
       " 25244: 'unsinkable',\n",
       " 7180: 'stern',\n",
       " 52046: \"cervi's\",\n",
       " 40844: 'dnd',\n",
       " 11586: 'dna',\n",
       " 20598: 'insecurity',\n",
       " 52047: \"'reboot'\",\n",
       " 11037: 'trelkovsky',\n",
       " 52048: 'jaekel',\n",
       " 52049: 'sidebars',\n",
       " 52050: \"sforza's\",\n",
       " 17633: 'distortions',\n",
       " 52051: 'mutinies',\n",
       " 30602: 'sermons',\n",
       " 40846: '7ft',\n",
       " 52052: 'boobage',\n",
       " 52053: \"o'bannon's\",\n",
       " 23380: 'populations',\n",
       " 52054: 'chulak',\n",
       " 27633: 'mesmerize',\n",
       " 52055: 'quinnell',\n",
       " 10307: 'yahoo',\n",
       " 52057: 'meteorologist',\n",
       " 42577: 'beswick',\n",
       " 15493: 'boorman',\n",
       " 40847: 'voicework',\n",
       " 52058: \"ster'\",\n",
       " 22922: 'blustering',\n",
       " 52059: 'hj',\n",
       " 27634: 'intake',\n",
       " 5621: 'morally',\n",
       " 40849: 'jumbling',\n",
       " 52060: 'bowersock',\n",
       " 52061: \"'porky's'\",\n",
       " 16821: 'gershon',\n",
       " 40850: 'ludicrosity',\n",
       " 52062: 'coprophilia',\n",
       " 40851: 'expressively',\n",
       " 19500: \"india's\",\n",
       " 34710: \"post's\",\n",
       " 52063: 'wana',\n",
       " 5283: 'wang',\n",
       " 30571: 'wand',\n",
       " 25245: 'wane',\n",
       " 52321: 'edgeways',\n",
       " 34711: 'titanium',\n",
       " 40852: 'pinta',\n",
       " 178: 'want',\n",
       " 30572: 'pinto',\n",
       " 52065: 'whoopdedoodles',\n",
       " 21908: 'tchaikovsky',\n",
       " 2103: 'travel',\n",
       " 52066: \"'victory'\",\n",
       " 11928: 'copious',\n",
       " 22433: 'gouge',\n",
       " 52067: \"chapters'\",\n",
       " 6702: 'barbra',\n",
       " 30573: 'uselessness',\n",
       " 52068: \"wan'\",\n",
       " 27635: 'assimilated',\n",
       " 16116: 'petiot',\n",
       " 52069: 'most\\x85and',\n",
       " 3930: 'dinosaurs',\n",
       " 352: 'wrong',\n",
       " 52070: 'seda',\n",
       " 52071: 'stollen',\n",
       " 34712: 'sentencing',\n",
       " 40853: 'ouroboros',\n",
       " 40854: 'assimilates',\n",
       " 40855: 'colorfully',\n",
       " 27636: 'glenne',\n",
       " 52072: 'dongen',\n",
       " 4760: 'subplots',\n",
       " 52073: 'kiloton',\n",
       " 23381: 'chandon',\n",
       " 34713: \"effect'\",\n",
       " 27637: 'snugly',\n",
       " 40856: 'kuei',\n",
       " 9092: 'welcomed',\n",
       " 30071: 'dishonor',\n",
       " 52075: 'concurrence',\n",
       " 23382: 'stoicism',\n",
       " 14896: \"guys'\",\n",
       " 52077: \"beroemd'\",\n",
       " 6703: 'butcher',\n",
       " 40857: \"melfi's\",\n",
       " 30623: 'aargh',\n",
       " 20599: 'playhouse',\n",
       " 11308: 'wickedly',\n",
       " 1180: 'fit',\n",
       " 52078: 'labratory',\n",
       " 40859: 'lifeline',\n",
       " 1927: 'screaming',\n",
       " 4287: 'fix',\n",
       " 52079: 'cineliterate',\n",
       " 52080: 'fic',\n",
       " 52081: 'fia',\n",
       " 34714: 'fig',\n",
       " 52082: 'fmvs',\n",
       " 52083: 'fie',\n",
       " 52084: 'reentered',\n",
       " 30574: 'fin',\n",
       " 52085: 'doctresses',\n",
       " 52086: 'fil',\n",
       " 12606: 'zucker',\n",
       " 31931: 'ached',\n",
       " 52088: 'counsil',\n",
       " 52089: 'paterfamilias',\n",
       " 13885: 'songwriter',\n",
       " 34715: 'shivam',\n",
       " 9654: 'hurting',\n",
       " 299: 'effects',\n",
       " 52090: 'slauther',\n",
       " 52091: \"'flame'\",\n",
       " 52092: 'sommerset',\n",
       " 52093: 'interwhined',\n",
       " 27638: 'whacking',\n",
       " 52094: 'bartok',\n",
       " 8775: 'barton',\n",
       " 21909: 'frewer',\n",
       " 52095: \"fi'\",\n",
       " 6192: 'ingrid',\n",
       " 30575: 'stribor',\n",
       " 52096: 'approporiately',\n",
       " 52097: 'wobblyhand',\n",
       " 52098: 'tantalisingly',\n",
       " 52099: 'ankylosaurus',\n",
       " 17634: 'parasites',\n",
       " 52100: 'childen',\n",
       " 52101: \"jenkins'\",\n",
       " 52102: 'metafiction',\n",
       " 17635: 'golem',\n",
       " 40860: 'indiscretion',\n",
       " 23383: \"reeves'\",\n",
       " 57781: \"inamorata's\",\n",
       " 52104: 'brittannica',\n",
       " 7916: 'adapt',\n",
       " 30576: \"russo's\",\n",
       " 48246: 'guitarists',\n",
       " 10553: 'abbott',\n",
       " 40861: 'abbots',\n",
       " 17649: 'lanisha',\n",
       " 40863: 'magickal',\n",
       " 52105: 'mattter',\n",
       " 52106: \"'willy\",\n",
       " 34716: 'pumpkins',\n",
       " 52107: 'stuntpeople',\n",
       " 30577: 'estimate',\n",
       " 40864: 'ugghhh',\n",
       " 11309: 'gameplay',\n",
       " 52108: \"wern't\",\n",
       " 40865: \"n'sync\",\n",
       " 16117: 'sickeningly',\n",
       " 40866: 'chiara',\n",
       " 4011: 'disturbed',\n",
       " 40867: 'portmanteau',\n",
       " 52109: 'ineffectively',\n",
       " 82143: \"duchonvey's\",\n",
       " 37519: \"nasty'\",\n",
       " 1285: 'purpose',\n",
       " 52112: 'lazers',\n",
       " 28105: 'lightened',\n",
       " 52113: 'kaliganj',\n",
       " 52114: 'popularism',\n",
       " 18511: \"damme's\",\n",
       " 30578: 'stylistics',\n",
       " 52115: 'mindgaming',\n",
       " 46449: 'spoilerish',\n",
       " 52117: \"'corny'\",\n",
       " 34718: 'boerner',\n",
       " 6792: 'olds',\n",
       " 52118: 'bakelite',\n",
       " 27639: 'renovated',\n",
       " 27640: 'forrester',\n",
       " 52119: \"lumiere's\",\n",
       " 52024: 'gaskets',\n",
       " 884: 'needed',\n",
       " 34719: 'smight',\n",
       " 1297: 'master',\n",
       " 25905: \"edie's\",\n",
       " 40868: 'seeber',\n",
       " 52120: 'hiya',\n",
       " 52121: 'fuzziness',\n",
       " 14897: 'genesis',\n",
       " 12607: 'rewards',\n",
       " 30579: 'enthrall',\n",
       " 40869: \"'about\",\n",
       " 52122: \"recollection's\",\n",
       " 11039: 'mutilated',\n",
       " 52123: 'fatherlands',\n",
       " 52124: \"fischer's\",\n",
       " 5399: 'positively',\n",
       " 34705: '270',\n",
       " 34720: 'ahmed',\n",
       " 9836: 'zatoichi',\n",
       " 13886: 'bannister',\n",
       " 52127: 'anniversaries',\n",
       " 30580: \"helm's\",\n",
       " 52128: \"'work'\",\n",
       " 34721: 'exclaimed',\n",
       " 52129: \"'unfunny'\",\n",
       " 52029: '274',\n",
       " 544: 'feeling',\n",
       " 52131: \"wanda's\",\n",
       " 33266: 'dolan',\n",
       " 52133: '278',\n",
       " 52134: 'peacoat',\n",
       " 40870: 'brawny',\n",
       " 40871: 'mishra',\n",
       " 40872: 'worlders',\n",
       " 52135: 'protags',\n",
       " 52136: 'skullcap',\n",
       " 57596: 'dastagir',\n",
       " 5622: 'affairs',\n",
       " 7799: 'wholesome',\n",
       " 52137: 'hymen',\n",
       " 25246: 'paramedics',\n",
       " 52138: 'unpersons',\n",
       " 52139: 'heavyarms',\n",
       " 52140: 'affaire',\n",
       " 52141: 'coulisses',\n",
       " 40873: 'hymer',\n",
       " 52142: 'kremlin',\n",
       " 30581: 'shipments',\n",
       " 52143: 'pixilated',\n",
       " 30582: \"'00s\",\n",
       " 18512: 'diminishing',\n",
       " 1357: 'cinematic',\n",
       " 14898: 'resonates',\n",
       " 40874: 'simplify',\n",
       " 40875: \"nature'\",\n",
       " 40876: 'temptresses',\n",
       " 16822: 'reverence',\n",
       " 19502: 'resonated',\n",
       " 34722: 'dailey',\n",
       " 52144: '2\\x85',\n",
       " 27641: 'treize',\n",
       " 52145: 'majo',\n",
       " 21910: 'kiya',\n",
       " 52146: 'woolnough',\n",
       " 39797: 'thanatos',\n",
       " 35731: 'sandoval',\n",
       " 40879: 'dorama',\n",
       " 52147: \"o'shaughnessy\",\n",
       " 4988: 'tech',\n",
       " 32018: 'fugitives',\n",
       " 30583: 'teck',\n",
       " 76125: \"'e'\",\n",
       " 40881: 'doesn’t',\n",
       " 52149: 'purged',\n",
       " 657: 'saying',\n",
       " 41095: \"martians'\",\n",
       " 23418: 'norliss',\n",
       " 27642: 'dickey',\n",
       " 52152: 'dicker',\n",
       " 52153: \"'sependipity\",\n",
       " 8422: 'padded',\n",
       " 57792: 'ordell',\n",
       " 40882: \"sturges'\",\n",
       " 52154: 'independentcritics',\n",
       " 5745: 'tempted',\n",
       " 34724: \"atkinson's\",\n",
       " 25247: 'hounded',\n",
       " 52155: 'apace',\n",
       " 15494: 'clicked',\n",
       " 30584: \"'humor'\",\n",
       " 17177: \"martino's\",\n",
       " 52156: \"'supporting\",\n",
       " 52032: 'warmongering',\n",
       " 34725: \"zemeckis's\",\n",
       " 21911: 'lube',\n",
       " 52157: 'shocky',\n",
       " 7476: 'plate',\n",
       " 40883: 'plata',\n",
       " 40884: 'sturgess',\n",
       " 40885: \"nerds'\",\n",
       " 20600: 'plato',\n",
       " 34726: 'plath',\n",
       " 40886: 'platt',\n",
       " 52159: 'mcnab',\n",
       " 27643: 'clumsiness',\n",
       " 3899: 'altogether',\n",
       " 42584: 'massacring',\n",
       " 52160: 'bicenntinial',\n",
       " 40887: 'skaal',\n",
       " 14360: 'droning',\n",
       " 8776: 'lds',\n",
       " 21912: 'jaguar',\n",
       " 34727: \"cale's\",\n",
       " 1777: 'nicely',\n",
       " 4588: 'mummy',\n",
       " 18513: \"lot's\",\n",
       " 10086: 'patch',\n",
       " 50202: 'kerkhof',\n",
       " 52161: \"leader's\",\n",
       " 27644: \"'movie\",\n",
       " 52162: 'uncomfirmed',\n",
       " 40888: 'heirloom',\n",
       " 47360: 'wrangle',\n",
       " 52163: 'emotion\\x85',\n",
       " 52164: \"'stargate'\",\n",
       " 40889: 'pinoy',\n",
       " 40890: 'conchatta',\n",
       " 41128: 'broeke',\n",
       " 40891: 'advisedly',\n",
       " 17636: \"barker's\",\n",
       " 52166: 'descours',\n",
       " 772: 'lots',\n",
       " 9259: 'lotr',\n",
       " 9879: 'irs',\n",
       " 52167: 'lott',\n",
       " 40892: 'xvi',\n",
       " 34728: 'irk',\n",
       " 52168: 'irl',\n",
       " 6887: 'ira',\n",
       " 21913: 'belzer',\n",
       " 52169: 'irc',\n",
       " 27645: 'ire',\n",
       " 40893: 'requisites',\n",
       " 7693: 'discipline',\n",
       " 52961: 'lyoko',\n",
       " 11310: 'extend',\n",
       " 873: 'nature',\n",
       " 52170: \"'dickie'\",\n",
       " 40894: 'optimist',\n",
       " 30586: 'lapping',\n",
       " 3900: 'superficial',\n",
       " 52171: 'vestment',\n",
       " 2823: 'extent',\n",
       " 52172: 'tendons',\n",
       " 52173: \"heller's\",\n",
       " 52174: 'quagmires',\n",
       " 52175: 'miyako',\n",
       " 20601: 'moocow',\n",
       " 52176: \"coles'\",\n",
       " 40895: 'lookit',\n",
       " 52177: 'ravenously',\n",
       " 40896: 'levitating',\n",
       " 52178: 'perfunctorily',\n",
       " 30587: 'lookin',\n",
       " 40898: \"lot'\",\n",
       " 52179: 'lookie',\n",
       " 34870: 'fearlessly',\n",
       " 52181: 'libyan',\n",
       " 40899: 'fondles',\n",
       " 35714: 'gopher',\n",
       " 40901: 'wearying',\n",
       " 52182: \"nz's\",\n",
       " 27646: 'minuses',\n",
       " 52183: 'puposelessly',\n",
       " 52184: 'shandling',\n",
       " 31268: 'decapitates',\n",
       " 11929: 'humming',\n",
       " 40902: \"'nother\",\n",
       " 21914: 'smackdown',\n",
       " 30588: 'underdone',\n",
       " 40903: 'frf',\n",
       " 52185: 'triviality',\n",
       " 25248: 'fro',\n",
       " 8777: 'bothers',\n",
       " 52186: \"'kensington\",\n",
       " 73: 'much',\n",
       " 34730: 'muco',\n",
       " 22615: 'wiseguy',\n",
       " 27648: \"richie's\",\n",
       " 40904: 'tonino',\n",
       " 52187: 'unleavened',\n",
       " 11587: 'fry',\n",
       " 40905: \"'tv'\",\n",
       " 40906: 'toning',\n",
       " 14361: 'obese',\n",
       " 30589: 'sensationalized',\n",
       " 40907: 'spiv',\n",
       " 6259: 'spit',\n",
       " 7364: 'arkin',\n",
       " 21915: 'charleton',\n",
       " 16823: 'jeon',\n",
       " 21916: 'boardroom',\n",
       " 4989: 'doubts',\n",
       " 3084: 'spin',\n",
       " 53083: 'hepo',\n",
       " 27649: 'wildcat',\n",
       " 10584: 'venoms',\n",
       " 52191: 'misconstrues',\n",
       " 18514: 'mesmerising',\n",
       " 40908: 'misconstrued',\n",
       " 52192: 'rescinds',\n",
       " 52193: 'prostrate',\n",
       " 40909: 'majid',\n",
       " 16479: 'climbed',\n",
       " 34731: 'canoeing',\n",
       " 52195: 'majin',\n",
       " 57804: 'animie',\n",
       " 40910: 'sylke',\n",
       " 14899: 'conditioned',\n",
       " 40911: 'waddell',\n",
       " 52196: '3\\x85',\n",
       " 41188: 'hyperdrive',\n",
       " 34732: 'conditioner',\n",
       " 53153: 'bricklayer',\n",
       " 2576: 'hong',\n",
       " 52198: 'memoriam',\n",
       " 30592: 'inventively',\n",
       " 25249: \"levant's\",\n",
       " 20638: 'portobello',\n",
       " 52200: 'remand',\n",
       " 19504: 'mummified',\n",
       " 27650: 'honk',\n",
       " 19505: 'spews',\n",
       " 40912: 'visitations',\n",
       " 52201: 'mummifies',\n",
       " 25250: 'cavanaugh',\n",
       " 23385: 'zeon',\n",
       " 40913: \"jungle's\",\n",
       " 34733: 'viertel',\n",
       " 27651: 'frenchmen',\n",
       " 52202: 'torpedoes',\n",
       " 52203: 'schlessinger',\n",
       " 34734: 'torpedoed',\n",
       " 69876: 'blister',\n",
       " 52204: 'cinefest',\n",
       " 34735: 'furlough',\n",
       " 52205: 'mainsequence',\n",
       " 40914: 'mentors',\n",
       " 9094: 'academic',\n",
       " 20602: 'stillness',\n",
       " 40915: 'academia',\n",
       " 52206: 'lonelier',\n",
       " 52207: 'nibby',\n",
       " 52208: \"losers'\",\n",
       " 40916: 'cineastes',\n",
       " 4449: 'corporate',\n",
       " 40917: 'massaging',\n",
       " 30593: 'bellow',\n",
       " 19506: 'absurdities',\n",
       " 53241: 'expetations',\n",
       " 40918: 'nyfiken',\n",
       " 75638: 'mehras',\n",
       " 52209: 'lasse',\n",
       " 52210: 'visability',\n",
       " 33946: 'militarily',\n",
       " 52211: \"elder'\",\n",
       " 19023: 'gainsbourg',\n",
       " 20603: 'hah',\n",
       " 13420: 'hai',\n",
       " 34736: 'haj',\n",
       " 25251: 'hak',\n",
       " 4311: 'hal',\n",
       " 4892: 'ham',\n",
       " 53259: 'duffer',\n",
       " 52213: 'haa',\n",
       " 66: 'had',\n",
       " 11930: 'advancement',\n",
       " 16825: 'hag',\n",
       " 25252: \"hand'\",\n",
       " 13421: 'hay',\n",
       " 20604: 'mcnamara',\n",
       " 52214: \"mozart's\",\n",
       " 30731: 'duffel',\n",
       " 30594: 'haq',\n",
       " 13887: 'har',\n",
       " 44: 'has',\n",
       " 2401: 'hat',\n",
       " 40919: 'hav',\n",
       " 30595: 'haw',\n",
       " 52215: 'figtings',\n",
       " 15495: 'elders',\n",
       " 52216: 'underpanted',\n",
       " 52217: 'pninson',\n",
       " 27652: 'unequivocally',\n",
       " 23673: \"barbara's\",\n",
       " 52219: \"bello'\",\n",
       " 12997: 'indicative',\n",
       " 40920: 'yawnfest',\n",
       " 52220: 'hexploitation',\n",
       " 52221: \"loder's\",\n",
       " 27653: 'sleuthing',\n",
       " 32622: \"justin's\",\n",
       " 52222: \"'ball\",\n",
       " 52223: \"'summer\",\n",
       " 34935: \"'demons'\",\n",
       " 52225: \"mormon's\",\n",
       " 34737: \"laughton's\",\n",
       " 52226: 'debell',\n",
       " 39724: 'shipyard',\n",
       " 30597: 'unabashedly',\n",
       " 40401: 'disks',\n",
       " 2290: 'crowd',\n",
       " 10087: 'crowe',\n",
       " 56434: \"vancouver's\",\n",
       " 34738: 'mosques',\n",
       " 6627: 'crown',\n",
       " 52227: 'culpas',\n",
       " 27654: 'crows',\n",
       " 53344: 'surrell',\n",
       " 52229: 'flowless',\n",
       " 52230: 'sheirk',\n",
       " 40923: \"'three\",\n",
       " 52231: \"peterson'\",\n",
       " 52232: 'ooverall',\n",
       " 40924: 'perchance',\n",
       " 1321: 'bottom',\n",
       " 53363: 'chabert',\n",
       " 52233: 'sneha',\n",
       " 13888: 'inhuman',\n",
       " 52234: 'ichii',\n",
       " 52235: 'ursla',\n",
       " 30598: 'completly',\n",
       " 40925: 'moviedom',\n",
       " 52236: 'raddick',\n",
       " 51995: 'brundage',\n",
       " 40926: 'brigades',\n",
       " 1181: 'starring',\n",
       " 52237: \"'goal'\",\n",
       " 52238: 'caskets',\n",
       " 52239: 'willcock',\n",
       " 52240: \"threesome's\",\n",
       " 52241: \"mosque'\",\n",
       " 52242: \"cover's\",\n",
       " 17637: 'spaceships',\n",
       " 40927: 'anomalous',\n",
       " 27655: 'ptsd',\n",
       " 52243: 'shirdan',\n",
       " 21962: 'obscenity',\n",
       " 30599: 'lemmings',\n",
       " 30600: 'duccio',\n",
       " 52244: \"levene's\",\n",
       " 52245: \"'gorby'\",\n",
       " 25255: \"teenager's\",\n",
       " 5340: 'marshall',\n",
       " 9095: 'honeymoon',\n",
       " 3231: 'shoots',\n",
       " 12258: 'despised',\n",
       " 52246: 'okabasho',\n",
       " 8289: 'fabric',\n",
       " 18515: 'cannavale',\n",
       " 3537: 'raped',\n",
       " 52247: \"tutt's\",\n",
       " 17638: 'grasping',\n",
       " 18516: 'despises',\n",
       " 40928: \"thief's\",\n",
       " 8926: 'rapes',\n",
       " 52248: 'raper',\n",
       " 27656: \"eyre'\",\n",
       " 52249: 'walchek',\n",
       " 23386: \"elmo's\",\n",
       " 40929: 'perfumes',\n",
       " 21918: 'spurting',\n",
       " 52250: \"exposition'\\x85\",\n",
       " 52251: 'denoting',\n",
       " 34740: 'thesaurus',\n",
       " 40930: \"shoot'\",\n",
       " 49759: 'bonejack',\n",
       " 52253: 'simpsonian',\n",
       " 30601: 'hebetude',\n",
       " 34741: \"hallow's\",\n",
       " 52254: 'desperation\\x85',\n",
       " 34742: 'incinerator',\n",
       " 10308: 'congratulations',\n",
       " 52255: 'humbled',\n",
       " 5924: \"else's\",\n",
       " 40845: 'trelkovski',\n",
       " 52256: \"rape'\",\n",
       " 59386: \"'chapters'\",\n",
       " 52257: '1600s',\n",
       " 7253: 'martian',\n",
       " 25256: 'nicest',\n",
       " 52259: 'eyred',\n",
       " 9457: 'passenger',\n",
       " 6041: 'disgrace',\n",
       " 52260: 'moderne',\n",
       " 5120: 'barrymore',\n",
       " 52261: 'yankovich',\n",
       " 40931: 'moderns',\n",
       " 52262: 'studliest',\n",
       " 52263: 'bedsheet',\n",
       " 14900: 'decapitation',\n",
       " 52264: 'slurring',\n",
       " 52265: \"'nunsploitation'\",\n",
       " 34743: \"'character'\",\n",
       " 9880: 'cambodia',\n",
       " 52266: 'rebelious',\n",
       " 27657: 'pasadena',\n",
       " 40932: 'crowne',\n",
       " 52267: \"'bedchamber\",\n",
       " 52268: 'conjectural',\n",
       " 52269: 'appologize',\n",
       " 52270: 'halfassing',\n",
       " 57816: 'paycheque',\n",
       " 20606: 'palms',\n",
       " 52271: \"'islands\",\n",
       " 40933: 'hawked',\n",
       " 21919: 'palme',\n",
       " 40934: 'conservatively',\n",
       " 64007: 'larp',\n",
       " 5558: 'palma',\n",
       " 21920: 'smelling',\n",
       " 12998: 'aragorn',\n",
       " 52272: 'hawker',\n",
       " 52273: 'hawkes',\n",
       " 3975: 'explosions',\n",
       " 8059: 'loren',\n",
       " 52274: \"pyle's\",\n",
       " 6704: 'shootout',\n",
       " 18517: \"mike's\",\n",
       " 52275: \"driscoll's\",\n",
       " 40935: 'cogsworth',\n",
       " 52276: \"britian's\",\n",
       " 34744: 'childs',\n",
       " 52277: \"portrait's\",\n",
       " 3626: 'chain',\n",
       " 2497: 'whoever',\n",
       " 52278: 'puttered',\n",
       " 52279: 'childe',\n",
       " 52280: 'maywether',\n",
       " 3036: 'chair',\n",
       " 52281: \"rance's\",\n",
       " 34745: 'machu',\n",
       " 4517: 'ballet',\n",
       " 34746: 'grapples',\n",
       " 76152: 'summerize',\n",
       " 30603: 'freelance',\n",
       " 52283: \"andrea's\",\n",
       " 52284: '\\x91very',\n",
       " 45879: 'coolidge',\n",
       " 18518: 'mache',\n",
       " 52285: 'balled',\n",
       " 40937: 'grappled',\n",
       " 18519: 'macha',\n",
       " 21921: 'underlining',\n",
       " 5623: 'macho',\n",
       " 19507: 'oversight',\n",
       " 25257: 'machi',\n",
       " 11311: 'verbally',\n",
       " 21922: 'tenacious',\n",
       " 40938: 'windshields',\n",
       " 18557: 'paychecks',\n",
       " 3396: 'jerk',\n",
       " 11931: \"good'\",\n",
       " 34748: 'prancer',\n",
       " 21923: 'prances',\n",
       " 52286: 'olympus',\n",
       " 21924: 'lark',\n",
       " 10785: 'embark',\n",
       " 7365: 'gloomy',\n",
       " 52287: 'jehaan',\n",
       " 52288: 'turaqui',\n",
       " 20607: \"child'\",\n",
       " 2894: 'locked',\n",
       " 52289: 'pranced',\n",
       " 2588: 'exact',\n",
       " 52290: 'unattuned',\n",
       " 783: 'minute',\n",
       " 16118: 'skewed',\n",
       " 40940: 'hodgins',\n",
       " 34749: 'skewer',\n",
       " 52291: 'think\\x85',\n",
       " 38765: 'rosenstein',\n",
       " 52292: 'helmit',\n",
       " 34750: 'wrestlemanias',\n",
       " 16826: 'hindered',\n",
       " 30604: \"martha's\",\n",
       " 52293: 'cheree',\n",
       " 52294: \"pluckin'\",\n",
       " 40941: 'ogles',\n",
       " 11932: 'heavyweight',\n",
       " 82190: 'aada',\n",
       " 11312: 'chopping',\n",
       " 61534: 'strongboy',\n",
       " 41342: 'hegemonic',\n",
       " 40942: 'adorns',\n",
       " 41346: 'xxth',\n",
       " 34751: 'nobuhiro',\n",
       " 52298: 'capitães',\n",
       " 52299: 'kavogianni',\n",
       " 13422: 'antwerp',\n",
       " 6538: 'celebrated',\n",
       " 52300: 'roarke',\n",
       " 40943: 'baggins',\n",
       " 31270: 'cheeseburgers',\n",
       " 52301: 'matras',\n",
       " 52302: \"nineties'\",\n",
       " 52303: \"'craig'\",\n",
       " 12999: 'celebrates',\n",
       " 3383: 'unintentionally',\n",
       " 14362: 'drafted',\n",
       " 52304: 'climby',\n",
       " 52305: '303',\n",
       " 18520: 'oldies',\n",
       " 9096: 'climbs',\n",
       " 9655: 'honour',\n",
       " 34752: 'plucking',\n",
       " 30074: '305',\n",
       " 5514: 'address',\n",
       " 40944: 'menjou',\n",
       " 42592: \"'freak'\",\n",
       " 19508: 'dwindling',\n",
       " 9458: 'benson',\n",
       " 52307: 'white’s',\n",
       " 40945: 'shamelessness',\n",
       " 21925: 'impacted',\n",
       " 52308: 'upatz',\n",
       " 3840: 'cusack',\n",
       " 37567: \"flavia's\",\n",
       " 52309: 'effette',\n",
       " 34753: 'influx',\n",
       " 52310: 'boooooooo',\n",
       " 52311: 'dimitrova',\n",
       " 13423: 'houseman',\n",
       " 25259: 'bigas',\n",
       " 52312: 'boylen',\n",
       " 52313: 'phillipenes',\n",
       " 40946: 'fakery',\n",
       " 27658: \"grandpa's\",\n",
       " 27659: 'darnell',\n",
       " 19509: 'undergone',\n",
       " 52315: 'handbags',\n",
       " 21926: 'perished',\n",
       " 37778: 'pooped',\n",
       " 27660: 'vigour',\n",
       " 3627: 'opposed',\n",
       " 52316: 'etude',\n",
       " 11799: \"caine's\",\n",
       " 52317: 'doozers',\n",
       " 34754: 'photojournals',\n",
       " 52318: 'perishes',\n",
       " 34755: 'constrains',\n",
       " 40948: 'migenes',\n",
       " 30605: 'consoled',\n",
       " 16827: 'alastair',\n",
       " 52319: 'wvs',\n",
       " 52320: 'ooooooh',\n",
       " 34756: 'approving',\n",
       " 40949: 'consoles',\n",
       " 52064: 'disparagement',\n",
       " 52322: 'futureistic',\n",
       " 52323: 'rebounding',\n",
       " 52324: \"'date\",\n",
       " 52325: 'gregoire',\n",
       " 21927: 'rutherford',\n",
       " 34757: 'americanised',\n",
       " 82196: 'novikov',\n",
       " 1042: 'following',\n",
       " 34758: 'munroe',\n",
       " 52326: \"morita'\",\n",
       " 52327: 'christenssen',\n",
       " 23106: 'oatmeal',\n",
       " 25260: 'fossey',\n",
       " 40950: 'livered',\n",
       " 13000: 'listens',\n",
       " 76164: \"'marci\",\n",
       " 52330: \"otis's\",\n",
       " 23387: 'thanking',\n",
       " 16019: 'maude',\n",
       " 34759: 'extensions',\n",
       " 52332: 'ameteurish',\n",
       " 52333: \"commender's\",\n",
       " 27661: 'agricultural',\n",
       " 4518: 'convincingly',\n",
       " 17639: 'fueled',\n",
       " 54014: 'mahattan',\n",
       " 40952: \"paris's\",\n",
       " 52336: 'vulkan',\n",
       " 52337: 'stapes',\n",
       " 52338: 'odysessy',\n",
       " 12259: 'harmon',\n",
       " 4252: 'surfing',\n",
       " 23494: 'halloran',\n",
       " 49580: 'unbelieveably',\n",
       " 52339: \"'offed'\",\n",
       " 30607: 'quadrant',\n",
       " 19510: 'inhabiting',\n",
       " 34760: 'nebbish',\n",
       " 40953: 'forebears',\n",
       " 34761: 'skirmish',\n",
       " 52340: 'ocassionally',\n",
       " 52341: \"'resist\",\n",
       " 21928: 'impactful',\n",
       " 52342: 'spicier',\n",
       " 40954: 'touristy',\n",
       " 52343: \"'football'\",\n",
       " 40955: 'webpage',\n",
       " 52345: 'exurbia',\n",
       " 52346: 'jucier',\n",
       " 14901: 'professors',\n",
       " 34762: 'structuring',\n",
       " 30608: 'jig',\n",
       " 40956: 'overlord',\n",
       " 25261: 'disconnect',\n",
       " 82201: 'sniffle',\n",
       " 40957: 'slimeball',\n",
       " 40958: 'jia',\n",
       " 16828: 'milked',\n",
       " 40959: 'banjoes',\n",
       " 1237: 'jim',\n",
       " 52348: 'workforces',\n",
       " 52349: 'jip',\n",
       " 52350: 'rotweiller',\n",
       " 34763: 'mundaneness',\n",
       " 52351: \"'ninja'\",\n",
       " 11040: \"dead'\",\n",
       " 40960: \"cipriani's\",\n",
       " 20608: 'modestly',\n",
       " 52352: \"professor'\",\n",
       " 40961: 'shacked',\n",
       " 34764: 'bashful',\n",
       " 23388: 'sorter',\n",
       " 16120: 'overpowering',\n",
       " 18521: 'workmanlike',\n",
       " 27662: 'henpecked',\n",
       " 18522: 'sorted',\n",
       " 52354: \"jōb's\",\n",
       " 52355: \"'always\",\n",
       " 34765: \"'baptists\",\n",
       " 52356: 'dreamcatchers',\n",
       " 52357: \"'silence'\",\n",
       " 21929: 'hickory',\n",
       " 52358: 'fun\\x97yet',\n",
       " 52359: 'breakumentary',\n",
       " 15496: 'didn',\n",
       " 52360: 'didi',\n",
       " 52361: 'pealing',\n",
       " 40962: 'dispite',\n",
       " 25262: \"italy's\",\n",
       " 21930: 'instability',\n",
       " 6539: 'quarter',\n",
       " 12608: 'quartet',\n",
       " 52362: 'padmé',\n",
       " 52363: \"'bleedmedry\",\n",
       " 52364: 'pahalniuk',\n",
       " 52365: 'honduras',\n",
       " 10786: 'bursting',\n",
       " 41465: \"pablo's\",\n",
       " 52367: 'irremediably',\n",
       " 40963: 'presages',\n",
       " 57832: 'bowlegged',\n",
       " 65183: 'dalip',\n",
       " 6260: 'entering',\n",
       " 76172: 'newsradio',\n",
       " 54150: 'presaged',\n",
       " 27663: \"giallo's\",\n",
       " 40964: 'bouyant',\n",
       " 52368: 'amerterish',\n",
       " 18523: 'rajni',\n",
       " 30610: 'leeves',\n",
       " 34767: 'macauley',\n",
       " 612: 'seriously',\n",
       " 52369: 'sugercoma',\n",
       " 52370: 'grimstead',\n",
       " 52371: \"'fairy'\",\n",
       " 30611: 'zenda',\n",
       " 52372: \"'twins'\",\n",
       " 17640: 'realisation',\n",
       " 27664: 'highsmith',\n",
       " 7817: 'raunchy',\n",
       " 40965: 'incentives',\n",
       " 52374: 'flatson',\n",
       " 35097: 'snooker',\n",
       " 16829: 'crazies',\n",
       " 14902: 'crazier',\n",
       " 7094: 'grandma',\n",
       " 52375: 'napunsaktha',\n",
       " 30612: 'workmanship',\n",
       " 52376: 'reisner',\n",
       " 61306: \"sanford's\",\n",
       " 52377: '\\x91doña',\n",
       " 6108: 'modest',\n",
       " 19153: \"everything's\",\n",
       " 40966: 'hamer',\n",
       " 52379: \"couldn't'\",\n",
       " 13001: 'quibble',\n",
       " 52380: 'socking',\n",
       " 21931: 'tingler',\n",
       " 52381: 'gutman',\n",
       " 40967: 'lachlan',\n",
       " 52382: 'tableaus',\n",
       " 52383: 'headbanger',\n",
       " 2847: 'spoken',\n",
       " 34768: 'cerebrally',\n",
       " 23490: \"'road\",\n",
       " 21932: 'tableaux',\n",
       " 40968: \"proust's\",\n",
       " 40969: 'periodical',\n",
       " 52385: \"shoveller's\",\n",
       " 25263: 'tamara',\n",
       " 17641: 'affords',\n",
       " 3249: 'concert',\n",
       " 87955: \"yara's\",\n",
       " 52386: 'someome',\n",
       " 8424: 'lingering',\n",
       " 41511: \"abraham's\",\n",
       " 34769: 'beesley',\n",
       " 34770: 'cherbourg',\n",
       " 28624: 'kagan',\n",
       " 9097: 'snatch',\n",
       " 9260: \"miyazaki's\",\n",
       " 25264: 'absorbs',\n",
       " 40970: \"koltai's\",\n",
       " 64027: 'tingled',\n",
       " 19511: 'crossroads',\n",
       " 16121: 'rehab',\n",
       " 52389: 'falworth',\n",
       " 52390: 'sequals',\n",
       " ...}"
      ]
     },
     "execution_count": 42,
     "metadata": {},
     "output_type": "execute_result"
    }
   ],
   "source": [
    "word_index"
   ]
  },
  {
   "cell_type": "code",
   "execution_count": 43,
   "id": "008e8fa2",
   "metadata": {},
   "outputs": [
    {
     "name": "stdout",
     "output_type": "stream",
     "text": [
      "None\n",
      "this\n",
      "film\n",
      "was\n",
      "just\n",
      "brilliant\n",
      "casting\n",
      "location\n",
      "scenery\n",
      "story\n",
      "direction\n",
      "everyone's\n",
      "really\n",
      "suited\n",
      "the\n",
      "part\n",
      "they\n",
      "played\n",
      "and\n",
      "you\n",
      "could\n",
      "just\n",
      "imagine\n",
      "being\n",
      "there\n",
      "robert\n",
      "None\n",
      "is\n",
      "an\n",
      "amazing\n",
      "actor\n",
      "and\n",
      "now\n",
      "the\n",
      "same\n",
      "being\n",
      "director\n",
      "None\n",
      "father\n",
      "came\n",
      "from\n",
      "the\n",
      "same\n",
      "scottish\n",
      "island\n",
      "as\n",
      "myself\n",
      "so\n",
      "i\n",
      "loved\n",
      "the\n",
      "fact\n",
      "there\n",
      "was\n",
      "a\n",
      "real\n",
      "connection\n",
      "with\n",
      "this\n",
      "film\n",
      "the\n",
      "witty\n",
      "remarks\n",
      "throughout\n",
      "the\n",
      "film\n",
      "were\n",
      "great\n",
      "it\n",
      "was\n",
      "just\n",
      "brilliant\n",
      "so\n",
      "much\n",
      "that\n",
      "i\n",
      "bought\n",
      "the\n",
      "film\n",
      "as\n",
      "soon\n",
      "as\n",
      "it\n",
      "was\n",
      "released\n",
      "for\n",
      "None\n",
      "and\n",
      "would\n",
      "recommend\n",
      "it\n",
      "to\n",
      "everyone\n",
      "to\n",
      "watch\n",
      "and\n",
      "the\n",
      "fly\n",
      "fishing\n",
      "was\n",
      "amazing\n",
      "really\n",
      "cried\n",
      "at\n",
      "the\n",
      "end\n",
      "it\n",
      "was\n",
      "so\n",
      "sad\n",
      "and\n",
      "you\n",
      "know\n",
      "what\n",
      "they\n",
      "say\n",
      "if\n",
      "you\n",
      "cry\n",
      "at\n",
      "a\n",
      "film\n",
      "it\n",
      "must\n",
      "have\n",
      "been\n",
      "good\n",
      "and\n",
      "this\n",
      "definitely\n",
      "was\n",
      "also\n",
      "None\n",
      "to\n",
      "the\n",
      "two\n",
      "little\n",
      "boy's\n",
      "that\n",
      "played\n",
      "the\n",
      "None\n",
      "of\n",
      "norman\n",
      "and\n",
      "paul\n",
      "they\n",
      "were\n",
      "just\n",
      "brilliant\n",
      "children\n",
      "are\n",
      "often\n",
      "left\n",
      "out\n",
      "of\n",
      "the\n",
      "None\n",
      "list\n",
      "i\n",
      "think\n",
      "because\n",
      "the\n",
      "stars\n",
      "that\n",
      "play\n",
      "them\n",
      "all\n",
      "grown\n",
      "up\n",
      "are\n",
      "such\n",
      "a\n",
      "big\n",
      "profile\n",
      "for\n",
      "the\n",
      "whole\n",
      "film\n",
      "but\n",
      "these\n",
      "children\n",
      "are\n",
      "amazing\n",
      "and\n",
      "should\n",
      "be\n",
      "praised\n",
      "for\n",
      "what\n",
      "they\n",
      "have\n",
      "done\n",
      "don't\n",
      "you\n",
      "think\n",
      "the\n",
      "whole\n",
      "story\n",
      "was\n",
      "so\n",
      "lovely\n",
      "because\n",
      "it\n",
      "was\n",
      "true\n",
      "and\n",
      "was\n",
      "someone's\n",
      "life\n",
      "after\n",
      "all\n",
      "that\n",
      "was\n",
      "shared\n",
      "with\n",
      "us\n",
      "all\n"
     ]
    }
   ],
   "source": [
    "for _ in train_data[0]:\n",
    "    print(word_index.get(_ -3))"
   ]
  },
  {
   "cell_type": "markdown",
   "id": "d3ac83c7",
   "metadata": {},
   "source": [
    "Las redes neuronales solamente reciben tensores, numeros de coma flotante, por tanto, se debe hacer la transformación de los datos.\n",
    "\n",
    "1. El primer paso es hacer un one_hot_encoding lo que resulta en un vector de palabras."
   ]
  },
  {
   "cell_type": "code",
   "execution_count": 44,
   "id": "25e6a619",
   "metadata": {},
   "outputs": [],
   "source": [
    "def vectorizar(sequences, dim=10000):\n",
    "    '''\n",
    "    se genera un matriz de palabras representadas con ceros y unos\n",
    "    se inicializa la matriz con la cantidad de datos de la secuencia\n",
    "    y de la dimensión de caracteristicas o variables que va a recibir\n",
    "    '''\n",
    "    results = np.zeros((len(sequences),dim))\n",
    "    for i, sequences in enumerate(sequences):\n",
    "        results[i,sequences]=1\n",
    "        \n",
    "    return results"
   ]
  },
  {
   "cell_type": "code",
   "execution_count": 45,
   "id": "6494c9bf",
   "metadata": {},
   "outputs": [],
   "source": [
    "x_train = vectorizar(train_data)\n",
    "x_test = vectorizar(test_data)"
   ]
  },
  {
   "cell_type": "code",
   "execution_count": 46,
   "id": "45e21bc7",
   "metadata": {},
   "outputs": [],
   "source": [
    "y_train = np.asarray(train_labels).astype('float32')\n",
    "y_test = np.asarray(test_labels).astype('float32')"
   ]
  },
  {
   "cell_type": "markdown",
   "id": "153658e2",
   "metadata": {},
   "source": [
    "### Función de perdida para clasificación Binaria\n",
    "Binary_cross_entropy es la función recomendada para clasificación binaria. \n",
    "\n",
    "El overfitting se evalua con la función de perdida tambien, no solamente con la metrica de accuracy\n"
   ]
  },
  {
   "cell_type": "code",
   "execution_count": 47,
   "id": "fc9d718a",
   "metadata": {},
   "outputs": [],
   "source": [
    "model =models.Sequential()\n",
    "model.add(layers.Dense(16,activation='relu',input_shape=(10000,)))\n",
    "model.add(layers.Dense(16,activation='relu'))\n",
    "model.add(layers.Dense(1,activation='sigmoid'))\n"
   ]
  },
  {
   "cell_type": "code",
   "execution_count": 48,
   "id": "8199ccc3",
   "metadata": {},
   "outputs": [],
   "source": [
    "model.compile(optimizer='rmsprop',\n",
    "             loss='binary_crossentropy',\n",
    "             metrics='accuracy')"
   ]
  },
  {
   "cell_type": "code",
   "execution_count": 49,
   "id": "b6845be6",
   "metadata": {},
   "outputs": [],
   "source": [
    "x_val = x_train[:10000]\n",
    "partial_x_train = x_train[10000:]\n",
    "\n",
    "y_val = y_train[:10000]\n",
    "partial_y_train = y_train[10000:]"
   ]
  },
  {
   "cell_type": "code",
   "execution_count": 50,
   "id": "056199be",
   "metadata": {},
   "outputs": [
    {
     "name": "stdout",
     "output_type": "stream",
     "text": [
      "Epoch 1/10\n",
      "30/30 [==============================] - 3s 103ms/step - loss: 0.5401 - accuracy: 0.7861 - val_loss: 0.4151 - val_accuracy: 0.8683\n",
      "Epoch 2/10\n",
      "30/30 [==============================] - 1s 22ms/step - loss: 0.3304 - accuracy: 0.8991 - val_loss: 0.3186 - val_accuracy: 0.8829\n",
      "Epoch 3/10\n",
      "30/30 [==============================] - 1s 24ms/step - loss: 0.2408 - accuracy: 0.9199 - val_loss: 0.2932 - val_accuracy: 0.8841\n",
      "Epoch 4/10\n",
      "30/30 [==============================] - 1s 24ms/step - loss: 0.1851 - accuracy: 0.9413 - val_loss: 0.2909 - val_accuracy: 0.8824\n",
      "Epoch 5/10\n",
      "30/30 [==============================] - 1s 22ms/step - loss: 0.1518 - accuracy: 0.9507 - val_loss: 0.2802 - val_accuracy: 0.8875\n",
      "Epoch 6/10\n",
      "30/30 [==============================] - 1s 21ms/step - loss: 0.1238 - accuracy: 0.9631 - val_loss: 0.2902 - val_accuracy: 0.8864\n",
      "Epoch 7/10\n",
      "30/30 [==============================] - 1s 22ms/step - loss: 0.1021 - accuracy: 0.9691 - val_loss: 0.3063 - val_accuracy: 0.8853\n",
      "Epoch 8/10\n",
      "30/30 [==============================] - 1s 27ms/step - loss: 0.0856 - accuracy: 0.9756 - val_loss: 0.3519 - val_accuracy: 0.8727\n",
      "Epoch 9/10\n",
      "30/30 [==============================] - 1s 24ms/step - loss: 0.0695 - accuracy: 0.9814 - val_loss: 0.3465 - val_accuracy: 0.8809\n",
      "Epoch 10/10\n",
      "30/30 [==============================] - 1s 21ms/step - loss: 0.0541 - accuracy: 0.9867 - val_loss: 0.3746 - val_accuracy: 0.8752\n"
     ]
    }
   ],
   "source": [
    "history = model.fit(partial_x_train,partial_y_train,\n",
    "                    epochs=10,\n",
    "                    batch_size=512,\n",
    "                    validation_data=(x_val,y_val)\n",
    "                   )"
   ]
  },
  {
   "cell_type": "code",
   "execution_count": 51,
   "id": "190ef071",
   "metadata": {},
   "outputs": [
    {
     "data": {
      "image/png": "[encoded data removed]",
      "text/plain": [
       "<Figure size 432x288 with 1 Axes>"
      ]
     },
     "metadata": {
      "needs_background": "light"
     },
     "output_type": "display_data"
    }
   ],
   "source": [
    "import matplotlib.pyplot as plt\n",
    "\n",
    "history_dict = history.history\n",
    "loss_values = history_dict['loss']\n",
    "val_loss_values = history_dict['val_loss']\n",
    "epoch= range(1,len(loss_values)+1)\n",
    "\n",
    "plt.plot(epoch,loss_values,'o',label='training')\n",
    "plt.plot(epoch,val_loss_values,'--',label='validation')\n",
    "plt.legend()\n",
    "plt.show()"
   ]
  },
  {
   "cell_type": "code",
   "execution_count": 52,
   "id": "6a800b7b",
   "metadata": {},
   "outputs": [
    {
     "name": "stdout",
     "output_type": "stream",
     "text": [
      "782/782 [==============================] - 1s 2ms/step - loss: 0.4079 - accuracy: 0.8645: 0s\n"
     ]
    },
    {
     "data": {
      "text/plain": [
       "[0.4079333245754242, 0.8645200133323669]"
      ]
     },
     "execution_count": 52,
     "metadata": {},
     "output_type": "execute_result"
    }
   ],
   "source": [
    "model.evaluate(x_test,y_test)"
   ]
  },
  {
   "cell_type": "markdown",
   "id": "474e1b8f",
   "metadata": {},
   "source": [
    "## Regularización\n",
    "Suma pesos a la función de costo, castigando los pesos de la neurona de nuestra red.\n",
    "\n",
    "L1 funciona con los valores absolutos de los pesos de la neurona\n",
    "L2 funciona con los valores elevados al cuadrado de los pesos de la neurona.\n",
    "\n",
    "Se ajusta otro hiperparametro lambda, a un menor lambda menor regularización, por tanto, se recomienda empezar con valores bajos.\n",
    "\n",
    "## Dropout\n",
    "Se apaga un porcentaje de la red de manera aleatoria para que una capa no dependa tanto de otra y haya un entrenamiento con neuronas diferentes dependiendo de la cantidad de neuronas que se pague. reduce el overfitting\n",
    "\n",
    "![](./regu.PNG)"
   ]
  },
  {
   "cell_type": "code",
   "execution_count": 53,
   "id": "6f125267",
   "metadata": {},
   "outputs": [
    {
     "name": "stdout",
     "output_type": "stream",
     "text": [
      "Epoch 1/20\n",
      "30/30 [==============================] - 1s 33ms/step - loss: 0.6553 - accuracy: 0.5097 - val_loss: 0.6246 - val_accuracy: 0.5154\n",
      "Epoch 2/20\n",
      "30/30 [==============================] - 1s 24ms/step - loss: 0.5853 - accuracy: 0.6298 - val_loss: 0.5264 - val_accuracy: 0.7846\n",
      "Epoch 3/20\n",
      "30/30 [==============================] - 1s 21ms/step - loss: 0.4290 - accuracy: 0.8737 - val_loss: 0.3992 - val_accuracy: 0.8700\n",
      "Epoch 4/20\n",
      "30/30 [==============================] - 1s 19ms/step - loss: 0.3359 - accuracy: 0.9038 - val_loss: 0.3449 - val_accuracy: 0.8826\n",
      "Epoch 5/20\n",
      "30/30 [==============================] - 1s 20ms/step - loss: 0.2776 - accuracy: 0.9182 - val_loss: 0.3101 - val_accuracy: 0.8872\n",
      "Epoch 6/20\n",
      "30/30 [==============================] - 1s 21ms/step - loss: 0.2356 - accuracy: 0.9296 - val_loss: 0.2926 - val_accuracy: 0.8871\n",
      "Epoch 7/20\n",
      "30/30 [==============================] - 1s 20ms/step - loss: 0.2039 - accuracy: 0.9371 - val_loss: 0.2796 - val_accuracy: 0.8906\n",
      "Epoch 8/20\n",
      "30/30 [==============================] - 1s 20ms/step - loss: 0.1785 - accuracy: 0.9448 - val_loss: 0.2758 - val_accuracy: 0.8884\n",
      "Epoch 9/20\n",
      "30/30 [==============================] - 1s 20ms/step - loss: 0.1574 - accuracy: 0.9531 - val_loss: 0.2772 - val_accuracy: 0.8905\n",
      "Epoch 10/20\n",
      "30/30 [==============================] - 1s 21ms/step - loss: 0.1411 - accuracy: 0.9583 - val_loss: 0.2749 - val_accuracy: 0.8902\n",
      "Epoch 11/20\n",
      "30/30 [==============================] - 1s 19ms/step - loss: 0.1258 - accuracy: 0.9627 - val_loss: 0.2823 - val_accuracy: 0.8876\n",
      "Epoch 12/20\n",
      "30/30 [==============================] - 1s 25ms/step - loss: 0.1129 - accuracy: 0.9674 - val_loss: 0.2896 - val_accuracy: 0.8858\n",
      "Epoch 13/20\n",
      "30/30 [==============================] - 1s 25ms/step - loss: 0.1018 - accuracy: 0.9718 - val_loss: 0.2947 - val_accuracy: 0.8860\n",
      "Epoch 14/20\n",
      "30/30 [==============================] - 1s 23ms/step - loss: 0.0911 - accuracy: 0.9755 - val_loss: 0.3158 - val_accuracy: 0.8850\n",
      "Epoch 15/20\n",
      "30/30 [==============================] - 1s 24ms/step - loss: 0.0824 - accuracy: 0.9782 - val_loss: 0.3178 - val_accuracy: 0.8813\n",
      "Epoch 16/20\n",
      "30/30 [==============================] - 1s 26ms/step - loss: 0.0737 - accuracy: 0.9809 - val_loss: 0.3255 - val_accuracy: 0.8813\n",
      "Epoch 17/20\n",
      "30/30 [==============================] - 1s 20ms/step - loss: 0.0662 - accuracy: 0.9841 - val_loss: 0.3381 - val_accuracy: 0.8804\n",
      "Epoch 18/20\n",
      "30/30 [==============================] - 1s 23ms/step - loss: 0.0587 - accuracy: 0.9864 - val_loss: 0.3518 - val_accuracy: 0.8818\n",
      "Epoch 19/20\n",
      "30/30 [==============================] - 1s 21ms/step - loss: 0.0516 - accuracy: 0.9888 - val_loss: 0.3693 - val_accuracy: 0.8811\n",
      "Epoch 20/20\n",
      "30/30 [==============================] - 1s 23ms/step - loss: 0.0462 - accuracy: 0.9902 - val_loss: 0.3819 - val_accuracy: 0.8800\n"
     ]
    }
   ],
   "source": [
    "model2 =models.Sequential()\n",
    "model2.add(layers.Dense(4,activation='relu',input_shape=(10000,)))\n",
    "model2.add(layers.Dense(4,activation='relu'))\n",
    "model2.add(layers.Dense(1,activation='sigmoid'))\n",
    "\n",
    "model2.compile(optimizer='rmsprop',\n",
    "             loss='binary_crossentropy',\n",
    "             metrics='accuracy')\n",
    "\n",
    "history2 = model2.fit(partial_x_train,partial_y_train,\n",
    "                    epochs=20,\n",
    "                    batch_size=512,\n",
    "                    validation_data=(x_val,y_val)\n",
    "                   )"
   ]
  },
  {
   "cell_type": "code",
   "execution_count": 54,
   "id": "a1e37d6e",
   "metadata": {},
   "outputs": [],
   "source": [
    "from keras import regularizers "
   ]
  },
  {
   "cell_type": "code",
   "execution_count": 55,
   "id": "90f39127",
   "metadata": {},
   "outputs": [
    {
     "name": "stdout",
     "output_type": "stream",
     "text": [
      "Epoch 1/20\n",
      "30/30 [==============================] - 2s 50ms/step - loss: 0.5566 - accuracy: 0.7873 - val_loss: 0.4365 - val_accuracy: 0.8599\n",
      "Epoch 2/20\n",
      "30/30 [==============================] - 1s 29ms/step - loss: 0.3613 - accuracy: 0.8979 - val_loss: 0.3586 - val_accuracy: 0.8845\n",
      "Epoch 3/20\n",
      "30/30 [==============================] - 1s 24ms/step - loss: 0.2895 - accuracy: 0.9201 - val_loss: 0.3330 - val_accuracy: 0.8888\n",
      "Epoch 4/20\n",
      "30/30 [==============================] - 1s 28ms/step - loss: 0.2566 - accuracy: 0.9302 - val_loss: 0.3283 - val_accuracy: 0.8909\n",
      "Epoch 5/20\n",
      "30/30 [==============================] - 1s 26ms/step - loss: 0.2352 - accuracy: 0.9392 - val_loss: 0.3324 - val_accuracy: 0.8884\n",
      "Epoch 6/20\n",
      "30/30 [==============================] - 1s 27ms/step - loss: 0.2181 - accuracy: 0.9469 - val_loss: 0.3384 - val_accuracy: 0.8876\n",
      "Epoch 7/20\n",
      "30/30 [==============================] - 1s 24ms/step - loss: 0.2063 - accuracy: 0.9508 - val_loss: 0.3890 - val_accuracy: 0.8723\n",
      "Epoch 8/20\n",
      "30/30 [==============================] - 1s 23ms/step - loss: 0.1985 - accuracy: 0.9537 - val_loss: 0.3560 - val_accuracy: 0.8846\n",
      "Epoch 9/20\n",
      "30/30 [==============================] - 1s 22ms/step - loss: 0.1953 - accuracy: 0.9553 - val_loss: 0.3616 - val_accuracy: 0.8822\n",
      "Epoch 10/20\n",
      "30/30 [==============================] - 1s 22ms/step - loss: 0.1855 - accuracy: 0.9597 - val_loss: 0.3968 - val_accuracy: 0.8691\n",
      "Epoch 11/20\n",
      "30/30 [==============================] - 1s 20ms/step - loss: 0.1757 - accuracy: 0.9647 - val_loss: 0.4055 - val_accuracy: 0.8732\n",
      "Epoch 12/20\n",
      "30/30 [==============================] - 1s 21ms/step - loss: 0.1775 - accuracy: 0.9617 - val_loss: 0.3842 - val_accuracy: 0.8793\n",
      "Epoch 13/20\n",
      "30/30 [==============================] - 1s 22ms/step - loss: 0.1729 - accuracy: 0.9638 - val_loss: 0.4044 - val_accuracy: 0.8771\n",
      "Epoch 14/20\n",
      "30/30 [==============================] - 1s 21ms/step - loss: 0.1691 - accuracy: 0.9655 - val_loss: 0.3997 - val_accuracy: 0.8759\n",
      "Epoch 15/20\n",
      "30/30 [==============================] - 1s 21ms/step - loss: 0.1670 - accuracy: 0.9665 - val_loss: 0.4086 - val_accuracy: 0.8748\n",
      "Epoch 16/20\n",
      "30/30 [==============================] - 1s 22ms/step - loss: 0.1613 - accuracy: 0.9691 - val_loss: 0.4287 - val_accuracy: 0.8722\n",
      "Epoch 17/20\n",
      "30/30 [==============================] - 1s 22ms/step - loss: 0.1591 - accuracy: 0.9707 - val_loss: 0.4178 - val_accuracy: 0.8746\n",
      "Epoch 18/20\n",
      "30/30 [==============================] - 1s 23ms/step - loss: 0.1540 - accuracy: 0.9723 - val_loss: 0.4671 - val_accuracy: 0.8601\n",
      "Epoch 19/20\n",
      "30/30 [==============================] - 1s 23ms/step - loss: 0.1528 - accuracy: 0.9712 - val_loss: 0.4374 - val_accuracy: 0.8705\n",
      "Epoch 20/20\n",
      "30/30 [==============================] - 1s 22ms/step - loss: 0.1482 - accuracy: 0.9745 - val_loss: 0.4417 - val_accuracy: 0.8699\n"
     ]
    }
   ],
   "source": [
    "model3 =models.Sequential()\n",
    "model3.add(layers.Dense(16,activation='relu',input_shape=(10000,), kernel_regularizer = regularizers.l2(0.001)))\n",
    "model3.add(layers.Dense(16,activation='relu', kernel_regularizer = regularizers.l2(0.001)))\n",
    "model3.add(layers.Dense(1,activation='sigmoid'))\n",
    "\n",
    "model3.compile(optimizer='rmsprop',\n",
    "             loss='binary_crossentropy',\n",
    "             metrics='accuracy')\n",
    "\n",
    "history3 = model3.fit(partial_x_train,partial_y_train,\n",
    "                    epochs=20,\n",
    "                    batch_size=512,\n",
    "                    validation_data=(x_val,y_val)\n",
    "                   )"
   ]
  },
  {
   "cell_type": "code",
   "execution_count": 56,
   "id": "eac294d2",
   "metadata": {},
   "outputs": [
    {
     "name": "stdout",
     "output_type": "stream",
     "text": [
      "Epoch 1/20\n",
      "30/30 [==============================] - 1s 30ms/step - loss: 0.6376 - accuracy: 0.6331 - val_loss: 0.5409 - val_accuracy: 0.7680\n",
      "Epoch 2/20\n",
      "30/30 [==============================] - 1s 22ms/step - loss: 0.5153 - accuracy: 0.7563 - val_loss: 0.4280 - val_accuracy: 0.8511\n",
      "Epoch 3/20\n",
      "30/30 [==============================] - 1s 22ms/step - loss: 0.4245 - accuracy: 0.8294 - val_loss: 0.3430 - val_accuracy: 0.8852\n",
      "Epoch 4/20\n",
      "30/30 [==============================] - 1s 22ms/step - loss: 0.3559 - accuracy: 0.8693 - val_loss: 0.2996 - val_accuracy: 0.8862\n",
      "Epoch 5/20\n",
      "30/30 [==============================] - 1s 21ms/step - loss: 0.3168 - accuracy: 0.8929 - val_loss: 0.2850 - val_accuracy: 0.8862\n",
      "Epoch 6/20\n",
      "30/30 [==============================] - 1s 22ms/step - loss: 0.2727 - accuracy: 0.9111 - val_loss: 0.2801 - val_accuracy: 0.8850\n",
      "Epoch 7/20\n",
      "30/30 [==============================] - 1s 24ms/step - loss: 0.2380 - accuracy: 0.9281 - val_loss: 0.2937 - val_accuracy: 0.8874\n",
      "Epoch 8/20\n",
      "30/30 [==============================] - 1s 21ms/step - loss: 0.2122 - accuracy: 0.9389 - val_loss: 0.2861 - val_accuracy: 0.8851\n",
      "Epoch 9/20\n",
      "30/30 [==============================] - 1s 21ms/step - loss: 0.1901 - accuracy: 0.9451 - val_loss: 0.3124 - val_accuracy: 0.8872\n",
      "Epoch 10/20\n",
      "30/30 [==============================] - 1s 21ms/step - loss: 0.1737 - accuracy: 0.9513 - val_loss: 0.3178 - val_accuracy: 0.8845\n",
      "Epoch 11/20\n",
      "30/30 [==============================] - 1s 20ms/step - loss: 0.1540 - accuracy: 0.9561 - val_loss: 0.3403 - val_accuracy: 0.8869\n",
      "Epoch 12/20\n",
      "30/30 [==============================] - 1s 21ms/step - loss: 0.1328 - accuracy: 0.9617 - val_loss: 0.3636 - val_accuracy: 0.8854\n",
      "Epoch 13/20\n",
      "30/30 [==============================] - 1s 20ms/step - loss: 0.1256 - accuracy: 0.9635 - val_loss: 0.3869 - val_accuracy: 0.8851\n",
      "Epoch 14/20\n",
      "30/30 [==============================] - 1s 21ms/step - loss: 0.1093 - accuracy: 0.9693 - val_loss: 0.4210 - val_accuracy: 0.8837\n",
      "Epoch 15/20\n",
      "30/30 [==============================] - 1s 21ms/step - loss: 0.1051 - accuracy: 0.9683 - val_loss: 0.4210 - val_accuracy: 0.8831\n",
      "Epoch 16/20\n",
      "30/30 [==============================] - 1s 21ms/step - loss: 0.0943 - accuracy: 0.9709 - val_loss: 0.4528 - val_accuracy: 0.8795\n",
      "Epoch 17/20\n",
      "30/30 [==============================] - 1s 21ms/step - loss: 0.0861 - accuracy: 0.9755 - val_loss: 0.5075 - val_accuracy: 0.8828\n",
      "Epoch 18/20\n",
      "30/30 [==============================] - 1s 21ms/step - loss: 0.0841 - accuracy: 0.9777 - val_loss: 0.5616 - val_accuracy: 0.8824\n",
      "Epoch 19/20\n",
      "30/30 [==============================] - 1s 20ms/step - loss: 0.0762 - accuracy: 0.9778 - val_loss: 0.5379 - val_accuracy: 0.8791\n",
      "Epoch 20/20\n",
      "30/30 [==============================] - 1s 20ms/step - loss: 0.0749 - accuracy: 0.9771 - val_loss: 0.5863 - val_accuracy: 0.8796\n"
     ]
    }
   ],
   "source": [
    "model4 =models.Sequential()\n",
    "model4.add(layers.Dense(16,activation='relu',input_shape=(10000,)))\n",
    "model4.add(layers.Dropout(0.5))\n",
    "model4.add(layers.Dense(16,activation='relu'))\n",
    "model4.add(layers.Dropout(0.5))\n",
    "model4.add(layers.Dense(1,activation='sigmoid'))\n",
    "\n",
    "model4.compile(optimizer='rmsprop',\n",
    "             loss='binary_crossentropy',\n",
    "             metrics='accuracy')\n",
    "\n",
    "history4 = model4.fit(partial_x_train,partial_y_train,\n",
    "                    epochs=20,\n",
    "                    batch_size=512,\n",
    "                    validation_data=(x_val,y_val)\n",
    "                   )"
   ]
  },
  {
   "cell_type": "code",
   "execution_count": 96,
   "id": "5778bca7",
   "metadata": {},
   "outputs": [],
   "source": [
    "from keras.datasets import reuters"
   ]
  },
  {
   "cell_type": "code",
   "execution_count": 97,
   "id": "092db27a",
   "metadata": {},
   "outputs": [],
   "source": [
    "(train_data,train_labels),(test_data,test_labels) = reuters.load_data(num_words=1000)"
   ]
  },
  {
   "cell_type": "code",
   "execution_count": 98,
   "id": "b66ab2dc",
   "metadata": {},
   "outputs": [
    {
     "name": "stdout",
     "output_type": "stream",
     "text": [
      "None\n",
      "None\n",
      "None\n",
      "said\n",
      "as\n",
      "a\n",
      "result\n",
      "of\n",
      "its\n",
      "december\n",
      "acquisition\n",
      "of\n",
      "None\n",
      "co\n",
      "it\n",
      "expects\n",
      "earnings\n",
      "per\n",
      "share\n",
      "in\n",
      "1987\n",
      "of\n",
      "1\n",
      "15\n",
      "to\n",
      "1\n",
      "30\n",
      "dlrs\n",
      "per\n",
      "share\n",
      "up\n",
      "from\n",
      "70\n",
      "cts\n",
      "in\n",
      "1986\n",
      "the\n",
      "company\n",
      "said\n",
      "pretax\n",
      "net\n",
      "should\n",
      "rise\n",
      "to\n",
      "nine\n",
      "to\n",
      "10\n",
      "mln\n",
      "dlrs\n",
      "from\n",
      "six\n",
      "mln\n",
      "dlrs\n",
      "in\n",
      "1986\n",
      "and\n",
      "None\n",
      "None\n",
      "revenues\n",
      "to\n",
      "19\n",
      "to\n",
      "22\n",
      "mln\n",
      "dlrs\n",
      "from\n",
      "12\n",
      "5\n",
      "mln\n",
      "dlrs\n",
      "it\n",
      "said\n",
      "cash\n",
      "None\n",
      "per\n",
      "share\n",
      "this\n",
      "year\n",
      "should\n",
      "be\n",
      "2\n",
      "50\n",
      "to\n",
      "three\n",
      "dlrs\n",
      "reuter\n",
      "3\n"
     ]
    }
   ],
   "source": [
    "word_index = reuters.get_word_index()\n",
    "word_index = dict([(value,key) for (key,value) in word_index.items()])\n",
    "for _ in train_data[0]:\n",
    "    print(word_index.get(_ -3))"
   ]
  },
  {
   "cell_type": "code",
   "execution_count": 99,
   "id": "17ace2b6",
   "metadata": {},
   "outputs": [],
   "source": [
    "x_train = vectorizar(train_data)\n",
    "x_test = vectorizar(test_data)"
   ]
  },
  {
   "cell_type": "markdown",
   "id": "06b42e08",
   "metadata": {},
   "source": [
    "#### Transformación de datos a tensores\n",
    "Es importante que para la clasificación multiple, las posibles categorias se representen tambien en tensores y no como numeros escalares como actualmente se muestra en el ejemplo, para crear un tensor o un one hot encoding se puede utilizar una función de keras. "
   ]
  },
  {
   "cell_type": "code",
   "execution_count": 100,
   "id": "1729b127",
   "metadata": {},
   "outputs": [
    {
     "data": {
      "text/plain": [
       "(8982,)"
      ]
     },
     "execution_count": 100,
     "metadata": {},
     "output_type": "execute_result"
    }
   ],
   "source": [
    "tran_data.shape"
   ]
  },
  {
   "cell_type": "code",
   "execution_count": 101,
   "id": "566294f0",
   "metadata": {},
   "outputs": [],
   "source": [
    "## tensor o vector de representación\n",
    "y_train = to_categorical(train_labels)\n",
    "y_test = to_categorical(test_labels)"
   ]
  },
  {
   "cell_type": "code",
   "execution_count": 102,
   "id": "e974ff8d",
   "metadata": {},
   "outputs": [
    {
     "data": {
      "text/plain": [
       "(8982,)"
      ]
     },
     "execution_count": 102,
     "metadata": {},
     "output_type": "execute_result"
    }
   ],
   "source": [
    "train_labels.shape"
   ]
  },
  {
   "cell_type": "markdown",
   "id": "6692a864",
   "metadata": {},
   "source": [
    "#### Activación para clasificación multiple\n",
    "La función de activación perfecta para determinar la probabilidad de cada una de las posibles categorias es softmax ya que una sigmoide clasifica con probabilidad en casos binarios"
   ]
  },
  {
   "cell_type": "code",
   "execution_count": 103,
   "id": "42afe33a",
   "metadata": {},
   "outputs": [],
   "source": [
    "model = models.Sequential()\n",
    "model.add(layers.Dense(64,activation='relu',input_shape = (10000,)))\n",
    "model.add(layers.Dense(64,activation='relu'))\n",
    "model.add(layers.Dense(46,activation='softmax'))"
   ]
  },
  {
   "cell_type": "code",
   "execution_count": 104,
   "id": "4d8461fd",
   "metadata": {},
   "outputs": [],
   "source": [
    "model.compile(optimizer='rmsprop',\n",
    "             loss = 'categorical_crossentropy',\n",
    "             metrics = ['accuracy'])"
   ]
  },
  {
   "cell_type": "code",
   "execution_count": 105,
   "id": "bcb40ad9",
   "metadata": {},
   "outputs": [],
   "source": [
    "x_val = x_train[:1000]\n",
    "partial_x_train = x_train[1000:]\n",
    "\n",
    "y_val = y_train[:1000]\n",
    "partial_y_train = y_train[1000:]"
   ]
  },
  {
   "cell_type": "code",
   "execution_count": 106,
   "id": "f46a71c9",
   "metadata": {},
   "outputs": [
    {
     "data": {
      "text/plain": [
       "(8982, 46)"
      ]
     },
     "execution_count": 106,
     "metadata": {},
     "output_type": "execute_result"
    }
   ],
   "source": [
    "y_train.shape"
   ]
  },
  {
   "cell_type": "code",
   "execution_count": 107,
   "id": "1548882e",
   "metadata": {},
   "outputs": [
    {
     "name": "stdout",
     "output_type": "stream",
     "text": [
      "Epoch 1/9\n",
      "16/16 [==============================] - 1s 56ms/step - loss: 3.0721 - accuracy: 0.4178 - val_loss: 2.1723 - val_accuracy: 0.5890\n",
      "Epoch 2/9\n",
      "16/16 [==============================] - 0s 31ms/step - loss: 1.8120 - accuracy: 0.6447 - val_loss: 1.5652 - val_accuracy: 0.6740\n",
      "Epoch 3/9\n",
      "16/16 [==============================] - 0s 27ms/step - loss: 1.4173 - accuracy: 0.7046 - val_loss: 1.3477 - val_accuracy: 0.6990\n",
      "Epoch 4/9\n",
      "16/16 [==============================] - 0s 27ms/step - loss: 1.2309 - accuracy: 0.7354 - val_loss: 1.2436 - val_accuracy: 0.7270\n",
      "Epoch 5/9\n",
      "16/16 [==============================] - 0s 27ms/step - loss: 1.0995 - accuracy: 0.7633 - val_loss: 1.1425 - val_accuracy: 0.7430\n",
      "Epoch 6/9\n",
      "16/16 [==============================] - 0s 29ms/step - loss: 1.0103 - accuracy: 0.7785 - val_loss: 1.0821 - val_accuracy: 0.7630\n",
      "Epoch 7/9\n",
      "16/16 [==============================] - 0s 27ms/step - loss: 0.9241 - accuracy: 0.7975 - val_loss: 1.0440 - val_accuracy: 0.7660\n",
      "Epoch 8/9\n",
      "16/16 [==============================] - 0s 29ms/step - loss: 0.8563 - accuracy: 0.8073 - val_loss: 1.0337 - val_accuracy: 0.7670\n",
      "Epoch 9/9\n",
      "16/16 [==============================] - 0s 27ms/step - loss: 0.7913 - accuracy: 0.8210 - val_loss: 0.9751 - val_accuracy: 0.7730\n"
     ]
    }
   ],
   "source": [
    "history = model.fit(partial_x_train,\n",
    "                   partial_y_train,\n",
    "                   epochs=9,\n",
    "                   batch_size=512,\n",
    "                   validation_data=(x_val,y_val))"
   ]
  },
  {
   "cell_type": "code",
   "execution_count": 108,
   "id": "7eb23e8d",
   "metadata": {
    "scrolled": true
   },
   "outputs": [
    {
     "data": {
      "image/png": "[encoded data removed]",
      "text/plain": [
       "<Figure size 720x720 with 1 Axes>"
      ]
     },
     "metadata": {
      "needs_background": "light"
     },
     "output_type": "display_data"
    }
   ],
   "source": [
    "import matplotlib.pyplot as plt \n",
    "\n",
    "history_dict = history.history\n",
    "loss_values = history_dict['loss']\n",
    "val_loss_values = history_dict['val_loss']\n",
    "\n",
    "fig = plt.figure(figsize=(10,10))\n",
    "epoch = range(1,len(loss_values)+1)\n",
    "plt.plot(epoch,loss_values, 'o',label='training')\n",
    "plt.plot(epoch,val_loss_values, '--',label='val')\n",
    "plt.legend()\n",
    "plt.show()"
   ]
  },
  {
   "cell_type": "code",
   "execution_count": 109,
   "id": "b268e3b0",
   "metadata": {},
   "outputs": [
    {
     "name": "stdout",
     "output_type": "stream",
     "text": [
      "71/71 [==============================] - 0s 2ms/step - loss: 1.0487 - accuracy: 0.7556\n"
     ]
    },
    {
     "data": {
      "text/plain": [
       "[1.0487130880355835, 0.7555654644966125]"
      ]
     },
     "execution_count": 109,
     "metadata": {},
     "output_type": "execute_result"
    }
   ],
   "source": [
    "model.evaluate(x_test,y_test)"
   ]
  },
  {
   "cell_type": "code",
   "execution_count": 110,
   "id": "30dc5950",
   "metadata": {},
   "outputs": [],
   "source": [
    "predictions = model.predict(x_test)"
   ]
  },
  {
   "cell_type": "code",
   "execution_count": 111,
   "id": "7110dee7",
   "metadata": {},
   "outputs": [
    {
     "data": {
      "text/plain": [
       "array([6.4813466e-05, 1.5654307e-04, 1.0759684e-04, 9.4357383e-01,\n",
       "       3.9784793e-02, 5.4467917e-05, 3.8854976e-04, 1.6357189e-04,\n",
       "       5.6448001e-03, 1.1666112e-04, 2.9955025e-05, 7.1122800e-04,\n",
       "       1.4538053e-04, 4.3499537e-04, 6.4180058e-05, 3.8451573e-05,\n",
       "       2.9396522e-03, 4.9976161e-04, 1.1900733e-04, 1.7216192e-04,\n",
       "       9.0958469e-04, 3.0001299e-04, 1.6116023e-06, 6.6238764e-04,\n",
       "       5.6686087e-05, 7.8832713e-04, 7.5628057e-05, 4.7435460e-05,\n",
       "       3.8138282e-04, 1.0622694e-04, 8.9195979e-05, 2.2516827e-04,\n",
       "       3.0466761e-05, 2.2598759e-05, 3.6213454e-04, 5.1127921e-05,\n",
       "       1.3498988e-04, 9.3622766e-06, 7.4939540e-05, 2.0535737e-04,\n",
       "       3.4337583e-05, 1.4203406e-04, 1.9287205e-05, 2.2755312e-05,\n",
       "       1.6740387e-05, 2.0128640e-05], dtype=float32)"
      ]
     },
     "execution_count": 111,
     "metadata": {},
     "output_type": "execute_result"
    }
   ],
   "source": [
    "predictions[0]"
   ]
  },
  {
   "cell_type": "code",
   "execution_count": 113,
   "id": "829ee589",
   "metadata": {},
   "outputs": [
    {
     "data": {
      "text/plain": [
       "1.0000004"
      ]
     },
     "execution_count": 113,
     "metadata": {},
     "output_type": "execute_result"
    }
   ],
   "source": [
    "np.sum(predictions[0])"
   ]
  },
  {
   "cell_type": "markdown",
   "id": "c2395684",
   "metadata": {},
   "source": [
    "#### Sacar la predicción con probabilidad mas alta."
   ]
  },
  {
   "cell_type": "code",
   "execution_count": 114,
   "id": "6bd43318",
   "metadata": {},
   "outputs": [
    {
     "data": {
      "text/plain": [
       "3"
      ]
     },
     "execution_count": 114,
     "metadata": {},
     "output_type": "execute_result"
    }
   ],
   "source": [
    "np.argmax(predictions[0])"
   ]
  },
  {
   "cell_type": "markdown",
   "id": "68d6e90d",
   "metadata": {},
   "source": [
    "### Problemas de regresión"
   ]
  },
  {
   "cell_type": "code",
   "execution_count": 116,
   "id": "451f6331",
   "metadata": {},
   "outputs": [
    {
     "name": "stdout",
     "output_type": "stream",
     "text": [
      "Downloading data from https://storage.googleapis.com/tensorflow/tf-keras-datasets/boston_housing.npz\n",
      "57344/57026 [==============================] - 0s 0us/step\n"
     ]
    }
   ],
   "source": [
    "from keras.datasets import boston_housing\n",
    "(train_data,train_labels),(test_data,test_labels)=boston_housing.load_data()\n"
   ]
  },
  {
   "cell_type": "code",
   "execution_count": 117,
   "id": "a17ec419",
   "metadata": {},
   "outputs": [
    {
     "data": {
      "text/plain": [
       "(404, 13)"
      ]
     },
     "execution_count": 117,
     "metadata": {},
     "output_type": "execute_result"
    }
   ],
   "source": [
    "train_data.shape"
   ]
  },
  {
   "cell_type": "code",
   "execution_count": 125,
   "id": "bb99640a",
   "metadata": {},
   "outputs": [],
   "source": [
    "mean = train_data.mean(axis=0)\n",
    "train_data = train_data - mean\n",
    "std = train_data.std(axis=0)\n",
    "train_data = train_data/std\n"
   ]
  },
  {
   "cell_type": "code",
   "execution_count": 126,
   "id": "0f7fd25a",
   "metadata": {},
   "outputs": [],
   "source": [
    "test_data = test_data - mean\n",
    "test_data = test_data / std"
   ]
  },
  {
   "cell_type": "markdown",
   "id": "1b452244",
   "metadata": {},
   "source": [
    "### k-fold validation"
   ]
  },
  {
   "cell_type": "code",
   "execution_count": 148,
   "id": "9266e9ee",
   "metadata": {},
   "outputs": [],
   "source": [
    "def build_model_regression(lr_var,input_data):\n",
    "    model = models.Sequential()\n",
    "    model.add(layers.Dense(64,activation='relu',input_shape=(input_data,)))\n",
    "    model.add(layers.Dense(64,activation='relu'))\n",
    "    model.add(layers.Dense(1))\n",
    "\n",
    "    model.compile(optimizer=optimizers.RMSprop(lr=lr_var),loss='mse',metrics=['mae'])\n",
    "    \n",
    "    return model"
   ]
  },
  {
   "cell_type": "code",
   "execution_count": 149,
   "id": "d3512f13",
   "metadata": {},
   "outputs": [],
   "source": [
    "k = 4\n",
    "\n",
    "num_val_samples = int(len(train_data)/4)\n",
    "num_epochs = 85\n",
    "all_history = []"
   ]
  },
  {
   "cell_type": "code",
   "execution_count": 150,
   "id": "471e49de",
   "metadata": {},
   "outputs": [
    {
     "name": "stdout",
     "output_type": "stream",
     "text": [
      "Fold:  0\n",
      "Fold:  1\n",
      "Fold:  2\n",
      "Fold:  3\n"
     ]
    }
   ],
   "source": [
    "for i in range(k):\n",
    "    print(\"Fold: \", i)\n",
    "    val_data = train_data[i*num_val_samples: (i+1)*num_val_samples]\n",
    "    val_targets = train_labels[i*num_val_samples:(i+1)*num_val_samples]\n",
    "    \n",
    "    partial_train_data = np.concatenate(\n",
    "        [train_data[:i*num_val_samples],\n",
    "        train_data[(i+1)*num_val_samples:]\n",
    "        ],axis=0)\n",
    "    \n",
    "    partial_train_targets = np.concatenate(\n",
    "        [train_labels[:i*num_val_samples],\n",
    "        train_labels[(i+1)*num_val_samples:]\n",
    "        ],axis=0)\n",
    "    \n",
    "    model = build_model_regression(0.001,13)\n",
    "    history = model.fit(partial_train_data,partial_train_targets,\n",
    "                       epochs=num_epochs,\n",
    "                       batch_size = 16,\n",
    "                       validation_data=(val_data,val_targets),\n",
    "                       verbose=0)\n",
    "    all_history.append(history.history['val_mae'])"
   ]
  },
  {
   "cell_type": "code",
   "execution_count": 133,
   "id": "9a8f17df",
   "metadata": {},
   "outputs": [],
   "source": [
    "import pandas as pd"
   ]
  },
  {
   "cell_type": "code",
   "execution_count": 152,
   "id": "fbfc586f",
   "metadata": {},
   "outputs": [],
   "source": [
    "all_mae_avg = pd.DataFrame(all_history).mean(axis=0)"
   ]
  },
  {
   "cell_type": "code",
   "execution_count": 153,
   "id": "4e50431e",
   "metadata": {},
   "outputs": [
    {
     "data": {
      "text/plain": [
       "85"
      ]
     },
     "execution_count": 153,
     "metadata": {},
     "output_type": "execute_result"
    }
   ],
   "source": [
    "len(all_mae_avg)"
   ]
  },
  {
   "cell_type": "markdown",
   "id": "7721dcbf",
   "metadata": {},
   "source": [
    "### Siempre Graficar los resultados\n",
    "Esto permite identificar en que punto de convergencia los Hiperparametros parecen ser optimos."
   ]
  },
  {
   "cell_type": "code",
   "execution_count": 154,
   "id": "f6343899",
   "metadata": {
    "scrolled": true
   },
   "outputs": [
    {
     "data": {
      "image/png": "[encoded data removed]",
      "text/plain": [
       "<Figure size 720x720 with 1 Axes>"
      ]
     },
     "metadata": {
      "needs_background": "light"
     },
     "output_type": "display_data"
    }
   ],
   "source": [
    "fig = plt.figure(figsize=(10,10))\n",
    "plt.plot(range(1,len(all_mae_avg[15:])+1),all_mae_avg[15:])\n",
    "plt.show()"
   ]
  },
  {
   "cell_type": "code",
   "execution_count": 155,
   "id": "066f14ab",
   "metadata": {},
   "outputs": [
    {
     "name": "stdout",
     "output_type": "stream",
     "text": [
      "4/4 [==============================] - 0s 1ms/step - loss: 21.3767 - mae: 2.9048\n"
     ]
    },
    {
     "data": {
      "text/plain": [
       "[21.376693725585938, 2.904841899871826]"
      ]
     },
     "execution_count": 155,
     "metadata": {},
     "output_type": "execute_result"
    }
   ],
   "source": [
    "model.evaluate(test_data,test_labels)"
   ]
  },
  {
   "cell_type": "code",
   "execution_count": null,
   "id": "f3bd24be",
   "metadata": {},
   "outputs": [],
   "source": []
  }
 ],
 "metadata": {
  "kernelspec": {
   "display_name": "Python 3",
   "language": "python",
   "name": "python3"
  },
  "language_info": {
   "codemirror_mode": {
    "name": "ipython",
    "version": 3
   },
   "file_extension": ".py",
   "mimetype": "text/x-python",
   "name": "python",
   "nbconvert_exporter": "python",
   "pygments_lexer": "ipython3",
   "version": "3.8.8"
  }
 },
 "nbformat": 4,
 "nbformat_minor": 5
}
