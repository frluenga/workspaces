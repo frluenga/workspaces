{
 "cells": [
  {
   "cell_type": "markdown",
   "metadata": {
    "id": "xP4op5o8xcRU"
   },
   "source": [
    "# Python Crash Course Exercises "
   ]
  },
  {
   "cell_type": "markdown",
   "metadata": {
    "id": "YR_Pw59vxcSh"
   },
   "source": [
    "## Exercises\n",
    "\n",
    "Answer the questions or complete the tasks outlined in bold below, use the specific method described if applicable."
   ]
  },
  {
   "cell_type": "code",
   "execution_count": null,
   "metadata": {
    "id": "ZYnovEkjxcSt",
    "outputId": "e1c71aa8-c837-4354-d413-b66f32de2f07"
   },
   "outputs": [
    {
     "data": {
      "text/plain": [
       "2401"
      ]
     },
     "execution_count": 1,
     "metadata": {
      "tags": []
     },
     "output_type": "execute_result"
    }
   ],
   "source": []
  },
  {
   "cell_type": "markdown",
   "metadata": {
    "id": "CDst7IwixcSp"
   },
   "source": [
    "** **texto en negrita** What is 7 to the power of 4?**"
   ]
  },
  {
   "cell_type": "markdown",
   "metadata": {
    "id": "rtuuMJkWxcS6"
   },
   "source": [
    "** Split this string:**\n",
    "\n",
    "    s = \"Hi there Sam!\"\n",
    "    \n",
    "**into a list. **"
   ]
  },
  {
   "cell_type": "code",
   "execution_count": 5,
   "metadata": {
    "id": "5PpLkGCpxcS_"
   },
   "outputs": [
    {
     "name": "stdout",
     "output_type": "stream",
     "text": [
      "Hi \n",
      "\n",
      "there \n",
      "\n",
      "Sam \n",
      "\n"
     ]
    }
   ],
   "source": [
    "s = 'Hi there Sam'\n",
    "arreglo = s.split()\n",
    "\n",
    "for palabra in arreglo:\n",
    "    print(palabra,'\\n')\n"
   ]
  },
  {
   "cell_type": "code",
   "execution_count": null,
   "metadata": {
    "id": "q7Wji9kvxcTB",
    "outputId": "d5587621-aeb0-4719-d7c3-5baac06b3a9e"
   },
   "outputs": [
    {
     "data": {
      "text/plain": [
       "['Hi', 'there', 'dad!']"
      ]
     },
     "execution_count": 3,
     "metadata": {
      "tags": []
     },
     "output_type": "execute_result"
    }
   ],
   "source": []
  },
  {
   "cell_type": "markdown",
   "metadata": {
    "id": "z6pyXdWUxcTE"
   },
   "source": [
    "** Given the variables:**\n",
    "\n",
    "    planet = \"Earth\"\n",
    "    diameter = 12742\n",
    "\n",
    "** Use .format() to print the following string: **\n",
    "\n",
    "    The diameter of Earth is 12742 kilometers."
   ]
  },
  {
   "cell_type": "code",
   "execution_count": null,
   "metadata": {
    "collapsed": true,
    "id": "MDPJ2-BIxcTI"
   },
   "outputs": [],
   "source": [
    "planet = \"Earth\"\n",
    "diameter = 12742"
   ]
  },
  {
   "cell_type": "code",
   "execution_count": null,
   "metadata": {
    "id": "49kaqQCLxcTM",
    "outputId": "6b230518-c70d-4b5e-be16-7fd95753750a"
   },
   "outputs": [
    {
     "name": "stdout",
     "output_type": "stream",
     "text": [
      "The diameter of Earth is 12742 kilometers.\n"
     ]
    }
   ],
   "source": []
  },
  {
   "cell_type": "markdown",
   "metadata": {
    "id": "n3bpajJQxcTP"
   },
   "source": [
    "** Given this nested list, use indexing to grab the word \"hello\" **"
   ]
  },
  {
   "cell_type": "code",
   "execution_count": null,
   "metadata": {
    "collapsed": true,
    "id": "3k92tRYVxcTR"
   },
   "outputs": [],
   "source": [
    "lst = [1,2,[3,4],[5,[100,200,['hello']],23,11],1,7]"
   ]
  },
  {
   "cell_type": "code",
   "execution_count": null,
   "metadata": {
    "id": "hkkho5EIxcTT",
    "outputId": "6745d74a-5bcc-4d70-ab7f-b3c8424ca29c"
   },
   "outputs": [
    {
     "data": {
      "text/plain": [
       "'hello'"
      ]
     },
     "execution_count": 14,
     "metadata": {
      "tags": []
     },
     "output_type": "execute_result"
    }
   ],
   "source": []
  },
  {
   "cell_type": "markdown",
   "metadata": {
    "id": "NxCkKHN5xcTW"
   },
   "source": [
    "** Given this nest dictionary grab the word \"hello\". Be prepared, this will be annoying/tricky **"
   ]
  },
  {
   "cell_type": "code",
   "execution_count": 6,
   "metadata": {
    "id": "oWRhIjTixcTa"
   },
   "outputs": [],
   "source": [
    "d = {'k1':[1,2,3,{'tricky':['oh','man','inception',{'target':[1,2,3,'hello']}]}]}"
   ]
  },
  {
   "cell_type": "code",
   "execution_count": 19,
   "metadata": {
    "id": "5_pr4SCHxcTd",
    "outputId": "786fe9d1-a050-4b23-c12d-86565e705c88"
   },
   "outputs": [
    {
     "name": "stdout",
     "output_type": "stream",
     "text": [
      "hello\n"
     ]
    }
   ],
   "source": [
    "for key,values in d.items():\n",
    "    if key == 'k1':\n",
    "        last = values[3]\n",
    "        last_1 = last['tricky'][3]\n",
    "        last_2 = last_1['target'][3]\n",
    "\n",
    "print(last_2)        "
   ]
  },
  {
   "cell_type": "markdown",
   "metadata": {
    "id": "8RO-HnsbxcTh"
   },
   "source": [
    "** What is the main difference between a tuple and a list? **"
   ]
  },
  {
   "cell_type": "code",
   "execution_count": null,
   "metadata": {
    "collapsed": true,
    "id": "AL2PwI8HxcTj"
   },
   "outputs": [],
   "source": [
    "# Just answer with text, no code necessary"
   ]
  },
  {
   "cell_type": "markdown",
   "metadata": {
    "id": "ThkVwvayxcTl"
   },
   "source": [
    "** Create a function that grabs the email website domain from a string in the form: **\n",
    "\n",
    "    user@domain.com\n",
    "    \n",
    "**So for example, passing \"user@domain.com\" would return: domain.com**"
   ]
  },
  {
   "cell_type": "code",
   "execution_count": 26,
   "metadata": {
    "id": "xhe0BMggxcTv"
   },
   "outputs": [
    {
     "name": "stdout",
     "output_type": "stream",
     "text": [
      "<class 'str'>\n",
      "domain.com\n"
     ]
    }
   ],
   "source": [
    "mail = 'user@domain.com'\n",
    "\n",
    "def function(str):\n",
    "    temp = str.replace('@',' ')\n",
    "    tuple_ = temp.split()\n",
    "    return tuple_\n",
    "\n",
    "name,domain = function(mail)\n",
    "print(domain)"
   ]
  },
  {
   "cell_type": "markdown",
   "metadata": {
    "id": "Mh08syEUxcT2"
   },
   "source": [
    "** Create a basic function that returns True if the word 'dog' is contained in the input string. Don't worry about edge cases like a punctuation being attached to the word dog, but do account for capitalization. **"
   ]
  },
  {
   "cell_type": "code",
   "execution_count": 39,
   "metadata": {
    "id": "HxMVlRjWxcT6"
   },
   "outputs": [
    {
     "name": "stdout",
     "output_type": "stream",
     "text": [
      "True\n"
     ]
    }
   ],
   "source": [
    "# dog detect\n",
    "a = 'the Dog is our best friend :)'\n",
    "b = 'the Cat is our best friend :)'\n",
    "def doggie(string):\n",
    "    sentinel = False\n",
    "    str_ = string.lower().split()\n",
    "     \n",
    "    for i in str_:\n",
    "        if i == 'dog':\n",
    "            sentinel = True\n",
    "    if not sentinel:\n",
    "        print('I cant find the word dog, try again')\n",
    "                   \n",
    "    return sentinel\n",
    "            \n",
    "        \n",
    "print(doggie(a))"
   ]
  },
  {
   "cell_type": "markdown",
   "metadata": {
    "id": "h2MndJo6xcUC"
   },
   "source": [
    "** Create a function that counts the number of times the word \"dog\" occurs in a string. Again ignore edge cases. **"
   ]
  },
  {
   "cell_type": "code",
   "execution_count": null,
   "metadata": {
    "id": "XomYfSDKxcUE"
   },
   "outputs": [],
   "source": [
    "a = 'the Dog is our best friend, and Dog, anndd dog'\n",
    "b = 'the Cat is our best friend :)'\n",
    "\n",
    "def doggie_count(string):\n",
    "    str_ = string.lower()\n",
    "    str_1 = str_.replace(',',' ').split()\n",
    "    count = 0\n",
    "    for i in str_1:\n",
    "        if i == 'dog':\n",
    "            count += 1\n",
    "    if count == 0:\n",
    "        print('I cant find the word dog, try again')\n",
    "    print(f'Ive got {count} dogs')           \n",
    "    return count\n",
    "            \n",
    "        \n",
    "print(doggie_count(a))"
   ]
  },
  {
   "cell_type": "markdown",
   "metadata": {
    "id": "AzdVT4_uxcUH"
   },
   "source": [
    "### Final Problem\n",
    "**You are driving a little too fast, and a police officer stops you. Write a function\n",
    "  to return one of 3 possible results: \"No ticket\", \"Small ticket\", or \"Big Ticket\". \n",
    "  If your speed is 60 or less, the result is \"No Ticket\". If speed is between 61 \n",
    "  and 80 inclusive, the result is \"Small Ticket\". If speed is 81 or more, the result is \"Big    Ticket\". Unless it is your birthday (encoded as a boolean value in the parameters of the function) -- on your birthday, your speed can be 5 higher in all \n",
    "  cases. **"
   ]
  },
  {
   "cell_type": "code",
   "execution_count": 66,
   "metadata": {},
   "outputs": [],
   "source": [
    "string = 'You are driving a little too fast, and a police officer stops you. Write a function to return one of 3 possible results: \"No ticket\", \"Small ticket\", or \"Big Ticket\". If your speed is 60 or less, the result is \"No Ticket\". If speed is between 61 and 80 inclusive, the result is \"Small Ticket\". If speed is 81 or more, the result is \"Big Ticket\". Unless it is your birthday (encoded as a boolean value in the parameters of the function) -- on your birthday, your speed can be 5 higher in all cases.'"
   ]
  },
  {
   "cell_type": "code",
   "execution_count": null,
   "metadata": {
    "id": "C1HAdKooxcUL"
   },
   "outputs": [],
   "source": []
  },
  {
   "cell_type": "code",
   "execution_count": null,
   "metadata": {
    "id": "mrazhgQ6xcUN",
    "outputId": "04430232-c797-4913-8d67-292c93859db5"
   },
   "outputs": [
    {
     "data": {
      "text/plain": [
       "'Small Ticket'"
      ]
     },
     "execution_count": 5,
     "metadata": {
      "tags": []
     },
     "output_type": "execute_result"
    }
   ],
   "source": []
  },
  {
   "cell_type": "code",
   "execution_count": null,
   "metadata": {
    "id": "4UqMwqbAxcUP",
    "outputId": "ab3a33eb-4937-4f49-db31-3cb1dcaa09bb"
   },
   "outputs": [
    {
     "data": {
      "text/plain": [
       "'Big Ticket'"
      ]
     },
     "execution_count": 6,
     "metadata": {
      "tags": []
     },
     "output_type": "execute_result"
    }
   ],
   "source": []
  },
  {
   "cell_type": "markdown",
   "metadata": {
    "id": "C7sBFNNVxcUR"
   },
   "source": [
    "# Great job!"
   ]
  }
 ],
 "metadata": {
  "anaconda-cloud": {},
  "colab": {
   "name": "Python Crash Course Exercises.ipynb",
   "provenance": []
  },
  "kernelspec": {
   "display_name": "Python 3",
   "language": "python",
   "name": "python3"
  },
  "language_info": {
   "codemirror_mode": {
    "name": "ipython",
    "version": 3
   },
   "file_extension": ".py",
   "mimetype": "text/x-python",
   "name": "python",
   "nbconvert_exporter": "python",
   "pygments_lexer": "ipython3",
   "version": "3.8.8"
  }
 },
 "nbformat": 4,
 "nbformat_minor": 1
}
