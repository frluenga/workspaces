{
 "cells": [
  {
   "cell_type": "markdown",
   "metadata": {
    "id": "3A2c2Kpt0une"
   },
   "source": [
    "# Modelos de pronóstico en el sector inmobiliario de Bogotá\n",
    "**John González**\n",
    "\n",
    "![](https://d31dn7nfpuwjnm.cloudfront.net/images/valoraciones/0034/8136/casa-hipotecada-se-puede-vender.png?1565825047)\n",
    "\n",
    "A partir de la información disponible en la página [metrocuadrado](https://www.metrocuadrado.com/) en esta actividad se pretende realizar los siguientes modelos de pronóstico de la vivienda en Bogotá:\n",
    "\n",
    "1. Precio.\n",
    "2. Tipo de inmueble.\n",
    "3. Zona de ubicación.\n"
   ]
  },
  {
   "cell_type": "markdown",
   "metadata": {
    "id": "9LUsVwsw3UxC"
   },
   "source": [
    "## Configuración\n",
    "Para este problema se importarán los paquetes:"
   ]
  },
  {
   "cell_type": "code",
   "execution_count": 9,
   "metadata": {
    "id": "dAR8toV04MjL"
   },
   "outputs": [],
   "source": [
    "import pandas as pd\n",
    "import matplotlib.pyplot as plt\n",
    "import numpy as np"
   ]
  },
  {
   "cell_type": "markdown",
   "metadata": {
    "id": "A-4agria2F20"
   },
   "source": [
    "## Descargando y limpiando datos\n",
    "Los datos de metrocuadrado se obtuvieron a partir de técnicas de webscraping, se seleccionaron las columnas más relevantes para esta actividad y se almacenaron en un archivo csv."
   ]
  },
  {
   "cell_type": "code",
   "execution_count": 4,
   "metadata": {
    "id": "Lm8l8kTQ2Ea2"
   },
   "outputs": [],
   "source": [
    "datos = pd.read_csv('https://drive.google.com/uc?id=1jwQo5QLpdgfjqi17NV3t_nt6t8uuERgJ')"
   ]
  },
  {
   "cell_type": "markdown",
   "metadata": {
    "id": "wMZc1GDvrXiw"
   },
   "source": [
    "Una vez los datos se han cargado, se ajusta cada variable para que su tipo corresponda con los valores."
   ]
  },
  {
   "cell_type": "code",
   "execution_count": 12,
   "metadata": {
    "colab": {
     "base_uri": "https://localhost:8080/",
     "height": 708
    },
    "id": "TSN8PxQBriNk",
    "outputId": "87246f83-4a3d-4363-b67d-ea4f95260aa3",
    "scrolled": true
   },
   "outputs": [
    {
     "name": "stdout",
     "output_type": "stream",
     "text": [
      "<class 'pandas.core.frame.DataFrame'>\n",
      "RangeIndex: 10000 entries, 0 to 9999\n",
      "Data columns (total 10 columns):\n",
      " #   Column              Non-Null Count  Dtype   \n",
      "---  ------              --------------  -----   \n",
      " 0   Unnamed: 0          10000 non-null  int64   \n",
      " 1   mtipoinmueble       10000 non-null  category\n",
      " 2   mvalorventa         10000 non-null  int64   \n",
      " 3   marea               10000 non-null  float64 \n",
      " 4   mnrocuartos         9993 non-null   float64 \n",
      " 5   mnrobanos           10000 non-null  float64 \n",
      " 6   mnrogarajes         9945 non-null   float64 \n",
      " 7   mzona               9812 non-null   category\n",
      " 8   mbarrio             9945 non-null   category\n",
      " 9   mnombrecomunbarrio  9866 non-null   category\n",
      "dtypes: category(4), float64(4), int64(2)\n",
      "memory usage: 577.3 KB\n"
     ]
    },
    {
     "data": {
      "text/html": [
       "<div>\n",
       "<style scoped>\n",
       "    .dataframe tbody tr th:only-of-type {\n",
       "        vertical-align: middle;\n",
       "    }\n",
       "\n",
       "    .dataframe tbody tr th {\n",
       "        vertical-align: top;\n",
       "    }\n",
       "\n",
       "    .dataframe thead th {\n",
       "        text-align: right;\n",
       "    }\n",
       "</style>\n",
       "<table border=\"1\" class=\"dataframe\">\n",
       "  <thead>\n",
       "    <tr style=\"text-align: right;\">\n",
       "      <th></th>\n",
       "      <th>mtipoinmueble</th>\n",
       "      <th>mvalorventa</th>\n",
       "      <th>marea</th>\n",
       "      <th>mnrocuartos</th>\n",
       "      <th>mnrobanos</th>\n",
       "      <th>mnrogarajes</th>\n",
       "      <th>mzona</th>\n",
       "      <th>mbarrio</th>\n",
       "      <th>mnombrecomunbarrio</th>\n",
       "    </tr>\n",
       "  </thead>\n",
       "  <tbody>\n",
       "    <tr>\n",
       "      <th>0</th>\n",
       "      <td>Apartamento</td>\n",
       "      <td>385000000</td>\n",
       "      <td>100.0</td>\n",
       "      <td>3.0</td>\n",
       "      <td>2.0</td>\n",
       "      <td>1.0</td>\n",
       "      <td>Chapinero</td>\n",
       "      <td>ALFONSO LOPEZ</td>\n",
       "      <td>GALERIAS</td>\n",
       "    </tr>\n",
       "    <tr>\n",
       "      <th>1</th>\n",
       "      <td>Apartamento</td>\n",
       "      <td>190810000</td>\n",
       "      <td>34.0</td>\n",
       "      <td>1.0</td>\n",
       "      <td>2.0</td>\n",
       "      <td>1.0</td>\n",
       "      <td>Norte</td>\n",
       "      <td>EL CODITO</td>\n",
       "      <td>EL REDIL</td>\n",
       "    </tr>\n",
       "    <tr>\n",
       "      <th>2</th>\n",
       "      <td>Apartamento</td>\n",
       "      <td>720000000</td>\n",
       "      <td>157.0</td>\n",
       "      <td>3.0</td>\n",
       "      <td>4.0</td>\n",
       "      <td>2.0</td>\n",
       "      <td>Noroccidente</td>\n",
       "      <td>NIZA SUBA</td>\n",
       "      <td>Cerros De Niza</td>\n",
       "    </tr>\n",
       "    <tr>\n",
       "      <th>4</th>\n",
       "      <td>Apartamento</td>\n",
       "      <td>1850000000</td>\n",
       "      <td>190.0</td>\n",
       "      <td>3.0</td>\n",
       "      <td>4.0</td>\n",
       "      <td>2.0</td>\n",
       "      <td>Norte</td>\n",
       "      <td>CERROS DE LOS ALPES</td>\n",
       "      <td>CERROS DE LOS ALPES</td>\n",
       "    </tr>\n",
       "    <tr>\n",
       "      <th>5</th>\n",
       "      <td>Apartamento</td>\n",
       "      <td>210000000</td>\n",
       "      <td>52.0</td>\n",
       "      <td>3.0</td>\n",
       "      <td>1.0</td>\n",
       "      <td>1.0</td>\n",
       "      <td>Noroccidente</td>\n",
       "      <td>GILMAR</td>\n",
       "      <td>COLINA GILMAR</td>\n",
       "    </tr>\n",
       "    <tr>\n",
       "      <th>...</th>\n",
       "      <td>...</td>\n",
       "      <td>...</td>\n",
       "      <td>...</td>\n",
       "      <td>...</td>\n",
       "      <td>...</td>\n",
       "      <td>...</td>\n",
       "      <td>...</td>\n",
       "      <td>...</td>\n",
       "      <td>...</td>\n",
       "    </tr>\n",
       "    <tr>\n",
       "      <th>9995</th>\n",
       "      <td>Apartamento</td>\n",
       "      <td>580000000</td>\n",
       "      <td>0.0</td>\n",
       "      <td>2.0</td>\n",
       "      <td>3.0</td>\n",
       "      <td>2.0</td>\n",
       "      <td>Norte</td>\n",
       "      <td>SANTA BARBARA OCCIDENTAL</td>\n",
       "      <td>Santa Barbara Occidental-Usaquén</td>\n",
       "    </tr>\n",
       "    <tr>\n",
       "      <th>9996</th>\n",
       "      <td>Casa</td>\n",
       "      <td>330000000</td>\n",
       "      <td>72.0</td>\n",
       "      <td>3.0</td>\n",
       "      <td>2.0</td>\n",
       "      <td>1.0</td>\n",
       "      <td>Norte</td>\n",
       "      <td>LA LIBERIA</td>\n",
       "      <td>LAS MARGARITAS</td>\n",
       "    </tr>\n",
       "    <tr>\n",
       "      <th>9997</th>\n",
       "      <td>Casa</td>\n",
       "      <td>1200000000</td>\n",
       "      <td>400.0</td>\n",
       "      <td>3.0</td>\n",
       "      <td>4.0</td>\n",
       "      <td>3.0</td>\n",
       "      <td>Norte</td>\n",
       "      <td>EL CONTADOR</td>\n",
       "      <td>El Contador</td>\n",
       "    </tr>\n",
       "    <tr>\n",
       "      <th>9998</th>\n",
       "      <td>Casa</td>\n",
       "      <td>642000000</td>\n",
       "      <td>191.0</td>\n",
       "      <td>4.0</td>\n",
       "      <td>4.0</td>\n",
       "      <td>2.0</td>\n",
       "      <td>Noroccidente</td>\n",
       "      <td>CIUDAD JARDIN NORTE</td>\n",
       "      <td>Gratamira</td>\n",
       "    </tr>\n",
       "    <tr>\n",
       "      <th>9999</th>\n",
       "      <td>Apartamento</td>\n",
       "      <td>380000000</td>\n",
       "      <td>79.3</td>\n",
       "      <td>3.0</td>\n",
       "      <td>2.0</td>\n",
       "      <td>2.0</td>\n",
       "      <td>Noroccidente</td>\n",
       "      <td>SANTA HELENA I</td>\n",
       "      <td>SANTA HELENA</td>\n",
       "    </tr>\n",
       "  </tbody>\n",
       "</table>\n",
       "<p>9616 rows × 9 columns</p>\n",
       "</div>"
      ],
      "text/plain": [
       "     mtipoinmueble  mvalorventa  marea  mnrocuartos  mnrobanos  mnrogarajes  \\\n",
       "0      Apartamento    385000000  100.0          3.0        2.0          1.0   \n",
       "1      Apartamento    190810000   34.0          1.0        2.0          1.0   \n",
       "2      Apartamento    720000000  157.0          3.0        4.0          2.0   \n",
       "4      Apartamento   1850000000  190.0          3.0        4.0          2.0   \n",
       "5      Apartamento    210000000   52.0          3.0        1.0          1.0   \n",
       "...            ...          ...    ...          ...        ...          ...   \n",
       "9995   Apartamento    580000000    0.0          2.0        3.0          2.0   \n",
       "9996          Casa    330000000   72.0          3.0        2.0          1.0   \n",
       "9997          Casa   1200000000  400.0          3.0        4.0          3.0   \n",
       "9998          Casa    642000000  191.0          4.0        4.0          2.0   \n",
       "9999   Apartamento    380000000   79.3          3.0        2.0          2.0   \n",
       "\n",
       "             mzona                   mbarrio                mnombrecomunbarrio  \n",
       "0        Chapinero             ALFONSO LOPEZ                          GALERIAS  \n",
       "1            Norte                 EL CODITO                          EL REDIL  \n",
       "2     Noroccidente                 NIZA SUBA                    Cerros De Niza  \n",
       "4            Norte       CERROS DE LOS ALPES               CERROS DE LOS ALPES  \n",
       "5     Noroccidente                    GILMAR                     COLINA GILMAR  \n",
       "...            ...                       ...                               ...  \n",
       "9995         Norte  SANTA BARBARA OCCIDENTAL  Santa Barbara Occidental-Usaquén  \n",
       "9996         Norte                LA LIBERIA                    LAS MARGARITAS  \n",
       "9997         Norte               EL CONTADOR                       El Contador  \n",
       "9998  Noroccidente       CIUDAD JARDIN NORTE                         Gratamira  \n",
       "9999  Noroccidente            SANTA HELENA I                      SANTA HELENA  \n",
       "\n",
       "[9616 rows x 9 columns]"
      ]
     },
     "execution_count": 12,
     "metadata": {},
     "output_type": "execute_result"
    }
   ],
   "source": [
    "# Las siguientes variables contienen valores 5+ indicando que hay mas de 5.\n",
    "# En tal caso se pasan a 6 y se convierte a tipo float\n",
    "datos['mnrocuartos'] = datos.mnrocuartos.apply(lambda x: 6 if x=='5+' else x).astype(float)\n",
    "datos['mnrobanos'] = datos.mnrobanos.apply(lambda x: 6 if x=='5+' else x).astype(float)\n",
    "\n",
    "# Las siguientes variables se pasan a tipo categórico\n",
    "datos['mzona'] = datos.mzona.astype('category')\n",
    "datos['mbarrio']= datos.mbarrio.astype('category')\n",
    "datos['mnombrecomunbarrio'] = datos.mnombrecomunbarrio.astype('category')\n",
    "datos['mtipoinmueble'] = datos.mtipoinmueble.astype('category')\n",
    "\n",
    "# Se muestra la información de las variables\n",
    "datos.info()\n",
    "\n",
    "# Se eliminan los registros que tengan al menos un valor nulo y la primer columna Unnamed: 0\n",
    "datos.dropna(inplace = True)\n",
    "datos.drop(columns = 'Unnamed: 0', inplace = True)\n",
    "\n",
    "# Y se presentan los datos\n",
    "datos"
   ]
  },
  {
   "cell_type": "markdown",
   "metadata": {},
   "source": [
    "### Para contabilizar los valores obtenidos con Unique\n",
    "En la primera opción se obtiene los valores en dos arreglos arreglo, la segunda ya te lo retorna completo. "
   ]
  },
  {
   "cell_type": "code",
   "execution_count": 14,
   "metadata": {},
   "outputs": [
    {
     "data": {
      "text/plain": [
       "(array([1., 2., 3., 4., 5., 6.]),\n",
       " array([ 798, 1889, 4862, 1491,  570,    6], dtype=int64))"
      ]
     },
     "execution_count": 14,
     "metadata": {},
     "output_type": "execute_result"
    }
   ],
   "source": [
    "np.unique(datos['mnrocuartos'], return_counts=True) # Retorna dos arreglos"
   ]
  },
  {
   "cell_type": "code",
   "execution_count": 15,
   "metadata": {},
   "outputs": [
    {
     "data": {
      "text/plain": [
       "3.0    4862\n",
       "2.0    1889\n",
       "4.0    1491\n",
       "1.0     798\n",
       "5.0     570\n",
       "6.0       6\n",
       "Name: mnrocuartos, dtype: int64"
      ]
     },
     "execution_count": 15,
     "metadata": {},
     "output_type": "execute_result"
    }
   ],
   "source": [
    "datos['mnrocuartos'].value_counts()"
   ]
  },
  {
   "cell_type": "markdown",
   "metadata": {
    "id": "M30N37ROhY7L"
   },
   "source": [
    "En seguida se muestran los gráfico univariados de algunas variables de la tabla de datos"
   ]
  },
  {
   "cell_type": "code",
   "execution_count": null,
   "metadata": {
    "colab": {
     "base_uri": "https://localhost:8080/",
     "height": 892
    },
    "id": "0P4nWLfPbEXh",
    "outputId": "deb962e5-34db-4bff-d9fe-c43d2a82dde3"
   },
   "outputs": [
    {
     "data": {
      "image/png": "[encoded data removed]",
      "text/plain": [
       "<Figure size 1080x1080 with 8 Axes>"
      ]
     },
     "metadata": {
      "needs_background": "light",
      "tags": []
     },
     "output_type": "display_data"
    }
   ],
   "source": [
    "fig, axs = plt.subplots(4,2, figsize=(15,15))\n",
    "datos.mtipoinmueble.value_counts().plot.bar(ax = axs[0,0], title = 'tipo inmueble')\n",
    "datos.mzona.value_counts().plot.bar(ax = axs[0,1], title = 'zona')\n",
    "datos.mnrocuartos.plot.hist(ax = axs[1,0], title = 'nro cuarto')\n",
    "datos.mnrobanos.plot.hist(ax = axs[1,1], title = 'nro baños')\n",
    "datos.mnrogarajes.plot.hist(ax = axs[2,0], title = 'nro garajes')\n",
    "datos.marea.plot.hist(ax = axs[2,1], title = 'area')\n",
    "datos.mvalorventa.plot.hist(ax = axs[3,0], title = 'valor')\n",
    "plt.show()"
   ]
  },
  {
   "cell_type": "code",
   "execution_count": null,
   "metadata": {
    "id": "fOg79FvEdHuv"
   },
   "outputs": [],
   "source": []
  },
  {
   "cell_type": "markdown",
   "metadata": {
    "id": "VxvWOCgcsxBW"
   },
   "source": [
    "## Actividad 1: Pronóstico del precio\n",
    "\n",
    "Se intuye que el precio se asocia al área. Por tal motivo se iniciará con un modelo de regresión lineal con el área como variable dependiente. La gráfica que representa estas dos variables es la siguiente."
   ]
  },
  {
   "cell_type": "code",
   "execution_count": null,
   "metadata": {
    "colab": {
     "base_uri": "https://localhost:8080/",
     "height": 302
    },
    "id": "F52znXiG7oPG",
    "outputId": "697b5c49-1b91-407f-b0a5-11cb183133ad"
   },
   "outputs": [
    {
     "data": {
      "text/plain": [
       "Text(0.5, 0, 'Area ($m^2$)')"
      ]
     },
     "execution_count": 5,
     "metadata": {
      "tags": []
     },
     "output_type": "execute_result"
    },
    {
     "data": {
      "image/png": "[encoded data removed]",
      "text/plain": [
       "<Figure size 432x288 with 1 Axes>"
      ]
     },
     "metadata": {
      "needs_background": "light",
      "tags": []
     },
     "output_type": "display_data"
    }
   ],
   "source": [
    "plt.plot(datos['marea'], datos['mvalorventa']/1e9, 'ro')\n",
    "plt.ylabel('Precio (miles de millones de pesos)')\n",
    "plt.xlabel('Area ($m^2$)')"
   ]
  },
  {
   "cell_type": "markdown",
   "metadata": {
    "id": "pE8d7JI8tZrj"
   },
   "source": [
    "Como se puede observar existen viviendas cuyo precio y área es muy alta en comparación con las demás y parece que no son representativas. Por tal motivo se filtran los datos para que no contengan estos registros."
   ]
  },
  {
   "cell_type": "code",
   "execution_count": null,
   "metadata": {
    "colab": {
     "base_uri": "https://localhost:8080/"
    },
    "id": "1smrtwOQ5Azb",
    "outputId": "f5f06a1f-4ead-42cd-e1e5-4540db949dd5"
   },
   "outputs": [
    {
     "name": "stdout",
     "output_type": "stream",
     "text": [
      "cantidad de registros en datos filtrados 8622\n"
     ]
    }
   ],
   "source": [
    "# Se crea el filtro\n",
    "filtro = (datos.mvalorventa < 1e10) & (datos.marea < 1750) & (datos.marea != 0 )\n",
    "\n",
    "# Se filtran los datos\n",
    "datos_filtro = datos[filtro]\n",
    "print('cantidad de registros en datos filtrados', len(datos_filtro))"
   ]
  },
  {
   "cell_type": "markdown",
   "metadata": {
    "id": "Odt_ZFm2eXJE"
   },
   "source": [
    "En seguida se presenta una gráfica de dispersión con los datos filtrados"
   ]
  },
  {
   "cell_type": "code",
   "execution_count": null,
   "metadata": {
    "colab": {
     "base_uri": "https://localhost:8080/",
     "height": 284
    },
    "id": "uUh8m3Ja37RS",
    "outputId": "47720c87-f9e2-464b-8573-2cd13223fec7"
   },
   "outputs": [
    {
     "data": {
      "image/png": "[encoded data removed]",
      "text/plain": [
       "<Figure size 432x288 with 1 Axes>"
      ]
     },
     "metadata": {
      "needs_background": "light",
      "tags": []
     },
     "output_type": "display_data"
    }
   ],
   "source": [
    "plt.plot(datos_filtro['marea'], datos_filtro['mvalorventa']/1e9, 'ro', alpha = 0.02)\n",
    "plt.ylabel('Precio (miles de millones de pesos)')\n",
    "plt.xlabel('Area ($m^2$)')\n",
    "plt.show()"
   ]
  },
  {
   "cell_type": "markdown",
   "metadata": {
    "id": "srIA9i3hyGCL"
   },
   "source": [
    "Ahora, podemos proponer un primer modelo lineal entre el precio y el área para este conjunto de datos. Se realizará de dos maneras diferentes. El método analítico usando la ecuación normal y el método aproximado usando el gradiente descendente."
   ]
  },
  {
   "cell_type": "markdown",
   "metadata": {
    "id": "oU1BIRTe7zW2"
   },
   "source": [
    "### **Ejercicio 1a**: Método analítico\n",
    "\n",
    "Realice un modelo de regresión lineal utilizando los siguientes métodos:\n",
    "\n",
    "1. Ecuación normal.\n",
    "2. Ecuación normal mediante el paquete `sklearn`.\n",
    "\n",
    "Reporte los parámetros $\\theta_0$ y $\\theta_1$ y explique su significado. Además realice algunas validaciones de pronóstico."
   ]
  },
  {
   "cell_type": "code",
   "execution_count": null,
   "metadata": {
    "id": "AZiPRFmv8lvA"
   },
   "outputs": [],
   "source": [
    "########################\n",
    "# Inserte su código aquí\n",
    "########################"
   ]
  },
  {
   "cell_type": "markdown",
   "metadata": {
    "id": "MSEAe8Oc8rWc"
   },
   "source": [
    "### **Ejercicio 1b**: Método por aproximación\n",
    "\n",
    "Ahora utilice la aproximación a la solución de la ecuación normal mediante el método Gradiente descendente. Aplique las siguientes técnicas:\n",
    "\n",
    "3. Batch Gradient Descendent.\n",
    "4. Stochastic Gradient Descendent.\n",
    "5. Mini-batch Gradient Descendent.\n",
    "\n",
    "Reporte $\\theta_0$ y $\\theta_1$, sus resultados deberían ser muy próximos a los reportados en el ejercicio 1a. Explique las diferencias entre estos métodos apoyándose en gráficas descriptivas.\n",
    "\n",
    "* **Nota 1**: Debe convertit la variable `y` (serie) a un arreglo `numpy`. Para hacerlo puede utilizar `y_ = y.to_numpy().reshape(-1,1)`\n",
    "* **Nota 2**: Debe ser cuidadoso con la selección del parámetro $\\alpha$."
   ]
  },
  {
   "cell_type": "code",
   "execution_count": null,
   "metadata": {
    "id": "bLiBhy4T9W5b"
   },
   "outputs": [],
   "source": [
    "########################\n",
    "# Inserte su código aquí\n",
    "########################"
   ]
  },
  {
   "cell_type": "markdown",
   "metadata": {
    "id": "J8lZ6PRF20HN"
   },
   "source": [
    "Aunque es un poco atrevido suponer que los datos tienen comportamiento polinómico, como ejercicio se desea realizar este modelo."
   ]
  },
  {
   "cell_type": "markdown",
   "metadata": {
    "id": "LYFSBGDh5bm6"
   },
   "source": [
    "### **Ejercicio 2**: Regresión polinómica\n",
    "\n",
    "Construya varios modelos polinómicos, eligiendo algunos grados desde 1 hasta 300. ¿Cuál modelo considera que representa mejor la información suministrada y por qué?"
   ]
  },
  {
   "cell_type": "code",
   "execution_count": null,
   "metadata": {
    "id": "apcqXiyN6vkJ"
   },
   "outputs": [],
   "source": [
    "########################\n",
    "# Inserte su código aquí\n",
    "########################"
   ]
  },
  {
   "cell_type": "markdown",
   "metadata": {
    "id": "gOIyC81p6wEj"
   },
   "source": [
    "#### Mejorando el modelo agregando más variables\n",
    "\n",
    "Ahora se incorporan más variables al modelo de regresión lineal simple seleccionando de manera adecuada la matriz de entrada $X$ y se evalúa su desempeño mediante el error cuadrático medio.\n",
    "\n"
   ]
  },
  {
   "cell_type": "code",
   "execution_count": null,
   "metadata": {
    "id": "gKWcTKo_fmBw"
   },
   "outputs": [],
   "source": [
    "# Esta función permite concatenar en una sola tabla las \n",
    "# variables numéricas y categóricas seleccionadas\n",
    "\n",
    "def tabla_con_variables_seleccionadas(num_columnas, cat_columnas):\n",
    "  \n",
    "  if cat_columnas != []: # Si se selecciona variables categóricas:\n",
    "    # Conviertalas en variables dummy\n",
    "    datos_filtro_dummies = pd.get_dummies(datos_filtro[cat_columnas],\n",
    "                                          drop_first=True)\n",
    "    # Concatene en una sola tabla\n",
    "    X = pd.concat([datos_filtro[num_columnas], datos_filtro_dummies],\n",
    "                  axis=1, sort=False)\n",
    "  \n",
    "  else: # Sino solo use las variables numéricas\n",
    "    X = datos_filtro[num_columnas].apply\n",
    "  \n",
    "  return X\n"
   ]
  },
  {
   "cell_type": "markdown",
   "metadata": {
    "id": "WEkpwQ0AJz2x"
   },
   "source": [
    "### **Ejercicio 3**:\n",
    "\n",
    "Pruebe varios modelos utilizando diferentes variables regresoras. Justifique la elección del modelo y mencione brevemente cada intento realizado."
   ]
  },
  {
   "cell_type": "code",
   "execution_count": null,
   "metadata": {
    "colab": {
     "base_uri": "https://localhost:8080/",
     "height": 743
    },
    "id": "Z6S77UIgByaU",
    "outputId": "f68f4edb-8eb9-4bad-8066-a8cb29472e6f"
   },
   "outputs": [
    {
     "data": {
      "text/plain": [
       "<seaborn.axisgrid.PairGrid at 0x7fe598dd3278>"
      ]
     },
     "execution_count": 177,
     "metadata": {
      "tags": []
     },
     "output_type": "execute_result"
    },
    {
     "data": {
      "image/png": "[encoded data removed]",
      "text/plain": [
       "<Figure size 720x720 with 20 Axes>"
      ]
     },
     "metadata": {
      "needs_background": "light",
      "tags": []
     },
     "output_type": "display_data"
    }
   ],
   "source": [
    "from sklearn.model_selection import train_test_split\n",
    "import seaborn as sns\n",
    "\n",
    "#######################################################\n",
    "## El ejericicio consiste en proponer algunas variables \n",
    "## numéricas y categóricas para mejorar el modelo.\n",
    "## En seguida selecciónelas y evalúe el modelo\n",
    "num_columnas = ['marea', 'mnrocuartos']\n",
    "cat_columnas = ['mtipoinmueble']\n",
    "#######################################################\n",
    "\n",
    "X = tabla_con_variables_seleccionadas(num_columnas, cat_columnas)\n",
    "y = datos_filtro['mvalorventa']\n",
    "\n",
    "# El gráfico pairs permite revisar los datos seleccionados\n",
    "sns.pairplot(pd.concat([X, y], axis=1))"
   ]
  },
  {
   "cell_type": "markdown",
   "metadata": {
    "id": "UccTdzYF6TCC"
   },
   "source": [
    "Una vez se han seleccionado las variables de entrada $X$ y la salida $y$, debemos evaluar el modelo. Existen distintos métodos estadísticos para hacerlo. \n",
    "\n",
    "Uno de los principales objetivos de Machine Learning es generar modelos de pronóstico. Por tal motivo una de las principales tareas es evaluar los modelos generados mediante la partición de los datos en entrenamiento (train) y evaluación (test).\n",
    "\n",
    "En seguida se utiliza la función `train_test_split` del paquete `sklearn`, la cual permite dividir los datos en un porcentaje dado por el parámetro `train_size`. Aquí se utilizó 80% de los datos para ajustar el modelo (entrenar) y el restante 20% para evaluar (testear)."
   ]
  },
  {
   "cell_type": "code",
   "execution_count": null,
   "metadata": {
    "id": "-ZwdHWDH7UJO"
   },
   "outputs": [],
   "source": [
    "X_train, X_test, y_train, y_test = train_test_split(X, y, train_size = 0.8)"
   ]
  },
  {
   "cell_type": "markdown",
   "metadata": {
    "id": "3Au49Gtf7ajP"
   },
   "source": [
    "Ahora, se realiza el modelo utilizando:\n",
    "1. Una estandarización de tal manera que la media de cada variable sea 0 y su desviación estándar 1. Esto permite un mejor rendimiento del algoritmo evitando que las variables con mayor escala tengan mayor importancia sobre las demás.\n",
    "2. Aplicando la clase `SGDRegressor` para ajustar el modelo lineal."
   ]
  },
  {
   "cell_type": "code",
   "execution_count": null,
   "metadata": {
    "colab": {
     "base_uri": "https://localhost:8080/",
     "height": 238
    },
    "id": "0wAj5CKTJ9mp",
    "outputId": "7662086a-b03b-4a8a-dfba-cf53b1048347"
   },
   "outputs": [
    {
     "data": {
      "text/plain": [
       "Pipeline(memory=None,\n",
       "         steps=[('standardscaler',\n",
       "                 StandardScaler(copy=True, with_mean=True, with_std=True)),\n",
       "                ('sgdregressor',\n",
       "                 SGDRegressor(alpha=0.0001, average=False, early_stopping=False,\n",
       "                              epsilon=0.1, eta0=0.01, fit_intercept=True,\n",
       "                              l1_ratio=0.15, learning_rate='invscaling',\n",
       "                              loss='squared_loss', max_iter=1000,\n",
       "                              n_iter_no_change=5, penalty='l2', power_t=0.25,\n",
       "                              random_state=None, shuffle=True, tol=0.001,\n",
       "                              validation_fraction=0.1, verbose=0,\n",
       "                              warm_start=False))],\n",
       "         verbose=False)"
      ]
     },
     "execution_count": 178,
     "metadata": {
      "tags": []
     },
     "output_type": "execute_result"
    }
   ],
   "source": [
    "import numpy as np\n",
    "from sklearn.linear_model import SGDRegressor\n",
    "from sklearn.pipeline import make_pipeline\n",
    "from sklearn.preprocessing import StandardScaler\n",
    "\n",
    "# Se realiza el modelo aplicando estandarización y regresión SGD\n",
    "modelo_reg = make_pipeline(StandardScaler(),\n",
    "                    SGDRegressor(max_iter=1000, tol=1e-3, eta0=0.01))\n",
    "\n",
    "# Se ajusta el modelo\n",
    "modelo_reg.fit(X_train, y_train)"
   ]
  },
  {
   "cell_type": "markdown",
   "metadata": {
    "id": "dReCxtmiCmQ2"
   },
   "source": [
    "Ahora se realiza el pronóstico sobre los datos de evaluación (testeo)."
   ]
  },
  {
   "cell_type": "code",
   "execution_count": null,
   "metadata": {
    "id": "R3epgcsdWb9q"
   },
   "outputs": [],
   "source": [
    "y_pred = modelo_reg.predict(X_test)"
   ]
  },
  {
   "cell_type": "markdown",
   "metadata": {
    "id": "Cgs82nUzDgU6"
   },
   "source": [
    "Y finalmente, se evalúa el desempeño del modelo mediante la función `mean_squared_error` de `sklearn`, la cual compara el precio real de la vivienda y su pronóstico.\n",
    "$$mean\\_squared\\_error = \\sqrt{\\frac{1}{n}\\sum\\left(y_{true} - y_{pred}\\right)^2}$$"
   ]
  },
  {
   "cell_type": "code",
   "execution_count": null,
   "metadata": {
    "colab": {
     "base_uri": "https://localhost:8080/",
     "height": 34
    },
    "id": "ebccTCXhWs7t",
    "outputId": "f2ee116d-8f97-4f1a-ccc4-bdc36c367215"
   },
   "outputs": [
    {
     "name": "stdout",
     "output_type": "stream",
     "text": [
      "El error cuadrático medio es: 0.71 miles de millones de pesos\n"
     ]
    }
   ],
   "source": [
    "from sklearn.metrics import mean_squared_error\n",
    "error = mean_squared_error(y_test, y_pred, squared=False)/1e9\n",
    "print('El error cuadrático medio es:', round(error,2), 'miles de millones de pesos')"
   ]
  },
  {
   "cell_type": "markdown",
   "metadata": {
    "id": "Zxl-56OrKvBX"
   },
   "source": [
    "Haga doble click en este espacio y llene la tabla con cada modelo intentado junto con su error cuadrático medio:\n",
    "\n",
    "Modelo                                    | error (miles de millones de pesos) |\n",
    "----------------------------------------- | ---------------------------------- |\n",
    "precio ~ marea+mnrocuartos+mtipoinmuelbe  | 0.71                               |\n",
    "precio ~ ??                               | ??                                 |\n",
    "precio ~ ??                               | ??                                 |\n",
    "precio ~ ??                               | ??                                 |\n",
    "precio ~ ??                               | ??                                 |\n"
   ]
  },
  {
   "cell_type": "markdown",
   "metadata": {
    "id": "pK7XiGMwZq5g"
   },
   "source": [
    "## Actividad 2: Pronosticando el tipo de inmueble\n",
    "\n",
    "Se pretende pronosticar el tipo de inmueble aplicando regresión logística (solo hay dos categorías: apartamento (1) o casa (0)).\n",
    "\n",
    "![](https://qph.fs.quoracdn.net/main-qimg-e3de09c45ef1d984d0636d7467b06713)"
   ]
  },
  {
   "cell_type": "markdown",
   "metadata": {
    "id": "KKbDeuLCg2cC"
   },
   "source": [
    "### **Ejercicio 4**:\n",
    "\n",
    "Ahora, a partir de los demás datos, se construirá un modelo de regresión logística que encuentre el tipo de inmueble: casa o apartamento."
   ]
  },
  {
   "cell_type": "code",
   "execution_count": null,
   "metadata": {
    "colab": {
     "base_uri": "https://localhost:8080/",
     "height": 102
    },
    "id": "oB3Y3LwshRv_",
    "outputId": "40b7c9cf-ccda-4672-afae-a1b2e19772e0"
   },
   "outputs": [
    {
     "data": {
      "text/plain": [
       "LogisticRegression(C=1.0, class_weight=None, dual=False, fit_intercept=True,\n",
       "                   intercept_scaling=1, l1_ratio=None, max_iter=100,\n",
       "                   multi_class='auto', n_jobs=None, penalty='l2',\n",
       "                   random_state=None, solver='lbfgs', tol=0.0001, verbose=0,\n",
       "                   warm_start=False)"
      ]
     },
     "execution_count": 199,
     "metadata": {
      "tags": []
     },
     "output_type": "execute_result"
    }
   ],
   "source": [
    "from sklearn.linear_model import LogisticRegression\n",
    "\n",
    "#######################################################\n",
    "## El ejercicio consiste en proponer algunas variables \n",
    "## para mejorar el modelo.\n",
    "## En seguida selecciónelas y evalúe el modelo\n",
    "num_columnas = ['mvalorventa']\n",
    "#######################################################\n",
    "X2 = datos_filtro[num_columnas]\n",
    "y2 = datos_filtro['mtipoinmueble']\n",
    "\n",
    "X2_train, X2_test, y2_train, y2_test = train_test_split(X2, y2, train_size = 0.8)\n",
    "\n",
    "modelo_log = LogisticRegression(solver=\"lbfgs\")\n",
    "modelo_log.fit(X2_train, y2_train)"
   ]
  },
  {
   "cell_type": "markdown",
   "metadata": {
    "id": "Ka6gWMBCM9mH"
   },
   "source": [
    "En seguida se realiza el pronóstico"
   ]
  },
  {
   "cell_type": "code",
   "execution_count": null,
   "metadata": {
    "colab": {
     "base_uri": "https://localhost:8080/",
     "height": 51
    },
    "id": "Vb7WK4eoiGAu",
    "outputId": "c7619ce4-47d8-499c-ba65-9c6b98b19262"
   },
   "outputs": [
    {
     "data": {
      "text/plain": [
       "array(['Apartamento', 'Apartamento', 'Apartamento', ..., 'Apartamento',\n",
       "       'Apartamento', 'Apartamento'], dtype=object)"
      ]
     },
     "execution_count": 205,
     "metadata": {
      "tags": []
     },
     "output_type": "execute_result"
    }
   ],
   "source": [
    "y2_pred = modelo_log.predict(X2_test)\n",
    "y2_pred"
   ]
  },
  {
   "cell_type": "markdown",
   "metadata": {
    "id": "Ct_lBjXZNK1e"
   },
   "source": [
    "Al igual que la regresión lineal tiene una métrica para evaluar su desempeño del pronóstico, la regresión logística utiliza métricas de evaluación para la tarea de clasificación. Una de las más utilizadas es la [matriz de confusión](https://en.wikipedia.org/wiki/Confusion_matrix). Es una tabla de contingencia que evalúa la cantidad de Falsos Positivos (FP), Falsos Negativos (FN), Verdaderos Positivos (TP) y Verdaderos Negativos (TN).\n",
    "\n",
    "La siguiente [función](https://github.com/DTrimarchi10/confusion_matrix) realiza la matriz de confusión y calcula algunas métricas importantes para evaluar el modelo."
   ]
  },
  {
   "cell_type": "code",
   "execution_count": null,
   "metadata": {
    "id": "Nr4xFHDkoiKG"
   },
   "outputs": [],
   "source": [
    "# Esta función es modificada de https://github.com/DTrimarchi10/confusion_matrix\n",
    "def make_confusion_matrix(cf,\n",
    "                          group_names=None,\n",
    "                          categories='auto',\n",
    "                          count=True,\n",
    "                          percent=True,\n",
    "                          cbar=True,\n",
    "                          xyticks=True,\n",
    "                          xyplotlabels=True,\n",
    "                          sum_stats=True,\n",
    "                          figsize=None,\n",
    "                          cmap='Blues',\n",
    "                          title=None):\n",
    "    \n",
    "    blanks = ['' for i in range(cf.size)]\n",
    "\n",
    "    if group_names and len(group_names)==cf.size:\n",
    "        group_labels = [\"{}\\n\".format(value) for value in group_names]\n",
    "    else:\n",
    "        group_labels = blanks\n",
    "\n",
    "    if count:\n",
    "        group_counts = [\"{0:0.0f}\\n\".format(value) for value in cf.flatten()]\n",
    "    else:\n",
    "        group_counts = blanks\n",
    "\n",
    "    if percent:\n",
    "        group_percentages = [\"{0:.2%}\".format(value) for value in cf.flatten()/np.sum(cf)]\n",
    "    else:\n",
    "        group_percentages = blanks\n",
    "\n",
    "    box_labels = [f\"{v1}{v2}{v3}\".strip() for v1, v2, v3 in zip(group_labels,group_counts,group_percentages)]\n",
    "    box_labels = np.asarray(box_labels).reshape(cf.shape[0],cf.shape[1])\n",
    "\n",
    "    if sum_stats:\n",
    "        #Accuracy is sum of diagonal divided by total observations\n",
    "        accuracy  = np.trace(cf) / float(np.sum(cf))\n",
    "\n",
    "        #if it is a binary confusion matrix, show some more stats\n",
    "        if len(cf)==2:\n",
    "            #Metrics for Binary Confusion Matrices\n",
    "            precision = cf[1,1] / sum(cf[:,1])\n",
    "            recall    = cf[1,1] / sum(cf[1,:])\n",
    "            f1_score  = 2*precision*recall / (precision + recall)\n",
    "            stats_text = \"\\n\\nAccuracy={:0.3f}\\nPrecision={:0.3f}\\nRecall={:0.3f}\\nF1 Score={:0.3f}\".format(\n",
    "                accuracy,precision,recall,f1_score)\n",
    "        else:\n",
    "            stats_text = \"\\n\\nAccuracy={:0.3f}\".format(accuracy)\n",
    "    else:\n",
    "        stats_text = \"\"\n",
    "\n",
    "    if figsize==None:\n",
    "        #Get default figure size if not set\n",
    "        figsize = plt.rcParams.get('figure.figsize')\n",
    "\n",
    "    if xyticks==False:\n",
    "        #Do not show categories if xyticks is False\n",
    "        categories=False\n",
    "\n",
    "    plt.figure(figsize=figsize)\n",
    "    sns.heatmap(cf,annot=box_labels,fmt=\"\",cmap=cmap,cbar=cbar,xticklabels=categories,yticklabels=categories)\n",
    "\n",
    "    if xyplotlabels:\n",
    "        plt.ylabel('True label')\n",
    "        plt.xlabel('Predicted label' + stats_text)\n",
    "    else:\n",
    "        plt.xlabel(stats_text)\n",
    "    \n",
    "    if title:\n",
    "        plt.title(title)"
   ]
  },
  {
   "cell_type": "code",
   "execution_count": null,
   "metadata": {
    "colab": {
     "base_uri": "https://localhost:8080/",
     "height": 354
    },
    "id": "bYvi-OsDif73",
    "outputId": "7564f43c-65db-42db-a33c-b01022fde152"
   },
   "outputs": [
    {
     "name": "stderr",
     "output_type": "stream",
     "text": [
      "/usr/local/lib/python3.6/dist-packages/ipykernel_launcher.py:42: RuntimeWarning: invalid value encountered in long_scalars\n"
     ]
    },
    {
     "data": {
      "image/png": "[encoded data removed]",
      "text/plain": [
       "<Figure size 432x288 with 2 Axes>"
      ]
     },
     "metadata": {
      "needs_background": "light",
      "tags": []
     },
     "output_type": "display_data"
    }
   ],
   "source": [
    "from sklearn.metrics import confusion_matrix\n",
    "cf = confusion_matrix(y2_test, y2_pred)\n",
    "make_confusion_matrix(cf, group_names=['TN', 'FP', 'FN', 'TP'])"
   ]
  },
  {
   "cell_type": "markdown",
   "metadata": {
    "id": "AXc0jhJFSxGE"
   },
   "source": [
    "Como puede observar la variable `mvalorventa` no es una buena variable regresora para el tipo de inmueble (casa o apartamento). Se observa en la matriz de confusión que el _Accuracy_ es alrededor de 0.8 pero la cantidad de Falsos Negativos es muy elevada (todo lo pronostica como apartamento). Esto nos deja una gran moraleja un _Accuracy_ alto no implica que el modelo sea bueno para pronóstico. Por tal motivo, el F1-score es una excelente métrica que tiene en cuenta los FP y FN. \n",
    "* Si F1-score es 0 el modelo es pésimo.\n",
    "* Si F1-score es 1 el modelo es excelente.\n",
    "\n",
    "Además, existen otros métodos de evaluación del desempeño del modelo como la curva ROC que se verán más adelante."
   ]
  },
  {
   "cell_type": "markdown",
   "metadata": {
    "id": "QwJWTIdXPGrZ"
   },
   "source": [
    "Haga doble click en este espacio y llene la tabla con cada modelo intentado junto con su accuracy:\n",
    "\n",
    "Modelo                                    | accuracy  | F1 Score  |\n",
    "----------------------------------------- | --------- | --------- |\n",
    "logit(P(mtipoinmueble)) ~ mvalorventa     | 0.79      | nan       |\n",
    "logit(P(mtipoinmueble)) ~ ??              | ??        | ??        |\n",
    "logit(P(mtipoinmueble)) ~ ??              | ??        | ??        |\n",
    "logit(P(mtipoinmueble)) ~ ??              | ??        | ??        |\n",
    "logit(P(mtipoinmueble)) ~ ??              | ??        | ??        |\n"
   ]
  },
  {
   "cell_type": "markdown",
   "metadata": {
    "id": "OSXvKB1TZ8PQ"
   },
   "source": [
    "## Actividad 3: Pronosticando zona\n",
    "Finalmente se prentende pronosticar la zona usando otras variables regresoras.\n",
    "![](https://www.acueducto.com.co/arcgis/rest/services/Zonas/MapServer/export?dpi=96&transparent=true&format=png32&layers=show%3A0&bbox=-8274619.938500348%2C490500.75143128633%2C-8218820.907852245%2C546299.7820793898&bboxSR=102100&imageSR=102100&size=730%2C730&f=image)"
   ]
  },
  {
   "cell_type": "markdown",
   "metadata": {
    "id": "icrsfdVBpod_"
   },
   "source": [
    "**Ejercicio 5**: Clasificación de la zona\n",
    "\n",
    "En este ejercicio, deberá clasificar la zona (`mzona`) a partir de las demás variables generando el mejor modelo de pronóstico, reportando la matriz de confusión y métricas de evaluación de sus resultados."
   ]
  },
  {
   "cell_type": "code",
   "execution_count": null,
   "metadata": {
    "id": "gjdyvEl2W9Lu"
   },
   "outputs": [],
   "source": [
    "###################################\n",
    "## Inserte su código aquí\n",
    "###################################"
   ]
  },
  {
   "cell_type": "markdown",
   "metadata": {
    "id": "j3C_dV21Y0Nn"
   },
   "source": [
    "Interprete sus resultados aquí"
   ]
  }
 ],
 "metadata": {
  "colab": {
   "collapsed_sections": [],
   "name": "A01 - Modelos de pronóstico en el sector inmobiliario de Bogotá.ipynb",
   "provenance": []
  },
  "kernelspec": {
   "display_name": "Python 3",
   "language": "python",
   "name": "python3"
  },
  "language_info": {
   "codemirror_mode": {
    "name": "ipython",
    "version": 3
   },
   "file_extension": ".py",
   "mimetype": "text/x-python",
   "name": "python",
   "nbconvert_exporter": "python",
   "pygments_lexer": "ipython3",
   "version": "3.8.8"
  }
 },
 "nbformat": 4,
 "nbformat_minor": 1
}
