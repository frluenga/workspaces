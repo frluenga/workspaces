{
 "cells": [
  {
   "cell_type": "code",
   "execution_count": 1,
   "id": "82852689",
   "metadata": {},
   "outputs": [],
   "source": [
    "import sklearn\n",
    "import numpy as np\n",
    "import pandas as pd\n",
    "import matplotlib.pyplot as plt\n",
    "from sklearn.datasets import load_iris\n",
    "from scipy import stats\n",
    "import seaborn as sns\n",
    "%matplotlib inline"
   ]
  },
  {
   "cell_type": "code",
   "execution_count": 3,
   "id": "f272b1ee",
   "metadata": {},
   "outputs": [
    {
     "data": {
      "text/plain": [
       "0.00013383022576488537"
      ]
     },
     "execution_count": 3,
     "metadata": {},
     "output_type": "execute_result"
    }
   ],
   "source": [
    "from scipy.stats import norm\n",
    "x1 = 3\n",
    "\n",
    "mu1 = 4\n",
    "mu2 = 7\n",
    "sigma = 1\n",
    "\n",
    "p_muestra = norm.pdf(x1,mu2,sigma)\n",
    "p_muestra"
   ]
  },
  {
   "cell_type": "markdown",
   "id": "bc07478e",
   "metadata": {},
   "source": [
    "## La ocurrencia de dos eventos simultaneos:\n",
    "Se calcula aplicando la multiplicación entre los dos eventos."
   ]
  },
  {
   "cell_type": "code",
   "execution_count": 5,
   "id": "3c31a070",
   "metadata": {},
   "outputs": [
    {
     "data": {
      "text/plain": [
       "5.931152735254122e-07"
      ]
     },
     "execution_count": 5,
     "metadata": {},
     "output_type": "execute_result"
    }
   ],
   "source": [
    "from scipy.stats import norm\n",
    "x1 = 3\n",
    "x2 = 10\n",
    "\n",
    "mu1 = 4\n",
    "mu2 = 7\n",
    "sigma = 1\n",
    "\n",
    "p_muestra = norm.pdf(x1,mu2,sigma)* norm.pdf(x2,mu2,sigma)\n",
    "p_muestra"
   ]
  },
  {
   "cell_type": "code",
   "execution_count": 6,
   "id": "1dfa648a",
   "metadata": {},
   "outputs": [],
   "source": [
    "muestra_10 = norm.rvs(5,sigma,size = 10)"
   ]
  },
  {
   "cell_type": "code",
   "execution_count": 11,
   "id": "64119bba",
   "metadata": {},
   "outputs": [],
   "source": [
    "data1 = norm.rvs(mu1,sigma,size = 100000)\n",
    "data2 = norm.rvs(mu2,sigma,size = 100000)"
   ]
  },
  {
   "cell_type": "code",
   "execution_count": 20,
   "id": "21dd26cc",
   "metadata": {},
   "outputs": [
    {
     "data": {
      "text/plain": [
       "<matplotlib.collections.PathCollection at 0x1788f50e6d0>"
      ]
     },
     "execution_count": 20,
     "metadata": {},
     "output_type": "execute_result"
    },
    {
     "data": {
      "image/png": "[encoded data removed]",
      "text/plain": [
       "<Figure size 432x288 with 1 Axes>"
      ]
     },
     "metadata": {
      "needs_background": "light"
     },
     "output_type": "display_data"
    }
   ],
   "source": [
    "ax = sns.distplot(data1,bins = 50,color='blue',kde = False)\n",
    "ax.set(xlabel='Distribución normal mu1',ylabel = 'Frecuencia')\n",
    "\n",
    "ax = sns.distplot(data2,bins = 50,color='red',kde = False)\n",
    "ax.set(xlabel='Distribución normal mu1',ylabel = 'Frecuencia')\n",
    "\n",
    "ax.scatter(muestra_10,y,c='k')"
   ]
  },
  {
   "cell_type": "code",
   "execution_count": 16,
   "id": "82623a06",
   "metadata": {},
   "outputs": [],
   "source": [
    "muestra_10\n",
    "y = list()\n",
    "\n",
    "for i in range(10):\n",
    "    y.append(3000)"
   ]
  }
 ],
 "metadata": {
  "kernelspec": {
   "display_name": "Python 3",
   "language": "python",
   "name": "python3"
  },
  "language_info": {
   "codemirror_mode": {
    "name": "ipython",
    "version": 3
   },
   "file_extension": ".py",
   "mimetype": "text/x-python",
   "name": "python",
   "nbconvert_exporter": "python",
   "pygments_lexer": "ipython3",
   "version": "3.8.8"
  }
 },
 "nbformat": 4,
 "nbformat_minor": 5
}
