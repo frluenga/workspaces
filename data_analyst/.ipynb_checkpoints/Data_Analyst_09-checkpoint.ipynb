{
 "cells": [
  {
   "cell_type": "code",
   "execution_count": 1,
   "id": "1984904d",
   "metadata": {},
   "outputs": [],
   "source": [
    "import matplotlib.pyplot as plt\n",
    "from IPython.core.display import Image\n",
    "import seaborn as sns\n",
    "\n",
    "%matplotlib inline"
   ]
  },
  {
   "cell_type": "code",
   "execution_count": 3,
   "id": "330a1fb7",
   "metadata": {},
   "outputs": [
    {
     "data": {
      "image/png": "[encoded data removed]",
      "text/plain": [
       "<Figure size 432x288 with 1 Axes>"
      ]
     },
     "metadata": {
      "needs_background": "light"
     },
     "output_type": "display_data"
    }
   ],
   "source": [
    "from scipy.stats import t\n",
    "\n",
    "data1 = t.rvs(100,size = 100000)\n",
    "data2 = t.rvs(50, size = 100000)\n",
    "\n",
    "ax = sns.distplot(data2,bins = 500, kde = False, color = 'blue')\n",
    "ax = sns.distplot(data1,bins = 500, kde = False, color = 'red')"
   ]
  },
  {
   "cell_type": "code",
   "execution_count": 4,
   "id": "9d8fc5eb",
   "metadata": {},
   "outputs": [
    {
     "data": {
      "image/png": "[encoded data removed]",
      "text/plain": [
       "<Figure size 432x288 with 1 Axes>"
      ]
     },
     "metadata": {
      "needs_background": "light"
     },
     "output_type": "display_data"
    }
   ],
   "source": [
    "from scipy.stats import chi2\n",
    "\n",
    "data1 = chi2.rvs(5, size = 100000)\n",
    "data2 = chi2.rvs(15, size = 100000)\n",
    "\n",
    "ax = sns.distplot(data2,bins = 500, kde = False, color = 'blue')\n",
    "ax = sns.distplot(data1,bins = 500, kde = False, color = 'red')\n"
   ]
  },
  {
   "cell_type": "code",
   "execution_count": 6,
   "id": "d976cd63",
   "metadata": {},
   "outputs": [
    {
     "data": {
      "image/png": "[encoded data removed]",
      "text/plain": [
       "<Figure size 432x288 with 1 Axes>"
      ]
     },
     "metadata": {
      "needs_background": "light"
     },
     "output_type": "display_data"
    }
   ],
   "source": [
    "from scipy.stats import f\n",
    "\n",
    "data1 = f.rvs(5, 25, size = 100000)\n",
    "data2 = f.rvs(15, 25, size = 100000)\n",
    "\n",
    "ax = sns.distplot(data2,bins = 500, kde = False, color = 'blue')\n",
    "ax = sns.distplot(data1,bins = 500, kde = False, color = 'red')"
   ]
  },
  {
   "cell_type": "markdown",
   "id": "3eaf2c6b",
   "metadata": {},
   "source": [
    "## Calculos de probabilidad:"
   ]
  },
  {
   "cell_type": "code",
   "execution_count": 7,
   "id": "1c3bfd4c",
   "metadata": {},
   "outputs": [
    {
     "data": {
      "text/plain": [
       "0.0019800859524222187"
      ]
     },
     "execution_count": 7,
     "metadata": {},
     "output_type": "execute_result"
    }
   ],
   "source": [
    "f.pdf(4,15,25)"
   ]
  },
  {
   "cell_type": "code",
   "execution_count": 8,
   "id": "fb326afc",
   "metadata": {},
   "outputs": [
    {
     "data": {
      "text/plain": [
       "0.9988900520089906"
      ]
     },
     "execution_count": 8,
     "metadata": {},
     "output_type": "execute_result"
    }
   ],
   "source": [
    "f.cdf(4,15,25)"
   ]
  },
  {
   "cell_type": "code",
   "execution_count": 10,
   "id": "e871386d",
   "metadata": {},
   "outputs": [
    {
     "data": {
      "text/plain": [
       "0.9988900520089906"
      ]
     },
     "execution_count": 10,
     "metadata": {},
     "output_type": "execute_result"
    }
   ],
   "source": [
    "f.cdf(4,15,25)"
   ]
  },
  {
   "cell_type": "markdown",
   "id": "ec351766",
   "metadata": {},
   "source": [
    "A continuación demostramos el metodo para hallar un valor que se encuentra entre\n",
    "los datos con una probabilidad acumulada de casi el 99% "
   ]
  },
  {
   "cell_type": "code",
   "execution_count": 11,
   "id": "837d49c6",
   "metadata": {},
   "outputs": [
    {
     "data": {
      "text/plain": [
       "4.000000000000022"
      ]
     },
     "execution_count": 11,
     "metadata": {},
     "output_type": "execute_result"
    }
   ],
   "source": [
    "f.ppf(0.9988900520089906,15,25)"
   ]
  },
  {
   "cell_type": "markdown",
   "id": "1da37134",
   "metadata": {},
   "source": [
    "Aqui se encuentra el valor que tiene una probabilidad acumulada del 50%"
   ]
  },
  {
   "cell_type": "code",
   "execution_count": 14,
   "id": "95d2c9ca",
   "metadata": {},
   "outputs": [
    {
     "data": {
      "text/plain": [
       "0.982011155699839"
      ]
     },
     "execution_count": 14,
     "metadata": {},
     "output_type": "execute_result"
    }
   ],
   "source": [
    "f.ppf(0.5,15,25)"
   ]
  },
  {
   "cell_type": "code",
   "execution_count": null,
   "id": "8f5c252a",
   "metadata": {},
   "outputs": [],
   "source": []
  }
 ],
 "metadata": {
  "kernelspec": {
   "display_name": "Python 3",
   "language": "python",
   "name": "python3"
  },
  "language_info": {
   "codemirror_mode": {
    "name": "ipython",
    "version": 3
   },
   "file_extension": ".py",
   "mimetype": "text/x-python",
   "name": "python",
   "nbconvert_exporter": "python",
   "pygments_lexer": "ipython3",
   "version": "3.8.8"
  }
 },
 "nbformat": 4,
 "nbformat_minor": 5
}
