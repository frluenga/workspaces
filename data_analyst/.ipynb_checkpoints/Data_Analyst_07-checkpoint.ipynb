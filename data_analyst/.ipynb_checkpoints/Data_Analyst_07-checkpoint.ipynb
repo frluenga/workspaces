{
 "cells": [
  {
   "cell_type": "markdown",
   "id": "4a4dd650",
   "metadata": {},
   "source": [
    "## Estandarización o tificación de variables\n",
    "Media cero y desviación 1, se lleva a cabo una conversión de la variable a un plano adimensional. \n",
    "\n",
    "Por ejemplo la covarianza es una magnitud no estandarizada y la variable estandarizada es la correlación"
   ]
  },
  {
   "cell_type": "code",
   "execution_count": 2,
   "id": "167de13f",
   "metadata": {},
   "outputs": [],
   "source": [
    "import numpy as np\n",
    "import pandas as pd\n",
    "import matplotlib.pyplot as plt\n",
    "import seaborn as sns\n",
    "\n",
    "%matplotlib inline"
   ]
  },
  {
   "cell_type": "code",
   "execution_count": 3,
   "id": "eec5c4bf",
   "metadata": {},
   "outputs": [],
   "source": [
    "df = pd.read_csv('iris-data.csv',index_col = 0)"
   ]
  },
  {
   "cell_type": "code",
   "execution_count": 4,
   "id": "94a6c3a4",
   "metadata": {},
   "outputs": [
    {
     "data": {
      "text/plain": [
       "Index(['lar.sepalo', 'anc.sepalo', 'lar.petalo', 'anc.petalo', 'tipo_flor'], dtype='object')"
      ]
     },
     "execution_count": 4,
     "metadata": {},
     "output_type": "execute_result"
    }
   ],
   "source": [
    "df.columns"
   ]
  },
  {
   "cell_type": "code",
   "execution_count": 6,
   "id": "5679cc3c",
   "metadata": {},
   "outputs": [
    {
     "data": {
      "text/plain": [
       "0.0    50\n",
       "2.0    50\n",
       "1.0    50\n",
       "Name: tipo_flor, dtype: int64"
      ]
     },
     "execution_count": 6,
     "metadata": {},
     "output_type": "execute_result"
    }
   ],
   "source": [
    "df.tipo_flor.value_counts()"
   ]
  },
  {
   "cell_type": "code",
   "execution_count": 7,
   "id": "a88f0b0b",
   "metadata": {},
   "outputs": [],
   "source": [
    "y = df['lar.petalo']"
   ]
  },
  {
   "cell_type": "code",
   "execution_count": 19,
   "id": "627b7bab",
   "metadata": {},
   "outputs": [
    {
     "data": {
      "text/plain": [
       "<matplotlib.legend.Legend at 0x13acc8cdd00>"
      ]
     },
     "execution_count": 19,
     "metadata": {},
     "output_type": "execute_result"
    },
    {
     "data": {
      "image/png": "[encoded data removed]",
      "text/plain": [
       "<Figure size 432x288 with 1 Axes>"
      ]
     },
     "metadata": {
      "needs_background": "light"
     },
     "output_type": "display_data"
    }
   ],
   "source": [
    "fig,ax = plt.subplots()\n",
    "ax.set_title('Variable Original')\n",
    "ax.hist(y - np.mean(y)/ np.std(y),bins=30)\n",
    "ax.axvline(x=np.mean(y - np.mean(y))/ np.std(y),c = 'k',label='Media',linestyle='--')\n",
    "ax.axvline(x=(np.mean(y - np.mean(y))/ np.std(y)) - np.std((y - np.mean(y))/ np.std(y)),c='r',label='Media - Desv.std',linestyle = '--')\n",
    "ax.axvline(x=np.mean((np.mean(y - np.mean(y))/np.std(y))) + np.std((y - np.mean(y))/ np.std(y)),c='g',label='Media + Desv.std',linestyle = '--')\n",
    "ax.legend()"
   ]
  },
  {
   "cell_type": "code",
   "execution_count": 22,
   "id": "13679a21",
   "metadata": {},
   "outputs": [
    {
     "data": {
      "image/png": "[encoded data removed]",
      "text/plain": [
       "<Figure size 432x288 with 1 Axes>"
      ]
     },
     "metadata": {
      "needs_background": "light"
     },
     "output_type": "display_data"
    }
   ],
   "source": [
    "fig,ax = plt.subplots()\n",
    "ax.scatter(df['lar.petalo'],df['lar.sepalo'],alpha = 0.7)\n",
    "ax.set(xlabel = 'lar.petalo',ylabel='lar.sepalo')\n",
    "ax.autoscale()"
   ]
  },
  {
   "cell_type": "code",
   "execution_count": 24,
   "id": "1175318a",
   "metadata": {},
   "outputs": [
    {
     "data": {
      "text/plain": [
       "array([[3.11627785, 1.27431544],\n",
       "       [1.27431544, 0.68569351]])"
      ]
     },
     "execution_count": 24,
     "metadata": {},
     "output_type": "execute_result"
    }
   ],
   "source": [
    "np.cov(df['lar.petalo'],df['lar.sepalo']) # Matriz x y, matriz de confusión"
   ]
  },
  {
   "cell_type": "code",
   "execution_count": 25,
   "id": "d53fbdb0",
   "metadata": {},
   "outputs": [
    {
     "data": {
      "text/html": [
       "<div>\n",
       "<style scoped>\n",
       "    .dataframe tbody tr th:only-of-type {\n",
       "        vertical-align: middle;\n",
       "    }\n",
       "\n",
       "    .dataframe tbody tr th {\n",
       "        vertical-align: top;\n",
       "    }\n",
       "\n",
       "    .dataframe thead th {\n",
       "        text-align: right;\n",
       "    }\n",
       "</style>\n",
       "<table border=\"1\" class=\"dataframe\">\n",
       "  <thead>\n",
       "    <tr style=\"text-align: right;\">\n",
       "      <th></th>\n",
       "      <th>lar.sepalo</th>\n",
       "      <th>anc.sepalo</th>\n",
       "      <th>lar.petalo</th>\n",
       "      <th>anc.petalo</th>\n",
       "      <th>tipo_flor</th>\n",
       "    </tr>\n",
       "  </thead>\n",
       "  <tbody>\n",
       "    <tr>\n",
       "      <th>lar.sepalo</th>\n",
       "      <td>1.000000</td>\n",
       "      <td>-0.166778</td>\n",
       "      <td>0.881898</td>\n",
       "      <td>0.834289</td>\n",
       "      <td>0.798078</td>\n",
       "    </tr>\n",
       "    <tr>\n",
       "      <th>anc.sepalo</th>\n",
       "      <td>-0.166778</td>\n",
       "      <td>1.000000</td>\n",
       "      <td>-0.309635</td>\n",
       "      <td>-0.289032</td>\n",
       "      <td>-0.440290</td>\n",
       "    </tr>\n",
       "    <tr>\n",
       "      <th>lar.petalo</th>\n",
       "      <td>0.881898</td>\n",
       "      <td>-0.309635</td>\n",
       "      <td>1.000000</td>\n",
       "      <td>0.937667</td>\n",
       "      <td>0.935431</td>\n",
       "    </tr>\n",
       "    <tr>\n",
       "      <th>anc.petalo</th>\n",
       "      <td>0.834289</td>\n",
       "      <td>-0.289032</td>\n",
       "      <td>0.937667</td>\n",
       "      <td>1.000000</td>\n",
       "      <td>0.938179</td>\n",
       "    </tr>\n",
       "    <tr>\n",
       "      <th>tipo_flor</th>\n",
       "      <td>0.798078</td>\n",
       "      <td>-0.440290</td>\n",
       "      <td>0.935431</td>\n",
       "      <td>0.938179</td>\n",
       "      <td>1.000000</td>\n",
       "    </tr>\n",
       "  </tbody>\n",
       "</table>\n",
       "</div>"
      ],
      "text/plain": [
       "            lar.sepalo  anc.sepalo  lar.petalo  anc.petalo  tipo_flor\n",
       "lar.sepalo    1.000000   -0.166778    0.881898    0.834289   0.798078\n",
       "anc.sepalo   -0.166778    1.000000   -0.309635   -0.289032  -0.440290\n",
       "lar.petalo    0.881898   -0.309635    1.000000    0.937667   0.935431\n",
       "anc.petalo    0.834289   -0.289032    0.937667    1.000000   0.938179\n",
       "tipo_flor     0.798078   -0.440290    0.935431    0.938179   1.000000"
      ]
     },
     "execution_count": 25,
     "metadata": {},
     "output_type": "execute_result"
    }
   ],
   "source": [
    "df.corr(method = 'spearman')"
   ]
  },
  {
   "cell_type": "code",
   "execution_count": 28,
   "id": "495285d6",
   "metadata": {},
   "outputs": [],
   "source": [
    "corr = df.corr(method = 'kendall') # No mide relaciones lineales"
   ]
  },
  {
   "cell_type": "code",
   "execution_count": 29,
   "id": "b6fa53ff",
   "metadata": {},
   "outputs": [
    {
     "data": {
      "text/plain": [
       "<AxesSubplot:>"
      ]
     },
     "execution_count": 29,
     "metadata": {},
     "output_type": "execute_result"
    },
    {
     "data": {
      "image/png": "[encoded data removed]",
      "text/plain": [
       "<Figure size 432x288 with 2 Axes>"
      ]
     },
     "metadata": {
      "needs_background": "light"
     },
     "output_type": "display_data"
    }
   ],
   "source": [
    "sns.heatmap(corr,xticklabels = corr.columns, yticklabels = corr.columns) # Escala de colores"
   ]
  },
  {
   "cell_type": "code",
   "execution_count": null,
   "id": "15467c68",
   "metadata": {},
   "outputs": [],
   "source": []
  }
 ],
 "metadata": {
  "kernelspec": {
   "display_name": "Python 3",
   "language": "python",
   "name": "python3"
  },
  "language_info": {
   "codemirror_mode": {
    "name": "ipython",
    "version": 3
   },
   "file_extension": ".py",
   "mimetype": "text/x-python",
   "name": "python",
   "nbconvert_exporter": "python",
   "pygments_lexer": "ipython3",
   "version": "3.8.8"
  }
 },
 "nbformat": 4,
 "nbformat_minor": 5
}
