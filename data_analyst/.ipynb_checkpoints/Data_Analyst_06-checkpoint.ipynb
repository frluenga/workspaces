{
 "cells": [
  {
   "cell_type": "markdown",
   "id": "7c055377",
   "metadata": {},
   "source": [
    "# Discretas"
   ]
  },
  {
   "cell_type": "markdown",
   "id": "26e4ad73",
   "metadata": {},
   "source": [
    "### Bernoulli:\n",
    "Experimento binario asociado a éxito o fracaso\n",
    "### Binomial:\n",
    "Numero de exitos x en N ensayos.\n",
    "### Geometrica:\n",
    "Numero de ensayos (intentos que hay que hacer) x hasta tener el primer exito\n",
    "### Binomial Negativa:\n",
    "Numero de ensayos x hasta el k-esimo exito, es una generalización de la geometrica, es decir, contamos el numero de ensayos necesarios para llegar al ultimo o k-esimo exito\n",
    "### Poisson:\n",
    "Numero de llegadas en N a una longitud de tiempo t"
   ]
  },
  {
   "cell_type": "code",
   "execution_count": 6,
   "id": "5f4c73e1",
   "metadata": {},
   "outputs": [],
   "source": [
    "import matplotlib.pyplot as plt\n",
    "import seaborn as sns\n",
    "%matplotlib inline"
   ]
  },
  {
   "cell_type": "code",
   "execution_count": 4,
   "id": "f8551c8a",
   "metadata": {},
   "outputs": [
    {
     "data": {
      "text/plain": [
       "100"
      ]
     },
     "execution_count": 4,
     "metadata": {},
     "output_type": "execute_result"
    }
   ],
   "source": [
    "from scipy.stats import bernoulli\n",
    "p = 0.3\n",
    "data = bernoulli.rvs(p,size = 100)\n",
    "len(data)"
   ]
  },
  {
   "cell_type": "code",
   "execution_count": 5,
   "id": "d7e9c950",
   "metadata": {},
   "outputs": [],
   "source": [
    "media, var, skew,kurt = bernoulli.stats(p,moments='mvsk')"
   ]
  },
  {
   "cell_type": "code",
   "execution_count": 12,
   "id": "9fd98a12",
   "metadata": {},
   "outputs": [
    {
     "data": {
      "text/plain": [
       "<matplotlib.legend.Legend at 0x1eb18306670>"
      ]
     },
     "execution_count": 12,
     "metadata": {},
     "output_type": "execute_result"
    },
    {
     "data": {
      "image/png": "[encoded data removed]",
      "text/plain": [
       "<Figure size 432x288 with 1 Axes>"
      ]
     },
     "metadata": {
      "needs_background": "light"
     },
     "output_type": "display_data"
    }
   ],
   "source": [
    "ax = sns.distplot(data, bins=30, kde = False, color = 'blue')\n",
    "ax.set(xlabel = 'Distribución de Bernoulli',ylabel='Frecuencia')\n",
    "ax.axvline(x = media,linestyle = '--',label = 'Media')\n",
    "ax.legend()"
   ]
  },
  {
   "cell_type": "code",
   "execution_count": 16,
   "id": "616c0764",
   "metadata": {},
   "outputs": [
    {
     "data": {
      "text/plain": [
       "100"
      ]
     },
     "execution_count": 16,
     "metadata": {},
     "output_type": "execute_result"
    }
   ],
   "source": [
    "from scipy.stats import binom\n",
    "p = 0.3\n",
    "n = 10\n",
    "data = binom.rvs(p = p,n = n,size = 100)\n",
    "len(data)"
   ]
  },
  {
   "cell_type": "code",
   "execution_count": 17,
   "id": "5bd5ac45",
   "metadata": {},
   "outputs": [],
   "source": [
    "media, var, skew,kurt = binom.stats(p=p,n=n,moments='mvsk')"
   ]
  },
  {
   "cell_type": "code",
   "execution_count": 19,
   "id": "c5afe864",
   "metadata": {
    "scrolled": true
   },
   "outputs": [
    {
     "data": {
      "text/plain": [
       "<matplotlib.legend.Legend at 0x1eb1844c760>"
      ]
     },
     "execution_count": 19,
     "metadata": {},
     "output_type": "execute_result"
    },
    {
     "data": {
      "image/png": "[encoded data removed]",
      "text/plain": [
       "<Figure size 432x288 with 1 Axes>"
      ]
     },
     "metadata": {
      "needs_background": "light"
     },
     "output_type": "display_data"
    }
   ],
   "source": [
    "ax = sns.distplot(data, bins=30, kde = False, color = 'blue')\n",
    "ax.set(xlabel = 'Distribución de Binomial',ylabel='Frecuencia')\n",
    "ax.axvline(x = media,linestyle = '--',label = 'Media')\n",
    "ax.legend()"
   ]
  },
  {
   "cell_type": "code",
   "execution_count": 20,
   "id": "1fd370c5",
   "metadata": {},
   "outputs": [
    {
     "data": {
      "text/plain": [
       "100"
      ]
     },
     "execution_count": 20,
     "metadata": {},
     "output_type": "execute_result"
    }
   ],
   "source": [
    "from scipy.stats import nbinom\n",
    "p = 0.3\n",
    "n = 1\n",
    "data = nbinom.rvs(p = p,n = n,size = 100)\n",
    "len(data)"
   ]
  },
  {
   "cell_type": "code",
   "execution_count": 21,
   "id": "4d91f7a0",
   "metadata": {},
   "outputs": [],
   "source": [
    "media, var, skew,kurt = nbinom.stats(p=p,n=n,moments='mvsk')"
   ]
  },
  {
   "cell_type": "code",
   "execution_count": 22,
   "id": "67172c5e",
   "metadata": {},
   "outputs": [
    {
     "data": {
      "text/plain": [
       "<matplotlib.legend.Legend at 0x1eb18503430>"
      ]
     },
     "execution_count": 22,
     "metadata": {},
     "output_type": "execute_result"
    },
    {
     "data": {
      "image/png": "[encoded data removed]",
      "text/plain": [
       "<Figure size 432x288 with 1 Axes>"
      ]
     },
     "metadata": {
      "needs_background": "light"
     },
     "output_type": "display_data"
    }
   ],
   "source": [
    "ax = sns.distplot(data, bins=30, kde = False, color = 'blue')\n",
    "ax.set(xlabel = 'Distribución de Binomial',ylabel='Frecuencia')\n",
    "ax.axvline(x = media,linestyle = '--',label = 'Media')\n",
    "ax.legend()"
   ]
  },
  {
   "cell_type": "code",
   "execution_count": null,
   "id": "fa3cfb00",
   "metadata": {},
   "outputs": [],
   "source": []
  }
 ],
 "metadata": {
  "kernelspec": {
   "display_name": "Python 3",
   "language": "python",
   "name": "python3"
  },
  "language_info": {
   "codemirror_mode": {
    "name": "ipython",
    "version": 3
   },
   "file_extension": ".py",
   "mimetype": "text/x-python",
   "name": "python",
   "nbconvert_exporter": "python",
   "pygments_lexer": "ipython3",
   "version": "3.8.8"
  }
 },
 "nbformat": 4,
 "nbformat_minor": 5
}
