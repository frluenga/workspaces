{
 "cells": [
  {
   "cell_type": "code",
   "execution_count": 1,
   "id": "b88616da",
   "metadata": {},
   "outputs": [],
   "source": [
    "import scipy.stats\n",
    "import numpy as np\n",
    "import pandas as pd\n",
    "\n",
    "import matplotlib.pyplot as plt\n",
    "import seaborn as sns\n",
    "\n",
    "%matplotlib inline"
   ]
  },
  {
   "cell_type": "code",
   "execution_count": 2,
   "id": "847263b5",
   "metadata": {},
   "outputs": [
    {
     "data": {
      "text/plain": [
       "Index(['bola', 'color', 'numero'], dtype='object')"
      ]
     },
     "execution_count": 2,
     "metadata": {},
     "output_type": "execute_result"
    }
   ],
   "source": [
    "df = pd.read_csv('juego-azar.csv',sep=';')\n",
    "df.columns"
   ]
  },
  {
   "cell_type": "code",
   "execution_count": 4,
   "id": "d0c9466a",
   "metadata": {},
   "outputs": [
    {
     "data": {
      "text/plain": [
       "1    0.4\n",
       "2    0.3\n",
       "3    0.3\n",
       "Name: numero, dtype: float64"
      ]
     },
     "execution_count": 4,
     "metadata": {},
     "output_type": "execute_result"
    }
   ],
   "source": [
    "df.numero.value_counts() / len(df)"
   ]
  },
  {
   "cell_type": "code",
   "execution_count": 6,
   "id": "5ddad4d7",
   "metadata": {},
   "outputs": [
    {
     "data": {
      "text/plain": [
       "negro     0.6\n",
       "blanco    0.4\n",
       "Name: color, dtype: float64"
      ]
     },
     "execution_count": 6,
     "metadata": {},
     "output_type": "execute_result"
    }
   ],
   "source": [
    "df.color.value_counts() / len(df)"
   ]
  },
  {
   "cell_type": "code",
   "execution_count": 9,
   "id": "96074546",
   "metadata": {},
   "outputs": [
    {
     "data": {
      "text/plain": [
       "numero  color \n",
       "1       blanco    1\n",
       "        negro     3\n",
       "2       blanco    1\n",
       "        negro     2\n",
       "3       blanco    2\n",
       "        negro     1\n",
       "dtype: int64"
      ]
     },
     "execution_count": 9,
     "metadata": {},
     "output_type": "execute_result"
    }
   ],
   "source": [
    "df.groupby(['numero','color']).size()"
   ]
  },
  {
   "cell_type": "code",
   "execution_count": 8,
   "id": "cbafdd16",
   "metadata": {},
   "outputs": [],
   "source": [
    "# P(A|B) = P(B|2) =  1/3\n"
   ]
  },
  {
   "cell_type": "code",
   "execution_count": 10,
   "id": "b929cdae",
   "metadata": {},
   "outputs": [
    {
     "data": {
      "text/plain": [
       "0.4"
      ]
     },
     "execution_count": 10,
     "metadata": {},
     "output_type": "execute_result"
    }
   ],
   "source": [
    "# P(A)\n",
    "# P(A|B)\n",
    "# P(B)\n",
    "\n",
    "# p_blanca = 4/10\n",
    "\n",
    "# p(p_blanca|1) + p(p_blanca|2) + p(p_blanca|3)\n",
    "# 1 + 1 +2\n",
    "# p(blanco) = p(p_blanca|1)*p(1) + p(p_blanca|2)p(2) + p(p_blanca|3)p(3)\n",
    "(1/4)*(4/10) + (1/3)*(3/10) + (2/3)*(3/10)\n"
   ]
  },
  {
   "cell_type": "markdown",
   "id": "e70b191c",
   "metadata": {},
   "source": [
    "Todo el rango de la función tiene que contener todos los valores de x\n",
    "probabilidad de la variable aleatoria x es p(X = xi)\n"
   ]
  },
  {
   "cell_type": "code",
   "execution_count": 12,
   "id": "f4f775f4",
   "metadata": {},
   "outputs": [],
   "source": [
    "from scipy.stats import binom\n",
    "p = 0.3\n",
    "n = 8\n",
    "x = list(range(0,9,1))\n",
    "y = list([])\n",
    "for i in x:\n",
    "    y.append(binom.pmf(i,p=p,n=n))\n"
   ]
  },
  {
   "cell_type": "code",
   "execution_count": 14,
   "id": "747dc84e",
   "metadata": {},
   "outputs": [
    {
     "data": {
      "text/plain": [
       "Text(0.5, 0, 'Probabilidad Discreta')"
      ]
     },
     "execution_count": 14,
     "metadata": {},
     "output_type": "execute_result"
    },
    {
     "data": {
      "image/png": "[encoded data removed]",
      "text/plain": [
       "<Figure size 432x288 with 1 Axes>"
      ]
     },
     "metadata": {
      "needs_background": "light"
     },
     "output_type": "display_data"
    }
   ],
   "source": [
    "fig,ax = plt.subplots()\n",
    "ax.bar(x,y)\n",
    "ax.set_xlabel('Probabilidad Discreta')"
   ]
  },
  {
   "cell_type": "markdown",
   "id": "f65da81b",
   "metadata": {},
   "source": [
    "Las medidas estan ponderadas debido a que la probabilidad de ocurrencia entre los valores son diferentes"
   ]
  },
  {
   "cell_type": "code",
   "execution_count": 18,
   "id": "63c184e9",
   "metadata": {},
   "outputs": [],
   "source": [
    "media = np.average(x,weights = y)\n",
    "varianza = np.average((x-media)**2,weights = y)"
   ]
  },
  {
   "cell_type": "code",
   "execution_count": 24,
   "id": "8ede2ec7",
   "metadata": {},
   "outputs": [
    {
     "data": {
      "image/png": "[encoded data removed]",
      "text/plain": [
       "<Figure size 432x288 with 1 Axes>"
      ]
     },
     "metadata": {
      "needs_background": "light"
     },
     "output_type": "display_data"
    }
   ],
   "source": [
    "fig,ax = plt.subplots()\n",
    "ax.bar(x,y)\n",
    "ax.set_xlabel('Probabilidad Discreta')\n",
    "ax.axvline(x = media,c='r',linestyle='--')\n",
    "ax.axvline(x = media+3*np.sqrt(varianza),c ='k',linestyle='--',label='desviación estandar')\n",
    "ax.legend()\n",
    "plt.show()"
   ]
  },
  {
   "cell_type": "code",
   "execution_count": 30,
   "id": "9f8f976f",
   "metadata": {},
   "outputs": [
    {
     "data": {
      "text/plain": [
       "Text(0.5, 1.0, 'Probabilidad Continua')"
      ]
     },
     "execution_count": 30,
     "metadata": {},
     "output_type": "execute_result"
    },
    {
     "data": {
      "image/png": "[encoded data removed]",
      "text/plain": [
       "<Figure size 432x288 with 1 Axes>"
      ]
     },
     "metadata": {
      "needs_background": "light"
     },
     "output_type": "display_data"
    }
   ],
   "source": [
    "N = 100\n",
    "x = list(range(0,N+1,1))\n",
    "y = list([])\n",
    "\n",
    "for i in x:\n",
    "    y.append(binom.pmf(i,p=0.3,n=N))\n",
    "\n",
    "fig, ax = plt.subplots()\n",
    "ax.plot(x,y)\n",
    "ax.set_title('Probabilidad Continua')\n"
   ]
  },
  {
   "cell_type": "code",
   "execution_count": 29,
   "id": "879a9749",
   "metadata": {},
   "outputs": [
    {
     "data": {
      "text/plain": [
       "Text(0.5, 1.0, 'Probabilidad Continua')"
      ]
     },
     "execution_count": 29,
     "metadata": {},
     "output_type": "execute_result"
    },
    {
     "data": {
      "image/png": "[encoded data removed]",
      "text/plain": [
       "<Figure size 432x288 with 1 Axes>"
      ]
     },
     "metadata": {
      "needs_background": "light"
     },
     "output_type": "display_data"
    }
   ],
   "source": [
    "y_1 = []\n",
    "for i in x:\n",
    "    y_1.append(binom.cdf(i,p=0.3,n=N))\n",
    "\n",
    "fig, ax = plt.subplots()\n",
    "ax.plot(x,y_1)\n",
    "ax.set_title('Probabilidad Continua')"
   ]
  },
  {
   "cell_type": "code",
   "execution_count": 35,
   "id": "7f7b4033",
   "metadata": {},
   "outputs": [],
   "source": [
    "from scipy.stats import norm\n",
    "mean, var, skew,kurt = norm.stats(moments = 'mvsk')"
   ]
  }
 ],
 "metadata": {
  "kernelspec": {
   "display_name": "Python 3",
   "language": "python",
   "name": "python3"
  },
  "language_info": {
   "codemirror_mode": {
    "name": "ipython",
    "version": 3
   },
   "file_extension": ".py",
   "mimetype": "text/x-python",
   "name": "python",
   "nbconvert_exporter": "python",
   "pygments_lexer": "ipython3",
   "version": "3.8.8"
  }
 },
 "nbformat": 4,
 "nbformat_minor": 5
}
