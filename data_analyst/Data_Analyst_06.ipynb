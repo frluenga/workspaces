{
 "cells": [
  {
   "cell_type": "markdown",
   "id": "570ae452",
   "metadata": {},
   "source": [
    "# Discretas"
   ]
  },
  {
   "cell_type": "markdown",
   "id": "00bd4f9b",
   "metadata": {},
   "source": [
    "### Bernoulli:\n",
    "Experimento binario asociado a éxito o fracaso\n",
    "### Binomial:\n",
    "Numero de exitos x en N ensayos.\n",
    "### Geometrica:\n",
    "Numero de ensayos (intentos que hay que hacer) x hasta tener el primer exito\n",
    "### Binomial Negativa:\n",
    "Numero de ensayos x hasta el k-esimo exito, es una generalización de la geometrica, es decir, contamos el numero de ensayos necesarios para llegar al ultimo o k-esimo exito\n",
    "### Poisson:\n",
    "Numero de llegadas en N a una longitud de tiempo t"
   ]
  },
  {
   "cell_type": "code",
   "execution_count": 6,
   "id": "aac41337",
   "metadata": {},
   "outputs": [],
   "source": [
    "import matplotlib.pyplot as plt\n",
    "import seaborn as sns\n",
    "%matplotlib inline"
   ]
  },
  {
   "cell_type": "code",
   "execution_count": 4,
   "id": "ddaf9bca",
   "metadata": {},
   "outputs": [
    {
     "data": {
      "text/plain": [
       "100"
      ]
     },
     "execution_count": 4,
     "metadata": {},
     "output_type": "execute_result"
    }
   ],
   "source": [
    "from scipy.stats import bernoulli\n",
    "p = 0.3\n",
    "data = bernoulli.rvs(p,size = 100)\n",
    "len(data)"
   ]
  },
  {
   "cell_type": "code",
   "execution_count": 5,
   "id": "475355e7",
   "metadata": {},
   "outputs": [],
   "source": [
    "media, var, skew,kurt = bernoulli.stats(p,moments='mvsk')"
   ]
  },
  {
   "cell_type": "code",
   "execution_count": 12,
   "id": "71added4",
   "metadata": {},
   "outputs": [
    {
     "data": {
      "text/plain": [
       "<matplotlib.legend.Legend at 0x1eb18306670>"
      ]
     },
     "execution_count": 12,
     "metadata": {},
     "output_type": "execute_result"
    },
    {
     "data": {
      "image/png": "[encoded data removed]",
      "text/plain": [
       "<Figure size 432x288 with 1 Axes>"
      ]
     },
     "metadata": {
      "needs_background": "light"
     },
     "output_type": "display_data"
    }
   ],
   "source": [
    "ax = sns.distplot(data, bins=30, kde = False, color = 'blue')\n",
    "ax.set(xlabel = 'Distribución de Bernoulli',ylabel='Frecuencia')\n",
    "ax.axvline(x = media,linestyle = '--',label = 'Media')\n",
    "ax.legend()"
   ]
  },
  {
   "cell_type": "code",
   "execution_count": 16,
   "id": "ca473258",
   "metadata": {},
   "outputs": [
    {
     "data": {
      "text/plain": [
       "100"
      ]
     },
     "execution_count": 16,
     "metadata": {},
     "output_type": "execute_result"
    }
   ],
   "source": [
    "from scipy.stats import binom\n",
    "p = 0.3\n",
    "n = 10\n",
    "data = binom.rvs(p = p,n = n,size = 100)\n",
    "len(data)"
   ]
  },
  {
   "cell_type": "code",
   "execution_count": 17,
   "id": "c34880b1",
   "metadata": {},
   "outputs": [],
   "source": [
    "media, var, skew,kurt = binom.stats(p=p,n=n,moments='mvsk')"
   ]
  },
  {
   "cell_type": "code",
   "execution_count": 19,
   "id": "6123eb76",
   "metadata": {
    "scrolled": true
   },
   "outputs": [
    {
     "data": {
      "text/plain": [
       "<matplotlib.legend.Legend at 0x1eb1844c760>"
      ]
     },
     "execution_count": 19,
     "metadata": {},
     "output_type": "execute_result"
    },
    {
     "data": {
      "image/png": "[encoded data removed]",
      "text/plain": [
       "<Figure size 432x288 with 1 Axes>"
      ]
     },
     "metadata": {
      "needs_background": "light"
     },
     "output_type": "display_data"
    }
   ],
   "source": [
    "ax = sns.distplot(data, bins=30, kde = False, color = 'blue')\n",
    "ax.set(xlabel = 'Distribución de Binomial',ylabel='Frecuencia')\n",
    "ax.axvline(x = media,linestyle = '--',label = 'Media')\n",
    "ax.legend()"
   ]
  },
  {
   "cell_type": "code",
   "execution_count": 20,
   "id": "3d12b594",
   "metadata": {},
   "outputs": [
    {
     "data": {
      "text/plain": [
       "100"
      ]
     },
     "execution_count": 20,
     "metadata": {},
     "output_type": "execute_result"
    }
   ],
   "source": [
    "from scipy.stats import nbinom\n",
    "p = 0.3\n",
    "n = 1\n",
    "data = nbinom.rvs(p = p,n = n,size = 100)\n",
    "len(data)"
   ]
  },
  {
   "cell_type": "code",
   "execution_count": 26,
   "id": "bfc8fcde",
   "metadata": {},
   "outputs": [
    {
     "data": {
      "text/plain": [
       "array(2.33333333)"
      ]
     },
     "execution_count": 26,
     "metadata": {},
     "output_type": "execute_result"
    }
   ],
   "source": [
    "media, var, skew,kurt = nbinom.stats(p=p,n=n,moments='mvsk')\n",
    "media"
   ]
  },
  {
   "cell_type": "code",
   "execution_count": 24,
   "id": "ab09d1ca",
   "metadata": {},
   "outputs": [
    {
     "data": {
      "text/plain": [
       "<matplotlib.legend.Legend at 0x1eb185b8670>"
      ]
     },
     "execution_count": 24,
     "metadata": {},
     "output_type": "execute_result"
    },
    {
     "data": {
      "image/png": "[encoded data removed]",
      "text/plain": [
       "<Figure size 432x288 with 1 Axes>"
      ]
     },
     "metadata": {
      "needs_background": "light"
     },
     "output_type": "display_data"
    }
   ],
   "source": [
    "ax = sns.distplot(data, bins=30, kde = False, color = 'blue')\n",
    "ax.set(xlabel = 'Distribución de Geometrica',ylabel='Frecuencia')\n",
    "ax.axvline(x = media,linestyle = '--',label = 'Media')\n",
    "ax.legend()"
   ]
  },
  {
   "cell_type": "code",
   "execution_count": 29,
   "id": "3a0f7823",
   "metadata": {},
   "outputs": [
    {
     "data": {
      "text/plain": [
       "array(23.33333333)"
      ]
     },
     "execution_count": 29,
     "metadata": {},
     "output_type": "execute_result"
    }
   ],
   "source": [
    "from scipy.stats import nbinom\n",
    "p = 0.3\n",
    "n = 10\n",
    "data = nbinom.rvs(p = p,n = n,size = 100)\n",
    "media, var, skew,kurt = nbinom.stats(p=p,n=n,moments='mvsk')\n",
    "media"
   ]
  },
  {
   "cell_type": "code",
   "execution_count": 30,
   "id": "0cda0a7a",
   "metadata": {},
   "outputs": [
    {
     "data": {
      "text/plain": [
       "<matplotlib.legend.Legend at 0x1eb18306460>"
      ]
     },
     "execution_count": 30,
     "metadata": {},
     "output_type": "execute_result"
    },
    {
     "data": {
      "image/png": "[encoded data removed]",
      "text/plain": [
       "<Figure size 432x288 with 1 Axes>"
      ]
     },
     "metadata": {
      "needs_background": "light"
     },
     "output_type": "display_data"
    }
   ],
   "source": [
    "ax = sns.distplot(data, bins=30, kde = False, color = 'blue')\n",
    "ax.set(xlabel = 'Distribución de Nbinomial',ylabel='Frecuencia')\n",
    "ax.axvline(x = media,linestyle = '--',label = 'Media')\n",
    "ax.legend()"
   ]
  },
  {
   "cell_type": "code",
   "execution_count": 35,
   "id": "12b86b32",
   "metadata": {},
   "outputs": [
    {
     "data": {
      "text/plain": [
       "(array(10.), array(10.), array(0.31622777), array(0.1))"
      ]
     },
     "execution_count": 35,
     "metadata": {},
     "output_type": "execute_result"
    }
   ],
   "source": [
    "from scipy.stats import poisson\n",
    "lambda_p = 10\n",
    "data = poisson.rvs(mu=lambda_p,size=100)\n",
    "mean,var,skew,kurt = poisson.stats(mu=lambda_p, moments='mvsk')\n",
    "mean,var,skew,kurt"
   ]
  },
  {
   "cell_type": "code",
   "execution_count": 36,
   "id": "6bbcb985",
   "metadata": {
    "scrolled": true
   },
   "outputs": [
    {
     "data": {
      "text/plain": [
       "<matplotlib.legend.Legend at 0x1eb1868de80>"
      ]
     },
     "execution_count": 36,
     "metadata": {},
     "output_type": "execute_result"
    },
    {
     "data": {
      "image/png": "[encoded data removed]",
      "text/plain": [
       "<Figure size 432x288 with 1 Axes>"
      ]
     },
     "metadata": {
      "needs_background": "light"
     },
     "output_type": "display_data"
    }
   ],
   "source": [
    "ax = sns.distplot(data, bins=30, kde = False, color = 'blue')\n",
    "ax.set(xlabel = 'Distribución de Poisson',ylabel='Frecuencia')\n",
    "ax.axvline(x = lambda_p,linestyle = '--',label = 'Media')\n",
    "ax.legend()"
   ]
  },
  {
   "cell_type": "markdown",
   "id": "7dd37acf",
   "metadata": {},
   "source": [
    "# Distribuciones de probabilidad continua"
   ]
  },
  {
   "cell_type": "code",
   "execution_count": 37,
   "id": "815aadb9",
   "metadata": {},
   "outputs": [
    {
     "data": {
      "text/plain": [
       "10000000"
      ]
     },
     "execution_count": 37,
     "metadata": {},
     "output_type": "execute_result"
    }
   ],
   "source": [
    "from scipy.stats import expon\n",
    "data = expon.rvs(size = 10000000)\n",
    "len(data)"
   ]
  },
  {
   "cell_type": "code",
   "execution_count": 39,
   "id": "98a37c87",
   "metadata": {},
   "outputs": [
    {
     "data": {
      "text/plain": [
       "(array(1.), array(1.), array(2.), array(6.))"
      ]
     },
     "execution_count": 39,
     "metadata": {},
     "output_type": "execute_result"
    }
   ],
   "source": [
    "mean,var,skew,kurt = expon.stats(moments = 'mvsk')\n",
    "mean,var,skew,kurt"
   ]
  },
  {
   "cell_type": "code",
   "execution_count": 41,
   "id": "e3909fa9",
   "metadata": {},
   "outputs": [
    {
     "data": {
      "text/plain": [
       "<matplotlib.legend.Legend at 0x1eb187f12b0>"
      ]
     },
     "execution_count": 41,
     "metadata": {},
     "output_type": "execute_result"
    },
    {
     "data": {
      "image/png": "[encoded data removed]",
      "text/plain": [
       "<Figure size 432x288 with 1 Axes>"
      ]
     },
     "metadata": {
      "needs_background": "light"
     },
     "output_type": "display_data"
    }
   ],
   "source": [
    "ax = sns.distplot(data,bins=50,kde = False, color='blue')\n",
    "ax.set(xlabel='Distribución Exponencial',ylabel='Frecuencia')\n",
    "ax.axvline(x=mean,linestyle = '--',label ='Media')\n",
    "ax.legend()"
   ]
  },
  {
   "cell_type": "code",
   "execution_count": 42,
   "id": "c83207c0",
   "metadata": {},
   "outputs": [
    {
     "data": {
      "text/plain": [
       "10000000"
      ]
     },
     "execution_count": 42,
     "metadata": {},
     "output_type": "execute_result"
    }
   ],
   "source": [
    "from scipy.stats import norm\n",
    "data = norm.rvs(size = 10000000)\n",
    "len(data)"
   ]
  },
  {
   "cell_type": "code",
   "execution_count": 43,
   "id": "47369fe8",
   "metadata": {},
   "outputs": [
    {
     "data": {
      "text/plain": [
       "(array(0.), array(1.), array(0.), array(0.))"
      ]
     },
     "execution_count": 43,
     "metadata": {},
     "output_type": "execute_result"
    }
   ],
   "source": [
    "mean,var,skew,kurt = norm.stats(moments='mvsk')\n",
    "mean,var,skew,kurt"
   ]
  },
  {
   "cell_type": "code",
   "execution_count": 45,
   "id": "eaa3ec40",
   "metadata": {},
   "outputs": [
    {
     "data": {
      "text/plain": [
       "<matplotlib.legend.Legend at 0x1eb189df940>"
      ]
     },
     "execution_count": 45,
     "metadata": {},
     "output_type": "execute_result"
    },
    {
     "data": {
      "image/png": "[encoded data removed]",
      "text/plain": [
       "<Figure size 432x288 with 1 Axes>"
      ]
     },
     "metadata": {
      "needs_background": "light"
     },
     "output_type": "display_data"
    }
   ],
   "source": [
    "ax = sns.distplot(data,bins=500,kde = False, color='blue')\n",
    "ax.set(xlabel='Distribución Normal Estandar',ylabel='Frecuencia')\n",
    "ax.axvline(x=mean,linestyle = '--',label ='Media')\n",
    "ax.legend()"
   ]
  },
  {
   "cell_type": "code",
   "execution_count": 46,
   "id": "ba257882",
   "metadata": {},
   "outputs": [
    {
     "data": {
      "text/plain": [
       "(array(0.5), array(0.08333333), array(0.), array(-1.2))"
      ]
     },
     "execution_count": 46,
     "metadata": {},
     "output_type": "execute_result"
    }
   ],
   "source": [
    "from scipy.stats import uniform\n",
    "data = uniform.rvs(size = 10000000)\n",
    "mean,var,skew,kurt = uniform.stats(moments='mvsk')\n",
    "mean,var,skew,kurt"
   ]
  },
  {
   "cell_type": "code",
   "execution_count": 47,
   "id": "5713ac00",
   "metadata": {},
   "outputs": [
    {
     "data": {
      "text/plain": [
       "<matplotlib.legend.Legend at 0x1eb18cb83a0>"
      ]
     },
     "execution_count": 47,
     "metadata": {},
     "output_type": "execute_result"
    },
    {
     "data": {
      "image/png": "[encoded data removed]",
      "text/plain": [
       "<Figure size 432x288 with 1 Axes>"
      ]
     },
     "metadata": {
      "needs_background": "light"
     },
     "output_type": "display_data"
    }
   ],
   "source": [
    "ax = sns.distplot(data,bins=500,kde = False, color='blue')\n",
    "ax.set(xlabel='Distribución Uniform',ylabel='Frecuencia')\n",
    "ax.axvline(x=mean,linestyle = '--',label ='Media')\n",
    "ax.legend()"
   ]
  },
  {
   "cell_type": "code",
   "execution_count": null,
   "id": "7dc5ddf9",
   "metadata": {},
   "outputs": [],
   "source": []
  }
 ],
 "metadata": {
  "kernelspec": {
   "display_name": "Python 3",
   "language": "python",
   "name": "python3"
  },
  "language_info": {
   "codemirror_mode": {
    "name": "ipython",
    "version": 3
   },
   "file_extension": ".py",
   "mimetype": "text/x-python",
   "name": "python",
   "nbconvert_exporter": "python",
   "pygments_lexer": "ipython3",
   "version": "3.8.8"
  }
 },
 "nbformat": 4,
 "nbformat_minor": 5
}
