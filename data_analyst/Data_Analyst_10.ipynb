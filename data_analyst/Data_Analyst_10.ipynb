{
 "cells": [
  {
   "cell_type": "code",
   "execution_count": 1,
   "id": "963f154a",
   "metadata": {},
   "outputs": [],
   "source": [
    "import pandas as pd\n",
    "import numpy as np\n",
    "import matplotlib.pyplot as plt\n",
    "import seaborn as sns\n",
    "%matplotlib inline\n",
    "\n",
    "from scipy.stats import expon\n",
    "from scipy.stats import uniform\n",
    "from scipy.stats import norm"
   ]
  },
  {
   "cell_type": "code",
   "execution_count": 2,
   "id": "1f75869d",
   "metadata": {},
   "outputs": [],
   "source": [
    "poblacion = pd.DataFrame()\n",
    "poblacion['numbers'] = expon.rvs(40,size = 100000)"
   ]
  },
  {
   "cell_type": "code",
   "execution_count": 3,
   "id": "23d39547",
   "metadata": {},
   "outputs": [
    {
     "data": {
      "text/plain": [
       "<AxesSubplot:>"
      ]
     },
     "execution_count": 3,
     "metadata": {},
     "output_type": "execute_result"
    },
    {
     "data": {
      "image/png": "[encoded data removed]",
      "text/plain": [
       "<Figure size 432x288 with 1 Axes>"
      ]
     },
     "metadata": {
      "needs_background": "light"
     },
     "output_type": "display_data"
    }
   ],
   "source": [
    "poblacion['numbers'].hist(bins=100)"
   ]
  },
  {
   "cell_type": "code",
   "execution_count": 5,
   "id": "0d391642",
   "metadata": {},
   "outputs": [],
   "source": [
    "muestra_promedio = []\n",
    "tamano = 5000\n",
    "\n",
    "for i in range(0,tamano):\n",
    "    muestra_promedio.append(poblacion.sample(n=100).mean().values[0])"
   ]
  },
  {
   "cell_type": "code",
   "execution_count": 11,
   "id": "68ed0109",
   "metadata": {},
   "outputs": [
    {
     "data": {
      "image/png": "[encoded data removed]",
      "text/plain": [
       "<Figure size 432x288 with 1 Axes>"
      ]
     },
     "metadata": {
      "needs_background": "light"
     },
     "output_type": "display_data"
    }
   ],
   "source": [
    "fig,ax = plt.subplots()\n",
    "ax.hist(muestra_promedio,bins = 50, alpha=0.5)\n",
    "ax.set(xlabel='Promedio',ylabel ='Frecuencia')\n",
    "ax.grid()"
   ]
  },
  {
   "cell_type": "markdown",
   "id": "cf6d470c",
   "metadata": {},
   "source": [
    "# Pruebas de Hipotesis"
   ]
  },
  {
   "cell_type": "code",
   "execution_count": 4,
   "id": "8b41f503",
   "metadata": {},
   "outputs": [],
   "source": [
    "muestra = [42, 35, 29, 45, 41, 57, 54, 47, 48, 56, 47, 35, 52, 31, 52, 55, 57, 58, 26, 29, 32, 37, 32, 34, 48, 20, 48, 51, 27, 24, 39, 40, 31, 34, 23, 24, 41, 58, 44, 48, 31, 23, 27, 55, 43, 47, 30, 57, 38, 51]"
   ]
  },
  {
   "cell_type": "code",
   "execution_count": 5,
   "id": "5d2a0e8d",
   "metadata": {},
   "outputs": [],
   "source": [
    "# Hipotesis\n",
    "media,var,skew,kurt = expon.stats(scale = 30,moments = 'mvsk')"
   ]
  },
  {
   "cell_type": "code",
   "execution_count": 6,
   "id": "e4ab50fb",
   "metadata": {},
   "outputs": [
    {
     "data": {
      "text/plain": [
       "40.66"
      ]
     },
     "execution_count": 6,
     "metadata": {},
     "output_type": "execute_result"
    }
   ],
   "source": [
    "# Paso 1 : Parametro Lambda\n",
    "# Paso 2 : HP\n",
    "\n",
    "mu = 30\n",
    "mu > 30\n",
    "\n",
    "# Mejor estimador\n",
    "promedio = np.mean(muestra)\n",
    "promedio"
   ]
  },
  {
   "cell_type": "code",
   "execution_count": 7,
   "id": "7dda59a5",
   "metadata": {},
   "outputs": [],
   "source": [
    "z = (np.mean(muestra)- mu) / np.sqrt(var/50)"
   ]
  },
  {
   "cell_type": "code",
   "execution_count": 8,
   "id": "08a2c87b",
   "metadata": {},
   "outputs": [
    {
     "data": {
      "text/plain": [
       "2.5125860958161983"
      ]
     },
     "execution_count": 8,
     "metadata": {},
     "output_type": "execute_result"
    }
   ],
   "source": [
    "z"
   ]
  },
  {
   "cell_type": "code",
   "execution_count": 9,
   "id": "fe355358",
   "metadata": {},
   "outputs": [],
   "source": [
    "alpha = 0.05\n",
    "# criterios de rechazo\n",
    "data_norm = norm.rvs(size = 100000)\n",
    "valor_critico = norm.ppf(1-alpha,loc=0,scale=1)"
   ]
  },
  {
   "cell_type": "code",
   "execution_count": 10,
   "id": "e00e8695",
   "metadata": {},
   "outputs": [
    {
     "name": "stderr",
     "output_type": "stream",
     "text": [
      "C:\\Users\\GAMER\\anaconda3\\envs\\dataAnalyst\\lib\\site-packages\\seaborn\\distributions.py:2557: FutureWarning: `distplot` is a deprecated function and will be removed in a future version. Please adapt your code to use either `displot` (a figure-level function with similar flexibility) or `histplot` (an axes-level function for histograms).\n",
      "  warnings.warn(msg, FutureWarning)\n"
     ]
    },
    {
     "data": {
      "text/plain": [
       "<matplotlib.legend.Legend at 0x24e92fff0a0>"
      ]
     },
     "execution_count": 10,
     "metadata": {},
     "output_type": "execute_result"
    },
    {
     "data": {
      "image/png": "[encoded data removed]",
      "text/plain": [
       "<Figure size 432x288 with 1 Axes>"
      ]
     },
     "metadata": {
      "needs_background": "light"
     },
     "output_type": "display_data"
    }
   ],
   "source": [
    "ax = sns.distplot(data_norm,bins = 500, kde=False,color='blue')\n",
    "ax.axvline(x=valor_critico,linestyle='--',label='valor critico',color='red') \n",
    "ax.axvline(x=z,linestyle='--',label='Estadistico z',color='k')\n",
    "ax.legend()\n"
   ]
  },
  {
   "cell_type": "code",
   "execution_count": 11,
   "id": "75e764de",
   "metadata": {},
   "outputs": [],
   "source": [
    "mu1 = 37\n",
    "mu2 = 42\n",
    "\n",
    "promedio = np.mean(muestra)\n",
    "\n",
    "desv = 2\n",
    "\n",
    "z_1 = (promedio- mu1) / desv\n",
    "z_2 = (promedio- mu2) / desv"
   ]
  },
  {
   "cell_type": "code",
   "execution_count": 12,
   "id": "bcc9759e",
   "metadata": {},
   "outputs": [],
   "source": [
    "data1 = norm.rvs(loc = mu1, scale = desv, size =100000)\n",
    "data2 = norm.rvs(loc = mu2, scale = desv, size =100000)"
   ]
  },
  {
   "cell_type": "code",
   "execution_count": 13,
   "id": "d00f5e9e",
   "metadata": {},
   "outputs": [
    {
     "data": {
      "text/plain": [
       "<matplotlib.legend.Legend at 0x24e93078bb0>"
      ]
     },
     "execution_count": 13,
     "metadata": {},
     "output_type": "execute_result"
    },
    {
     "data": {
      "image/png": "[encoded data removed]",
      "text/plain": [
       "<Figure size 432x288 with 1 Axes>"
      ]
     },
     "metadata": {
      "needs_background": "light"
     },
     "output_type": "display_data"
    }
   ],
   "source": [
    "ax = sns.distplot(data1,kde=False,bins=500,color='blue')\n",
    "ax = sns.distplot(data2,kde=False,bins=500,color='red')\n",
    "ax.axvline(x=promedio,c='k',linestyle='--',label='Promedio Muestral')\n",
    "ax.legend()"
   ]
  },
  {
   "cell_type": "code",
   "execution_count": 19,
   "id": "f7241ca0",
   "metadata": {},
   "outputs": [
    {
     "data": {
      "text/plain": [
       "0.9663750305803716"
      ]
     },
     "execution_count": 19,
     "metadata": {},
     "output_type": "execute_result"
    }
   ],
   "source": [
    "# Error tipo I: Rechazar Ho Dado que si es verdadera\n",
    "p_prom_mu1 = norm.cdf(z_1)\n",
    "p_prom_mu1"
   ]
  },
  {
   "cell_type": "code",
   "execution_count": 15,
   "id": "ffa4e562",
   "metadata": {},
   "outputs": [
    {
     "data": {
      "text/plain": [
       "0.7485711049046905"
      ]
     },
     "execution_count": 15,
     "metadata": {},
     "output_type": "execute_result"
    }
   ],
   "source": [
    "# Error tipo II: No rechazar Ho y H1 es verdadera\n",
    "p_prom_mu2 = norm.cdf(z_2)\n",
    "1-p_prom_mu2"
   ]
  },
  {
   "cell_type": "code",
   "execution_count": 16,
   "id": "506c84ad",
   "metadata": {},
   "outputs": [],
   "source": [
    "Muestra = [4046, 2578, 3796, 3412, 3315, 3228, 3666, 3877, 3154, 4062, 4365, 3776, 3761, 2587, 2911, 3184, 3810, 4459, 3385, 3899, 3602, 2701, 2821, 2790, 2557, 2540, 4119, 2712, 2743, 2713, 4466, 3937, 3871, 4427, 3177, 2556, 2903, 3522, 4155, 4010, 4453, 3080, 3008, 3865, 3356, 2799, 3308, 2759, 4347, 2576, 4075, 3333, 2936, 3746, 3334, 3940, 4113, 4220, 3580, 3922]"
   ]
  },
  {
   "cell_type": "code",
   "execution_count": 18,
   "id": "d7f26e3f",
   "metadata": {},
   "outputs": [
    {
     "data": {
      "text/plain": [
       "(-1.9599639845400545, 1.959963984540054)"
      ]
     },
     "execution_count": 18,
     "metadata": {},
     "output_type": "execute_result"
    }
   ],
   "source": [
    "alpha = 0.05\n",
    "lim_inf = norm.ppf(alpha/2)\n",
    "lim_sup = norm.ppf(1-alpha/2)\n",
    "lim_inf,lim_sup"
   ]
  },
  {
   "cell_type": "code",
   "execution_count": 71,
   "id": "1dc72887",
   "metadata": {},
   "outputs": [
    {
     "data": {
      "text/plain": [
       "60"
      ]
     },
     "execution_count": 71,
     "metadata": {},
     "output_type": "execute_result"
    }
   ],
   "source": [
    "promedio = np.mean(Muestra)\n",
    "desviacion = np.mean(Muestra)\n",
    "len(Muestra)"
   ]
  },
  {
   "cell_type": "code",
   "execution_count": 74,
   "id": "084d5416",
   "metadata": {},
   "outputs": [
    {
     "data": {
      "text/plain": [
       "(-3333.362940517143, 10278.129607183808)"
      ]
     },
     "execution_count": 74,
     "metadata": {},
     "output_type": "execute_result"
    }
   ],
   "source": [
    "lim_inf = (norm.ppf(alpha/2))*desviacion + promedio\n",
    "lim_sup = (norm.ppf(1-alpha/2))*desviacion + promedio\n",
    "lim_inf,lim_sup"
   ]
  }
 ],
 "metadata": {
  "kernelspec": {
   "display_name": "Python 3",
   "language": "python",
   "name": "python3"
  },
  "language_info": {
   "codemirror_mode": {
    "name": "ipython",
    "version": 3
   },
   "file_extension": ".py",
   "mimetype": "text/x-python",
   "name": "python",
   "nbconvert_exporter": "python",
   "pygments_lexer": "ipython3",
   "version": "3.8.8"
  }
 },
 "nbformat": 4,
 "nbformat_minor": 5
}
